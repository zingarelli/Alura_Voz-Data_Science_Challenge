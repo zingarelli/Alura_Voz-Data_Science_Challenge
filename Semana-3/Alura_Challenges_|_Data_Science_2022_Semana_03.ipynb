{
  "nbformat": 4,
  "nbformat_minor": 0,
  "metadata": {
    "colab": {
      "name": "Alura Challenges | Data Science 2022 - Semana 03.ipynb",
      "provenance": [],
      "collapsed_sections": [],
      "toc_visible": true,
      "authorship_tag": "ABX9TyO6bnKxUIVxtn7f1C0I/PSB",
      "include_colab_link": true
    },
    "kernelspec": {
      "name": "python3",
      "display_name": "Python 3"
    },
    "language_info": {
      "name": "python"
    }
  },
  "cells": [
    {
      "cell_type": "markdown",
      "metadata": {
        "id": "view-in-github",
        "colab_type": "text"
      },
      "source": [
        "<a href=\"https://colab.research.google.com/github/zingarelli/alura-challenges-data-science-2022/blob/main/Semana-3/Alura_Challenges_%7C_Data_Science_2022_Semana_03.ipynb\" target=\"_parent\"><img src=\"https://colab.research.google.com/assets/colab-badge.svg\" alt=\"Open In Colab\"/></a>"
      ]
    },
    {
      "cell_type": "markdown",
      "source": [
        "#Configurações e imports"
      ],
      "metadata": {
        "id": "gqYN-Q8sylo1"
      }
    },
    {
      "cell_type": "code",
      "source": [
        "# biblioteca para balanceio da target Churn\n",
        "!pip install -U imbalanced-learn"
      ],
      "metadata": {
        "colab": {
          "base_uri": "https://localhost:8080/"
        },
        "id": "7jXiE5xh2JQm",
        "outputId": "73973fb5-8431-4ec4-d944-2b6262573a00"
      },
      "execution_count": 64,
      "outputs": [
        {
          "output_type": "stream",
          "name": "stdout",
          "text": [
            "Looking in indexes: https://pypi.org/simple, https://us-python.pkg.dev/colab-wheels/public/simple/\n",
            "Requirement already satisfied: imbalanced-learn in /usr/local/lib/python3.7/dist-packages (0.9.0)\n",
            "Collecting imbalanced-learn\n",
            "  Using cached imbalanced_learn-0.9.1-py3-none-any.whl (199 kB)\n",
            "Requirement already satisfied: threadpoolctl>=2.0.0 in /usr/local/lib/python3.7/dist-packages (from imbalanced-learn) (3.1.0)\n",
            "Requirement already satisfied: scipy>=1.3.2 in /usr/local/lib/python3.7/dist-packages (from imbalanced-learn) (1.4.1)\n",
            "Requirement already satisfied: joblib>=1.0.0 in /usr/local/lib/python3.7/dist-packages (from imbalanced-learn) (1.1.0)\n",
            "Requirement already satisfied: numpy>=1.14.6 in /usr/local/lib/python3.7/dist-packages (from imbalanced-learn) (1.21.6)\n",
            "Requirement already satisfied: scikit-learn>=1.0.1 in /usr/local/lib/python3.7/dist-packages (from imbalanced-learn) (1.0.2)\n"
          ]
        }
      ]
    },
    {
      "cell_type": "code",
      "source": [
        "import pandas as pd\n",
        "import numpy as np\n",
        "import matplotlib.pyplot as plt\n",
        "\n",
        "# para o One-Hot Encoding das variáveis categóricas\n",
        "from sklearn.preprocessing import OneHotEncoder\n",
        "\n",
        "# para balanceamento do target\n",
        "from imblearn.over_sampling import SMOTE\n",
        "from imblearn.under_sampling import NearMiss\n",
        "\n",
        "# para criação e validação dos modelos de machine learn\n",
        "from sklearn.model_selection import train_test_split\n",
        "from sklearn import metrics \n",
        "from sklearn.ensemble import RandomForestClassifier\n",
        "from sklearn.svm import SVC\n",
        "\n",
        "# semente para garantir a replicabilidade do código\n",
        "SEED = 12\n",
        "\n",
        "pd.set_option('display.max_columns', 22)"
      ],
      "metadata": {
        "id": "2HN8jZKuimyo"
      },
      "execution_count": 65,
      "outputs": []
    },
    {
      "cell_type": "code",
      "source": [
        "# leitura da base tratada na Semana 1\n",
        "df = pd.read_csv('https://raw.githubusercontent.com/zingarelli/alura-challenges-data-science-2022/main/Semana-1/analise_semana_1.csv')\n",
        "df.info()"
      ],
      "metadata": {
        "id": "gfh81cUEjEGA",
        "colab": {
          "base_uri": "https://localhost:8080/"
        },
        "outputId": "4b30e0c5-14fc-4c43-be2d-8d8d4b8bcc01"
      },
      "execution_count": 66,
      "outputs": [
        {
          "output_type": "stream",
          "name": "stdout",
          "text": [
            "<class 'pandas.core.frame.DataFrame'>\n",
            "RangeIndex: 7043 entries, 0 to 7042\n",
            "Data columns (total 22 columns):\n",
            " #   Column                          Non-Null Count  Dtype  \n",
            "---  ------                          --------------  -----  \n",
            " 0   cliente_ID                      7043 non-null   object \n",
            " 1   cancelou_plano                  7043 non-null   object \n",
            " 2   genero                          7043 non-null   object \n",
            " 3   maior_65_anos                   7043 non-null   int64  \n",
            " 4   possui_companheiro_companheira  7043 non-null   object \n",
            " 5   possui_dependentes              7043 non-null   object \n",
            " 6   meses_contrato                  7043 non-null   int64  \n",
            " 7   assina_telefone                 7043 non-null   object \n",
            " 8   multiplas_linhas_telefonicas    7043 non-null   object \n",
            " 9   tipo_assinatura_internet        7043 non-null   object \n",
            " 10  adicional_seguranca_online      7043 non-null   object \n",
            " 11  adicional_backup_online         7043 non-null   object \n",
            " 12  adicional_protecao_dispositivo  7043 non-null   object \n",
            " 13  adicional_suporte_VIP           7043 non-null   object \n",
            " 14  assina_TV_cabo                  7043 non-null   object \n",
            " 15  assina_streaming_filmes         7043 non-null   object \n",
            " 16  plano_contratado                7043 non-null   object \n",
            " 17  fatura_online                   7043 non-null   object \n",
            " 18  forma_pagamento                 7043 non-null   object \n",
            " 19  gasto_diario                    7043 non-null   float64\n",
            " 20  gasto_mensal                    7043 non-null   float64\n",
            " 21  gasto_total                     7043 non-null   float64\n",
            "dtypes: float64(3), int64(2), object(17)\n",
            "memory usage: 1.2+ MB\n"
          ]
        }
      ]
    },
    {
      "cell_type": "markdown",
      "source": [
        "# Encoding das variáveis categóricas"
      ],
      "metadata": {
        "id": "_NdDjq-r5mGr"
      }
    },
    {
      "cell_type": "markdown",
      "source": [
        "## Label Encoding\n",
        "\n",
        "Como feito na [Semana 2](https://github.com/zingarelli/alura-challenges-data-science-2022/blob/main/Semana-2/Alura_Challenges_%7C_Data_Science_2022_Semana_02.ipynb). "
      ],
      "metadata": {
        "id": "dsgrHTIqPKPC"
      }
    },
    {
      "cell_type": "code",
      "source": [
        "# função que transforma os valores categóricos de uma coluna em valores numéricos\n",
        "def label_encoding(categorical_col):\n",
        "  # altera o tipo de \"object\" para o tipo \"category\"\n",
        "  encode = categorical_col.astype('category')\n",
        "\n",
        "  # atribui a cada categoria um valor numérico diferente\n",
        "  return encode.cat.codes"
      ],
      "metadata": {
        "id": "QhNk9QWT5qi7"
      },
      "execution_count": 67,
      "outputs": []
    },
    {
      "cell_type": "code",
      "source": [
        "# copiando a base de dados\n",
        "df_encoded = df.copy()\n",
        "\n",
        "# colunas categóricas (sem o \"cliente_ID\", pois não será utilizada)\n",
        "cat_columns = ['cancelou_plano', 'genero', 'possui_companheiro_companheira', \n",
        "               'possui_dependentes', 'assina_telefone', 'multiplas_linhas_telefonicas',\n",
        "               'tipo_assinatura_internet', 'adicional_seguranca_online',\n",
        "               'adicional_backup_online', 'adicional_protecao_dispositivo',\n",
        "               'adicional_suporte_VIP', 'assina_TV_cabo', 'assina_streaming_filmes',\n",
        "               'plano_contratado', 'fatura_online', 'forma_pagamento']\n",
        "\n",
        "# aplicando o label encoding\n",
        "for col in cat_columns:\n",
        "  df_encoded[col] = label_encoding(df_encoded[col])\n",
        "\n",
        "df_encoded.info()"
      ],
      "metadata": {
        "colab": {
          "base_uri": "https://localhost:8080/"
        },
        "id": "qtWHHzil5qV7",
        "outputId": "f04f46a8-b95e-4638-90d7-520ebb768447"
      },
      "execution_count": 68,
      "outputs": [
        {
          "output_type": "stream",
          "name": "stdout",
          "text": [
            "<class 'pandas.core.frame.DataFrame'>\n",
            "RangeIndex: 7043 entries, 0 to 7042\n",
            "Data columns (total 22 columns):\n",
            " #   Column                          Non-Null Count  Dtype  \n",
            "---  ------                          --------------  -----  \n",
            " 0   cliente_ID                      7043 non-null   object \n",
            " 1   cancelou_plano                  7043 non-null   int8   \n",
            " 2   genero                          7043 non-null   int8   \n",
            " 3   maior_65_anos                   7043 non-null   int64  \n",
            " 4   possui_companheiro_companheira  7043 non-null   int8   \n",
            " 5   possui_dependentes              7043 non-null   int8   \n",
            " 6   meses_contrato                  7043 non-null   int64  \n",
            " 7   assina_telefone                 7043 non-null   int8   \n",
            " 8   multiplas_linhas_telefonicas    7043 non-null   int8   \n",
            " 9   tipo_assinatura_internet        7043 non-null   int8   \n",
            " 10  adicional_seguranca_online      7043 non-null   int8   \n",
            " 11  adicional_backup_online         7043 non-null   int8   \n",
            " 12  adicional_protecao_dispositivo  7043 non-null   int8   \n",
            " 13  adicional_suporte_VIP           7043 non-null   int8   \n",
            " 14  assina_TV_cabo                  7043 non-null   int8   \n",
            " 15  assina_streaming_filmes         7043 non-null   int8   \n",
            " 16  plano_contratado                7043 non-null   int8   \n",
            " 17  fatura_online                   7043 non-null   int8   \n",
            " 18  forma_pagamento                 7043 non-null   int8   \n",
            " 19  gasto_diario                    7043 non-null   float64\n",
            " 20  gasto_mensal                    7043 non-null   float64\n",
            " 21  gasto_total                     7043 non-null   float64\n",
            "dtypes: float64(3), int64(2), int8(16), object(1)\n",
            "memory usage: 440.3+ KB\n"
          ]
        }
      ]
    },
    {
      "cell_type": "markdown",
      "source": [
        "## One-Hot Encoding\n",
        "\n",
        "Rever curso Kaggle: https://www.kaggle.com/code/alexisbcook/categorical-variables\n"
      ],
      "metadata": {
        "id": "cYUZVkoXEZXN"
      }
    },
    {
      "cell_type": "markdown",
      "source": [
        "**Atenção!**\n",
        "\n",
        "Essa parte do código foi feita após a criação dos modelos e métricas, então sua aplicação não está bonita no código. Infelizmente, seria necessário refatorar muita coisa para ela ser aplicada. \n",
        "\n",
        "TO DO: Refatorar o projeto para poder escolher entre os dois encodings (label encoding ou OH encoding)\n",
        "\n",
        "No caso do One-Hot Encoding, eu criei uma função, a ser chamada no momento de utilização dos modelos, quando as features que farão parte do modelo já foram escolhidas. O motivo disso é que o One-Hot Encoding cria colunas a mais e assim se perde o nome de cada coluna (cada coluna ganha um valor numérico sequencial). Não sei se existe algum parâmetro que poderia alterar isso e criar nomes mais representativos para as colunas."
      ],
      "metadata": {
        "id": "dSLeV19BHTFi"
      }
    },
    {
      "cell_type": "code",
      "source": [
        "def OH_encode(data, features):\n",
        "  # criando o encoder\n",
        "  OH_encoder = OneHotEncoder(handle_unknown='ignore', sparse=False)\n",
        "\n",
        "  # colunas categóricas + target\n",
        "  cat_columns = features\n",
        "\n",
        "  # criando um dataframe com o One-Hot Encoding aplicado\n",
        "  OH_columns = pd.DataFrame(OH_encoder.fit_transform(data[cat_columns]))\n",
        "\n",
        "  # copiando o dataframe sem as colunas que foram codificadas\n",
        "  df_copy = data.drop(cat_columns, axis=1)\n",
        "\n",
        "  # concatenando as colunas codificadas\n",
        "  return pd.concat([df_copy, OH_columns], axis=1)"
      ],
      "metadata": {
        "id": "MaDKEyuXFpiq"
      },
      "execution_count": 69,
      "outputs": []
    },
    {
      "cell_type": "code",
      "source": [
        "# teste da função\n",
        "# features = ['genero', 'maior_65_anos', 'plano_contratado', 'fatura_online', 'forma_pagamento']\n",
        "# df_OH_encoded = OH_encode(df, features)\n",
        "# print(df_OH_encoded.shape)\n",
        "# df_OH_encoded.head()"
      ],
      "metadata": {
        "id": "Iy5yZzz0FpXL"
      },
      "execution_count": 70,
      "outputs": []
    },
    {
      "cell_type": "markdown",
      "source": [
        "# Verificar se a variável target `Churn` está desbalanceada\n",
        "\n",
        "Ver artigo: https://www.alura.com.br/artigos/lidando-com-desbalanceamento-dados\n",
        "\n",
        "Ver documentação: https://imbalanced-learn.org/stable/introduction.html\n",
        "\n",
        "Ver treinamento da Sthe: https://cursos.alura.com.br/course/modelos-preditivos-dados-deteccao-fraude/task/106523"
      ],
      "metadata": {
        "id": "_LKA1oDY5pml"
      }
    },
    {
      "cell_type": "code",
      "source": [
        "# armazenando os dados de cancelamento do plano em uma variável chamada churn\n",
        "churn = df_encoded['cancelou_plano']\n",
        "\n",
        "# separando entre clientes que estão ativos e aqueles que cancelaram o plano (former_customer)\n",
        "# lembrando que o \"Sim\" significa que o cliente cancelou o plano\n",
        "active_customers = (churn == 0).sum()\n",
        "former_customers = (churn == 1).sum()\n",
        "total_customers = len(churn)\n",
        "\n",
        "print(f'Total de planos: {total_customers}')\n",
        "print(f'Planos ativos: {active_customers}, {round(active_customers/total_customers*100, 2)}% do total')\n",
        "print(f'Planos cancelados: {former_customers}, {round(former_customers/total_customers*100, 2)}% do total')"
      ],
      "metadata": {
        "colab": {
          "base_uri": "https://localhost:8080/"
        },
        "id": "Xut3UH3GyW_T",
        "outputId": "80f8b12f-f123-44a9-8156-235a35c73a7d"
      },
      "execution_count": 71,
      "outputs": [
        {
          "output_type": "stream",
          "name": "stdout",
          "text": [
            "Total de planos: 7043\n",
            "Planos ativos: 5174, 73.46% do total\n",
            "Planos cancelados: 1869, 26.54% do total\n"
          ]
        }
      ]
    },
    {
      "cell_type": "markdown",
      "source": [
        "Cerca de pouco mais de **um quarto da base** é formado por pessoas que **cancelaram** o plano (valor `1` na base), e o restante, de pessoas que mantiveram o plano (valor `0` na base). Isso faz com que a variável **target esteja desbalanceada**, o que pode **prejudicar** na criação dos modelos de Machine Learning. \n",
        "\n",
        "Desse modo, antes de criar os modelos é necessário fazer um balanceamento do target. \n",
        "\n",
        "Isso pode ser feito por meio do **oversampling**, isto é, criação de **novos dados (sintéticos) para aumentar** a quantidade de valores 1 na variável `cancelou_plano`, ou por meio do **undersampling**, isto é, selecionando na base **apenas alguns de registros** que possuam o valor 0 em `cancelou_plano`. Em ambas as estratégias, o objetivo e ter uma quantidade equivalente de registros com os valores 0 e 1."
      ],
      "metadata": {
        "id": "NliC0Y5pzEW9"
      }
    },
    {
      "cell_type": "markdown",
      "source": [
        "## Estratégia de balanceamento 1: Oversampling\n",
        "Utilizando o algoritmo SMOTE (KNN) para cópia de dados"
      ],
      "metadata": {
        "id": "GAFx1aAe1pQ2"
      }
    },
    {
      "cell_type": "code",
      "source": [
        "# aplicando o random_state para garantir a replicabilidade do código\n",
        "smote = SMOTE(random_state = SEED)\n",
        "\n",
        "# separando as variáveis de treino e target\n",
        "# client_ID também foi removida, pois foi mantida como tipo object (string)\n",
        "x = df_encoded.drop(['cancelou_plano', 'cliente_ID'], axis=1)\n",
        "y = df_encoded['cancelou_plano']  \n",
        "\n",
        "# aplicando a SMOTE e salvando os novos dados criados\n",
        "x_oversmp, y_oversmp = smote.fit_resample(x, y)"
      ],
      "metadata": {
        "id": "ZR59b7bn1wH-"
      },
      "execution_count": 72,
      "outputs": []
    },
    {
      "cell_type": "code",
      "source": [
        "# criando a base balanceada com oversampling\n",
        "df_oversmp = pd.concat([y_oversmp, x_oversmp], axis=1)\n",
        "df_oversmp.sample(5)"
      ],
      "metadata": {
        "colab": {
          "base_uri": "https://localhost:8080/",
          "height": 270
        },
        "id": "NWGkU1pC8ap5",
        "outputId": "40e44ef3-2f1b-4d46-96c8-0a67cbcef1b2"
      },
      "execution_count": 73,
      "outputs": [
        {
          "output_type": "execute_result",
          "data": {
            "text/plain": [
              "      cancelou_plano  genero  maior_65_anos  possui_companheiro_companheira  \\\n",
              "6016               0       1              0                               1   \n",
              "3508               0       1              0                               1   \n",
              "5715               0       0              1                               0   \n",
              "3961               0       0              0                               0   \n",
              "3494               0       0              0                               0   \n",
              "\n",
              "      possui_dependentes  meses_contrato  assina_telefone  \\\n",
              "6016                   0              65                1   \n",
              "3508                   0              71                1   \n",
              "5715                   0              49                1   \n",
              "3961                   0              63                1   \n",
              "3494                   0              35                0   \n",
              "\n",
              "      multiplas_linhas_telefonicas  tipo_assinatura_internet  \\\n",
              "6016                             0                         0   \n",
              "3508                             0                         0   \n",
              "5715                             2                         0   \n",
              "3961                             0                         1   \n",
              "3494                             1                         0   \n",
              "\n",
              "      adicional_seguranca_online  adicional_backup_online  \\\n",
              "6016                           2                        0   \n",
              "3508                           2                        2   \n",
              "5715                           2                        2   \n",
              "3961                           2                        2   \n",
              "3494                           0                        0   \n",
              "\n",
              "      adicional_protecao_dispositivo  adicional_suporte_VIP  assina_TV_cabo  \\\n",
              "6016                               2                      0               0   \n",
              "3508                               2                      2               2   \n",
              "5715                               2                      2               0   \n",
              "3961                               2                      2               2   \n",
              "3494                               2                      0               2   \n",
              "\n",
              "      assina_streaming_filmes  plano_contratado  fatura_online  \\\n",
              "6016                        0                 1              1   \n",
              "3508                        2                 0              1   \n",
              "5715                        2                 0              0   \n",
              "3961                        2                 0              0   \n",
              "3494                        2                 1              0   \n",
              "\n",
              "      forma_pagamento  gasto_diario  gasto_mensal  gasto_total  \n",
              "6016                2          1.84         55.15      3673.15  \n",
              "3508                0          2.81         84.40      5969.30  \n",
              "5715                0          2.71         81.35      4060.90  \n",
              "3961                0          3.64        109.20      7049.75  \n",
              "3494                1          1.64         49.20      1701.65  "
            ],
            "text/html": [
              "\n",
              "  <div id=\"df-37f018f9-e3e9-4674-99cc-eedc84547514\">\n",
              "    <div class=\"colab-df-container\">\n",
              "      <div>\n",
              "<style scoped>\n",
              "    .dataframe tbody tr th:only-of-type {\n",
              "        vertical-align: middle;\n",
              "    }\n",
              "\n",
              "    .dataframe tbody tr th {\n",
              "        vertical-align: top;\n",
              "    }\n",
              "\n",
              "    .dataframe thead th {\n",
              "        text-align: right;\n",
              "    }\n",
              "</style>\n",
              "<table border=\"1\" class=\"dataframe\">\n",
              "  <thead>\n",
              "    <tr style=\"text-align: right;\">\n",
              "      <th></th>\n",
              "      <th>cancelou_plano</th>\n",
              "      <th>genero</th>\n",
              "      <th>maior_65_anos</th>\n",
              "      <th>possui_companheiro_companheira</th>\n",
              "      <th>possui_dependentes</th>\n",
              "      <th>meses_contrato</th>\n",
              "      <th>assina_telefone</th>\n",
              "      <th>multiplas_linhas_telefonicas</th>\n",
              "      <th>tipo_assinatura_internet</th>\n",
              "      <th>adicional_seguranca_online</th>\n",
              "      <th>adicional_backup_online</th>\n",
              "      <th>adicional_protecao_dispositivo</th>\n",
              "      <th>adicional_suporte_VIP</th>\n",
              "      <th>assina_TV_cabo</th>\n",
              "      <th>assina_streaming_filmes</th>\n",
              "      <th>plano_contratado</th>\n",
              "      <th>fatura_online</th>\n",
              "      <th>forma_pagamento</th>\n",
              "      <th>gasto_diario</th>\n",
              "      <th>gasto_mensal</th>\n",
              "      <th>gasto_total</th>\n",
              "    </tr>\n",
              "  </thead>\n",
              "  <tbody>\n",
              "    <tr>\n",
              "      <th>6016</th>\n",
              "      <td>0</td>\n",
              "      <td>1</td>\n",
              "      <td>0</td>\n",
              "      <td>1</td>\n",
              "      <td>0</td>\n",
              "      <td>65</td>\n",
              "      <td>1</td>\n",
              "      <td>0</td>\n",
              "      <td>0</td>\n",
              "      <td>2</td>\n",
              "      <td>0</td>\n",
              "      <td>2</td>\n",
              "      <td>0</td>\n",
              "      <td>0</td>\n",
              "      <td>0</td>\n",
              "      <td>1</td>\n",
              "      <td>1</td>\n",
              "      <td>2</td>\n",
              "      <td>1.84</td>\n",
              "      <td>55.15</td>\n",
              "      <td>3673.15</td>\n",
              "    </tr>\n",
              "    <tr>\n",
              "      <th>3508</th>\n",
              "      <td>0</td>\n",
              "      <td>1</td>\n",
              "      <td>0</td>\n",
              "      <td>1</td>\n",
              "      <td>0</td>\n",
              "      <td>71</td>\n",
              "      <td>1</td>\n",
              "      <td>0</td>\n",
              "      <td>0</td>\n",
              "      <td>2</td>\n",
              "      <td>2</td>\n",
              "      <td>2</td>\n",
              "      <td>2</td>\n",
              "      <td>2</td>\n",
              "      <td>2</td>\n",
              "      <td>0</td>\n",
              "      <td>1</td>\n",
              "      <td>0</td>\n",
              "      <td>2.81</td>\n",
              "      <td>84.40</td>\n",
              "      <td>5969.30</td>\n",
              "    </tr>\n",
              "    <tr>\n",
              "      <th>5715</th>\n",
              "      <td>0</td>\n",
              "      <td>0</td>\n",
              "      <td>1</td>\n",
              "      <td>0</td>\n",
              "      <td>0</td>\n",
              "      <td>49</td>\n",
              "      <td>1</td>\n",
              "      <td>2</td>\n",
              "      <td>0</td>\n",
              "      <td>2</td>\n",
              "      <td>2</td>\n",
              "      <td>2</td>\n",
              "      <td>2</td>\n",
              "      <td>0</td>\n",
              "      <td>2</td>\n",
              "      <td>0</td>\n",
              "      <td>0</td>\n",
              "      <td>0</td>\n",
              "      <td>2.71</td>\n",
              "      <td>81.35</td>\n",
              "      <td>4060.90</td>\n",
              "    </tr>\n",
              "    <tr>\n",
              "      <th>3961</th>\n",
              "      <td>0</td>\n",
              "      <td>0</td>\n",
              "      <td>0</td>\n",
              "      <td>0</td>\n",
              "      <td>0</td>\n",
              "      <td>63</td>\n",
              "      <td>1</td>\n",
              "      <td>0</td>\n",
              "      <td>1</td>\n",
              "      <td>2</td>\n",
              "      <td>2</td>\n",
              "      <td>2</td>\n",
              "      <td>2</td>\n",
              "      <td>2</td>\n",
              "      <td>2</td>\n",
              "      <td>0</td>\n",
              "      <td>0</td>\n",
              "      <td>0</td>\n",
              "      <td>3.64</td>\n",
              "      <td>109.20</td>\n",
              "      <td>7049.75</td>\n",
              "    </tr>\n",
              "    <tr>\n",
              "      <th>3494</th>\n",
              "      <td>0</td>\n",
              "      <td>0</td>\n",
              "      <td>0</td>\n",
              "      <td>0</td>\n",
              "      <td>0</td>\n",
              "      <td>35</td>\n",
              "      <td>0</td>\n",
              "      <td>1</td>\n",
              "      <td>0</td>\n",
              "      <td>0</td>\n",
              "      <td>0</td>\n",
              "      <td>2</td>\n",
              "      <td>0</td>\n",
              "      <td>2</td>\n",
              "      <td>2</td>\n",
              "      <td>1</td>\n",
              "      <td>0</td>\n",
              "      <td>1</td>\n",
              "      <td>1.64</td>\n",
              "      <td>49.20</td>\n",
              "      <td>1701.65</td>\n",
              "    </tr>\n",
              "  </tbody>\n",
              "</table>\n",
              "</div>\n",
              "      <button class=\"colab-df-convert\" onclick=\"convertToInteractive('df-37f018f9-e3e9-4674-99cc-eedc84547514')\"\n",
              "              title=\"Convert this dataframe to an interactive table.\"\n",
              "              style=\"display:none;\">\n",
              "        \n",
              "  <svg xmlns=\"http://www.w3.org/2000/svg\" height=\"24px\"viewBox=\"0 0 24 24\"\n",
              "       width=\"24px\">\n",
              "    <path d=\"M0 0h24v24H0V0z\" fill=\"none\"/>\n",
              "    <path d=\"M18.56 5.44l.94 2.06.94-2.06 2.06-.94-2.06-.94-.94-2.06-.94 2.06-2.06.94zm-11 1L8.5 8.5l.94-2.06 2.06-.94-2.06-.94L8.5 2.5l-.94 2.06-2.06.94zm10 10l.94 2.06.94-2.06 2.06-.94-2.06-.94-.94-2.06-.94 2.06-2.06.94z\"/><path d=\"M17.41 7.96l-1.37-1.37c-.4-.4-.92-.59-1.43-.59-.52 0-1.04.2-1.43.59L10.3 9.45l-7.72 7.72c-.78.78-.78 2.05 0 2.83L4 21.41c.39.39.9.59 1.41.59.51 0 1.02-.2 1.41-.59l7.78-7.78 2.81-2.81c.8-.78.8-2.07 0-2.86zM5.41 20L4 18.59l7.72-7.72 1.47 1.35L5.41 20z\"/>\n",
              "  </svg>\n",
              "      </button>\n",
              "      \n",
              "  <style>\n",
              "    .colab-df-container {\n",
              "      display:flex;\n",
              "      flex-wrap:wrap;\n",
              "      gap: 12px;\n",
              "    }\n",
              "\n",
              "    .colab-df-convert {\n",
              "      background-color: #E8F0FE;\n",
              "      border: none;\n",
              "      border-radius: 50%;\n",
              "      cursor: pointer;\n",
              "      display: none;\n",
              "      fill: #1967D2;\n",
              "      height: 32px;\n",
              "      padding: 0 0 0 0;\n",
              "      width: 32px;\n",
              "    }\n",
              "\n",
              "    .colab-df-convert:hover {\n",
              "      background-color: #E2EBFA;\n",
              "      box-shadow: 0px 1px 2px rgba(60, 64, 67, 0.3), 0px 1px 3px 1px rgba(60, 64, 67, 0.15);\n",
              "      fill: #174EA6;\n",
              "    }\n",
              "\n",
              "    [theme=dark] .colab-df-convert {\n",
              "      background-color: #3B4455;\n",
              "      fill: #D2E3FC;\n",
              "    }\n",
              "\n",
              "    [theme=dark] .colab-df-convert:hover {\n",
              "      background-color: #434B5C;\n",
              "      box-shadow: 0px 1px 3px 1px rgba(0, 0, 0, 0.15);\n",
              "      filter: drop-shadow(0px 1px 2px rgba(0, 0, 0, 0.3));\n",
              "      fill: #FFFFFF;\n",
              "    }\n",
              "  </style>\n",
              "\n",
              "      <script>\n",
              "        const buttonEl =\n",
              "          document.querySelector('#df-37f018f9-e3e9-4674-99cc-eedc84547514 button.colab-df-convert');\n",
              "        buttonEl.style.display =\n",
              "          google.colab.kernel.accessAllowed ? 'block' : 'none';\n",
              "\n",
              "        async function convertToInteractive(key) {\n",
              "          const element = document.querySelector('#df-37f018f9-e3e9-4674-99cc-eedc84547514');\n",
              "          const dataTable =\n",
              "            await google.colab.kernel.invokeFunction('convertToInteractive',\n",
              "                                                     [key], {});\n",
              "          if (!dataTable) return;\n",
              "\n",
              "          const docLinkHtml = 'Like what you see? Visit the ' +\n",
              "            '<a target=\"_blank\" href=https://colab.research.google.com/notebooks/data_table.ipynb>data table notebook</a>'\n",
              "            + ' to learn more about interactive tables.';\n",
              "          element.innerHTML = '';\n",
              "          dataTable['output_type'] = 'display_data';\n",
              "          await google.colab.output.renderOutput(dataTable, element);\n",
              "          const docLink = document.createElement('div');\n",
              "          docLink.innerHTML = docLinkHtml;\n",
              "          element.appendChild(docLink);\n",
              "        }\n",
              "      </script>\n",
              "    </div>\n",
              "  </div>\n",
              "  "
            ]
          },
          "metadata": {},
          "execution_count": 73
        }
      ]
    },
    {
      "cell_type": "code",
      "source": [
        "# verificando o balanceamento e comparando com a base original\n",
        "print('Tamanho base original: ', df.shape)\n",
        "print('Tamanho base com oversample: ', df_oversmp.shape)\n",
        "print(f'Foram criados {df_oversmp.shape[0] - df.shape[0]} registros sintéticos.')\n",
        "print('Valores de churn:')\n",
        "print(df_oversmp['cancelou_plano'].value_counts())"
      ],
      "metadata": {
        "colab": {
          "base_uri": "https://localhost:8080/"
        },
        "id": "eSZQHYvy886L",
        "outputId": "babd5010-32de-4a23-92f6-ba65d930d1fd"
      },
      "execution_count": 74,
      "outputs": [
        {
          "output_type": "stream",
          "name": "stdout",
          "text": [
            "Tamanho base original:  (7043, 22)\n",
            "Tamanho base com oversample:  (10348, 21)\n",
            "Foram criados 3305 registros sintéticos.\n",
            "Valores de churn:\n",
            "0    5174\n",
            "1    5174\n",
            "Name: cancelou_plano, dtype: int64\n"
          ]
        }
      ]
    },
    {
      "cell_type": "markdown",
      "source": [
        "Com isso, foram adicionados 3305 registros com dados sintéticos, um **incremento de 47%** de registros na base de dados. Não sei se isso é bom ou ruim (minha intuição me diz que é meio preocupante)."
      ],
      "metadata": {
        "id": "Ij5dobzoJRoc"
      }
    },
    {
      "cell_type": "markdown",
      "source": [
        "##Estratégia de balanceamento 2: Undersampling\n",
        "\n",
        "Utilizando o método NearMiss para seleção dos valores"
      ],
      "metadata": {
        "id": "y0Ds-AF21wf2"
      }
    },
    {
      "cell_type": "code",
      "source": [
        "# utilizando o método com os parâmetros padrões\n",
        "nm = NearMiss()\n",
        "\n",
        "# separando target das outras features\n",
        "# client_ID também foi removida, pois foi mantida como tipo object (string)\n",
        "x = df_encoded.drop(['cancelou_plano', 'cliente_ID'], axis=1)\n",
        "y = df_encoded['cancelou_plano']\n",
        "\n",
        "x_undersmp, y_undersmp = nm.fit_resample(x, y)"
      ],
      "metadata": {
        "id": "u4NYRLQYGiNb"
      },
      "execution_count": 75,
      "outputs": []
    },
    {
      "cell_type": "code",
      "source": [
        "# criando a base balanceada com undersampling\n",
        "df_undersmp = pd.concat([y_undersmp, x_undersmp], axis=1)\n",
        "df_undersmp.sample(5)"
      ],
      "metadata": {
        "colab": {
          "base_uri": "https://localhost:8080/",
          "height": 270
        },
        "id": "X3edwFl7GiKi",
        "outputId": "b8a8fe5e-43af-4805-b6c2-57eaccfba436"
      },
      "execution_count": 76,
      "outputs": [
        {
          "output_type": "execute_result",
          "data": {
            "text/plain": [
              "      cancelou_plano  genero  maior_65_anos  possui_companheiro_companheira  \\\n",
              "1372               0       1              0                               1   \n",
              "1137               0       1              0                               1   \n",
              "2995               1       0              0                               1   \n",
              "2335               1       1              0                               1   \n",
              "369                0       0              0                               0   \n",
              "\n",
              "      possui_dependentes  meses_contrato  assina_telefone  \\\n",
              "1372                   0              46                1   \n",
              "1137                   1              12                0   \n",
              "2995                   1              19                1   \n",
              "2335                   1               7                1   \n",
              "369                    0               9                1   \n",
              "\n",
              "      multiplas_linhas_telefonicas  tipo_assinatura_internet  \\\n",
              "1372                             0                         0   \n",
              "1137                             1                         0   \n",
              "2995                             2                         1   \n",
              "2335                             0                         1   \n",
              "369                              0                         2   \n",
              "\n",
              "      adicional_seguranca_online  adicional_backup_online  \\\n",
              "1372                           2                        2   \n",
              "1137                           2                        0   \n",
              "2995                           0                        0   \n",
              "2335                           0                        0   \n",
              "369                            1                        1   \n",
              "\n",
              "      adicional_protecao_dispositivo  adicional_suporte_VIP  assina_TV_cabo  \\\n",
              "1372                               0                      2               0   \n",
              "1137                               0                      2               0   \n",
              "2995                               0                      2               2   \n",
              "2335                               0                      0               0   \n",
              "369                                1                      1               1   \n",
              "\n",
              "      assina_streaming_filmes  plano_contratado  fatura_online  \\\n",
              "1372                        2                 2              0   \n",
              "1137                        0                 2              0   \n",
              "2995                        2                 2              1   \n",
              "2335                        0                 1              1   \n",
              "369                         1                 2              1   \n",
              "\n",
              "      forma_pagamento  gasto_diario  gasto_mensal  gasto_total  \n",
              "1372                2          2.35         70.60      3231.05  \n",
              "1137                0          1.10         33.15       444.75  \n",
              "2995                1          3.36        100.95      1875.55  \n",
              "2335                1          2.30         69.00       506.90  \n",
              "369                 2          0.67         20.15       163.70  "
            ],
            "text/html": [
              "\n",
              "  <div id=\"df-6453aa4d-c008-45dd-84c7-2619336d2acc\">\n",
              "    <div class=\"colab-df-container\">\n",
              "      <div>\n",
              "<style scoped>\n",
              "    .dataframe tbody tr th:only-of-type {\n",
              "        vertical-align: middle;\n",
              "    }\n",
              "\n",
              "    .dataframe tbody tr th {\n",
              "        vertical-align: top;\n",
              "    }\n",
              "\n",
              "    .dataframe thead th {\n",
              "        text-align: right;\n",
              "    }\n",
              "</style>\n",
              "<table border=\"1\" class=\"dataframe\">\n",
              "  <thead>\n",
              "    <tr style=\"text-align: right;\">\n",
              "      <th></th>\n",
              "      <th>cancelou_plano</th>\n",
              "      <th>genero</th>\n",
              "      <th>maior_65_anos</th>\n",
              "      <th>possui_companheiro_companheira</th>\n",
              "      <th>possui_dependentes</th>\n",
              "      <th>meses_contrato</th>\n",
              "      <th>assina_telefone</th>\n",
              "      <th>multiplas_linhas_telefonicas</th>\n",
              "      <th>tipo_assinatura_internet</th>\n",
              "      <th>adicional_seguranca_online</th>\n",
              "      <th>adicional_backup_online</th>\n",
              "      <th>adicional_protecao_dispositivo</th>\n",
              "      <th>adicional_suporte_VIP</th>\n",
              "      <th>assina_TV_cabo</th>\n",
              "      <th>assina_streaming_filmes</th>\n",
              "      <th>plano_contratado</th>\n",
              "      <th>fatura_online</th>\n",
              "      <th>forma_pagamento</th>\n",
              "      <th>gasto_diario</th>\n",
              "      <th>gasto_mensal</th>\n",
              "      <th>gasto_total</th>\n",
              "    </tr>\n",
              "  </thead>\n",
              "  <tbody>\n",
              "    <tr>\n",
              "      <th>1372</th>\n",
              "      <td>0</td>\n",
              "      <td>1</td>\n",
              "      <td>0</td>\n",
              "      <td>1</td>\n",
              "      <td>0</td>\n",
              "      <td>46</td>\n",
              "      <td>1</td>\n",
              "      <td>0</td>\n",
              "      <td>0</td>\n",
              "      <td>2</td>\n",
              "      <td>2</td>\n",
              "      <td>0</td>\n",
              "      <td>2</td>\n",
              "      <td>0</td>\n",
              "      <td>2</td>\n",
              "      <td>2</td>\n",
              "      <td>0</td>\n",
              "      <td>2</td>\n",
              "      <td>2.35</td>\n",
              "      <td>70.60</td>\n",
              "      <td>3231.05</td>\n",
              "    </tr>\n",
              "    <tr>\n",
              "      <th>1137</th>\n",
              "      <td>0</td>\n",
              "      <td>1</td>\n",
              "      <td>0</td>\n",
              "      <td>1</td>\n",
              "      <td>1</td>\n",
              "      <td>12</td>\n",
              "      <td>0</td>\n",
              "      <td>1</td>\n",
              "      <td>0</td>\n",
              "      <td>2</td>\n",
              "      <td>0</td>\n",
              "      <td>0</td>\n",
              "      <td>2</td>\n",
              "      <td>0</td>\n",
              "      <td>0</td>\n",
              "      <td>2</td>\n",
              "      <td>0</td>\n",
              "      <td>0</td>\n",
              "      <td>1.10</td>\n",
              "      <td>33.15</td>\n",
              "      <td>444.75</td>\n",
              "    </tr>\n",
              "    <tr>\n",
              "      <th>2995</th>\n",
              "      <td>1</td>\n",
              "      <td>0</td>\n",
              "      <td>0</td>\n",
              "      <td>1</td>\n",
              "      <td>1</td>\n",
              "      <td>19</td>\n",
              "      <td>1</td>\n",
              "      <td>2</td>\n",
              "      <td>1</td>\n",
              "      <td>0</td>\n",
              "      <td>0</td>\n",
              "      <td>0</td>\n",
              "      <td>2</td>\n",
              "      <td>2</td>\n",
              "      <td>2</td>\n",
              "      <td>2</td>\n",
              "      <td>1</td>\n",
              "      <td>1</td>\n",
              "      <td>3.36</td>\n",
              "      <td>100.95</td>\n",
              "      <td>1875.55</td>\n",
              "    </tr>\n",
              "    <tr>\n",
              "      <th>2335</th>\n",
              "      <td>1</td>\n",
              "      <td>1</td>\n",
              "      <td>0</td>\n",
              "      <td>1</td>\n",
              "      <td>1</td>\n",
              "      <td>7</td>\n",
              "      <td>1</td>\n",
              "      <td>0</td>\n",
              "      <td>1</td>\n",
              "      <td>0</td>\n",
              "      <td>0</td>\n",
              "      <td>0</td>\n",
              "      <td>0</td>\n",
              "      <td>0</td>\n",
              "      <td>0</td>\n",
              "      <td>1</td>\n",
              "      <td>1</td>\n",
              "      <td>1</td>\n",
              "      <td>2.30</td>\n",
              "      <td>69.00</td>\n",
              "      <td>506.90</td>\n",
              "    </tr>\n",
              "    <tr>\n",
              "      <th>369</th>\n",
              "      <td>0</td>\n",
              "      <td>0</td>\n",
              "      <td>0</td>\n",
              "      <td>0</td>\n",
              "      <td>0</td>\n",
              "      <td>9</td>\n",
              "      <td>1</td>\n",
              "      <td>0</td>\n",
              "      <td>2</td>\n",
              "      <td>1</td>\n",
              "      <td>1</td>\n",
              "      <td>1</td>\n",
              "      <td>1</td>\n",
              "      <td>1</td>\n",
              "      <td>1</td>\n",
              "      <td>2</td>\n",
              "      <td>1</td>\n",
              "      <td>2</td>\n",
              "      <td>0.67</td>\n",
              "      <td>20.15</td>\n",
              "      <td>163.70</td>\n",
              "    </tr>\n",
              "  </tbody>\n",
              "</table>\n",
              "</div>\n",
              "      <button class=\"colab-df-convert\" onclick=\"convertToInteractive('df-6453aa4d-c008-45dd-84c7-2619336d2acc')\"\n",
              "              title=\"Convert this dataframe to an interactive table.\"\n",
              "              style=\"display:none;\">\n",
              "        \n",
              "  <svg xmlns=\"http://www.w3.org/2000/svg\" height=\"24px\"viewBox=\"0 0 24 24\"\n",
              "       width=\"24px\">\n",
              "    <path d=\"M0 0h24v24H0V0z\" fill=\"none\"/>\n",
              "    <path d=\"M18.56 5.44l.94 2.06.94-2.06 2.06-.94-2.06-.94-.94-2.06-.94 2.06-2.06.94zm-11 1L8.5 8.5l.94-2.06 2.06-.94-2.06-.94L8.5 2.5l-.94 2.06-2.06.94zm10 10l.94 2.06.94-2.06 2.06-.94-2.06-.94-.94-2.06-.94 2.06-2.06.94z\"/><path d=\"M17.41 7.96l-1.37-1.37c-.4-.4-.92-.59-1.43-.59-.52 0-1.04.2-1.43.59L10.3 9.45l-7.72 7.72c-.78.78-.78 2.05 0 2.83L4 21.41c.39.39.9.59 1.41.59.51 0 1.02-.2 1.41-.59l7.78-7.78 2.81-2.81c.8-.78.8-2.07 0-2.86zM5.41 20L4 18.59l7.72-7.72 1.47 1.35L5.41 20z\"/>\n",
              "  </svg>\n",
              "      </button>\n",
              "      \n",
              "  <style>\n",
              "    .colab-df-container {\n",
              "      display:flex;\n",
              "      flex-wrap:wrap;\n",
              "      gap: 12px;\n",
              "    }\n",
              "\n",
              "    .colab-df-convert {\n",
              "      background-color: #E8F0FE;\n",
              "      border: none;\n",
              "      border-radius: 50%;\n",
              "      cursor: pointer;\n",
              "      display: none;\n",
              "      fill: #1967D2;\n",
              "      height: 32px;\n",
              "      padding: 0 0 0 0;\n",
              "      width: 32px;\n",
              "    }\n",
              "\n",
              "    .colab-df-convert:hover {\n",
              "      background-color: #E2EBFA;\n",
              "      box-shadow: 0px 1px 2px rgba(60, 64, 67, 0.3), 0px 1px 3px 1px rgba(60, 64, 67, 0.15);\n",
              "      fill: #174EA6;\n",
              "    }\n",
              "\n",
              "    [theme=dark] .colab-df-convert {\n",
              "      background-color: #3B4455;\n",
              "      fill: #D2E3FC;\n",
              "    }\n",
              "\n",
              "    [theme=dark] .colab-df-convert:hover {\n",
              "      background-color: #434B5C;\n",
              "      box-shadow: 0px 1px 3px 1px rgba(0, 0, 0, 0.15);\n",
              "      filter: drop-shadow(0px 1px 2px rgba(0, 0, 0, 0.3));\n",
              "      fill: #FFFFFF;\n",
              "    }\n",
              "  </style>\n",
              "\n",
              "      <script>\n",
              "        const buttonEl =\n",
              "          document.querySelector('#df-6453aa4d-c008-45dd-84c7-2619336d2acc button.colab-df-convert');\n",
              "        buttonEl.style.display =\n",
              "          google.colab.kernel.accessAllowed ? 'block' : 'none';\n",
              "\n",
              "        async function convertToInteractive(key) {\n",
              "          const element = document.querySelector('#df-6453aa4d-c008-45dd-84c7-2619336d2acc');\n",
              "          const dataTable =\n",
              "            await google.colab.kernel.invokeFunction('convertToInteractive',\n",
              "                                                     [key], {});\n",
              "          if (!dataTable) return;\n",
              "\n",
              "          const docLinkHtml = 'Like what you see? Visit the ' +\n",
              "            '<a target=\"_blank\" href=https://colab.research.google.com/notebooks/data_table.ipynb>data table notebook</a>'\n",
              "            + ' to learn more about interactive tables.';\n",
              "          element.innerHTML = '';\n",
              "          dataTable['output_type'] = 'display_data';\n",
              "          await google.colab.output.renderOutput(dataTable, element);\n",
              "          const docLink = document.createElement('div');\n",
              "          docLink.innerHTML = docLinkHtml;\n",
              "          element.appendChild(docLink);\n",
              "        }\n",
              "      </script>\n",
              "    </div>\n",
              "  </div>\n",
              "  "
            ]
          },
          "metadata": {},
          "execution_count": 76
        }
      ]
    },
    {
      "cell_type": "code",
      "source": [
        "# verificando o balanceamento e comparando com a base original\n",
        "print('Tamanho base original: ', df.shape)\n",
        "print('Tamanho base com undersample: ', df_undersmp.shape)\n",
        "print(f'Foram removidos {df.shape[0] - df_undersmp.shape[0]} registros.')\n",
        "print('Valores de churn:')\n",
        "print(df_undersmp['cancelou_plano'].value_counts())"
      ],
      "metadata": {
        "colab": {
          "base_uri": "https://localhost:8080/"
        },
        "id": "PHkqrNkLIhsA",
        "outputId": "42db2ed9-6caa-41b3-fbbd-a11049687904"
      },
      "execution_count": 77,
      "outputs": [
        {
          "output_type": "stream",
          "name": "stdout",
          "text": [
            "Tamanho base original:  (7043, 22)\n",
            "Tamanho base com undersample:  (3738, 21)\n",
            "Foram removidos 3305 registros.\n",
            "Valores de churn:\n",
            "0    1869\n",
            "1    1869\n",
            "Name: cancelou_plano, dtype: int64\n"
          ]
        }
      ]
    },
    {
      "cell_type": "markdown",
      "source": [
        "Com isso, 3305 registros foram removidos para criar a base a ser usada pelo modelo. A base agora tem **53% do tamanho original**. Do mesmo modo como o oversampling, minha intuição também me diz que isso é meio preocupante. \n",
        "\n",
        "Será necessário **testar as duas estratégias**, over e undersampling, nos modelos de Machine Learning para verificar qual delas **produz melhores métricas**."
      ],
      "metadata": {
        "id": "tkvCJZCaKpmO"
      }
    },
    {
      "cell_type": "markdown",
      "source": [
        "# Criação dos modelos de Machine Learning\n",
        "\n",
        "Ver treinamento Sthe: https://cursos.alura.com.br/course/modelos-preditivos-dados-deteccao-fraude/task/106629\n",
        "\n",
        "Rever curso Kaggle: \n",
        "> https://www.kaggle.com/code/dansbecker/your-first-machine-learning-model, \n",
        "\n",
        "> https://www.kaggle.com/code/dansbecker/random-forests\n",
        "\n",
        "Ver código criado na Housing Prices Competition do Kaggle (precisa estar logado), leaderboard #12792: https://www.kaggle.com/code/zingarelli/ml-competitions-first-own-submission\n",
        "\n",
        "Aula de ML da Imersão Dados 4 da Alura (talvez já não esteja disponível): https://www.youtube.com/watch?v=8VsqXXXHp8U"
      ],
      "metadata": {
        "id": "aGGazgR3B6m2"
      }
    },
    {
      "cell_type": "markdown",
      "source": [
        "Criei algumas funções para etapas que serão utilizadas pelos dois modelos, para evitar repetição de código."
      ],
      "metadata": {
        "id": "vOAmAjm9EYTE"
      }
    },
    {
      "cell_type": "code",
      "source": [
        "# função que separa e retorna os dados de treino e teste, baseado nas features escolhidas\n",
        "def get_training_data(data, features):\n",
        "  # separando target e features\n",
        "  y = data['cancelou_plano']\n",
        "  X = data[features]  \n",
        "\n",
        "  # retorna os dados de treino e validação (por padrão 25% dos dados para validação)\n",
        "  return train_test_split(X, y, random_state=SEED)"
      ],
      "metadata": {
        "id": "Bb0qiXLDCk1T"
      },
      "execution_count": 78,
      "outputs": []
    },
    {
      "cell_type": "code",
      "source": [
        "# função que imprime as métricas de acurácia, precisão, recall (sensibilidade), F1\n",
        "# e também faz o plot da matriz de confusão\n",
        "def get_metrics(test, prediction):\n",
        "  # métricas de validação do modelo criado\n",
        "  print('-'*40 + '\\nResultados do Modelo\\n' + '-'*40)\n",
        "  print('Acurácia (acerto geral): ', metrics.accuracy_score(test, prediction))\n",
        "  print('Precisão (acerto de quem cancelou o plano, dentre os positivos reais): ', metrics.precision_score(test, prediction))\n",
        "  print('Recall (acerto de quem cancelou o plano, dentre todos os positivos): ', metrics.recall_score(test, prediction)) \n",
        "  print('F1 (média harmônica precisão e recall): ', metrics.f1_score(test, prediction))\n",
        "\n",
        "  # plot da matriz de confusão\n",
        "  cm = metrics.confusion_matrix(test, prediction)\n",
        "  disp = metrics.ConfusionMatrixDisplay(cm)\n",
        "  disp.plot()"
      ],
      "metadata": {
        "id": "-XTPXef-CkjP"
      },
      "execution_count": 79,
      "outputs": []
    },
    {
      "cell_type": "markdown",
      "source": [
        "## Modelo 1: Random Forest\n",
        "\n",
        "Ver documentação: https://scikit-learn.org/stable/modules/generated/sklearn.ensemble.RandomForestClassifier.html\n",
        "\n",
        "Ver treinamento Sthe: https://cursos.alura.com.br/course/modelos-preditivos-dados-deteccao-fraude/task/106526"
      ],
      "metadata": {
        "id": "7vzBk9gUYfPB"
      }
    },
    {
      "cell_type": "code",
      "source": [
        "# função para criar o modelo e aplicar algumas métricas\n",
        "# data: base de dados\n",
        "# features: colunas a serem consideradas para o treino\n",
        "# n_trees: número de árvores da floresta\n",
        "# depth: faz a \"poda\" das árvores após atingir a profundidade (para evitar overfitting)\n",
        "def random_forest_model(data, features, n_trees=100, depth=5):  \n",
        "  # separando os dados de treino e validação\n",
        "  X_train, X_test, y_train, y_test = get_training_data(data, features)\n",
        "\n",
        "  # criando o modelo e predizendo os resultados de teste\n",
        "  rf = RandomForestClassifier(random_state=SEED, n_estimators=n_trees, max_depth=depth)\n",
        "  rf.fit(X_train, y_train)\n",
        "  y_pred = rf.predict(X_test)\n",
        "\n",
        "  # print das métricas e matriz de confusão\n",
        "  get_metrics(y_test, y_pred)"
      ],
      "metadata": {
        "id": "DmFuDm9YOCoG"
      },
      "execution_count": 80,
      "outputs": []
    },
    {
      "cell_type": "code",
      "source": [
        "# escolhendo algumas colunas para testar o modelo\n",
        "features = ['genero', 'maior_65_anos', 'gasto_mensal', 'meses_contrato']\n",
        "random_forest_model(df_oversmp, features)"
      ],
      "metadata": {
        "colab": {
          "base_uri": "https://localhost:8080/",
          "height": 401
        },
        "id": "18g5v7jky4ah",
        "outputId": "d8f65b1b-f0b8-4710-8024-dc1192a9a584"
      },
      "execution_count": 81,
      "outputs": [
        {
          "output_type": "stream",
          "name": "stdout",
          "text": [
            "----------------------------------------\n",
            "Resultados do Modelo\n",
            "----------------------------------------\n",
            "Acurácia (acerto geral):  0.7572477773482799\n",
            "Precisão (acerto de quem cancelou o plano, dentre os positivos reais):  0.7423398328690808\n",
            "Recall (acerto de quem cancelou o plano, dentre todos os positivos):  0.8051359516616314\n",
            "F1 (média harmônica precisão e recall):  0.772463768115942\n"
          ]
        },
        {
          "output_type": "display_data",
          "data": {
            "text/plain": [
              "<Figure size 432x288 with 2 Axes>"
            ],
            "image/png": "[encoded data removed]"
          },
          "metadata": {
            "needs_background": "light"
          }
        }
      ]
    },
    {
      "cell_type": "markdown",
      "source": [
        "## Modelo 2: SVC (Support Vector Classification)\n",
        "\n",
        "Ver documentação: \n",
        "\n",
        "> https://scikit-learn.org/stable/modules/svm.html#\n",
        "\n",
        "> https://scikit-learn.org/stable/modules/generated/sklearn.svm.SVC.html#sklearn.svm.SVC"
      ],
      "metadata": {
        "id": "b3DXHvnOYXND"
      }
    },
    {
      "cell_type": "markdown",
      "source": [
        "TO DO: verificar como alterar os parâmetros para otimizar o modelo"
      ],
      "metadata": {
        "id": "bTGGl383EyiV"
      }
    },
    {
      "cell_type": "code",
      "source": [
        "# função para criar o modelo e aplicar algumas métricas\n",
        "def SVC_model(data, features):\n",
        "  # separando os dados de treino e validação\n",
        "  X_train, X_test, y_train, y_test = get_training_data(data, features)\n",
        "\n",
        "  # criando o modelo e predizendo os resultados de teste\n",
        "  clf = SVC(random_state=SEED)\n",
        "  clf.fit(X_train, y_train)\n",
        "  y_pred = clf.predict(X_test)\n",
        "\n",
        "  # print das métricas e matriz de confusão\n",
        "  get_metrics(y_test, y_pred)"
      ],
      "metadata": {
        "id": "oEfrROIHQgWL"
      },
      "execution_count": 82,
      "outputs": []
    },
    {
      "cell_type": "code",
      "source": [
        "# escolhendo algumas colunas para testar o modelo\n",
        "features = ['genero', 'maior_65_anos', 'gasto_mensal', 'meses_contrato']\n",
        "SVC_model(df_oversmp, features)"
      ],
      "metadata": {
        "colab": {
          "base_uri": "https://localhost:8080/",
          "height": 401
        },
        "id": "2Unul5LWNtN4",
        "outputId": "a71e3344-5a65-41e7-dee8-bec70c790ed5"
      },
      "execution_count": 83,
      "outputs": [
        {
          "output_type": "stream",
          "name": "stdout",
          "text": [
            "----------------------------------------\n",
            "Resultados do Modelo\n",
            "----------------------------------------\n",
            "Acurácia (acerto geral):  0.7398531117124082\n",
            "Precisão (acerto de quem cancelou o plano, dentre os positivos reais):  0.7306874557051737\n",
            "Recall (acerto de quem cancelou o plano, dentre todos os positivos):  0.7787009063444109\n",
            "F1 (média harmônica precisão e recall):  0.7539305301645339\n"
          ]
        },
        {
          "output_type": "display_data",
          "data": {
            "text/plain": [
              "<Figure size 432x288 with 2 Axes>"
            ],
            "image/png": "[encoded data removed]"
          },
          "metadata": {
            "needs_background": "light"
          }
        }
      ]
    },
    {
      "cell_type": "markdown",
      "source": [
        "# Análise dos modelos\n",
        "\n",
        "Com os modelos criados, irei verificar como performam para diferentes cenários:\n",
        "\n",
        "1.   Base de dados com Oversampling\n",
        "2.   Base de dados com Undersampling\n",
        "3.   Base de dados original (desbalanceada)\n",
        "\n",
        "Nos três cenários, a base foi codificada utilizando o Label Encoding. \n",
        "\n",
        "Optei por aplicar também o One-Hot Encoding, porém fiz isso somente após grande parte do projeto já estar feita baseada no Label Encoding. Padronizar o projeto para poder escolher entre os dois tipos de codificação envolveria refatoração de muito código, o que não vou conseguir fazer para entregar o desafio dentro do prazo. Apesar disso, também testei os dois modelos aplicando o One-Hot Encoding + Oversampling e os resultados são mostrados em uma seção a parte.\n",
        "\n",
        "\n"
      ],
      "metadata": {
        "id": "rnDeeqn9Ym0a"
      }
    },
    {
      "cell_type": "markdown",
      "source": [
        "## Escolha das features\n",
        "Na Semana 2, foi possível analisar algumas variáveis que de alguma forma mostravam uma influência quando comparadas com a variável Churn (`cancelou_plano`). São elas:\n",
        "\n",
        "*   Gasto mensal;\n",
        "*   Senioridade (idade acima ou abaixo de 65 anos);\n",
        "*   Gênero (especificamente para a faixa de 70 a 110 dólares de gastos mensais);\n",
        "*   Meses de contrato;\n",
        "*   Pessoas com ou sem dependentes;\n",
        "*   Tipo de plano contratado.\n",
        "\n",
        "Irei utilizar essas variáveis como as features para o treinamento dos modelos.\n",
        "\n"
      ],
      "metadata": {
        "id": "Rm_LSvdxQ8Pa"
      }
    },
    {
      "cell_type": "code",
      "source": [
        "features = ['gasto_mensal', 'maior_65_anos', 'genero', 'meses_contrato', 'possui_dependentes', 'plano_contratado']"
      ],
      "metadata": {
        "id": "kn9-nF1FStHG"
      },
      "execution_count": 84,
      "outputs": []
    },
    {
      "cell_type": "markdown",
      "source": [
        "## Avaliação com Oversampling"
      ],
      "metadata": {
        "id": "ynfowePaQnwY"
      }
    },
    {
      "cell_type": "code",
      "source": [
        "# Random Forest\n",
        "random_forest_model(df_oversmp, features)"
      ],
      "metadata": {
        "colab": {
          "base_uri": "https://localhost:8080/",
          "height": 401
        },
        "id": "l-WDQ22gTIuR",
        "outputId": "8ed3aedc-d52c-4d68-eec1-3fbfe6531de7"
      },
      "execution_count": 85,
      "outputs": [
        {
          "output_type": "stream",
          "name": "stdout",
          "text": [
            "----------------------------------------\n",
            "Resultados do Modelo\n",
            "----------------------------------------\n",
            "Acurácia (acerto geral):  0.7812137611132586\n",
            "Precisão (acerto de quem cancelou o plano, dentre os positivos reais):  0.7483617300131061\n",
            "Recall (acerto de quem cancelou o plano, dentre todos os positivos):  0.8625377643504532\n",
            "F1 (média harmônica precisão e recall):  0.8014035087719299\n"
          ]
        },
        {
          "output_type": "display_data",
          "data": {
            "text/plain": [
              "<Figure size 432x288 with 2 Axes>"
            ],
            "image/png": "[encoded data removed]"
          },
          "metadata": {
            "needs_background": "light"
          }
        }
      ]
    },
    {
      "cell_type": "code",
      "source": [
        "# SVC\n",
        "SVC_model(df_oversmp, features)"
      ],
      "metadata": {
        "colab": {
          "base_uri": "https://localhost:8080/",
          "height": 401
        },
        "id": "MHHrwzR5TSvX",
        "outputId": "92950f56-1034-4b70-90ef-d82a82d299d2"
      },
      "execution_count": 86,
      "outputs": [
        {
          "output_type": "stream",
          "name": "stdout",
          "text": [
            "----------------------------------------\n",
            "Resultados do Modelo\n",
            "----------------------------------------\n",
            "Acurácia (acerto geral):  0.7413993042133745\n",
            "Precisão (acerto de quem cancelou o plano, dentre os positivos reais):  0.7279053583855254\n",
            "Recall (acerto de quem cancelou o plano, dentre todos os positivos):  0.7900302114803626\n",
            "F1 (média harmônica precisão e recall):  0.7576964867801521\n"
          ]
        },
        {
          "output_type": "display_data",
          "data": {
            "text/plain": [
              "<Figure size 432x288 with 2 Axes>"
            ],
            "image/png": "[encoded data removed]"
          },
          "metadata": {
            "needs_background": "light"
          }
        }
      ]
    },
    {
      "cell_type": "markdown",
      "source": [
        "O modelo de Random Forest apresentou os melhores valores nas quatro métricas utilizadas, apesar de as diferenças na comparação entre as métricas estar na segunda casa, decimal. \n",
        "\n",
        "Na matriz de confusão, o Random Forest também teve mais acertos e errou menos nos Falsos Positivos/Negativos, se destacando mais nos acertos de Verdadeiros Positivos (4º quadrante) e na menor quantidade de Falsos Negativos (3º quadrante). Nos outros dois quadrantes, os resultados foram bem próximos nos dois modelos.\n",
        "\n",
        "Neste caso, o **Random Forest** foi o que teve a **melhor performance**, apesar de não ter sido uma diferença tão significativa."
      ],
      "metadata": {
        "id": "OuL68jISThZz"
      }
    },
    {
      "cell_type": "markdown",
      "source": [
        "## Avaliação com Undersampling"
      ],
      "metadata": {
        "id": "qKcToyRKUlsz"
      }
    },
    {
      "cell_type": "code",
      "source": [
        "# Random Forest\n",
        "random_forest_model(df_undersmp, features)"
      ],
      "metadata": {
        "colab": {
          "base_uri": "https://localhost:8080/",
          "height": 401
        },
        "id": "fjrRJY8qUn4W",
        "outputId": "60a6db6b-78f2-4c32-fc83-cb850d700cfb"
      },
      "execution_count": 87,
      "outputs": [
        {
          "output_type": "stream",
          "name": "stdout",
          "text": [
            "----------------------------------------\n",
            "Resultados do Modelo\n",
            "----------------------------------------\n",
            "Acurácia (acerto geral):  0.6588235294117647\n",
            "Precisão (acerto de quem cancelou o plano, dentre os positivos reais):  0.6457242582897034\n",
            "Recall (acerto de quem cancelou o plano, dentre todos os positivos):  0.7613168724279835\n",
            "F1 (média harmônica precisão e recall):  0.6987724268177526\n"
          ]
        },
        {
          "output_type": "display_data",
          "data": {
            "text/plain": [
              "<Figure size 432x288 with 2 Axes>"
            ],
            "image/png": "[encoded data removed]"
          },
          "metadata": {
            "needs_background": "light"
          }
        }
      ]
    },
    {
      "cell_type": "code",
      "source": [
        "# SVC\n",
        "SVC_model(df_undersmp, features)"
      ],
      "metadata": {
        "colab": {
          "base_uri": "https://localhost:8080/",
          "height": 401
        },
        "id": "H1R1Je41Un2B",
        "outputId": "6093e22a-d2ae-4f4b-c0fa-bf97978b0a24"
      },
      "execution_count": 88,
      "outputs": [
        {
          "output_type": "stream",
          "name": "stdout",
          "text": [
            "----------------------------------------\n",
            "Resultados do Modelo\n",
            "----------------------------------------\n",
            "Acurácia (acerto geral):  0.6598930481283423\n",
            "Precisão (acerto de quem cancelou o plano, dentre os positivos reais):  0.6615384615384615\n",
            "Recall (acerto de quem cancelou o plano, dentre todos os positivos):  0.7078189300411523\n",
            "F1 (média harmônica precisão e recall):  0.68389662027833\n"
          ]
        },
        {
          "output_type": "display_data",
          "data": {
            "text/plain": [
              "<Figure size 432x288 with 2 Axes>"
            ],
            "image/png": "[encoded data removed]"
          },
          "metadata": {
            "needs_background": "light"
          }
        }
      ]
    },
    {
      "cell_type": "markdown",
      "source": [
        "Em ambos os modelos, as **métricas foram piores do que as obtidas com a base com oversampling**. Isso provavelmente aconteceu porque a **quantidade de dados** para o treinamento dos modelos foi **consideravelmente diminuída** (cerca de 53% do tamanho original).\n",
        "\n",
        "A comparação das métricas entre os dois modelos mostraram resultados parecidos, com pouca diferença, sendo que o Recall foi o único que teve alguma diferença maior (0,76 para o Random Forest e 0,71 para o SVC), ainda assim, baixa.\n",
        "\n",
        "A matriz de confusão também trouxe pouca diferença entre os dois modelos, sendo que nos quadrantes 1 e 2 o SVC foi melhor, e nos quadrantes 3 e 4, o Random Forest foi melhor. \n",
        "\n",
        "Neste caso, **não houve diferença significativa** entre os dois modelos. "
      ],
      "metadata": {
        "id": "OMVstcSMWBkD"
      }
    },
    {
      "cell_type": "markdown",
      "source": [
        "## Avaliação com a base desbalanceada"
      ],
      "metadata": {
        "id": "IbJHfxi7YACD"
      }
    },
    {
      "cell_type": "code",
      "source": [
        "# Random Forest\n",
        "random_forest_model(df_encoded, features)"
      ],
      "metadata": {
        "colab": {
          "base_uri": "https://localhost:8080/",
          "height": 404
        },
        "id": "ggqlk0UhYGEa",
        "outputId": "65171525-5a86-4e15-863e-2886a4afeec2"
      },
      "execution_count": 89,
      "outputs": [
        {
          "output_type": "stream",
          "name": "stdout",
          "text": [
            "----------------------------------------\n",
            "Resultados do Modelo\n",
            "----------------------------------------\n",
            "Acurácia (acerto geral):  0.7967064168086314\n",
            "Precisão (acerto de quem cancelou o plano, dentre os positivos reais):  0.7116788321167883\n",
            "Recall (acerto de quem cancelou o plano, dentre todos os positivos):  0.41139240506329117\n",
            "F1 (média harmônica precisão e recall):  0.5213903743315508\n"
          ]
        },
        {
          "output_type": "display_data",
          "data": {
            "text/plain": [
              "<Figure size 432x288 with 2 Axes>"
            ],
            "image/png": "[encoded data removed]"
          },
          "metadata": {
            "needs_background": "light"
          }
        }
      ]
    },
    {
      "cell_type": "code",
      "source": [
        "# SVC\n",
        "SVC_model(df_encoded, features)"
      ],
      "metadata": {
        "colab": {
          "base_uri": "https://localhost:8080/",
          "height": 403
        },
        "id": "UNSMwzvYYGCK",
        "outputId": "71cf2b57-2c8b-4c19-c1cf-62f0f6de70b7"
      },
      "execution_count": 90,
      "outputs": [
        {
          "output_type": "stream",
          "name": "stdout",
          "text": [
            "----------------------------------------\n",
            "Resultados do Modelo\n",
            "----------------------------------------\n",
            "Acurácia (acerto geral):  0.7915956842703009\n",
            "Precisão (acerto de quem cancelou o plano, dentre os positivos reais):  0.708171206225681\n",
            "Recall (acerto de quem cancelou o plano, dentre todos os positivos):  0.38396624472573837\n",
            "F1 (média harmônica precisão e recall):  0.49794801641586867\n"
          ]
        },
        {
          "output_type": "display_data",
          "data": {
            "text/plain": [
              "<Figure size 432x288 with 2 Axes>"
            ],
            "image/png": "[encoded data removed]"
          },
          "metadata": {
            "needs_background": "light"
          }
        }
      ]
    },
    {
      "cell_type": "markdown",
      "source": [
        "Fiz esta análise para verificar o perigo de uma base desbalanceada.\n",
        "\n",
        "Em ambos os modelos, a acurácia foi até um pouco mais alta do que com a base com oversampling, com a precisão também obtendo valores semelhantes. No entanto, o problema aparece nas métricas de **Recall e F1**, que foram **muito mais baixas** na base de dados desbalanceada (0,41 e 0,52 no Random Forest e 0,38 e 0,50 no SVC, respectivamente). Ou seja, os modelos acertam bem quando preveem se uma pessoa não cancela o plano, mas erram muito ao prever se a pessoa irá cancelar o plano. Isso é **reflexo da base desbalanceada**, que possui cerca de 25% de registros de pessoas que cancelaram o plano.\n",
        "\n",
        "A comparação das métricas e da matriz de confusão entre os dois modelos apresentou resultados parecidos, então, para este caso, n**ão houve diferença significativa** entre os dois modelos."
      ],
      "metadata": {
        "id": "mS4bWy7VYRlv"
      }
    },
    {
      "cell_type": "markdown",
      "source": [
        "## Conclusão\n",
        "\n",
        "A **base com oversampling** teve as melhores métricas e a apresentou a melhor matriz de confusão. \n",
        "\n",
        "Levando em conta esta base, bem como as features escolhidas e a aplicação dos modelos com os parâmetros padrões, dentre os dois modelos, o **Random Forest** foi melhor, apesar de a diferença não ter sido tão gritante."
      ],
      "metadata": {
        "id": "yc8wXbWga-4p"
      }
    },
    {
      "cell_type": "markdown",
      "source": [
        "## Teste com o One-Hot Encoding\n",
        "\n",
        "Para finalizar as análises, segue o teste da base feita com One-Hot Encoding, aplicando também a técnica do oversampling.\n",
        "\n",
        "Sim, essa parte está bem hardcoded e muito feia... :("
      ],
      "metadata": {
        "id": "sbX-hMxbUhO5"
      }
    },
    {
      "cell_type": "code",
      "source": [
        "# colunas categóricas que irão para o modelo\n",
        "cat_features = ['genero', 'maior_65_anos', 'possui_dependentes', 'plano_contratado']\n",
        "\n",
        "# aplicando o One-Hot Encoding\n",
        "df_OH_encoded = OH_encode(df, cat_features)\n",
        "\n",
        "# alterando o target para 0 (não cancelou) ou 1 (cancelou)\n",
        "df_OH_encoded['cancelou_plano'] = df_OH_encoded['cancelou_plano'].apply(lambda x : 1 if x == 'Sim' else 0)\n",
        "\n",
        "# verificando a base e as novas colunas\n",
        "df_OH_encoded.head()"
      ],
      "metadata": {
        "colab": {
          "base_uri": "https://localhost:8080/",
          "height": 369
        },
        "id": "QbuGsIGMQaPB",
        "outputId": "7badf011-ea28-4191-e0ed-eced0cb8c0c4"
      },
      "execution_count": 91,
      "outputs": [
        {
          "output_type": "execute_result",
          "data": {
            "text/plain": [
              "   cliente_ID  cancelou_plano possui_companheiro_companheira  meses_contrato  \\\n",
              "0  0002-ORFBO               0                            Sim               9   \n",
              "1  0003-MKNFE               0                            Nao               9   \n",
              "2  0004-TLHLJ               1                            Nao               4   \n",
              "3  0011-IGKFF               1                            Sim              13   \n",
              "4  0013-EXCHZ               1                            Sim               3   \n",
              "\n",
              "  assina_telefone multiplas_linhas_telefonicas tipo_assinatura_internet  \\\n",
              "0             Sim                          Nao                     Cabo   \n",
              "1             Sim                          Sim                     Cabo   \n",
              "2             Sim                          Nao                    Fibra   \n",
              "3             Sim                          Nao                    Fibra   \n",
              "4             Sim                          Nao                    Fibra   \n",
              "\n",
              "  adicional_seguranca_online adicional_backup_online  \\\n",
              "0                        Nao                     Sim   \n",
              "1                        Nao                     Nao   \n",
              "2                        Nao                     Nao   \n",
              "3                        Nao                     Sim   \n",
              "4                        Nao                     Nao   \n",
              "\n",
              "  adicional_protecao_dispositivo adicional_suporte_VIP  ... gasto_mensal  \\\n",
              "0                            Nao                   Sim  ...         65.6   \n",
              "1                            Nao                   Nao  ...         59.9   \n",
              "2                            Sim                   Nao  ...         73.9   \n",
              "3                            Sim                   Nao  ...         98.0   \n",
              "4                            Nao                   Sim  ...         83.9   \n",
              "\n",
              "  gasto_total    0    1    2    3    4    5    6    7    8  \n",
              "0      593.30  0.0  1.0  1.0  0.0  0.0  1.0  0.0  0.0  1.0  \n",
              "1      542.40  1.0  0.0  1.0  0.0  1.0  0.0  0.0  1.0  0.0  \n",
              "2      280.85  1.0  0.0  1.0  0.0  1.0  0.0  0.0  1.0  0.0  \n",
              "3     1237.85  1.0  0.0  0.0  1.0  1.0  0.0  0.0  1.0  0.0  \n",
              "4      267.40  0.0  1.0  0.0  1.0  1.0  0.0  0.0  1.0  0.0  \n",
              "\n",
              "[5 rows x 27 columns]"
            ],
            "text/html": [
              "\n",
              "  <div id=\"df-a19c0636-18e4-479a-924e-0c9c26b08230\">\n",
              "    <div class=\"colab-df-container\">\n",
              "      <div>\n",
              "<style scoped>\n",
              "    .dataframe tbody tr th:only-of-type {\n",
              "        vertical-align: middle;\n",
              "    }\n",
              "\n",
              "    .dataframe tbody tr th {\n",
              "        vertical-align: top;\n",
              "    }\n",
              "\n",
              "    .dataframe thead th {\n",
              "        text-align: right;\n",
              "    }\n",
              "</style>\n",
              "<table border=\"1\" class=\"dataframe\">\n",
              "  <thead>\n",
              "    <tr style=\"text-align: right;\">\n",
              "      <th></th>\n",
              "      <th>cliente_ID</th>\n",
              "      <th>cancelou_plano</th>\n",
              "      <th>possui_companheiro_companheira</th>\n",
              "      <th>meses_contrato</th>\n",
              "      <th>assina_telefone</th>\n",
              "      <th>multiplas_linhas_telefonicas</th>\n",
              "      <th>tipo_assinatura_internet</th>\n",
              "      <th>adicional_seguranca_online</th>\n",
              "      <th>adicional_backup_online</th>\n",
              "      <th>adicional_protecao_dispositivo</th>\n",
              "      <th>adicional_suporte_VIP</th>\n",
              "      <th>...</th>\n",
              "      <th>gasto_mensal</th>\n",
              "      <th>gasto_total</th>\n",
              "      <th>0</th>\n",
              "      <th>1</th>\n",
              "      <th>2</th>\n",
              "      <th>3</th>\n",
              "      <th>4</th>\n",
              "      <th>5</th>\n",
              "      <th>6</th>\n",
              "      <th>7</th>\n",
              "      <th>8</th>\n",
              "    </tr>\n",
              "  </thead>\n",
              "  <tbody>\n",
              "    <tr>\n",
              "      <th>0</th>\n",
              "      <td>0002-ORFBO</td>\n",
              "      <td>0</td>\n",
              "      <td>Sim</td>\n",
              "      <td>9</td>\n",
              "      <td>Sim</td>\n",
              "      <td>Nao</td>\n",
              "      <td>Cabo</td>\n",
              "      <td>Nao</td>\n",
              "      <td>Sim</td>\n",
              "      <td>Nao</td>\n",
              "      <td>Sim</td>\n",
              "      <td>...</td>\n",
              "      <td>65.6</td>\n",
              "      <td>593.30</td>\n",
              "      <td>0.0</td>\n",
              "      <td>1.0</td>\n",
              "      <td>1.0</td>\n",
              "      <td>0.0</td>\n",
              "      <td>0.0</td>\n",
              "      <td>1.0</td>\n",
              "      <td>0.0</td>\n",
              "      <td>0.0</td>\n",
              "      <td>1.0</td>\n",
              "    </tr>\n",
              "    <tr>\n",
              "      <th>1</th>\n",
              "      <td>0003-MKNFE</td>\n",
              "      <td>0</td>\n",
              "      <td>Nao</td>\n",
              "      <td>9</td>\n",
              "      <td>Sim</td>\n",
              "      <td>Sim</td>\n",
              "      <td>Cabo</td>\n",
              "      <td>Nao</td>\n",
              "      <td>Nao</td>\n",
              "      <td>Nao</td>\n",
              "      <td>Nao</td>\n",
              "      <td>...</td>\n",
              "      <td>59.9</td>\n",
              "      <td>542.40</td>\n",
              "      <td>1.0</td>\n",
              "      <td>0.0</td>\n",
              "      <td>1.0</td>\n",
              "      <td>0.0</td>\n",
              "      <td>1.0</td>\n",
              "      <td>0.0</td>\n",
              "      <td>0.0</td>\n",
              "      <td>1.0</td>\n",
              "      <td>0.0</td>\n",
              "    </tr>\n",
              "    <tr>\n",
              "      <th>2</th>\n",
              "      <td>0004-TLHLJ</td>\n",
              "      <td>1</td>\n",
              "      <td>Nao</td>\n",
              "      <td>4</td>\n",
              "      <td>Sim</td>\n",
              "      <td>Nao</td>\n",
              "      <td>Fibra</td>\n",
              "      <td>Nao</td>\n",
              "      <td>Nao</td>\n",
              "      <td>Sim</td>\n",
              "      <td>Nao</td>\n",
              "      <td>...</td>\n",
              "      <td>73.9</td>\n",
              "      <td>280.85</td>\n",
              "      <td>1.0</td>\n",
              "      <td>0.0</td>\n",
              "      <td>1.0</td>\n",
              "      <td>0.0</td>\n",
              "      <td>1.0</td>\n",
              "      <td>0.0</td>\n",
              "      <td>0.0</td>\n",
              "      <td>1.0</td>\n",
              "      <td>0.0</td>\n",
              "    </tr>\n",
              "    <tr>\n",
              "      <th>3</th>\n",
              "      <td>0011-IGKFF</td>\n",
              "      <td>1</td>\n",
              "      <td>Sim</td>\n",
              "      <td>13</td>\n",
              "      <td>Sim</td>\n",
              "      <td>Nao</td>\n",
              "      <td>Fibra</td>\n",
              "      <td>Nao</td>\n",
              "      <td>Sim</td>\n",
              "      <td>Sim</td>\n",
              "      <td>Nao</td>\n",
              "      <td>...</td>\n",
              "      <td>98.0</td>\n",
              "      <td>1237.85</td>\n",
              "      <td>1.0</td>\n",
              "      <td>0.0</td>\n",
              "      <td>0.0</td>\n",
              "      <td>1.0</td>\n",
              "      <td>1.0</td>\n",
              "      <td>0.0</td>\n",
              "      <td>0.0</td>\n",
              "      <td>1.0</td>\n",
              "      <td>0.0</td>\n",
              "    </tr>\n",
              "    <tr>\n",
              "      <th>4</th>\n",
              "      <td>0013-EXCHZ</td>\n",
              "      <td>1</td>\n",
              "      <td>Sim</td>\n",
              "      <td>3</td>\n",
              "      <td>Sim</td>\n",
              "      <td>Nao</td>\n",
              "      <td>Fibra</td>\n",
              "      <td>Nao</td>\n",
              "      <td>Nao</td>\n",
              "      <td>Nao</td>\n",
              "      <td>Sim</td>\n",
              "      <td>...</td>\n",
              "      <td>83.9</td>\n",
              "      <td>267.40</td>\n",
              "      <td>0.0</td>\n",
              "      <td>1.0</td>\n",
              "      <td>0.0</td>\n",
              "      <td>1.0</td>\n",
              "      <td>1.0</td>\n",
              "      <td>0.0</td>\n",
              "      <td>0.0</td>\n",
              "      <td>1.0</td>\n",
              "      <td>0.0</td>\n",
              "    </tr>\n",
              "  </tbody>\n",
              "</table>\n",
              "<p>5 rows × 27 columns</p>\n",
              "</div>\n",
              "      <button class=\"colab-df-convert\" onclick=\"convertToInteractive('df-a19c0636-18e4-479a-924e-0c9c26b08230')\"\n",
              "              title=\"Convert this dataframe to an interactive table.\"\n",
              "              style=\"display:none;\">\n",
              "        \n",
              "  <svg xmlns=\"http://www.w3.org/2000/svg\" height=\"24px\"viewBox=\"0 0 24 24\"\n",
              "       width=\"24px\">\n",
              "    <path d=\"M0 0h24v24H0V0z\" fill=\"none\"/>\n",
              "    <path d=\"M18.56 5.44l.94 2.06.94-2.06 2.06-.94-2.06-.94-.94-2.06-.94 2.06-2.06.94zm-11 1L8.5 8.5l.94-2.06 2.06-.94-2.06-.94L8.5 2.5l-.94 2.06-2.06.94zm10 10l.94 2.06.94-2.06 2.06-.94-2.06-.94-.94-2.06-.94 2.06-2.06.94z\"/><path d=\"M17.41 7.96l-1.37-1.37c-.4-.4-.92-.59-1.43-.59-.52 0-1.04.2-1.43.59L10.3 9.45l-7.72 7.72c-.78.78-.78 2.05 0 2.83L4 21.41c.39.39.9.59 1.41.59.51 0 1.02-.2 1.41-.59l7.78-7.78 2.81-2.81c.8-.78.8-2.07 0-2.86zM5.41 20L4 18.59l7.72-7.72 1.47 1.35L5.41 20z\"/>\n",
              "  </svg>\n",
              "      </button>\n",
              "      \n",
              "  <style>\n",
              "    .colab-df-container {\n",
              "      display:flex;\n",
              "      flex-wrap:wrap;\n",
              "      gap: 12px;\n",
              "    }\n",
              "\n",
              "    .colab-df-convert {\n",
              "      background-color: #E8F0FE;\n",
              "      border: none;\n",
              "      border-radius: 50%;\n",
              "      cursor: pointer;\n",
              "      display: none;\n",
              "      fill: #1967D2;\n",
              "      height: 32px;\n",
              "      padding: 0 0 0 0;\n",
              "      width: 32px;\n",
              "    }\n",
              "\n",
              "    .colab-df-convert:hover {\n",
              "      background-color: #E2EBFA;\n",
              "      box-shadow: 0px 1px 2px rgba(60, 64, 67, 0.3), 0px 1px 3px 1px rgba(60, 64, 67, 0.15);\n",
              "      fill: #174EA6;\n",
              "    }\n",
              "\n",
              "    [theme=dark] .colab-df-convert {\n",
              "      background-color: #3B4455;\n",
              "      fill: #D2E3FC;\n",
              "    }\n",
              "\n",
              "    [theme=dark] .colab-df-convert:hover {\n",
              "      background-color: #434B5C;\n",
              "      box-shadow: 0px 1px 3px 1px rgba(0, 0, 0, 0.15);\n",
              "      filter: drop-shadow(0px 1px 2px rgba(0, 0, 0, 0.3));\n",
              "      fill: #FFFFFF;\n",
              "    }\n",
              "  </style>\n",
              "\n",
              "      <script>\n",
              "        const buttonEl =\n",
              "          document.querySelector('#df-a19c0636-18e4-479a-924e-0c9c26b08230 button.colab-df-convert');\n",
              "        buttonEl.style.display =\n",
              "          google.colab.kernel.accessAllowed ? 'block' : 'none';\n",
              "\n",
              "        async function convertToInteractive(key) {\n",
              "          const element = document.querySelector('#df-a19c0636-18e4-479a-924e-0c9c26b08230');\n",
              "          const dataTable =\n",
              "            await google.colab.kernel.invokeFunction('convertToInteractive',\n",
              "                                                     [key], {});\n",
              "          if (!dataTable) return;\n",
              "\n",
              "          const docLinkHtml = 'Like what you see? Visit the ' +\n",
              "            '<a target=\"_blank\" href=https://colab.research.google.com/notebooks/data_table.ipynb>data table notebook</a>'\n",
              "            + ' to learn more about interactive tables.';\n",
              "          element.innerHTML = '';\n",
              "          dataTable['output_type'] = 'display_data';\n",
              "          await google.colab.output.renderOutput(dataTable, element);\n",
              "          const docLink = document.createElement('div');\n",
              "          docLink.innerHTML = docLinkHtml;\n",
              "          element.appendChild(docLink);\n",
              "        }\n",
              "      </script>\n",
              "    </div>\n",
              "  </div>\n",
              "  "
            ]
          },
          "metadata": {},
          "execution_count": 91
        }
      ]
    },
    {
      "cell_type": "code",
      "source": [
        "# o One-Hot Encoding criou novas colunas, então preciso alterar as features\n",
        "features = ['gasto_mensal', 'meses_contrato', 0, 1, 2, 3, 4, 5, 6, 7, 8]\n",
        "\n",
        "# fazendo o oversampling\n",
        "smote = SMOTE(random_state = SEED)\n",
        "x = df_OH_encoded[features]\n",
        "y = df_OH_encoded['cancelou_plano']\n",
        "x_oversmp, y_oversmp = smote.fit_resample(x, y) # gera um warning que em futuras versões poderá ser um erro\n",
        "df_OH_oversmp = pd.concat([y_oversmp, x_oversmp], axis=1)\n",
        "\n",
        "# testando os modelos\n",
        "# também gera um warning que em futuras versões poderá ser um erro\n",
        "random_forest_model(df_OH_oversmp, features)\n",
        "SVC_model(df_OH_oversmp, features)"
      ],
      "metadata": {
        "colab": {
          "base_uri": "https://localhost:8080/",
          "height": 978
        },
        "id": "WQ4s7adJdTZp",
        "outputId": "80a48bd9-96e1-47b5-eccf-f5f3d9803fef"
      },
      "execution_count": 92,
      "outputs": [
        {
          "output_type": "stream",
          "name": "stderr",
          "text": [
            "/usr/local/lib/python3.7/dist-packages/sklearn/utils/validation.py:1692: FutureWarning: Feature names only support names that are all strings. Got feature names with dtypes: ['int', 'str']. An error will be raised in 1.2.\n",
            "  FutureWarning,\n",
            "/usr/local/lib/python3.7/dist-packages/sklearn/utils/validation.py:1692: FutureWarning: Feature names only support names that are all strings. Got feature names with dtypes: ['int', 'str']. An error will be raised in 1.2.\n",
            "  FutureWarning,\n",
            "/usr/local/lib/python3.7/dist-packages/sklearn/utils/validation.py:1692: FutureWarning: Feature names only support names that are all strings. Got feature names with dtypes: ['int', 'str']. An error will be raised in 1.2.\n",
            "  FutureWarning,\n",
            "/usr/local/lib/python3.7/dist-packages/sklearn/utils/validation.py:1692: FutureWarning: Feature names only support names that are all strings. Got feature names with dtypes: ['int', 'str']. An error will be raised in 1.2.\n",
            "  FutureWarning,\n"
          ]
        },
        {
          "output_type": "stream",
          "name": "stdout",
          "text": [
            "----------------------------------------\n",
            "Resultados do Modelo\n",
            "----------------------------------------\n",
            "Acurácia (acerto geral):  0.7939698492462312\n",
            "Precisão (acerto de quem cancelou o plano, dentre os positivos reais):  0.7476518472135254\n",
            "Recall (acerto de quem cancelou o plano, dentre todos os positivos):  0.9018126888217523\n",
            "F1 (média harmônica precisão e recall):  0.8175282437521398\n"
          ]
        },
        {
          "output_type": "stream",
          "name": "stderr",
          "text": [
            "/usr/local/lib/python3.7/dist-packages/sklearn/utils/validation.py:1692: FutureWarning: Feature names only support names that are all strings. Got feature names with dtypes: ['int', 'str']. An error will be raised in 1.2.\n",
            "  FutureWarning,\n"
          ]
        },
        {
          "output_type": "stream",
          "name": "stdout",
          "text": [
            "----------------------------------------\n",
            "Resultados do Modelo\n",
            "----------------------------------------\n",
            "Acurácia (acerto geral):  0.7406262079628914\n",
            "Precisão (acerto de quem cancelou o plano, dentre os positivos reais):  0.7259515570934256\n",
            "Recall (acerto de quem cancelou o plano, dentre todos os positivos):  0.7922960725075529\n",
            "F1 (média harmônica precisão e recall):  0.7576742506319971\n"
          ]
        },
        {
          "output_type": "display_data",
          "data": {
            "text/plain": [
              "<Figure size 432x288 with 2 Axes>"
            ],
            "image/png": "[encoded data removed]"
          },
          "metadata": {
            "needs_background": "light"
          }
        },
        {
          "output_type": "display_data",
          "data": {
            "text/plain": [
              "<Figure size 432x288 with 2 Axes>"
            ],
            "image/png": "[encoded data removed]"
          },
          "metadata": {
            "needs_background": "light"
          }
        }
      ]
    },
    {
      "cell_type": "markdown",
      "source": [
        "Os resultados dos modelos utilizando a base de dados com One-Hot Encoding + Oversampling se mostraram também muito bons. \n",
        "\n",
        "Em comparação com a base com Label Enconding + Oversampling, as métricas para o **Random Forest** foram até **maiores** para o caso do One-Hot Encoding, com **destaque para o Recall**, que atingiu **0,90** (contra 0,86 na base com Label Encoding), ou seja, ele conseguiu acertar mais e melhor quem irá cancelar o plano. No caso do SVC, os resultados foram semelhantes para ambos os enconding.\n",
        "\n",
        "Como essa parte do One-Hot Encoding foi **feita com pressa**, pode ser que eu tenha errado em algum passo, pois copiei e colei muito código. Por esse motivo, vou optar por **manter os dados com o Label Encoding** para a otimização do modelo do Random Forest."
      ],
      "metadata": {
        "id": "G7WKA3YEXdIR"
      }
    }
  ]
}