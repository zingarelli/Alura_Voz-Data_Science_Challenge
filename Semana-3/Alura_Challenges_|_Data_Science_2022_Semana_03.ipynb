{
  "nbformat": 4,
  "nbformat_minor": 0,
  "metadata": {
    "colab": {
      "name": "Alura Challenges | Data Science 2022 - Semana 03.ipynb",
      "provenance": [],
      "collapsed_sections": [],
      "toc_visible": true,
      "authorship_tag": "ABX9TyODUtjsn8MLTCS9bEgcC1jZ",
      "include_colab_link": true
    },
    "kernelspec": {
      "name": "python3",
      "display_name": "Python 3"
    },
    "language_info": {
      "name": "python"
    }
  },
  "cells": [
    {
      "cell_type": "markdown",
      "metadata": {
        "id": "view-in-github",
        "colab_type": "text"
      },
      "source": [
        "<a href=\"https://colab.research.google.com/github/zingarelli/alura-challenges-data-science-2022/blob/main/Semana-3/Alura_Challenges_%7C_Data_Science_2022_Semana_03.ipynb\" target=\"_parent\"><img src=\"https://colab.research.google.com/assets/colab-badge.svg\" alt=\"Open In Colab\"/></a>"
      ]
    },
    {
      "cell_type": "markdown",
      "source": [
        "# Análise de *Churn Rate* | Alura Voz\n",
        "\n",
        "Este notebook é a finalização do trabalho feito na [Semana 1](https://github.com/zingarelli/alura-challenges-data-science-2022/tree/main/Semana-1) e na [Semana 2](https://github.com/zingarelli/alura-challenges-data-science-2022/tree/main/Semana-2), cujo objetivo é auxiliar a empresa Alura Voz a reduzir o *Churn Rate* de clientes, isto é, a taxa de evasão de clientes (aqueles que cancelam o plano de Telefone/Internet/Vídeo)."
      ],
      "metadata": {
        "id": "jk6pnVdPRarV"
      }
    },
    {
      "cell_type": "markdown",
      "source": [
        "## Resumo das Semanas 1 e 2\n",
        "\n",
        "A primeira semana foi dedicada a limpar a base de dados fornecida pela Alura Voz e também adaptá-la do inglês para o português. Uma nova coluna também foi criada, com informações sobre o gasto diário aproximado de cada cliente da base. \n",
        "\n",
        "A [base original está disponível online](https://raw.githubusercontent.com/sthemonica/alura-voz/main/Dados/Telco-Customer-Churn.json), bem como seu [dicionário de dados](https://github.com/sthemonica/alura-voz/blob/main/dicionario.md). \n",
        "\n",
        "Na segunda semana, foi feita a análise gráfica da base, visualizando o *target*, no caso, a coluna de Churn (chamada de `cancelou_plano`), e cruzando seus dados com os de outras colunas da base, procurando buscar relações e tendências que pudessem ver vistas visualmente. As conclusões baseadas nessa análise gráfica serão utilizadas nesta parte final do projeto."
      ],
      "metadata": {
        "id": "T_1t-wIPRyJf"
      }
    },
    {
      "cell_type": "markdown",
      "source": [
        "## Semana 3 - Modelagem\n",
        "\n",
        "Para esta semana final, serão criados dois modelos de Machine Learning para classificar os clientes entre aqueles que talvez venham a cancelar seus planos. As features que serão utilizadas nos modelos são baseadas nas conclusões obtidas na Semana 2. Por exemplo: foi visto que os cancelamentos se concentravam em clientes novos, bem como em planos mais caros. Dentre outras relações observadas.\n",
        "\n",
        "Há também uma análise de balanceamento do target e de duas estratégias para tratar o desbalanceamento: oversampling (com SMOTE) e undersampling (com Near Miss).\n",
        "\n",
        "Os dois modelos serão comparados com métricas de Acurácia, Precisão, Recall e F1, além de uma análise visual com Matriz de Confusão. Para o modelo que se sair melhor, será feita uma otimização dos parâmetros, em busca de melhoria nas métricas. "
      ],
      "metadata": {
        "id": "ypJ6ygW2TDP4"
      }
    },
    {
      "cell_type": "markdown",
      "source": [
        "#Configurações e imports"
      ],
      "metadata": {
        "id": "gqYN-Q8sylo1"
      }
    },
    {
      "cell_type": "code",
      "source": [
        "# biblioteca para balanceamento da target Churn\n",
        "!pip install -U imbalanced-learn"
      ],
      "metadata": {
        "colab": {
          "base_uri": "https://localhost:8080/"
        },
        "id": "7jXiE5xh2JQm",
        "outputId": "021a9d5f-aa71-42ee-b63c-be06814aceb9"
      },
      "execution_count": 41,
      "outputs": [
        {
          "output_type": "stream",
          "name": "stdout",
          "text": [
            "Looking in indexes: https://pypi.org/simple, https://us-python.pkg.dev/colab-wheels/public/simple/\n",
            "Requirement already satisfied: imbalanced-learn in /usr/local/lib/python3.7/dist-packages (0.9.0)\n",
            "Collecting imbalanced-learn\n",
            "  Using cached imbalanced_learn-0.9.1-py3-none-any.whl (199 kB)\n",
            "Requirement already satisfied: numpy>=1.14.6 in /usr/local/lib/python3.7/dist-packages (from imbalanced-learn) (1.21.6)\n",
            "Requirement already satisfied: scikit-learn>=1.0.1 in /usr/local/lib/python3.7/dist-packages (from imbalanced-learn) (1.0.2)\n",
            "Requirement already satisfied: scipy>=1.1.0 in /usr/local/lib/python3.7/dist-packages (from imbalanced-learn) (1.4.1)\n",
            "Requirement already satisfied: threadpoolctl>=2.0.0 in /usr/local/lib/python3.7/dist-packages (from imbalanced-learn) (3.1.0)\n",
            "Requirement already satisfied: joblib>=0.11 in /usr/local/lib/python3.7/dist-packages (from imbalanced-learn) (1.1.0)\n"
          ]
        }
      ]
    },
    {
      "cell_type": "code",
      "source": [
        "import pandas as pd\n",
        "import numpy as np\n",
        "import matplotlib.pyplot as plt\n",
        "\n",
        "# para o One-Hot Encoding das variáveis categóricas\n",
        "from sklearn.preprocessing import OneHotEncoder\n",
        "\n",
        "# para balanceamento do target\n",
        "from imblearn.over_sampling import SMOTE\n",
        "from imblearn.under_sampling import NearMiss\n",
        "\n",
        "# para criação e validação dos modelos de machine learn\n",
        "from sklearn.model_selection import train_test_split\n",
        "from sklearn import metrics \n",
        "from sklearn.ensemble import RandomForestClassifier\n",
        "from sklearn.svm import SVC\n",
        "\n",
        "# semente para garantir a replicabilidade do código\n",
        "SEED = 12\n",
        "\n",
        "pd.set_option('display.max_columns', 22)"
      ],
      "metadata": {
        "id": "2HN8jZKuimyo"
      },
      "execution_count": 42,
      "outputs": []
    },
    {
      "cell_type": "code",
      "source": [
        "# leitura da base tratada na Semana 1\n",
        "df = pd.read_csv('https://raw.githubusercontent.com/zingarelli/alura-challenges-data-science-2022/main/Semana-1/analise_semana_1.csv')\n",
        "df.info()"
      ],
      "metadata": {
        "id": "gfh81cUEjEGA",
        "colab": {
          "base_uri": "https://localhost:8080/"
        },
        "outputId": "7929975f-b28b-497a-ae43-255bd6083178"
      },
      "execution_count": 43,
      "outputs": [
        {
          "output_type": "stream",
          "name": "stdout",
          "text": [
            "<class 'pandas.core.frame.DataFrame'>\n",
            "RangeIndex: 7043 entries, 0 to 7042\n",
            "Data columns (total 22 columns):\n",
            " #   Column                          Non-Null Count  Dtype  \n",
            "---  ------                          --------------  -----  \n",
            " 0   cliente_ID                      7043 non-null   object \n",
            " 1   cancelou_plano                  7043 non-null   object \n",
            " 2   genero                          7043 non-null   object \n",
            " 3   maior_65_anos                   7043 non-null   int64  \n",
            " 4   possui_companheiro_companheira  7043 non-null   object \n",
            " 5   possui_dependentes              7043 non-null   object \n",
            " 6   meses_contrato                  7043 non-null   int64  \n",
            " 7   assina_telefone                 7043 non-null   object \n",
            " 8   multiplas_linhas_telefonicas    7043 non-null   object \n",
            " 9   tipo_assinatura_internet        7043 non-null   object \n",
            " 10  adicional_seguranca_online      7043 non-null   object \n",
            " 11  adicional_backup_online         7043 non-null   object \n",
            " 12  adicional_protecao_dispositivo  7043 non-null   object \n",
            " 13  adicional_suporte_VIP           7043 non-null   object \n",
            " 14  assina_TV_cabo                  7043 non-null   object \n",
            " 15  assina_streaming_filmes         7043 non-null   object \n",
            " 16  plano_contratado                7043 non-null   object \n",
            " 17  fatura_online                   7043 non-null   object \n",
            " 18  forma_pagamento                 7043 non-null   object \n",
            " 19  gasto_diario                    7043 non-null   float64\n",
            " 20  gasto_mensal                    7043 non-null   float64\n",
            " 21  gasto_total                     7043 non-null   float64\n",
            "dtypes: float64(3), int64(2), object(17)\n",
            "memory usage: 1.2+ MB\n"
          ]
        }
      ]
    },
    {
      "cell_type": "markdown",
      "source": [
        "# Encoding das variáveis categóricas\n",
        "\n",
        "Existem muitas colunas na base com dtype `object` (colunas categóricas). Elas precisarão ser alteradas para valores numéricos, de modo a poderem ser utilizadas nos modelos de Machine Learning. \n",
        "\n",
        "Há diferentes formas de se fazer isso. Escolhi a mais simples, que seria o Label Encoding. Posteriormente, decidi testar o One-Hot Encoding, mas tive que adaptar parte do código para que ele rodasse."
      ],
      "metadata": {
        "id": "_NdDjq-r5mGr"
      }
    },
    {
      "cell_type": "markdown",
      "source": [
        "## Label Encoding\n",
        "\n",
        "Esse método foi utilizado e testado na Semana 2, então decidi replicá-lo para esta semana."
      ],
      "metadata": {
        "id": "dsgrHTIqPKPC"
      }
    },
    {
      "cell_type": "code",
      "source": [
        "# função que transforma os valores categóricos de uma coluna em valores numéricos\n",
        "def label_encoding(categorical_col):\n",
        "  # altera o tipo de \"object\" para o tipo \"category\"\n",
        "  encode = categorical_col.astype('category')\n",
        "\n",
        "  # atribui a cada categoria um valor numérico diferente\n",
        "  return encode.cat.codes"
      ],
      "metadata": {
        "id": "QhNk9QWT5qi7"
      },
      "execution_count": 44,
      "outputs": []
    },
    {
      "cell_type": "code",
      "source": [
        "# copiando a base de dados para ter um backup da base original\n",
        "df_encoded = df.copy()\n",
        "\n",
        "# colunas categóricas (sem o \"cliente_ID\", pois não será utilizada)\n",
        "cat_columns = ['cancelou_plano', 'genero', 'possui_companheiro_companheira', \n",
        "               'possui_dependentes', 'assina_telefone', 'multiplas_linhas_telefonicas',\n",
        "               'tipo_assinatura_internet', 'adicional_seguranca_online',\n",
        "               'adicional_backup_online', 'adicional_protecao_dispositivo',\n",
        "               'adicional_suporte_VIP', 'assina_TV_cabo', 'assina_streaming_filmes',\n",
        "               'plano_contratado', 'fatura_online', 'forma_pagamento']\n",
        "\n",
        "# aplicando o label encoding\n",
        "for col in cat_columns:\n",
        "  df_encoded[col] = label_encoding(df_encoded[col])\n",
        "\n",
        "df_encoded.info()"
      ],
      "metadata": {
        "colab": {
          "base_uri": "https://localhost:8080/"
        },
        "id": "qtWHHzil5qV7",
        "outputId": "28ad6eb8-d2c6-46d9-d885-ff87c8f3035c"
      },
      "execution_count": 45,
      "outputs": [
        {
          "output_type": "stream",
          "name": "stdout",
          "text": [
            "<class 'pandas.core.frame.DataFrame'>\n",
            "RangeIndex: 7043 entries, 0 to 7042\n",
            "Data columns (total 22 columns):\n",
            " #   Column                          Non-Null Count  Dtype  \n",
            "---  ------                          --------------  -----  \n",
            " 0   cliente_ID                      7043 non-null   object \n",
            " 1   cancelou_plano                  7043 non-null   int8   \n",
            " 2   genero                          7043 non-null   int8   \n",
            " 3   maior_65_anos                   7043 non-null   int64  \n",
            " 4   possui_companheiro_companheira  7043 non-null   int8   \n",
            " 5   possui_dependentes              7043 non-null   int8   \n",
            " 6   meses_contrato                  7043 non-null   int64  \n",
            " 7   assina_telefone                 7043 non-null   int8   \n",
            " 8   multiplas_linhas_telefonicas    7043 non-null   int8   \n",
            " 9   tipo_assinatura_internet        7043 non-null   int8   \n",
            " 10  adicional_seguranca_online      7043 non-null   int8   \n",
            " 11  adicional_backup_online         7043 non-null   int8   \n",
            " 12  adicional_protecao_dispositivo  7043 non-null   int8   \n",
            " 13  adicional_suporte_VIP           7043 non-null   int8   \n",
            " 14  assina_TV_cabo                  7043 non-null   int8   \n",
            " 15  assina_streaming_filmes         7043 non-null   int8   \n",
            " 16  plano_contratado                7043 non-null   int8   \n",
            " 17  fatura_online                   7043 non-null   int8   \n",
            " 18  forma_pagamento                 7043 non-null   int8   \n",
            " 19  gasto_diario                    7043 non-null   float64\n",
            " 20  gasto_mensal                    7043 non-null   float64\n",
            " 21  gasto_total                     7043 non-null   float64\n",
            "dtypes: float64(3), int64(2), int8(16), object(1)\n",
            "memory usage: 440.3+ KB\n"
          ]
        }
      ]
    },
    {
      "cell_type": "markdown",
      "source": [
        "## One-Hot Encoding\n",
        "\n",
        "Rever curso Kaggle: https://www.kaggle.com/code/alexisbcook/categorical-variables\n"
      ],
      "metadata": {
        "id": "cYUZVkoXEZXN"
      }
    },
    {
      "cell_type": "markdown",
      "source": [
        "**Atenção!**\n",
        "\n",
        "Essa parte do código foi feita após a criação dos modelos e métricas, então sua aplicação não está bonita no código. Infelizmente, seria necessário refatorar muita coisa para ela ser aplicada. \n",
        "\n",
        "TO DO: Refatorar o projeto para poder escolher entre os dois encodings (label encoding ou OH encoding)\n",
        "\n",
        "No caso do One-Hot Encoding, eu criei uma função, a ser chamada no momento de utilização dos modelos, quando as features que farão parte do modelo já foram escolhidas. O motivo disso é que o One-Hot Encoding cria colunas a mais e assim se perde o nome de cada coluna (cada coluna ganha um valor numérico sequencial). Não sei se existe algum parâmetro que poderia alterar isso e criar nomes mais representativos para as colunas. -> existe o `get_dummies()`, que faz algo semelhante sem perder o significado do nome das colunas: https://pandas.pydata.org/docs/reference/api/pandas.get_dummies.html"
      ],
      "metadata": {
        "id": "dSLeV19BHTFi"
      }
    },
    {
      "cell_type": "code",
      "source": [
        "def OH_encode(data, features):\n",
        "  # criando o encoder\n",
        "  OH_encoder = OneHotEncoder(handle_unknown='ignore', sparse=False)\n",
        "\n",
        "  # criando um dataframe com o One-Hot Encoding aplicado\n",
        "  OH_columns = pd.DataFrame(OH_encoder.fit_transform(data[features]))\n",
        "\n",
        "  # copiando o dataframe sem as colunas que foram codificadas\n",
        "  df_copy = data.drop(features, axis=1)\n",
        "\n",
        "  # concatenando as colunas codificadas\n",
        "  return pd.concat([df_copy, OH_columns], axis=1)"
      ],
      "metadata": {
        "id": "MaDKEyuXFpiq"
      },
      "execution_count": 46,
      "outputs": []
    },
    {
      "cell_type": "code",
      "source": [
        "# teste da função\n",
        "# features = ['genero', 'maior_65_anos', 'plano_contratado', 'fatura_online', 'forma_pagamento']\n",
        "# df_OH_encoded = OH_encode(df, features)\n",
        "# print(df_OH_encoded.shape)\n",
        "# df_OH_encoded.head()"
      ],
      "metadata": {
        "id": "Iy5yZzz0FpXL"
      },
      "execution_count": 47,
      "outputs": []
    },
    {
      "cell_type": "markdown",
      "source": [
        "# Verificar se a variável target `Churn` está desbalanceada\n",
        "\n",
        "Ver artigo: https://www.alura.com.br/artigos/lidando-com-desbalanceamento-dados\n",
        "\n",
        "Ver documentação: https://imbalanced-learn.org/stable/introduction.html\n",
        "\n",
        "Ver treinamento da Sthe: https://cursos.alura.com.br/course/modelos-preditivos-dados-deteccao-fraude/task/106523"
      ],
      "metadata": {
        "id": "_LKA1oDY5pml"
      }
    },
    {
      "cell_type": "code",
      "source": [
        "# armazenando os dados de cancelamento do plano em uma variável chamada churn\n",
        "churn = df_encoded['cancelou_plano']\n",
        "\n",
        "# separando entre clientes que estão ativos e aqueles que cancelaram o plano (former_customer)\n",
        "# lembrando que o \"Sim\" significa que o cliente cancelou o plano\n",
        "active_customers = (churn == 0).sum()\n",
        "former_customers = (churn == 1).sum()\n",
        "total_customers = len(churn)\n",
        "\n",
        "print(f'Total de planos: {total_customers}')\n",
        "print(f'Planos ativos: {active_customers}, {round(active_customers/total_customers*100, 2)}% do total')\n",
        "print(f'Planos cancelados: {former_customers}, {round(former_customers/total_customers*100, 2)}% do total')"
      ],
      "metadata": {
        "colab": {
          "base_uri": "https://localhost:8080/"
        },
        "id": "Xut3UH3GyW_T",
        "outputId": "a9becf9c-78aa-4ad7-d94a-977a10cbceee"
      },
      "execution_count": 48,
      "outputs": [
        {
          "output_type": "stream",
          "name": "stdout",
          "text": [
            "Total de planos: 7043\n",
            "Planos ativos: 5174, 73.46% do total\n",
            "Planos cancelados: 1869, 26.54% do total\n"
          ]
        }
      ]
    },
    {
      "cell_type": "markdown",
      "source": [
        "Cerca de pouco mais de **um quarto da base** é formado por pessoas que **cancelaram** o plano (valor `1` na base), e o restante, de pessoas que mantiveram o plano (valor `0` na base). Isso faz com que a variável **target esteja desbalanceada**, o que pode **prejudicar** na criação dos modelos de Machine Learning. \n",
        "\n",
        "Desse modo, antes de criar os modelos é necessário fazer um balanceamento do target. \n",
        "\n",
        "Isso pode ser feito por meio do **oversampling**, isto é, criação de **novos dados (sintéticos) para aumentar** a quantidade de valores 1 na variável `cancelou_plano`, ou por meio do **undersampling**, isto é, selecionando na base **apenas alguns de registros** que possuam o valor 0 em `cancelou_plano`. Em ambas as estratégias, o objetivo e ter uma quantidade equivalente de registros com os valores 0 e 1."
      ],
      "metadata": {
        "id": "NliC0Y5pzEW9"
      }
    },
    {
      "cell_type": "markdown",
      "source": [
        "## Estratégia de balanceamento 1: Oversampling\n",
        "Utilizando o algoritmo SMOTE (KNN) para cópia de dados"
      ],
      "metadata": {
        "id": "GAFx1aAe1pQ2"
      }
    },
    {
      "cell_type": "code",
      "source": [
        "# aplicando o random_state para garantir a replicabilidade do código\n",
        "smote = SMOTE(random_state = SEED)\n",
        "\n",
        "# separando as variáveis de treino e target\n",
        "# client_ID também foi removida, pois não será necessária\n",
        "x = df_encoded.drop(['cancelou_plano', 'cliente_ID'], axis=1)\n",
        "y = df_encoded['cancelou_plano']  \n",
        "\n",
        "# aplicando a SMOTE e salvando os novos dados criados\n",
        "x_oversmp, y_oversmp = smote.fit_resample(x, y)"
      ],
      "metadata": {
        "id": "ZR59b7bn1wH-"
      },
      "execution_count": 49,
      "outputs": []
    },
    {
      "cell_type": "code",
      "source": [
        "# criando a base balanceada com oversampling\n",
        "df_oversmp = pd.concat([y_oversmp, x_oversmp], axis=1)\n",
        "df_oversmp.sample(5)"
      ],
      "metadata": {
        "colab": {
          "base_uri": "https://localhost:8080/",
          "height": 270
        },
        "id": "NWGkU1pC8ap5",
        "outputId": "c52bd6ce-45b1-4c8b-bcf9-ba291753f557"
      },
      "execution_count": 50,
      "outputs": [
        {
          "output_type": "execute_result",
          "data": {
            "text/plain": [
              "       cancelou_plano  genero  maior_65_anos  possui_companheiro_companheira  \\\n",
              "3157                0       1              1                               1   \n",
              "9456                1       0              0                               0   \n",
              "10008               1       0              0                               1   \n",
              "8315                1       0              0                               0   \n",
              "3656                0       1              0                               1   \n",
              "\n",
              "       possui_dependentes  meses_contrato  assina_telefone  \\\n",
              "3157                    0              25                1   \n",
              "9456                    0              41                0   \n",
              "10008                   0              20                1   \n",
              "8315                    0               1                1   \n",
              "3656                    0              72                1   \n",
              "\n",
              "       multiplas_linhas_telefonicas  tipo_assinatura_internet  \\\n",
              "3157                              0                         1   \n",
              "9456                              0                         0   \n",
              "10008                             0                         1   \n",
              "8315                              0                         0   \n",
              "3656                              2                         1   \n",
              "\n",
              "       adicional_seguranca_online  adicional_backup_online  \\\n",
              "3157                            0                        2   \n",
              "9456                            0                        0   \n",
              "10008                           0                        0   \n",
              "8315                            2                        1   \n",
              "3656                            0                        2   \n",
              "\n",
              "       adicional_protecao_dispositivo  adicional_suporte_VIP  assina_TV_cabo  \\\n",
              "3157                                2                      0               0   \n",
              "9456                                1                      0               0   \n",
              "10008                               0                      0               0   \n",
              "8315                                0                      0               0   \n",
              "3656                                2                      2               2   \n",
              "\n",
              "       assina_streaming_filmes  plano_contratado  fatura_online  \\\n",
              "3157                         2                 1              0   \n",
              "9456                         0                 0              0   \n",
              "10008                        0                 1              1   \n",
              "8315                         0                 1              1   \n",
              "3656                         2                 2              1   \n",
              "\n",
              "       forma_pagamento  gasto_diario  gasto_mensal  gasto_total  \n",
              "3157                 3      2.950000     88.400000  2191.150000  \n",
              "9456                 0      0.958492     28.860518  1127.644969  \n",
              "10008                1      2.317583     69.574734  1473.413711  \n",
              "8315                 1      1.817428     54.501881    54.501881  \n",
              "3656                 3      3.620000    108.500000  8003.800000  "
            ],
            "text/html": [
              "\n",
              "  <div id=\"df-ee9f31f8-c928-40b0-9bf4-99954c2e09d6\">\n",
              "    <div class=\"colab-df-container\">\n",
              "      <div>\n",
              "<style scoped>\n",
              "    .dataframe tbody tr th:only-of-type {\n",
              "        vertical-align: middle;\n",
              "    }\n",
              "\n",
              "    .dataframe tbody tr th {\n",
              "        vertical-align: top;\n",
              "    }\n",
              "\n",
              "    .dataframe thead th {\n",
              "        text-align: right;\n",
              "    }\n",
              "</style>\n",
              "<table border=\"1\" class=\"dataframe\">\n",
              "  <thead>\n",
              "    <tr style=\"text-align: right;\">\n",
              "      <th></th>\n",
              "      <th>cancelou_plano</th>\n",
              "      <th>genero</th>\n",
              "      <th>maior_65_anos</th>\n",
              "      <th>possui_companheiro_companheira</th>\n",
              "      <th>possui_dependentes</th>\n",
              "      <th>meses_contrato</th>\n",
              "      <th>assina_telefone</th>\n",
              "      <th>multiplas_linhas_telefonicas</th>\n",
              "      <th>tipo_assinatura_internet</th>\n",
              "      <th>adicional_seguranca_online</th>\n",
              "      <th>adicional_backup_online</th>\n",
              "      <th>adicional_protecao_dispositivo</th>\n",
              "      <th>adicional_suporte_VIP</th>\n",
              "      <th>assina_TV_cabo</th>\n",
              "      <th>assina_streaming_filmes</th>\n",
              "      <th>plano_contratado</th>\n",
              "      <th>fatura_online</th>\n",
              "      <th>forma_pagamento</th>\n",
              "      <th>gasto_diario</th>\n",
              "      <th>gasto_mensal</th>\n",
              "      <th>gasto_total</th>\n",
              "    </tr>\n",
              "  </thead>\n",
              "  <tbody>\n",
              "    <tr>\n",
              "      <th>3157</th>\n",
              "      <td>0</td>\n",
              "      <td>1</td>\n",
              "      <td>1</td>\n",
              "      <td>1</td>\n",
              "      <td>0</td>\n",
              "      <td>25</td>\n",
              "      <td>1</td>\n",
              "      <td>0</td>\n",
              "      <td>1</td>\n",
              "      <td>0</td>\n",
              "      <td>2</td>\n",
              "      <td>2</td>\n",
              "      <td>0</td>\n",
              "      <td>0</td>\n",
              "      <td>2</td>\n",
              "      <td>1</td>\n",
              "      <td>0</td>\n",
              "      <td>3</td>\n",
              "      <td>2.950000</td>\n",
              "      <td>88.400000</td>\n",
              "      <td>2191.150000</td>\n",
              "    </tr>\n",
              "    <tr>\n",
              "      <th>9456</th>\n",
              "      <td>1</td>\n",
              "      <td>0</td>\n",
              "      <td>0</td>\n",
              "      <td>0</td>\n",
              "      <td>0</td>\n",
              "      <td>41</td>\n",
              "      <td>0</td>\n",
              "      <td>0</td>\n",
              "      <td>0</td>\n",
              "      <td>0</td>\n",
              "      <td>0</td>\n",
              "      <td>1</td>\n",
              "      <td>0</td>\n",
              "      <td>0</td>\n",
              "      <td>0</td>\n",
              "      <td>0</td>\n",
              "      <td>0</td>\n",
              "      <td>0</td>\n",
              "      <td>0.958492</td>\n",
              "      <td>28.860518</td>\n",
              "      <td>1127.644969</td>\n",
              "    </tr>\n",
              "    <tr>\n",
              "      <th>10008</th>\n",
              "      <td>1</td>\n",
              "      <td>0</td>\n",
              "      <td>0</td>\n",
              "      <td>1</td>\n",
              "      <td>0</td>\n",
              "      <td>20</td>\n",
              "      <td>1</td>\n",
              "      <td>0</td>\n",
              "      <td>1</td>\n",
              "      <td>0</td>\n",
              "      <td>0</td>\n",
              "      <td>0</td>\n",
              "      <td>0</td>\n",
              "      <td>0</td>\n",
              "      <td>0</td>\n",
              "      <td>1</td>\n",
              "      <td>1</td>\n",
              "      <td>1</td>\n",
              "      <td>2.317583</td>\n",
              "      <td>69.574734</td>\n",
              "      <td>1473.413711</td>\n",
              "    </tr>\n",
              "    <tr>\n",
              "      <th>8315</th>\n",
              "      <td>1</td>\n",
              "      <td>0</td>\n",
              "      <td>0</td>\n",
              "      <td>0</td>\n",
              "      <td>0</td>\n",
              "      <td>1</td>\n",
              "      <td>1</td>\n",
              "      <td>0</td>\n",
              "      <td>0</td>\n",
              "      <td>2</td>\n",
              "      <td>1</td>\n",
              "      <td>0</td>\n",
              "      <td>0</td>\n",
              "      <td>0</td>\n",
              "      <td>0</td>\n",
              "      <td>1</td>\n",
              "      <td>1</td>\n",
              "      <td>1</td>\n",
              "      <td>1.817428</td>\n",
              "      <td>54.501881</td>\n",
              "      <td>54.501881</td>\n",
              "    </tr>\n",
              "    <tr>\n",
              "      <th>3656</th>\n",
              "      <td>0</td>\n",
              "      <td>1</td>\n",
              "      <td>0</td>\n",
              "      <td>1</td>\n",
              "      <td>0</td>\n",
              "      <td>72</td>\n",
              "      <td>1</td>\n",
              "      <td>2</td>\n",
              "      <td>1</td>\n",
              "      <td>0</td>\n",
              "      <td>2</td>\n",
              "      <td>2</td>\n",
              "      <td>2</td>\n",
              "      <td>2</td>\n",
              "      <td>2</td>\n",
              "      <td>2</td>\n",
              "      <td>1</td>\n",
              "      <td>3</td>\n",
              "      <td>3.620000</td>\n",
              "      <td>108.500000</td>\n",
              "      <td>8003.800000</td>\n",
              "    </tr>\n",
              "  </tbody>\n",
              "</table>\n",
              "</div>\n",
              "      <button class=\"colab-df-convert\" onclick=\"convertToInteractive('df-ee9f31f8-c928-40b0-9bf4-99954c2e09d6')\"\n",
              "              title=\"Convert this dataframe to an interactive table.\"\n",
              "              style=\"display:none;\">\n",
              "        \n",
              "  <svg xmlns=\"http://www.w3.org/2000/svg\" height=\"24px\"viewBox=\"0 0 24 24\"\n",
              "       width=\"24px\">\n",
              "    <path d=\"M0 0h24v24H0V0z\" fill=\"none\"/>\n",
              "    <path d=\"M18.56 5.44l.94 2.06.94-2.06 2.06-.94-2.06-.94-.94-2.06-.94 2.06-2.06.94zm-11 1L8.5 8.5l.94-2.06 2.06-.94-2.06-.94L8.5 2.5l-.94 2.06-2.06.94zm10 10l.94 2.06.94-2.06 2.06-.94-2.06-.94-.94-2.06-.94 2.06-2.06.94z\"/><path d=\"M17.41 7.96l-1.37-1.37c-.4-.4-.92-.59-1.43-.59-.52 0-1.04.2-1.43.59L10.3 9.45l-7.72 7.72c-.78.78-.78 2.05 0 2.83L4 21.41c.39.39.9.59 1.41.59.51 0 1.02-.2 1.41-.59l7.78-7.78 2.81-2.81c.8-.78.8-2.07 0-2.86zM5.41 20L4 18.59l7.72-7.72 1.47 1.35L5.41 20z\"/>\n",
              "  </svg>\n",
              "      </button>\n",
              "      \n",
              "  <style>\n",
              "    .colab-df-container {\n",
              "      display:flex;\n",
              "      flex-wrap:wrap;\n",
              "      gap: 12px;\n",
              "    }\n",
              "\n",
              "    .colab-df-convert {\n",
              "      background-color: #E8F0FE;\n",
              "      border: none;\n",
              "      border-radius: 50%;\n",
              "      cursor: pointer;\n",
              "      display: none;\n",
              "      fill: #1967D2;\n",
              "      height: 32px;\n",
              "      padding: 0 0 0 0;\n",
              "      width: 32px;\n",
              "    }\n",
              "\n",
              "    .colab-df-convert:hover {\n",
              "      background-color: #E2EBFA;\n",
              "      box-shadow: 0px 1px 2px rgba(60, 64, 67, 0.3), 0px 1px 3px 1px rgba(60, 64, 67, 0.15);\n",
              "      fill: #174EA6;\n",
              "    }\n",
              "\n",
              "    [theme=dark] .colab-df-convert {\n",
              "      background-color: #3B4455;\n",
              "      fill: #D2E3FC;\n",
              "    }\n",
              "\n",
              "    [theme=dark] .colab-df-convert:hover {\n",
              "      background-color: #434B5C;\n",
              "      box-shadow: 0px 1px 3px 1px rgba(0, 0, 0, 0.15);\n",
              "      filter: drop-shadow(0px 1px 2px rgba(0, 0, 0, 0.3));\n",
              "      fill: #FFFFFF;\n",
              "    }\n",
              "  </style>\n",
              "\n",
              "      <script>\n",
              "        const buttonEl =\n",
              "          document.querySelector('#df-ee9f31f8-c928-40b0-9bf4-99954c2e09d6 button.colab-df-convert');\n",
              "        buttonEl.style.display =\n",
              "          google.colab.kernel.accessAllowed ? 'block' : 'none';\n",
              "\n",
              "        async function convertToInteractive(key) {\n",
              "          const element = document.querySelector('#df-ee9f31f8-c928-40b0-9bf4-99954c2e09d6');\n",
              "          const dataTable =\n",
              "            await google.colab.kernel.invokeFunction('convertToInteractive',\n",
              "                                                     [key], {});\n",
              "          if (!dataTable) return;\n",
              "\n",
              "          const docLinkHtml = 'Like what you see? Visit the ' +\n",
              "            '<a target=\"_blank\" href=https://colab.research.google.com/notebooks/data_table.ipynb>data table notebook</a>'\n",
              "            + ' to learn more about interactive tables.';\n",
              "          element.innerHTML = '';\n",
              "          dataTable['output_type'] = 'display_data';\n",
              "          await google.colab.output.renderOutput(dataTable, element);\n",
              "          const docLink = document.createElement('div');\n",
              "          docLink.innerHTML = docLinkHtml;\n",
              "          element.appendChild(docLink);\n",
              "        }\n",
              "      </script>\n",
              "    </div>\n",
              "  </div>\n",
              "  "
            ]
          },
          "metadata": {},
          "execution_count": 50
        }
      ]
    },
    {
      "cell_type": "code",
      "source": [
        "# verificando o balanceamento e comparando com a base original\n",
        "print('Tamanho base original: ', df.shape)\n",
        "print('Tamanho base com oversample: ', df_oversmp.shape)\n",
        "print(f'Foram criados {df_oversmp.shape[0] - df.shape[0]} registros sintéticos.')\n",
        "print('Valores de churn:')\n",
        "print(df_oversmp['cancelou_plano'].value_counts())"
      ],
      "metadata": {
        "colab": {
          "base_uri": "https://localhost:8080/"
        },
        "id": "eSZQHYvy886L",
        "outputId": "264400b5-f950-4560-8452-0014ffe8314e"
      },
      "execution_count": 51,
      "outputs": [
        {
          "output_type": "stream",
          "name": "stdout",
          "text": [
            "Tamanho base original:  (7043, 22)\n",
            "Tamanho base com oversample:  (10348, 21)\n",
            "Foram criados 3305 registros sintéticos.\n",
            "Valores de churn:\n",
            "0    5174\n",
            "1    5174\n",
            "Name: cancelou_plano, dtype: int64\n"
          ]
        }
      ]
    },
    {
      "cell_type": "markdown",
      "source": [
        "Com isso, foram adicionados 3305 registros com dados sintéticos, um **incremento de 47%** de registros na base de dados. Não sei se isso é bom ou ruim (minha intuição me diz que é meio preocupante)."
      ],
      "metadata": {
        "id": "Ij5dobzoJRoc"
      }
    },
    {
      "cell_type": "markdown",
      "source": [
        "##Estratégia de balanceamento 2: Undersampling\n",
        "\n",
        "Utilizando o método NearMiss para seleção dos valores"
      ],
      "metadata": {
        "id": "y0Ds-AF21wf2"
      }
    },
    {
      "cell_type": "code",
      "source": [
        "# utilizando o método com os parâmetros padrões\n",
        "nm = NearMiss()\n",
        "\n",
        "# separando target das outras features\n",
        "# client_ID também foi removida, pois não será necessária\n",
        "x = df_encoded.drop(['cancelou_plano', 'cliente_ID'], axis=1)\n",
        "y = df_encoded['cancelou_plano']\n",
        "\n",
        "x_undersmp, y_undersmp = nm.fit_resample(x, y)"
      ],
      "metadata": {
        "id": "u4NYRLQYGiNb"
      },
      "execution_count": 52,
      "outputs": []
    },
    {
      "cell_type": "code",
      "source": [
        "# criando a base balanceada com undersampling\n",
        "df_undersmp = pd.concat([y_undersmp, x_undersmp], axis=1)\n",
        "df_undersmp.sample(5)"
      ],
      "metadata": {
        "colab": {
          "base_uri": "https://localhost:8080/",
          "height": 270
        },
        "id": "X3edwFl7GiKi",
        "outputId": "d30c429b-dc18-40a3-ae91-37db296ffdee"
      },
      "execution_count": 53,
      "outputs": [
        {
          "output_type": "execute_result",
          "data": {
            "text/plain": [
              "      cancelou_plano  genero  maior_65_anos  possui_companheiro_companheira  \\\n",
              "2230               1       0              0                               0   \n",
              "473                0       0              0                               1   \n",
              "2629               1       0              1                               1   \n",
              "3701               1       1              0                               0   \n",
              "1298               0       0              0                               0   \n",
              "\n",
              "      possui_dependentes  meses_contrato  assina_telefone  \\\n",
              "2230                   0              66                1   \n",
              "473                    1              10                1   \n",
              "2629                   0              29                1   \n",
              "3701                   0              39                1   \n",
              "1298                   0              17                1   \n",
              "\n",
              "      multiplas_linhas_telefonicas  tipo_assinatura_internet  \\\n",
              "2230                             0                         1   \n",
              "473                              0                         2   \n",
              "2629                             2                         1   \n",
              "3701                             2                         1   \n",
              "1298                             0                         0   \n",
              "\n",
              "      adicional_seguranca_online  adicional_backup_online  \\\n",
              "2230                           0                        2   \n",
              "473                            1                        1   \n",
              "2629                           0                        0   \n",
              "3701                           0                        2   \n",
              "1298                           2                        2   \n",
              "\n",
              "      adicional_protecao_dispositivo  adicional_suporte_VIP  assina_TV_cabo  \\\n",
              "2230                               2                      0               2   \n",
              "473                                1                      1               1   \n",
              "2629                               2                      0               2   \n",
              "3701                               2                      0               2   \n",
              "1298                               0                      0               0   \n",
              "\n",
              "      assina_streaming_filmes  plano_contratado  fatura_online  \\\n",
              "2230                        2                 1              0   \n",
              "473                         1                 1              1   \n",
              "2629                        2                 1              1   \n",
              "3701                        2                 1              1   \n",
              "1298                        0                 2              0   \n",
              "\n",
              "      forma_pagamento  gasto_diario  gasto_mensal  gasto_total  \n",
              "2230                1          3.32         99.50      6710.50  \n",
              "473                 0          0.67         20.05       218.50  \n",
              "2629                1          3.28         98.50      3004.15  \n",
              "3701                1          3.45        103.45      3994.45  \n",
              "1298                2          1.87         56.10       946.95  "
            ],
            "text/html": [
              "\n",
              "  <div id=\"df-4c02ef93-65f4-4dfe-8192-e8379b2ba5fe\">\n",
              "    <div class=\"colab-df-container\">\n",
              "      <div>\n",
              "<style scoped>\n",
              "    .dataframe tbody tr th:only-of-type {\n",
              "        vertical-align: middle;\n",
              "    }\n",
              "\n",
              "    .dataframe tbody tr th {\n",
              "        vertical-align: top;\n",
              "    }\n",
              "\n",
              "    .dataframe thead th {\n",
              "        text-align: right;\n",
              "    }\n",
              "</style>\n",
              "<table border=\"1\" class=\"dataframe\">\n",
              "  <thead>\n",
              "    <tr style=\"text-align: right;\">\n",
              "      <th></th>\n",
              "      <th>cancelou_plano</th>\n",
              "      <th>genero</th>\n",
              "      <th>maior_65_anos</th>\n",
              "      <th>possui_companheiro_companheira</th>\n",
              "      <th>possui_dependentes</th>\n",
              "      <th>meses_contrato</th>\n",
              "      <th>assina_telefone</th>\n",
              "      <th>multiplas_linhas_telefonicas</th>\n",
              "      <th>tipo_assinatura_internet</th>\n",
              "      <th>adicional_seguranca_online</th>\n",
              "      <th>adicional_backup_online</th>\n",
              "      <th>adicional_protecao_dispositivo</th>\n",
              "      <th>adicional_suporte_VIP</th>\n",
              "      <th>assina_TV_cabo</th>\n",
              "      <th>assina_streaming_filmes</th>\n",
              "      <th>plano_contratado</th>\n",
              "      <th>fatura_online</th>\n",
              "      <th>forma_pagamento</th>\n",
              "      <th>gasto_diario</th>\n",
              "      <th>gasto_mensal</th>\n",
              "      <th>gasto_total</th>\n",
              "    </tr>\n",
              "  </thead>\n",
              "  <tbody>\n",
              "    <tr>\n",
              "      <th>2230</th>\n",
              "      <td>1</td>\n",
              "      <td>0</td>\n",
              "      <td>0</td>\n",
              "      <td>0</td>\n",
              "      <td>0</td>\n",
              "      <td>66</td>\n",
              "      <td>1</td>\n",
              "      <td>0</td>\n",
              "      <td>1</td>\n",
              "      <td>0</td>\n",
              "      <td>2</td>\n",
              "      <td>2</td>\n",
              "      <td>0</td>\n",
              "      <td>2</td>\n",
              "      <td>2</td>\n",
              "      <td>1</td>\n",
              "      <td>0</td>\n",
              "      <td>1</td>\n",
              "      <td>3.32</td>\n",
              "      <td>99.50</td>\n",
              "      <td>6710.50</td>\n",
              "    </tr>\n",
              "    <tr>\n",
              "      <th>473</th>\n",
              "      <td>0</td>\n",
              "      <td>0</td>\n",
              "      <td>0</td>\n",
              "      <td>1</td>\n",
              "      <td>1</td>\n",
              "      <td>10</td>\n",
              "      <td>1</td>\n",
              "      <td>0</td>\n",
              "      <td>2</td>\n",
              "      <td>1</td>\n",
              "      <td>1</td>\n",
              "      <td>1</td>\n",
              "      <td>1</td>\n",
              "      <td>1</td>\n",
              "      <td>1</td>\n",
              "      <td>1</td>\n",
              "      <td>1</td>\n",
              "      <td>0</td>\n",
              "      <td>0.67</td>\n",
              "      <td>20.05</td>\n",
              "      <td>218.50</td>\n",
              "    </tr>\n",
              "    <tr>\n",
              "      <th>2629</th>\n",
              "      <td>1</td>\n",
              "      <td>0</td>\n",
              "      <td>1</td>\n",
              "      <td>1</td>\n",
              "      <td>0</td>\n",
              "      <td>29</td>\n",
              "      <td>1</td>\n",
              "      <td>2</td>\n",
              "      <td>1</td>\n",
              "      <td>0</td>\n",
              "      <td>0</td>\n",
              "      <td>2</td>\n",
              "      <td>0</td>\n",
              "      <td>2</td>\n",
              "      <td>2</td>\n",
              "      <td>1</td>\n",
              "      <td>1</td>\n",
              "      <td>1</td>\n",
              "      <td>3.28</td>\n",
              "      <td>98.50</td>\n",
              "      <td>3004.15</td>\n",
              "    </tr>\n",
              "    <tr>\n",
              "      <th>3701</th>\n",
              "      <td>1</td>\n",
              "      <td>1</td>\n",
              "      <td>0</td>\n",
              "      <td>0</td>\n",
              "      <td>0</td>\n",
              "      <td>39</td>\n",
              "      <td>1</td>\n",
              "      <td>2</td>\n",
              "      <td>1</td>\n",
              "      <td>0</td>\n",
              "      <td>2</td>\n",
              "      <td>2</td>\n",
              "      <td>0</td>\n",
              "      <td>2</td>\n",
              "      <td>2</td>\n",
              "      <td>1</td>\n",
              "      <td>1</td>\n",
              "      <td>1</td>\n",
              "      <td>3.45</td>\n",
              "      <td>103.45</td>\n",
              "      <td>3994.45</td>\n",
              "    </tr>\n",
              "    <tr>\n",
              "      <th>1298</th>\n",
              "      <td>0</td>\n",
              "      <td>0</td>\n",
              "      <td>0</td>\n",
              "      <td>0</td>\n",
              "      <td>0</td>\n",
              "      <td>17</td>\n",
              "      <td>1</td>\n",
              "      <td>0</td>\n",
              "      <td>0</td>\n",
              "      <td>2</td>\n",
              "      <td>2</td>\n",
              "      <td>0</td>\n",
              "      <td>0</td>\n",
              "      <td>0</td>\n",
              "      <td>0</td>\n",
              "      <td>2</td>\n",
              "      <td>0</td>\n",
              "      <td>2</td>\n",
              "      <td>1.87</td>\n",
              "      <td>56.10</td>\n",
              "      <td>946.95</td>\n",
              "    </tr>\n",
              "  </tbody>\n",
              "</table>\n",
              "</div>\n",
              "      <button class=\"colab-df-convert\" onclick=\"convertToInteractive('df-4c02ef93-65f4-4dfe-8192-e8379b2ba5fe')\"\n",
              "              title=\"Convert this dataframe to an interactive table.\"\n",
              "              style=\"display:none;\">\n",
              "        \n",
              "  <svg xmlns=\"http://www.w3.org/2000/svg\" height=\"24px\"viewBox=\"0 0 24 24\"\n",
              "       width=\"24px\">\n",
              "    <path d=\"M0 0h24v24H0V0z\" fill=\"none\"/>\n",
              "    <path d=\"M18.56 5.44l.94 2.06.94-2.06 2.06-.94-2.06-.94-.94-2.06-.94 2.06-2.06.94zm-11 1L8.5 8.5l.94-2.06 2.06-.94-2.06-.94L8.5 2.5l-.94 2.06-2.06.94zm10 10l.94 2.06.94-2.06 2.06-.94-2.06-.94-.94-2.06-.94 2.06-2.06.94z\"/><path d=\"M17.41 7.96l-1.37-1.37c-.4-.4-.92-.59-1.43-.59-.52 0-1.04.2-1.43.59L10.3 9.45l-7.72 7.72c-.78.78-.78 2.05 0 2.83L4 21.41c.39.39.9.59 1.41.59.51 0 1.02-.2 1.41-.59l7.78-7.78 2.81-2.81c.8-.78.8-2.07 0-2.86zM5.41 20L4 18.59l7.72-7.72 1.47 1.35L5.41 20z\"/>\n",
              "  </svg>\n",
              "      </button>\n",
              "      \n",
              "  <style>\n",
              "    .colab-df-container {\n",
              "      display:flex;\n",
              "      flex-wrap:wrap;\n",
              "      gap: 12px;\n",
              "    }\n",
              "\n",
              "    .colab-df-convert {\n",
              "      background-color: #E8F0FE;\n",
              "      border: none;\n",
              "      border-radius: 50%;\n",
              "      cursor: pointer;\n",
              "      display: none;\n",
              "      fill: #1967D2;\n",
              "      height: 32px;\n",
              "      padding: 0 0 0 0;\n",
              "      width: 32px;\n",
              "    }\n",
              "\n",
              "    .colab-df-convert:hover {\n",
              "      background-color: #E2EBFA;\n",
              "      box-shadow: 0px 1px 2px rgba(60, 64, 67, 0.3), 0px 1px 3px 1px rgba(60, 64, 67, 0.15);\n",
              "      fill: #174EA6;\n",
              "    }\n",
              "\n",
              "    [theme=dark] .colab-df-convert {\n",
              "      background-color: #3B4455;\n",
              "      fill: #D2E3FC;\n",
              "    }\n",
              "\n",
              "    [theme=dark] .colab-df-convert:hover {\n",
              "      background-color: #434B5C;\n",
              "      box-shadow: 0px 1px 3px 1px rgba(0, 0, 0, 0.15);\n",
              "      filter: drop-shadow(0px 1px 2px rgba(0, 0, 0, 0.3));\n",
              "      fill: #FFFFFF;\n",
              "    }\n",
              "  </style>\n",
              "\n",
              "      <script>\n",
              "        const buttonEl =\n",
              "          document.querySelector('#df-4c02ef93-65f4-4dfe-8192-e8379b2ba5fe button.colab-df-convert');\n",
              "        buttonEl.style.display =\n",
              "          google.colab.kernel.accessAllowed ? 'block' : 'none';\n",
              "\n",
              "        async function convertToInteractive(key) {\n",
              "          const element = document.querySelector('#df-4c02ef93-65f4-4dfe-8192-e8379b2ba5fe');\n",
              "          const dataTable =\n",
              "            await google.colab.kernel.invokeFunction('convertToInteractive',\n",
              "                                                     [key], {});\n",
              "          if (!dataTable) return;\n",
              "\n",
              "          const docLinkHtml = 'Like what you see? Visit the ' +\n",
              "            '<a target=\"_blank\" href=https://colab.research.google.com/notebooks/data_table.ipynb>data table notebook</a>'\n",
              "            + ' to learn more about interactive tables.';\n",
              "          element.innerHTML = '';\n",
              "          dataTable['output_type'] = 'display_data';\n",
              "          await google.colab.output.renderOutput(dataTable, element);\n",
              "          const docLink = document.createElement('div');\n",
              "          docLink.innerHTML = docLinkHtml;\n",
              "          element.appendChild(docLink);\n",
              "        }\n",
              "      </script>\n",
              "    </div>\n",
              "  </div>\n",
              "  "
            ]
          },
          "metadata": {},
          "execution_count": 53
        }
      ]
    },
    {
      "cell_type": "code",
      "source": [
        "# verificando o balanceamento e comparando com a base original\n",
        "print('Tamanho base original: ', df.shape)\n",
        "print('Tamanho base com undersample: ', df_undersmp.shape)\n",
        "print(f'Foram removidos {df.shape[0] - df_undersmp.shape[0]} registros.')\n",
        "print('Valores de churn:')\n",
        "print(df_undersmp['cancelou_plano'].value_counts())"
      ],
      "metadata": {
        "colab": {
          "base_uri": "https://localhost:8080/"
        },
        "id": "PHkqrNkLIhsA",
        "outputId": "7071f39f-b141-4d2c-a020-f70a700c8657"
      },
      "execution_count": 54,
      "outputs": [
        {
          "output_type": "stream",
          "name": "stdout",
          "text": [
            "Tamanho base original:  (7043, 22)\n",
            "Tamanho base com undersample:  (3738, 21)\n",
            "Foram removidos 3305 registros.\n",
            "Valores de churn:\n",
            "0    1869\n",
            "1    1869\n",
            "Name: cancelou_plano, dtype: int64\n"
          ]
        }
      ]
    },
    {
      "cell_type": "markdown",
      "source": [
        "Com isso, 3305 registros foram removidos para criar a base a ser usada pelo modelo. A base agora tem **53% do tamanho original**. Do mesmo modo como o oversampling, minha intuição também me diz que isso é meio preocupante. \n",
        "\n",
        "Será necessário **testar as duas estratégias**, over e undersampling, nos modelos de Machine Learning para verificar qual delas **produz melhores métricas**."
      ],
      "metadata": {
        "id": "tkvCJZCaKpmO"
      }
    },
    {
      "cell_type": "markdown",
      "source": [
        "# Criação dos modelos de Machine Learning\n",
        "\n",
        "Ver treinamento Sthe: https://cursos.alura.com.br/course/modelos-preditivos-dados-deteccao-fraude/task/106629\n",
        "\n",
        "Rever curso Kaggle: \n",
        "> https://www.kaggle.com/code/dansbecker/your-first-machine-learning-model, \n",
        "\n",
        "> https://www.kaggle.com/code/dansbecker/random-forests\n",
        "\n",
        "Ver código criado na Housing Prices Competition do Kaggle (precisa estar logado): https://www.kaggle.com/code/zingarelli/ml-competitions-first-own-submission\n",
        "\n",
        "Aula de ML da Imersão Dados 4 da Alura (talvez não esteja mais disponível): https://www.youtube.com/watch?v=8VsqXXXHp8U"
      ],
      "metadata": {
        "id": "aGGazgR3B6m2"
      }
    },
    {
      "cell_type": "markdown",
      "source": [
        "Criei algumas funções para etapas que serão utilizadas pelos dois modelos, para evitar repetição de código. Uma função para retornar os dados de treino e teste, e outra para calcular e apresentar os resultados de métricas e a Matriz de Confusão."
      ],
      "metadata": {
        "id": "vOAmAjm9EYTE"
      }
    },
    {
      "cell_type": "code",
      "source": [
        "# função que separa e retorna os dados de treino e teste, baseado nas features escolhidas\n",
        "def get_training_data(data, features):\n",
        "  # separando target e features\n",
        "  y = data['cancelou_plano']\n",
        "  X = data[features]  \n",
        "\n",
        "  # retorna os dados de treino e validação (por padrão 25% dos dados para validação)\n",
        "  return train_test_split(X, y, random_state=SEED)"
      ],
      "metadata": {
        "id": "Bb0qiXLDCk1T"
      },
      "execution_count": 55,
      "outputs": []
    },
    {
      "cell_type": "code",
      "source": [
        "# função que imprime as métricas de acurácia, precisão, recall (sensibilidade), F1\n",
        "# e também faz o plot da matriz de confusão\n",
        "def get_metrics(test, prediction):\n",
        "  # métricas de validação do modelo criado\n",
        "  print('-'*40 + '\\nResultados do Modelo\\n' + '-'*40)\n",
        "  print('Acurácia (acerto geral): ', metrics.accuracy_score(test, prediction))\n",
        "  print('Precisão (acerto de quem cancelou o plano, dentre os positivos reais): ', metrics.precision_score(test, prediction))\n",
        "  print('Recall (acerto de quem cancelou o plano, dentre todos os positivos): ', metrics.recall_score(test, prediction)) \n",
        "  print('F1 (média harmônica precisão e recall): ', metrics.f1_score(test, prediction))\n",
        "\n",
        "  # plot da matriz de confusão\n",
        "  cm = metrics.confusion_matrix(test, prediction)\n",
        "  disp = metrics.ConfusionMatrixDisplay(cm)\n",
        "  disp.plot()"
      ],
      "metadata": {
        "id": "-XTPXef-CkjP"
      },
      "execution_count": 56,
      "outputs": []
    },
    {
      "cell_type": "markdown",
      "source": [
        "## Modelo 1: Random Forest\n",
        "\n",
        "Ver documentação: https://scikit-learn.org/stable/modules/generated/sklearn.ensemble.RandomForestClassifier.html\n",
        "\n",
        "Ver treinamento Sthe: https://cursos.alura.com.br/course/modelos-preditivos-dados-deteccao-fraude/task/106526"
      ],
      "metadata": {
        "id": "7vzBk9gUYfPB"
      }
    },
    {
      "cell_type": "code",
      "source": [
        "# função para criar o modelo e aplicar algumas métricas\n",
        "# data: base de dados\n",
        "# features: colunas a serem consideradas para o treino\n",
        "# n_trees: número de árvores da floresta\n",
        "# depth: faz a \"poda\" das árvores após atingir a profundidade (para evitar overfitting)\n",
        "def random_forest_model(data, features, n_trees=100, depth=5):  \n",
        "  # separando os dados de treino e validação\n",
        "  X_train, X_test, y_train, y_test = get_training_data(data, features)\n",
        "\n",
        "  # criando o modelo e predizendo os resultados de teste\n",
        "  rf = RandomForestClassifier(random_state=SEED, n_estimators=n_trees, max_depth=depth)\n",
        "  rf.fit(X_train, y_train)\n",
        "  y_pred = rf.predict(X_test)\n",
        "\n",
        "  # print das métricas e matriz de confusão\n",
        "  get_metrics(y_test, y_pred)"
      ],
      "metadata": {
        "id": "DmFuDm9YOCoG"
      },
      "execution_count": 57,
      "outputs": []
    },
    {
      "cell_type": "code",
      "source": [
        "# escolhendo algumas colunas para testar o modelo\n",
        "features = ['genero', 'maior_65_anos', 'gasto_mensal', 'meses_contrato']\n",
        "random_forest_model(df_oversmp, features)"
      ],
      "metadata": {
        "colab": {
          "base_uri": "https://localhost:8080/",
          "height": 401
        },
        "id": "18g5v7jky4ah",
        "outputId": "3d2a0981-d644-493d-d20c-99e1da84a0cc"
      },
      "execution_count": 58,
      "outputs": [
        {
          "output_type": "stream",
          "name": "stdout",
          "text": [
            "----------------------------------------\n",
            "Resultados do Modelo\n",
            "----------------------------------------\n",
            "Acurácia (acerto geral):  0.7572477773482799\n",
            "Precisão (acerto de quem cancelou o plano, dentre os positivos reais):  0.7423398328690808\n",
            "Recall (acerto de quem cancelou o plano, dentre todos os positivos):  0.8051359516616314\n",
            "F1 (média harmônica precisão e recall):  0.772463768115942\n"
          ]
        },
        {
          "output_type": "display_data",
          "data": {
            "text/plain": [
              "<Figure size 432x288 with 2 Axes>"
            ],
            "image/png": "[encoded data removed]"
          },
          "metadata": {
            "needs_background": "light"
          }
        }
      ]
    },
    {
      "cell_type": "markdown",
      "source": [
        "## Modelo 2: SVC (Support Vector Classification)\n",
        "\n",
        "Ver documentação: \n",
        "\n",
        "> https://scikit-learn.org/stable/modules/svm.html#\n",
        "\n",
        "> https://scikit-learn.org/stable/modules/generated/sklearn.svm.SVC.html#sklearn.svm.SVC"
      ],
      "metadata": {
        "id": "b3DXHvnOYXND"
      }
    },
    {
      "cell_type": "markdown",
      "source": [
        "TO DO: verificar como alterar os parâmetros para otimizar o modelo"
      ],
      "metadata": {
        "id": "bTGGl383EyiV"
      }
    },
    {
      "cell_type": "code",
      "source": [
        "# função para criar o modelo e aplicar algumas métricas\n",
        "def SVC_model(data, features):\n",
        "  # separando os dados de treino e validação\n",
        "  X_train, X_test, y_train, y_test = get_training_data(data, features)\n",
        "\n",
        "  # criando o modelo e predizendo os resultados de teste\n",
        "  clf = SVC(random_state=SEED)\n",
        "  clf.fit(X_train, y_train)\n",
        "  y_pred = clf.predict(X_test)\n",
        "\n",
        "  # print das métricas e matriz de confusão\n",
        "  get_metrics(y_test, y_pred)"
      ],
      "metadata": {
        "id": "oEfrROIHQgWL"
      },
      "execution_count": 59,
      "outputs": []
    },
    {
      "cell_type": "code",
      "source": [
        "# escolhendo algumas colunas para testar o modelo\n",
        "features = ['genero', 'maior_65_anos', 'gasto_mensal', 'meses_contrato']\n",
        "SVC_model(df_oversmp, features)"
      ],
      "metadata": {
        "colab": {
          "base_uri": "https://localhost:8080/",
          "height": 401
        },
        "id": "2Unul5LWNtN4",
        "outputId": "93ad3c5b-c27f-49da-d579-b9f0c1f750f5"
      },
      "execution_count": 60,
      "outputs": [
        {
          "output_type": "stream",
          "name": "stdout",
          "text": [
            "----------------------------------------\n",
            "Resultados do Modelo\n",
            "----------------------------------------\n",
            "Acurácia (acerto geral):  0.7398531117124082\n",
            "Precisão (acerto de quem cancelou o plano, dentre os positivos reais):  0.7306874557051737\n",
            "Recall (acerto de quem cancelou o plano, dentre todos os positivos):  0.7787009063444109\n",
            "F1 (média harmônica precisão e recall):  0.7539305301645339\n"
          ]
        },
        {
          "output_type": "display_data",
          "data": {
            "text/plain": [
              "<Figure size 432x288 with 2 Axes>"
            ],
            "image/png": "[encoded data removed]"
          },
          "metadata": {
            "needs_background": "light"
          }
        }
      ]
    },
    {
      "cell_type": "markdown",
      "source": [
        "# Análise dos modelos\n",
        "\n",
        "Com os modelos criados, irei verificar como performam para diferentes cenários:\n",
        "\n",
        "1.   Base de dados com Oversampling\n",
        "2.   Base de dados com Undersampling\n",
        "3.   Base de dados original (desbalanceada)\n",
        "\n",
        "Nos três cenários, a base foi codificada utilizando o **Label Encoding**. \n",
        "\n",
        "Optei por aplicar também o One-Hot Encoding, porém fiz isso somente após grande parte do projeto já estar feita baseada no Label Encoding. Padronizar o projeto para poder escolher entre os dois tipos de codificação envolveria refatoração de muito código, o que não vou conseguir fazer para entregar o desafio dentro do prazo. Apesar disso, também testei os dois modelos aplicando o One-Hot Encoding + Oversampling e os resultados são mostrados em uma [seção a parte](#scrollTo=sbX-hMxbUhO5).\n",
        "\n",
        "\n"
      ],
      "metadata": {
        "id": "rnDeeqn9Ym0a"
      }
    },
    {
      "cell_type": "markdown",
      "source": [
        "## Escolha das features\n",
        "Na Semana 2, foi possível analisar algumas variáveis que de alguma forma mostravam uma influência quando comparadas com a variável Churn (`cancelou_plano`). São elas:\n",
        "\n",
        "*   Gasto mensal;\n",
        "*   Senioridade (idade acima ou abaixo de 65 anos);\n",
        "*   Gênero (especificamente para a faixa de 70 a 110 dólares de gastos mensais);\n",
        "*   Meses de contrato;\n",
        "*   Pessoas com ou sem dependentes;\n",
        "*   Tipo de plano contratado.\n",
        "\n",
        "Irei utilizar essas variáveis como as features para o treinamento dos modelos.\n",
        "\n"
      ],
      "metadata": {
        "id": "Rm_LSvdxQ8Pa"
      }
    },
    {
      "cell_type": "code",
      "source": [
        "features = ['gasto_mensal', 'maior_65_anos', 'genero', 'meses_contrato', 'possui_dependentes', 'plano_contratado']"
      ],
      "metadata": {
        "id": "kn9-nF1FStHG"
      },
      "execution_count": 61,
      "outputs": []
    },
    {
      "cell_type": "markdown",
      "source": [
        "## Avaliação com Oversampling"
      ],
      "metadata": {
        "id": "ynfowePaQnwY"
      }
    },
    {
      "cell_type": "code",
      "source": [
        "# Random Forest\n",
        "random_forest_model(df_oversmp, features)"
      ],
      "metadata": {
        "colab": {
          "base_uri": "https://localhost:8080/",
          "height": 401
        },
        "id": "l-WDQ22gTIuR",
        "outputId": "43b71d31-3a0b-4d51-f758-8c0a43e94d0b"
      },
      "execution_count": 62,
      "outputs": [
        {
          "output_type": "stream",
          "name": "stdout",
          "text": [
            "----------------------------------------\n",
            "Resultados do Modelo\n",
            "----------------------------------------\n",
            "Acurácia (acerto geral):  0.7812137611132586\n",
            "Precisão (acerto de quem cancelou o plano, dentre os positivos reais):  0.7483617300131061\n",
            "Recall (acerto de quem cancelou o plano, dentre todos os positivos):  0.8625377643504532\n",
            "F1 (média harmônica precisão e recall):  0.8014035087719299\n"
          ]
        },
        {
          "output_type": "display_data",
          "data": {
            "text/plain": [
              "<Figure size 432x288 with 2 Axes>"
            ],
            "image/png": "[encoded data removed]"
          },
          "metadata": {
            "needs_background": "light"
          }
        }
      ]
    },
    {
      "cell_type": "code",
      "source": [
        "# SVC\n",
        "SVC_model(df_oversmp, features)"
      ],
      "metadata": {
        "colab": {
          "base_uri": "https://localhost:8080/",
          "height": 401
        },
        "id": "MHHrwzR5TSvX",
        "outputId": "a3d8662b-6e9d-481a-a6dc-2de61280e9f2"
      },
      "execution_count": 63,
      "outputs": [
        {
          "output_type": "stream",
          "name": "stdout",
          "text": [
            "----------------------------------------\n",
            "Resultados do Modelo\n",
            "----------------------------------------\n",
            "Acurácia (acerto geral):  0.7413993042133745\n",
            "Precisão (acerto de quem cancelou o plano, dentre os positivos reais):  0.7279053583855254\n",
            "Recall (acerto de quem cancelou o plano, dentre todos os positivos):  0.7900302114803626\n",
            "F1 (média harmônica precisão e recall):  0.7576964867801521\n"
          ]
        },
        {
          "output_type": "display_data",
          "data": {
            "text/plain": [
              "<Figure size 432x288 with 2 Axes>"
            ],
            "image/png": "[encoded data removed]"
          },
          "metadata": {
            "needs_background": "light"
          }
        }
      ]
    },
    {
      "cell_type": "markdown",
      "source": [
        "O modelo de Random Forest apresentou os melhores valores nas quatro métricas utilizadas, apesar de as diferenças na comparação entre as métricas estar na segunda casa decimal. \n",
        "\n",
        "Na matriz de confusão, o Random Forest também teve mais acertos e errou menos nos Falsos Positivos/Negativos, se destacando mais nos acertos de Verdadeiros Positivos (4º quadrante) e na menor quantidade de Falsos Negativos (3º quadrante). Nos outros dois quadrantes, os resultados foram bem próximos nos dois modelos.\n",
        "\n",
        "Neste caso, o **Random Forest** foi o que teve a **melhor performance**, apesar de não ter sido uma diferença tão significativa."
      ],
      "metadata": {
        "id": "OuL68jISThZz"
      }
    },
    {
      "cell_type": "markdown",
      "source": [
        "## Avaliação com Undersampling"
      ],
      "metadata": {
        "id": "qKcToyRKUlsz"
      }
    },
    {
      "cell_type": "code",
      "source": [
        "# Random Forest\n",
        "random_forest_model(df_undersmp, features)"
      ],
      "metadata": {
        "colab": {
          "base_uri": "https://localhost:8080/",
          "height": 401
        },
        "id": "fjrRJY8qUn4W",
        "outputId": "06a8a05e-5984-4021-d55a-c4ddea372ab5"
      },
      "execution_count": 64,
      "outputs": [
        {
          "output_type": "stream",
          "name": "stdout",
          "text": [
            "----------------------------------------\n",
            "Resultados do Modelo\n",
            "----------------------------------------\n",
            "Acurácia (acerto geral):  0.6588235294117647\n",
            "Precisão (acerto de quem cancelou o plano, dentre os positivos reais):  0.6457242582897034\n",
            "Recall (acerto de quem cancelou o plano, dentre todos os positivos):  0.7613168724279835\n",
            "F1 (média harmônica precisão e recall):  0.6987724268177526\n"
          ]
        },
        {
          "output_type": "display_data",
          "data": {
            "text/plain": [
              "<Figure size 432x288 with 2 Axes>"
            ],
            "image/png": "[encoded data removed]"
          },
          "metadata": {
            "needs_background": "light"
          }
        }
      ]
    },
    {
      "cell_type": "code",
      "source": [
        "# SVC\n",
        "SVC_model(df_undersmp, features)"
      ],
      "metadata": {
        "colab": {
          "base_uri": "https://localhost:8080/",
          "height": 401
        },
        "id": "H1R1Je41Un2B",
        "outputId": "f75560dd-3823-4f26-9bf4-9b52878f039e"
      },
      "execution_count": 65,
      "outputs": [
        {
          "output_type": "stream",
          "name": "stdout",
          "text": [
            "----------------------------------------\n",
            "Resultados do Modelo\n",
            "----------------------------------------\n",
            "Acurácia (acerto geral):  0.6598930481283423\n",
            "Precisão (acerto de quem cancelou o plano, dentre os positivos reais):  0.6615384615384615\n",
            "Recall (acerto de quem cancelou o plano, dentre todos os positivos):  0.7078189300411523\n",
            "F1 (média harmônica precisão e recall):  0.68389662027833\n"
          ]
        },
        {
          "output_type": "display_data",
          "data": {
            "text/plain": [
              "<Figure size 432x288 with 2 Axes>"
            ],
            "image/png": "[encoded data removed]"
          },
          "metadata": {
            "needs_background": "light"
          }
        }
      ]
    },
    {
      "cell_type": "markdown",
      "source": [
        "Em ambos os modelos, as **métricas foram piores do que as obtidas com a base com oversampling**. Isso provavelmente aconteceu porque a **quantidade de dados** para o treinamento dos modelos foi **consideravelmente diminuída** (cerca de 53% do tamanho original).\n",
        "\n",
        "A comparação das métricas entre os dois modelos mostraram resultados parecidos, com pouca diferença, sendo que o Recall foi o único que teve alguma diferença maior (0,76 para o Random Forest e 0,71 para o SVC); ainda assim, baixa.\n",
        "\n",
        "A matriz de confusão também trouxe pouca diferença entre os dois modelos, sendo que nos quadrantes 1 e 2 o SVC foi melhor, e nos quadrantes 3 e 4, o Random Forest foi melhor. \n",
        "\n",
        "Neste caso, **não houve diferença significativa** entre os dois modelos. "
      ],
      "metadata": {
        "id": "OMVstcSMWBkD"
      }
    },
    {
      "cell_type": "markdown",
      "source": [
        "## Avaliação com a base desbalanceada"
      ],
      "metadata": {
        "id": "IbJHfxi7YACD"
      }
    },
    {
      "cell_type": "code",
      "source": [
        "# Random Forest\n",
        "random_forest_model(df_encoded, features)"
      ],
      "metadata": {
        "colab": {
          "base_uri": "https://localhost:8080/",
          "height": 404
        },
        "id": "ggqlk0UhYGEa",
        "outputId": "cddcbd5b-a4fb-4f29-fb57-c3d7a5d1925b"
      },
      "execution_count": 66,
      "outputs": [
        {
          "output_type": "stream",
          "name": "stdout",
          "text": [
            "----------------------------------------\n",
            "Resultados do Modelo\n",
            "----------------------------------------\n",
            "Acurácia (acerto geral):  0.7967064168086314\n",
            "Precisão (acerto de quem cancelou o plano, dentre os positivos reais):  0.7116788321167883\n",
            "Recall (acerto de quem cancelou o plano, dentre todos os positivos):  0.41139240506329117\n",
            "F1 (média harmônica precisão e recall):  0.5213903743315508\n"
          ]
        },
        {
          "output_type": "display_data",
          "data": {
            "text/plain": [
              "<Figure size 432x288 with 2 Axes>"
            ],
            "image/png": "[encoded data removed]"
          },
          "metadata": {
            "needs_background": "light"
          }
        }
      ]
    },
    {
      "cell_type": "code",
      "source": [
        "# SVC\n",
        "SVC_model(df_encoded, features)"
      ],
      "metadata": {
        "colab": {
          "base_uri": "https://localhost:8080/",
          "height": 403
        },
        "id": "UNSMwzvYYGCK",
        "outputId": "180d20ef-a4f0-4ca7-fee0-196539762bbe"
      },
      "execution_count": 67,
      "outputs": [
        {
          "output_type": "stream",
          "name": "stdout",
          "text": [
            "----------------------------------------\n",
            "Resultados do Modelo\n",
            "----------------------------------------\n",
            "Acurácia (acerto geral):  0.7915956842703009\n",
            "Precisão (acerto de quem cancelou o plano, dentre os positivos reais):  0.708171206225681\n",
            "Recall (acerto de quem cancelou o plano, dentre todos os positivos):  0.38396624472573837\n",
            "F1 (média harmônica precisão e recall):  0.49794801641586867\n"
          ]
        },
        {
          "output_type": "display_data",
          "data": {
            "text/plain": [
              "<Figure size 432x288 with 2 Axes>"
            ],
            "image/png": "[encoded data removed]"
          },
          "metadata": {
            "needs_background": "light"
          }
        }
      ]
    },
    {
      "cell_type": "markdown",
      "source": [
        "Fiz esta análise para verificar o perigo de uma base desbalanceada.\n",
        "\n",
        "Em ambos os modelos, a acurácia foi até um pouco mais alta do que com a base com oversampling, com a precisão também obtendo valores semelhantes. No entanto, o problema aparece nas métricas de **Recall e F1**, que foram **muito mais baixas** na base de dados desbalanceada (0,41 e 0,52 no Random Forest e 0,38 e 0,50 no SVC, respectivamente). Ou seja, os modelos acertam bem quando preveem se uma pessoa não cancela o plano, mas erram muito ao prever se a pessoa irá cancelar o plano. Isso é **reflexo da base desbalanceada**, cujo apenas 1/4 dos registros é de pessoas que cancelaram o plano.\n",
        "\n",
        "A comparação das métricas e da matriz de confusão entre os dois modelos apresentou resultados parecidos, então, para este caso, n**ão houve diferença significativa** entre os dois modelos."
      ],
      "metadata": {
        "id": "mS4bWy7VYRlv"
      }
    },
    {
      "cell_type": "markdown",
      "source": [
        "## Conclusão\n",
        "\n",
        "A **base com oversampling** teve as melhores métricas e a apresentou a melhor matriz de confusão. \n",
        "\n",
        "Levando em conta esta base, bem como as features escolhidas e a aplicação dos modelos com os parâmetros padrões, dentre os dois modelos, o **Random Forest** foi melhor, apesar de a diferença não ter sido tão gritante."
      ],
      "metadata": {
        "id": "yc8wXbWga-4p"
      }
    },
    {
      "cell_type": "markdown",
      "source": [
        "## Teste com o One-Hot Encoding\n",
        "\n",
        "Para finalizar as análises, segue o teste da base feita com One-Hot Encoding, aplicando também a técnica do oversampling.\n",
        "\n",
        "Sim, essa parte está bem hardcoded e muito feia... :("
      ],
      "metadata": {
        "id": "sbX-hMxbUhO5"
      }
    },
    {
      "cell_type": "code",
      "source": [
        "# colunas categóricas que irão para o modelo\n",
        "cat_features = ['genero', 'maior_65_anos', 'possui_dependentes', 'plano_contratado']\n",
        "\n",
        "# aplicando o One-Hot Encoding\n",
        "df_OH_encoded = OH_encode(df, cat_features)\n",
        "\n",
        "# alterando o target para 0 (não cancelou) ou 1 (cancelou)\n",
        "df_OH_encoded['cancelou_plano'] = df_OH_encoded['cancelou_plano'].apply(lambda x : 1 if x == 'Sim' else 0)\n",
        "\n",
        "# verificando a base e as novas colunas\n",
        "df_OH_encoded.head()"
      ],
      "metadata": {
        "colab": {
          "base_uri": "https://localhost:8080/",
          "height": 369
        },
        "id": "QbuGsIGMQaPB",
        "outputId": "1ecd43ad-d6f3-4cf6-e7a7-2b8f39033c1a"
      },
      "execution_count": 79,
      "outputs": [
        {
          "output_type": "execute_result",
          "data": {
            "text/plain": [
              "   cliente_ID  cancelou_plano possui_companheiro_companheira  meses_contrato  \\\n",
              "0  0002-ORFBO               0                            Sim               9   \n",
              "1  0003-MKNFE               0                            Nao               9   \n",
              "2  0004-TLHLJ               1                            Nao               4   \n",
              "3  0011-IGKFF               1                            Sim              13   \n",
              "4  0013-EXCHZ               1                            Sim               3   \n",
              "\n",
              "  assina_telefone multiplas_linhas_telefonicas tipo_assinatura_internet  \\\n",
              "0             Sim                          Nao                     Cabo   \n",
              "1             Sim                          Sim                     Cabo   \n",
              "2             Sim                          Nao                    Fibra   \n",
              "3             Sim                          Nao                    Fibra   \n",
              "4             Sim                          Nao                    Fibra   \n",
              "\n",
              "  adicional_seguranca_online adicional_backup_online  \\\n",
              "0                        Nao                     Sim   \n",
              "1                        Nao                     Nao   \n",
              "2                        Nao                     Nao   \n",
              "3                        Nao                     Sim   \n",
              "4                        Nao                     Nao   \n",
              "\n",
              "  adicional_protecao_dispositivo adicional_suporte_VIP  ... gasto_mensal  \\\n",
              "0                            Nao                   Sim  ...         65.6   \n",
              "1                            Nao                   Nao  ...         59.9   \n",
              "2                            Sim                   Nao  ...         73.9   \n",
              "3                            Sim                   Nao  ...         98.0   \n",
              "4                            Nao                   Sim  ...         83.9   \n",
              "\n",
              "  gasto_total    0    1    2    3    4    5    6    7    8  \n",
              "0      593.30  0.0  1.0  1.0  0.0  0.0  1.0  0.0  0.0  1.0  \n",
              "1      542.40  1.0  0.0  1.0  0.0  1.0  0.0  0.0  1.0  0.0  \n",
              "2      280.85  1.0  0.0  1.0  0.0  1.0  0.0  0.0  1.0  0.0  \n",
              "3     1237.85  1.0  0.0  0.0  1.0  1.0  0.0  0.0  1.0  0.0  \n",
              "4      267.40  0.0  1.0  0.0  1.0  1.0  0.0  0.0  1.0  0.0  \n",
              "\n",
              "[5 rows x 27 columns]"
            ],
            "text/html": [
              "\n",
              "  <div id=\"df-8ae232ed-129c-4bab-b449-910425d4e381\">\n",
              "    <div class=\"colab-df-container\">\n",
              "      <div>\n",
              "<style scoped>\n",
              "    .dataframe tbody tr th:only-of-type {\n",
              "        vertical-align: middle;\n",
              "    }\n",
              "\n",
              "    .dataframe tbody tr th {\n",
              "        vertical-align: top;\n",
              "    }\n",
              "\n",
              "    .dataframe thead th {\n",
              "        text-align: right;\n",
              "    }\n",
              "</style>\n",
              "<table border=\"1\" class=\"dataframe\">\n",
              "  <thead>\n",
              "    <tr style=\"text-align: right;\">\n",
              "      <th></th>\n",
              "      <th>cliente_ID</th>\n",
              "      <th>cancelou_plano</th>\n",
              "      <th>possui_companheiro_companheira</th>\n",
              "      <th>meses_contrato</th>\n",
              "      <th>assina_telefone</th>\n",
              "      <th>multiplas_linhas_telefonicas</th>\n",
              "      <th>tipo_assinatura_internet</th>\n",
              "      <th>adicional_seguranca_online</th>\n",
              "      <th>adicional_backup_online</th>\n",
              "      <th>adicional_protecao_dispositivo</th>\n",
              "      <th>adicional_suporte_VIP</th>\n",
              "      <th>...</th>\n",
              "      <th>gasto_mensal</th>\n",
              "      <th>gasto_total</th>\n",
              "      <th>0</th>\n",
              "      <th>1</th>\n",
              "      <th>2</th>\n",
              "      <th>3</th>\n",
              "      <th>4</th>\n",
              "      <th>5</th>\n",
              "      <th>6</th>\n",
              "      <th>7</th>\n",
              "      <th>8</th>\n",
              "    </tr>\n",
              "  </thead>\n",
              "  <tbody>\n",
              "    <tr>\n",
              "      <th>0</th>\n",
              "      <td>0002-ORFBO</td>\n",
              "      <td>0</td>\n",
              "      <td>Sim</td>\n",
              "      <td>9</td>\n",
              "      <td>Sim</td>\n",
              "      <td>Nao</td>\n",
              "      <td>Cabo</td>\n",
              "      <td>Nao</td>\n",
              "      <td>Sim</td>\n",
              "      <td>Nao</td>\n",
              "      <td>Sim</td>\n",
              "      <td>...</td>\n",
              "      <td>65.6</td>\n",
              "      <td>593.30</td>\n",
              "      <td>0.0</td>\n",
              "      <td>1.0</td>\n",
              "      <td>1.0</td>\n",
              "      <td>0.0</td>\n",
              "      <td>0.0</td>\n",
              "      <td>1.0</td>\n",
              "      <td>0.0</td>\n",
              "      <td>0.0</td>\n",
              "      <td>1.0</td>\n",
              "    </tr>\n",
              "    <tr>\n",
              "      <th>1</th>\n",
              "      <td>0003-MKNFE</td>\n",
              "      <td>0</td>\n",
              "      <td>Nao</td>\n",
              "      <td>9</td>\n",
              "      <td>Sim</td>\n",
              "      <td>Sim</td>\n",
              "      <td>Cabo</td>\n",
              "      <td>Nao</td>\n",
              "      <td>Nao</td>\n",
              "      <td>Nao</td>\n",
              "      <td>Nao</td>\n",
              "      <td>...</td>\n",
              "      <td>59.9</td>\n",
              "      <td>542.40</td>\n",
              "      <td>1.0</td>\n",
              "      <td>0.0</td>\n",
              "      <td>1.0</td>\n",
              "      <td>0.0</td>\n",
              "      <td>1.0</td>\n",
              "      <td>0.0</td>\n",
              "      <td>0.0</td>\n",
              "      <td>1.0</td>\n",
              "      <td>0.0</td>\n",
              "    </tr>\n",
              "    <tr>\n",
              "      <th>2</th>\n",
              "      <td>0004-TLHLJ</td>\n",
              "      <td>1</td>\n",
              "      <td>Nao</td>\n",
              "      <td>4</td>\n",
              "      <td>Sim</td>\n",
              "      <td>Nao</td>\n",
              "      <td>Fibra</td>\n",
              "      <td>Nao</td>\n",
              "      <td>Nao</td>\n",
              "      <td>Sim</td>\n",
              "      <td>Nao</td>\n",
              "      <td>...</td>\n",
              "      <td>73.9</td>\n",
              "      <td>280.85</td>\n",
              "      <td>1.0</td>\n",
              "      <td>0.0</td>\n",
              "      <td>1.0</td>\n",
              "      <td>0.0</td>\n",
              "      <td>1.0</td>\n",
              "      <td>0.0</td>\n",
              "      <td>0.0</td>\n",
              "      <td>1.0</td>\n",
              "      <td>0.0</td>\n",
              "    </tr>\n",
              "    <tr>\n",
              "      <th>3</th>\n",
              "      <td>0011-IGKFF</td>\n",
              "      <td>1</td>\n",
              "      <td>Sim</td>\n",
              "      <td>13</td>\n",
              "      <td>Sim</td>\n",
              "      <td>Nao</td>\n",
              "      <td>Fibra</td>\n",
              "      <td>Nao</td>\n",
              "      <td>Sim</td>\n",
              "      <td>Sim</td>\n",
              "      <td>Nao</td>\n",
              "      <td>...</td>\n",
              "      <td>98.0</td>\n",
              "      <td>1237.85</td>\n",
              "      <td>1.0</td>\n",
              "      <td>0.0</td>\n",
              "      <td>0.0</td>\n",
              "      <td>1.0</td>\n",
              "      <td>1.0</td>\n",
              "      <td>0.0</td>\n",
              "      <td>0.0</td>\n",
              "      <td>1.0</td>\n",
              "      <td>0.0</td>\n",
              "    </tr>\n",
              "    <tr>\n",
              "      <th>4</th>\n",
              "      <td>0013-EXCHZ</td>\n",
              "      <td>1</td>\n",
              "      <td>Sim</td>\n",
              "      <td>3</td>\n",
              "      <td>Sim</td>\n",
              "      <td>Nao</td>\n",
              "      <td>Fibra</td>\n",
              "      <td>Nao</td>\n",
              "      <td>Nao</td>\n",
              "      <td>Nao</td>\n",
              "      <td>Sim</td>\n",
              "      <td>...</td>\n",
              "      <td>83.9</td>\n",
              "      <td>267.40</td>\n",
              "      <td>0.0</td>\n",
              "      <td>1.0</td>\n",
              "      <td>0.0</td>\n",
              "      <td>1.0</td>\n",
              "      <td>1.0</td>\n",
              "      <td>0.0</td>\n",
              "      <td>0.0</td>\n",
              "      <td>1.0</td>\n",
              "      <td>0.0</td>\n",
              "    </tr>\n",
              "  </tbody>\n",
              "</table>\n",
              "<p>5 rows × 27 columns</p>\n",
              "</div>\n",
              "      <button class=\"colab-df-convert\" onclick=\"convertToInteractive('df-8ae232ed-129c-4bab-b449-910425d4e381')\"\n",
              "              title=\"Convert this dataframe to an interactive table.\"\n",
              "              style=\"display:none;\">\n",
              "        \n",
              "  <svg xmlns=\"http://www.w3.org/2000/svg\" height=\"24px\"viewBox=\"0 0 24 24\"\n",
              "       width=\"24px\">\n",
              "    <path d=\"M0 0h24v24H0V0z\" fill=\"none\"/>\n",
              "    <path d=\"M18.56 5.44l.94 2.06.94-2.06 2.06-.94-2.06-.94-.94-2.06-.94 2.06-2.06.94zm-11 1L8.5 8.5l.94-2.06 2.06-.94-2.06-.94L8.5 2.5l-.94 2.06-2.06.94zm10 10l.94 2.06.94-2.06 2.06-.94-2.06-.94-.94-2.06-.94 2.06-2.06.94z\"/><path d=\"M17.41 7.96l-1.37-1.37c-.4-.4-.92-.59-1.43-.59-.52 0-1.04.2-1.43.59L10.3 9.45l-7.72 7.72c-.78.78-.78 2.05 0 2.83L4 21.41c.39.39.9.59 1.41.59.51 0 1.02-.2 1.41-.59l7.78-7.78 2.81-2.81c.8-.78.8-2.07 0-2.86zM5.41 20L4 18.59l7.72-7.72 1.47 1.35L5.41 20z\"/>\n",
              "  </svg>\n",
              "      </button>\n",
              "      \n",
              "  <style>\n",
              "    .colab-df-container {\n",
              "      display:flex;\n",
              "      flex-wrap:wrap;\n",
              "      gap: 12px;\n",
              "    }\n",
              "\n",
              "    .colab-df-convert {\n",
              "      background-color: #E8F0FE;\n",
              "      border: none;\n",
              "      border-radius: 50%;\n",
              "      cursor: pointer;\n",
              "      display: none;\n",
              "      fill: #1967D2;\n",
              "      height: 32px;\n",
              "      padding: 0 0 0 0;\n",
              "      width: 32px;\n",
              "    }\n",
              "\n",
              "    .colab-df-convert:hover {\n",
              "      background-color: #E2EBFA;\n",
              "      box-shadow: 0px 1px 2px rgba(60, 64, 67, 0.3), 0px 1px 3px 1px rgba(60, 64, 67, 0.15);\n",
              "      fill: #174EA6;\n",
              "    }\n",
              "\n",
              "    [theme=dark] .colab-df-convert {\n",
              "      background-color: #3B4455;\n",
              "      fill: #D2E3FC;\n",
              "    }\n",
              "\n",
              "    [theme=dark] .colab-df-convert:hover {\n",
              "      background-color: #434B5C;\n",
              "      box-shadow: 0px 1px 3px 1px rgba(0, 0, 0, 0.15);\n",
              "      filter: drop-shadow(0px 1px 2px rgba(0, 0, 0, 0.3));\n",
              "      fill: #FFFFFF;\n",
              "    }\n",
              "  </style>\n",
              "\n",
              "      <script>\n",
              "        const buttonEl =\n",
              "          document.querySelector('#df-8ae232ed-129c-4bab-b449-910425d4e381 button.colab-df-convert');\n",
              "        buttonEl.style.display =\n",
              "          google.colab.kernel.accessAllowed ? 'block' : 'none';\n",
              "\n",
              "        async function convertToInteractive(key) {\n",
              "          const element = document.querySelector('#df-8ae232ed-129c-4bab-b449-910425d4e381');\n",
              "          const dataTable =\n",
              "            await google.colab.kernel.invokeFunction('convertToInteractive',\n",
              "                                                     [key], {});\n",
              "          if (!dataTable) return;\n",
              "\n",
              "          const docLinkHtml = 'Like what you see? Visit the ' +\n",
              "            '<a target=\"_blank\" href=https://colab.research.google.com/notebooks/data_table.ipynb>data table notebook</a>'\n",
              "            + ' to learn more about interactive tables.';\n",
              "          element.innerHTML = '';\n",
              "          dataTable['output_type'] = 'display_data';\n",
              "          await google.colab.output.renderOutput(dataTable, element);\n",
              "          const docLink = document.createElement('div');\n",
              "          docLink.innerHTML = docLinkHtml;\n",
              "          element.appendChild(docLink);\n",
              "        }\n",
              "      </script>\n",
              "    </div>\n",
              "  </div>\n",
              "  "
            ]
          },
          "metadata": {},
          "execution_count": 79
        }
      ]
    },
    {
      "cell_type": "code",
      "source": [
        "# o One-Hot Encoding criou novas colunas, então preciso alterar as features\n",
        "features = ['gasto_mensal', 'meses_contrato', 0, 1, 2, 3, 4, 5, 6, 7, 8]\n",
        "\n",
        "# fazendo o oversampling\n",
        "smote = SMOTE(random_state = SEED)\n",
        "x = df_OH_encoded[features]\n",
        "y = df_OH_encoded['cancelou_plano']\n",
        "x_oversmp, y_oversmp = smote.fit_resample(x, y) # gera um warning que em futuras versões poderá ser um erro\n",
        "df_OH_oversmp = pd.concat([y_oversmp, x_oversmp], axis=1)\n",
        "\n",
        "# testando os modelos\n",
        "# também gera um warning que em futuras versões poderá ser um erro\n",
        "random_forest_model(df_OH_oversmp, features)\n",
        "SVC_model(df_OH_oversmp, features)"
      ],
      "metadata": {
        "colab": {
          "base_uri": "https://localhost:8080/",
          "height": 978
        },
        "id": "WQ4s7adJdTZp",
        "outputId": "ccbfc39c-7e1e-46fb-8c4b-7b3c425bfad8"
      },
      "execution_count": 80,
      "outputs": [
        {
          "output_type": "stream",
          "name": "stderr",
          "text": [
            "/usr/local/lib/python3.7/dist-packages/sklearn/utils/validation.py:1692: FutureWarning: Feature names only support names that are all strings. Got feature names with dtypes: ['int', 'str']. An error will be raised in 1.2.\n",
            "  FutureWarning,\n",
            "/usr/local/lib/python3.7/dist-packages/sklearn/utils/validation.py:1692: FutureWarning: Feature names only support names that are all strings. Got feature names with dtypes: ['int', 'str']. An error will be raised in 1.2.\n",
            "  FutureWarning,\n",
            "/usr/local/lib/python3.7/dist-packages/sklearn/utils/validation.py:1692: FutureWarning: Feature names only support names that are all strings. Got feature names with dtypes: ['int', 'str']. An error will be raised in 1.2.\n",
            "  FutureWarning,\n",
            "/usr/local/lib/python3.7/dist-packages/sklearn/utils/validation.py:1692: FutureWarning: Feature names only support names that are all strings. Got feature names with dtypes: ['int', 'str']. An error will be raised in 1.2.\n",
            "  FutureWarning,\n"
          ]
        },
        {
          "output_type": "stream",
          "name": "stdout",
          "text": [
            "----------------------------------------\n",
            "Resultados do Modelo\n",
            "----------------------------------------\n",
            "Acurácia (acerto geral):  0.7939698492462312\n",
            "Precisão (acerto de quem cancelou o plano, dentre os positivos reais):  0.7476518472135254\n",
            "Recall (acerto de quem cancelou o plano, dentre todos os positivos):  0.9018126888217523\n",
            "F1 (média harmônica precisão e recall):  0.8175282437521398\n"
          ]
        },
        {
          "output_type": "stream",
          "name": "stderr",
          "text": [
            "/usr/local/lib/python3.7/dist-packages/sklearn/utils/validation.py:1692: FutureWarning: Feature names only support names that are all strings. Got feature names with dtypes: ['int', 'str']. An error will be raised in 1.2.\n",
            "  FutureWarning,\n"
          ]
        },
        {
          "output_type": "stream",
          "name": "stdout",
          "text": [
            "----------------------------------------\n",
            "Resultados do Modelo\n",
            "----------------------------------------\n",
            "Acurácia (acerto geral):  0.7406262079628914\n",
            "Precisão (acerto de quem cancelou o plano, dentre os positivos reais):  0.7259515570934256\n",
            "Recall (acerto de quem cancelou o plano, dentre todos os positivos):  0.7922960725075529\n",
            "F1 (média harmônica precisão e recall):  0.7576742506319971\n"
          ]
        },
        {
          "output_type": "display_data",
          "data": {
            "text/plain": [
              "<Figure size 432x288 with 2 Axes>"
            ],
            "image/png": "[encoded data removed]"
          },
          "metadata": {
            "needs_background": "light"
          }
        },
        {
          "output_type": "display_data",
          "data": {
            "text/plain": [
              "<Figure size 432x288 with 2 Axes>"
            ],
            "image/png": "[encoded data removed]"
          },
          "metadata": {
            "needs_background": "light"
          }
        }
      ]
    },
    {
      "cell_type": "markdown",
      "source": [
        "Os resultados dos modelos utilizando a base de dados com One-Hot Encoding + Oversampling se mostraram também muito bons. \n",
        "\n",
        "Em comparação com a base com Label Enconding + Oversampling, as métricas para o **Random Forest** foram até **maiores** para o caso do One-Hot Encoding, com **destaque para o Recall**, que atingiu **0,90** (contra 0,86 na base com Label Encoding), ou seja, ele conseguiu acertar mais e melhor quem irá cancelar o plano. No caso do SVC, os resultados foram semelhantes para ambos os encoding.\n",
        "\n",
        "Como essa parte do One-Hot Encoding foi **feita com pressa**, pode ser que eu tenha errado em algum passo, pois copiei e colei muito código. Por esse motivo, vou optar por **manter os dados com o Label Encoding** para a otimização do modelo do Random Forest."
      ],
      "metadata": {
        "id": "G7WKA3YEXdIR"
      }
    },
    {
      "cell_type": "markdown",
      "source": [
        "# Otimização do Random Forest\n",
        "\n",
        "Escolhido o Random Forest como modelo e a base com label encoding e oversampling, irei fazer alguns testes alterando parâmetros do modelo e também features da base para verificar se as métricas melhoram"
      ],
      "metadata": {
        "id": "Lm1BfjGV0Dzj"
      }
    },
    {
      "cell_type": "markdown",
      "source": [
        "## Teste do modelo com todas as colunas da Base\n",
        "\n",
        "Apenas de curiosidade, vou verificar como o modelo se sai quando utilizo todas as colunas como features."
      ],
      "metadata": {
        "id": "-7i2GJFn0mUx"
      }
    },
    {
      "cell_type": "code",
      "source": [
        "# verificando as colunas (cliente_ID foi removida durante o oversampling)\n",
        "df_oversmp.columns.values"
      ],
      "metadata": {
        "id": "LDxt-1qNmm1s",
        "colab": {
          "base_uri": "https://localhost:8080/"
        },
        "outputId": "2f8e6252-7ad2-4806-9e98-12c52621d9a9"
      },
      "execution_count": 70,
      "outputs": [
        {
          "output_type": "execute_result",
          "data": {
            "text/plain": [
              "array(['cancelou_plano', 'genero', 'maior_65_anos',\n",
              "       'possui_companheiro_companheira', 'possui_dependentes',\n",
              "       'meses_contrato', 'assina_telefone',\n",
              "       'multiplas_linhas_telefonicas', 'tipo_assinatura_internet',\n",
              "       'adicional_seguranca_online', 'adicional_backup_online',\n",
              "       'adicional_protecao_dispositivo', 'adicional_suporte_VIP',\n",
              "       'assina_TV_cabo', 'assina_streaming_filmes', 'plano_contratado',\n",
              "       'fatura_online', 'forma_pagamento', 'gasto_diario', 'gasto_mensal',\n",
              "       'gasto_total'], dtype=object)"
            ]
          },
          "metadata": {},
          "execution_count": 70
        }
      ]
    },
    {
      "cell_type": "code",
      "source": [
        "# aplicando o modelo com todas as colunas, menos a target, que é 'cancelou_plano'\n",
        "features = df_oversmp.drop('cancelou_plano', axis=1).columns.values\n",
        "random_forest_model(df_oversmp, features)"
      ],
      "metadata": {
        "colab": {
          "base_uri": "https://localhost:8080/",
          "height": 401
        },
        "id": "qeoSf4z86fcF",
        "outputId": "085ce40f-21d5-4898-e0f7-28d5d2cfc03e"
      },
      "execution_count": 71,
      "outputs": [
        {
          "output_type": "stream",
          "name": "stdout",
          "text": [
            "----------------------------------------\n",
            "Resultados do Modelo\n",
            "----------------------------------------\n",
            "Acurácia (acerto geral):  0.7947429454967143\n",
            "Precisão (acerto de quem cancelou o plano, dentre os positivos reais):  0.776692254012561\n",
            "Recall (acerto de quem cancelou o plano, dentre todos os positivos):  0.8406344410876133\n",
            "F1 (média harmônica precisão e recall):  0.8073993471164309\n"
          ]
        },
        {
          "output_type": "display_data",
          "data": {
            "text/plain": [
              "<Figure size 432x288 with 2 Axes>"
            ],
            "image/png": "[encoded data removed]"
          },
          "metadata": {
            "needs_background": "light"
          }
        }
      ]
    },
    {
      "cell_type": "markdown",
      "source": [
        "O modelo teve uma leve melhora de performance em todas as métricas, menos no Recall, onde foi levemente pior. Então acredito que as [features selecionadas anteriormente](#scrollTo=Rm_LSvdxQ8Pa) estão adequadas. \n",
        "\n",
        "Listo elas abaixo novamente, que serão utilizadas nos próximos testes."
      ],
      "metadata": {
        "id": "nQbRXMNI7Eme"
      }
    },
    {
      "cell_type": "code",
      "source": [
        "# features escolhidas para o modelo\n",
        "features = ['gasto_mensal', 'maior_65_anos', 'genero', 'meses_contrato', 'possui_dependentes', 'plano_contratado']"
      ],
      "metadata": {
        "id": "ydNWOMRr-Rf2"
      },
      "execution_count": 81,
      "outputs": []
    },
    {
      "cell_type": "markdown",
      "source": [
        "## Avaliação dos parâmetros do modelo\n",
        "\n",
        "Irei testar o modelo com diferentes valores para os parâmetros `n_trees` e `depth`, que foram criados na função do modelo e são baseados nos parâmetros `n_estimators`, `max_depth`. O objetivo é avaliar qual seria o melhor valor para estes dois parâmetros, tendo em vista melhores resultados nas métricas."
      ],
      "metadata": {
        "id": "9hYgIweN-zk8"
      }
    },
    {
      "cell_type": "code",
      "source": [
        "# testando a quantidade de árvores no modelo\n",
        "n_trees = [50, 100, 150, 200, 250, 500] #500 na última iteração só para teste de estresse\n",
        "for trees in n_trees:\n",
        "  random_forest_model(df_oversmp, features, trees)"
      ],
      "metadata": {
        "colab": {
          "base_uri": "https://localhost:8080/",
          "height": 1000
        },
        "id": "mIhhT_aj_dx0",
        "outputId": "a54ad57a-4ab9-4fc1-b8c9-3c711ea485f1"
      },
      "execution_count": 73,
      "outputs": [
        {
          "output_type": "stream",
          "name": "stdout",
          "text": [
            "----------------------------------------\n",
            "Resultados do Modelo\n",
            "----------------------------------------\n",
            "Acurácia (acerto geral):  0.7816003092385002\n",
            "Precisão (acerto de quem cancelou o plano, dentre os positivos reais):  0.7495069033530573\n",
            "Recall (acerto de quem cancelou o plano, dentre todos os positivos):  0.8610271903323263\n",
            "F1 (média harmônica precisão e recall):  0.8014059753954306\n",
            "----------------------------------------\n",
            "Resultados do Modelo\n",
            "----------------------------------------\n",
            "Acurácia (acerto geral):  0.7812137611132586\n",
            "Precisão (acerto de quem cancelou o plano, dentre os positivos reais):  0.7483617300131061\n",
            "Recall (acerto de quem cancelou o plano, dentre todos os positivos):  0.8625377643504532\n",
            "F1 (média harmônica precisão e recall):  0.8014035087719299\n",
            "----------------------------------------\n",
            "Resultados do Modelo\n",
            "----------------------------------------\n",
            "Acurácia (acerto geral):  0.7781213761113258\n",
            "Precisão (acerto de quem cancelou o plano, dentre os positivos reais):  0.7460629921259843\n",
            "Recall (acerto de quem cancelou o plano, dentre todos os positivos):  0.8587613293051359\n",
            "F1 (média harmônica precisão e recall):  0.7984550561797753\n",
            "----------------------------------------\n",
            "Resultados do Modelo\n",
            "----------------------------------------\n",
            "Acurácia (acerto geral):  0.7785079242365675\n",
            "Precisão (acerto de quem cancelou o plano, dentre os positivos reais):  0.7465528562048588\n",
            "Recall (acerto de quem cancelou o plano, dentre todos os positivos):  0.8587613293051359\n",
            "F1 (média harmônica precisão e recall):  0.7987355110642782\n",
            "----------------------------------------\n",
            "Resultados do Modelo\n",
            "----------------------------------------\n",
            "Acurácia (acerto geral):  0.7769617317356011\n",
            "Precisão (acerto de quem cancelou o plano, dentre os positivos reais):  0.7452396585686146\n",
            "Recall (acerto de quem cancelou o plano, dentre todos os positivos):  0.8572507552870091\n",
            "F1 (média harmônica precisão e recall):  0.7973305233579207\n",
            "----------------------------------------\n",
            "Resultados do Modelo\n",
            "----------------------------------------\n",
            "Acurácia (acerto geral):  0.780827212988017\n",
            "Precisão (acerto de quem cancelou o plano, dentre os positivos reais):  0.7504963600264726\n",
            "Recall (acerto de quem cancelou o plano, dentre todos os positivos):  0.8564954682779456\n",
            "F1 (média harmônica precisão e recall):  0.8\n"
          ]
        },
        {
          "output_type": "display_data",
          "data": {
            "text/plain": [
              "<Figure size 432x288 with 2 Axes>"
            ],
            "image/png": "[encoded data removed]"
          },
          "metadata": {
            "needs_background": "light"
          }
        },
        {
          "output_type": "display_data",
          "data": {
            "text/plain": [
              "<Figure size 432x288 with 2 Axes>"
            ],
            "image/png": "[encoded data removed]"
          },
          "metadata": {
            "needs_background": "light"
          }
        },
        {
          "output_type": "display_data",
          "data": {
            "text/plain": [
              "<Figure size 432x288 with 2 Axes>"
            ],
            "image/png": "[encoded data removed]"
          },
          "metadata": {
            "needs_background": "light"
          }
        },
        {
          "output_type": "display_data",
          "data": {
            "text/plain": [
              "<Figure size 432x288 with 2 Axes>"
            ],
            "image/png": "[encoded data removed]"
          },
          "metadata": {
            "needs_background": "light"
          }
        },
        {
          "output_type": "display_data",
          "data": {
            "text/plain": [
              "<Figure size 432x288 with 2 Axes>"
            ],
            "image/png": "[encoded data removed]"
          },
          "metadata": {
            "needs_background": "light"
          }
        },
        {
          "output_type": "display_data",
          "data": {
            "text/plain": [
              "<Figure size 432x288 with 2 Axes>"
            ],
            "image/png": "[encoded data removed]"
          },
          "metadata": {
            "needs_background": "light"
          }
        }
      ]
    },
    {
      "cell_type": "markdown",
      "source": [
        "Os resultados das métricas para os diferentes valores de `n_trees` se mostraram **semelhantes**. As diferenças aconteciam na 2ª ou 3ª casa decimal. \n",
        "\n",
        "Os resultados em **precisão e F1 foram melhores para 100 árvores** (que é o padrão do modelo), então **irei manter o valor padrão para `n_trees`**."
      ],
      "metadata": {
        "id": "NRZnZG5VCKde"
      }
    },
    {
      "cell_type": "code",
      "source": [
        "# valor selecionado para a quantidade de árvores (já é o padrão do modelo no sklearn)\n",
        "n_trees = 100"
      ],
      "metadata": {
        "id": "EeZ5yQVCEAsw"
      },
      "execution_count": 74,
      "outputs": []
    },
    {
      "cell_type": "code",
      "source": [
        "# testando a profundidade das árvores no modelo\n",
        "max_depth = [5, 10, 15, 20, 25, 30]\n",
        "for depth in max_depth:\n",
        "  random_forest_model(df_oversmp, features, n_trees, depth)"
      ],
      "metadata": {
        "colab": {
          "base_uri": "https://localhost:8080/",
          "height": 1000
        },
        "id": "3SFBYPdS_du-",
        "outputId": "5b2c3c78-496d-4e70-9645-469caafc54c7"
      },
      "execution_count": 75,
      "outputs": [
        {
          "output_type": "stream",
          "name": "stdout",
          "text": [
            "----------------------------------------\n",
            "Resultados do Modelo\n",
            "----------------------------------------\n",
            "Acurácia (acerto geral):  0.7812137611132586\n",
            "Precisão (acerto de quem cancelou o plano, dentre os positivos reais):  0.7483617300131061\n",
            "Recall (acerto de quem cancelou o plano, dentre todos os positivos):  0.8625377643504532\n",
            "F1 (média harmônica precisão e recall):  0.8014035087719299\n",
            "----------------------------------------\n",
            "Resultados do Modelo\n",
            "----------------------------------------\n",
            "Acurácia (acerto geral):  0.7962891379976808\n",
            "Precisão (acerto de quem cancelou o plano, dentre os positivos reais):  0.7784765897973445\n",
            "Recall (acerto de quem cancelou o plano, dentre todos os positivos):  0.8413897280966768\n",
            "F1 (média harmônica precisão e recall):  0.8087114337568058\n",
            "----------------------------------------\n",
            "Resultados do Modelo\n",
            "----------------------------------------\n",
            "Acurácia (acerto geral):  0.7819868573637417\n",
            "Precisão (acerto de quem cancelou o plano, dentre os positivos reais):  0.7745664739884393\n",
            "Recall (acerto de quem cancelou o plano, dentre todos os positivos):  0.8096676737160121\n",
            "F1 (média harmônica precisão e recall):  0.791728212703102\n",
            "----------------------------------------\n",
            "Resultados do Modelo\n",
            "----------------------------------------\n",
            "Acurácia (acerto geral):  0.7653652879783533\n",
            "Precisão (acerto de quem cancelou o plano, dentre os positivos reais):  0.7701582516955539\n",
            "Recall (acerto de quem cancelou o plano, dentre todos os positivos):  0.7719033232628398\n",
            "F1 (média harmônica precisão e recall):  0.7710298000754432\n",
            "----------------------------------------\n",
            "Resultados do Modelo\n",
            "----------------------------------------\n",
            "Acurácia (acerto geral):  0.7676845767298028\n",
            "Precisão (acerto de quem cancelou o plano, dentre os positivos reais):  0.7724189902034665\n",
            "Recall (acerto de quem cancelou o plano, dentre todos os positivos):  0.7741691842900302\n",
            "F1 (média harmônica precisão e recall):  0.7732930969445492\n",
            "----------------------------------------\n",
            "Resultados do Modelo\n",
            "----------------------------------------\n",
            "Acurácia (acerto geral):  0.7653652879783533\n",
            "Precisão (acerto de quem cancelou o plano, dentre os positivos reais):  0.7689422355588897\n",
            "Recall (acerto de quem cancelou o plano, dentre todos os positivos):  0.7741691842900302\n",
            "F1 (média harmônica precisão e recall):  0.7715468573579225\n"
          ]
        },
        {
          "output_type": "display_data",
          "data": {
            "text/plain": [
              "<Figure size 432x288 with 2 Axes>"
            ],
            "image/png": "[encoded data removed]"
          },
          "metadata": {
            "needs_background": "light"
          }
        },
        {
          "output_type": "display_data",
          "data": {
            "text/plain": [
              "<Figure size 432x288 with 2 Axes>"
            ],
            "image/png": "[encoded data removed]"
          },
          "metadata": {
            "needs_background": "light"
          }
        },
        {
          "output_type": "display_data",
          "data": {
            "text/plain": [
              "<Figure size 432x288 with 2 Axes>"
            ],
            "image/png": "[encoded data removed]"
          },
          "metadata": {
            "needs_background": "light"
          }
        },
        {
          "output_type": "display_data",
          "data": {
            "text/plain": [
              "<Figure size 432x288 with 2 Axes>"
            ],
            "image/png": "[encoded data removed]"
          },
          "metadata": {
            "needs_background": "light"
          }
        },
        {
          "output_type": "display_data",
          "data": {
            "text/plain": [
              "<Figure size 432x288 with 2 Axes>"
            ],
            "image/png": "[encoded data removed]"
          },
          "metadata": {
            "needs_background": "light"
          }
        },
        {
          "output_type": "display_data",
          "data": {
            "text/plain": [
              "<Figure size 432x288 with 2 Axes>"
            ],
            "image/png": "[encoded data removed]"
          },
          "metadata": {
            "needs_background": "light"
          }
        }
      ]
    },
    {
      "cell_type": "markdown",
      "source": [
        "Após a **profundidade 10**, os valores das métricas foram **caindo**, com exceção da precisão, que foi melhorando. \n",
        "\n",
        "Comparando as matrizes de confusão, é possível notar que essa melhora na precisão refletiu em mais acertos no  quadrante de \"Verdadeiros Negativos\", isto é, nos clientes que não cancelaram o plano, porém, prejudicou o quadrante de \"Verdadeiros Positivos\", isto é, clientes que cancelaram o plano. \n",
        "\n",
        "Ou seja, conforme a profundidade aumentou, o modelo conseguiu **acertar melhor** os clientes que **não cancelaram** o plano, porém também **errou mais** nos clientes que **cancelaram** o plano.\n",
        "\n",
        "Como para a Alura Voz a perda de clientes implica em **perda de receitas**, considero que o melhor é ter um **modelo que acerte mais** em identificar **quem cancela** o plano. Desse modo, a profundidade 10 seria a melhor escolha. \n",
        "\n",
        "Irei fazer mais uma avaliação, testando a profudidade entre 10 e 15 para verificar se há algum resultado melhor nesse intervalo."
      ],
      "metadata": {
        "id": "ypBHC7acE_F5"
      }
    },
    {
      "cell_type": "code",
      "source": [
        "max_depth = list(range(10, 15))\n",
        "for depth in max_depth:\n",
        "  random_forest_model(df_oversmp, features, n_trees, depth)"
      ],
      "metadata": {
        "colab": {
          "base_uri": "https://localhost:8080/",
          "height": 1000
        },
        "id": "7WaGnGUcIpSG",
        "outputId": "1d009860-7e35-4ae7-95c9-92e83cd88579"
      },
      "execution_count": 76,
      "outputs": [
        {
          "output_type": "stream",
          "name": "stdout",
          "text": [
            "----------------------------------------\n",
            "Resultados do Modelo\n",
            "----------------------------------------\n",
            "Acurácia (acerto geral):  0.7962891379976808\n",
            "Precisão (acerto de quem cancelou o plano, dentre os positivos reais):  0.7784765897973445\n",
            "Recall (acerto de quem cancelou o plano, dentre todos os positivos):  0.8413897280966768\n",
            "F1 (média harmônica precisão e recall):  0.8087114337568058\n",
            "----------------------------------------\n",
            "Resultados do Modelo\n",
            "----------------------------------------\n",
            "Acurácia (acerto geral):  0.7974487823734054\n",
            "Precisão (acerto de quem cancelou o plano, dentre os positivos reais):  0.7785515320334262\n",
            "Recall (acerto de quem cancelou o plano, dentre todos os positivos):  0.8444108761329305\n",
            "F1 (média harmônica precisão e recall):  0.8101449275362319\n",
            "----------------------------------------\n",
            "Resultados do Modelo\n",
            "----------------------------------------\n",
            "Acurácia (acerto geral):  0.7959025898724391\n",
            "Precisão (acerto de quem cancelou o plano, dentre os positivos reais):  0.776005547850208\n",
            "Recall (acerto de quem cancelou o plano, dentre todos os positivos):  0.845166163141994\n",
            "F1 (média harmônica precisão e recall):  0.8091106290672452\n",
            "----------------------------------------\n",
            "Resultados do Modelo\n",
            "----------------------------------------\n",
            "Acurácia (acerto geral):  0.7908774642442984\n",
            "Precisão (acerto de quem cancelou o plano, dentre os positivos reais):  0.7747368421052632\n",
            "Recall (acerto de quem cancelou o plano, dentre todos os positivos):  0.8338368580060423\n",
            "F1 (média harmônica precisão e recall):  0.803201164059658\n",
            "----------------------------------------\n",
            "Resultados do Modelo\n",
            "----------------------------------------\n",
            "Acurácia (acerto geral):  0.7881716273676073\n",
            "Precisão (acerto de quem cancelou o plano, dentre os positivos reais):  0.7755681818181818\n",
            "Recall (acerto de quem cancelou o plano, dentre todos os positivos):  0.824773413897281\n",
            "F1 (média harmônica precisão e recall):  0.7994143484626647\n"
          ]
        },
        {
          "output_type": "display_data",
          "data": {
            "text/plain": [
              "<Figure size 432x288 with 2 Axes>"
            ],
            "image/png": "[encoded data removed]"
          },
          "metadata": {
            "needs_background": "light"
          }
        },
        {
          "output_type": "display_data",
          "data": {
            "text/plain": [
              "<Figure size 432x288 with 2 Axes>"
            ],
            "image/png": "[encoded data removed]"
          },
          "metadata": {
            "needs_background": "light"
          }
        },
        {
          "output_type": "display_data",
          "data": {
            "text/plain": [
              "<Figure size 432x288 with 2 Axes>"
            ],
            "image/png": "[encoded data removed]"
          },
          "metadata": {
            "needs_background": "light"
          }
        },
        {
          "output_type": "display_data",
          "data": {
            "text/plain": [
              "<Figure size 432x288 with 2 Axes>"
            ],
            "image/png": "[encoded data removed]"
          },
          "metadata": {
            "needs_background": "light"
          }
        },
        {
          "output_type": "display_data",
          "data": {
            "text/plain": [
              "<Figure size 432x288 with 2 Axes>"
            ],
            "image/png": "[encoded data removed]"
          },
          "metadata": {
            "needs_background": "light"
          }
        }
      ]
    },
    {
      "cell_type": "markdown",
      "source": [
        "Apesar de resultados de métricas próximas, a **profundidade 12 apresentou os melhores resultados** e, por isso, foi a escolhida. "
      ],
      "metadata": {
        "id": "PSs3O-yUKQg7"
      }
    },
    {
      "cell_type": "markdown",
      "source": [
        "## Conclusão\n",
        "As features selecionadas foram:\n",
        "\n",
        "* 'gasto_mensal', \n",
        "* 'maior_65_anos', \n",
        "* 'genero',\n",
        "* 'meses_contrato', \n",
        "* 'possui_dependentes', \n",
        "* 'plano_contratado'.\n",
        "\n",
        "A quantidade de árvores se manteve no padrão da função no sklearn (100).\n",
        "\n",
        "A profundidade escolhida (max_depth) foi 12.\n",
        "\n",
        "Os resultados obtidos com essa seleção foram:\n",
        "* Acurácia:  0.7893\n",
        "* Precisão:  0.7648\n",
        "* Recall:  0.8497\n",
        "* F1:  0.8050"
      ],
      "metadata": {
        "id": "E30_iwyGKksQ"
      }
    },
    {
      "cell_type": "markdown",
      "source": [
        "# Teste: previsão da base\n",
        "\n",
        "Por fim, feitos os ajustes para otimização do modelo, irei aplicá-lo à própria base e ver como ele se sai na previsão da variável target."
      ],
      "metadata": {
        "id": "LVPsQYN20Txi"
      }
    },
    {
      "cell_type": "code",
      "source": [
        "# treinando o modelo com a base, os parâmetros e as features selecionados\n",
        "features = ['gasto_mensal', 'maior_65_anos', 'genero', 'meses_contrato', 'possui_dependentes', 'plano_contratado']\n",
        "X_train, X_test, y_train, y_test = get_training_data(df_oversmp, features)\n",
        "rf = RandomForestClassifier(random_state=SEED, n_estimators=100, max_depth=12)\n",
        "rf.fit(X_train, y_train)\n",
        "\n",
        "# predizendo os valores da base original (com label encoding)\n",
        "y = df_encoded['cancelou_plano']\n",
        "X = df_encoded[features] \n",
        "y_pred = rf.predict(X)\n",
        "\n",
        "# print das métricas e matriz de confusão\n",
        "get_metrics(y, y_pred)"
      ],
      "metadata": {
        "colab": {
          "base_uri": "https://localhost:8080/",
          "height": 401
        },
        "id": "tMAVWZE709Q3",
        "outputId": "0792925a-ed74-4f82-98be-b55e27a32a03"
      },
      "execution_count": 77,
      "outputs": [
        {
          "output_type": "stream",
          "name": "stdout",
          "text": [
            "----------------------------------------\n",
            "Resultados do Modelo\n",
            "----------------------------------------\n",
            "Acurácia (acerto geral):  0.8303279852335652\n",
            "Precisão (acerto de quem cancelou o plano, dentre os positivos reais):  0.6287242169595111\n",
            "Recall (acerto de quem cancelou o plano, dentre todos os positivos):  0.8806848582129481\n",
            "F1 (média harmônica precisão e recall):  0.7336750612881657\n"
          ]
        },
        {
          "output_type": "display_data",
          "data": {
            "text/plain": [
              "<Figure size 432x288 with 2 Axes>"
            ],
            "image/png": "[encoded data removed]"
          },
          "metadata": {
            "needs_background": "light"
          }
        }
      ]
    },
    {
      "cell_type": "code",
      "source": [
        "# valores originais X valores previstos\n",
        "print(y.value_counts())\n",
        "\n",
        "# como visto em https://stackoverflow.com/questions/10741346/numpy-most-efficient-frequency-counts-for-unique-values-in-an-array\n",
        "unique, counts = np.unique(y_pred, return_counts=True)\n",
        "print(np.asarray((unique, counts)).T)"
      ],
      "metadata": {
        "colab": {
          "base_uri": "https://localhost:8080/"
        },
        "id": "VAXOgyOl0gRj",
        "outputId": "15946555-81ce-44cc-ef41-10eeee12b90a"
      },
      "execution_count": 78,
      "outputs": [
        {
          "output_type": "stream",
          "name": "stdout",
          "text": [
            "0    5174\n",
            "1    1869\n",
            "Name: cancelou_plano, dtype: int64\n",
            "[[   0 4425]\n",
            " [   1 2618]]\n"
          ]
        }
      ]
    },
    {
      "cell_type": "markdown",
      "source": [
        "Os resultados não foram muito satisfatórios... A precisão caiu bastante, consequentemente o F1 também caiu. Com isso, o modelo acertou mais os casos de clientes que cancelaram o plano, mas errou bastante nos clientes que não cancelaram o plano, identificando-os erroneamente como planos cancelados (os falsos positivos). \n",
        "\n",
        "Ou seja, **acabei criando um modelo pessimista**...\n",
        "\n",
        "Meus conhecimentos de Machine Learning ainda são muito incipientes para eu fazer uma análise mais profunda do que pode ter acontecido, além de haver sempre a possibilidade de eu ter errado alguma coisa no código. Ficará para o futuro, quando eu tiver mais experiência em Data Science, retornar a este desafio e tentar melhorar este modelo."
      ],
      "metadata": {
        "id": "-GZtxWGcQxAV"
      }
    }
  ]
}