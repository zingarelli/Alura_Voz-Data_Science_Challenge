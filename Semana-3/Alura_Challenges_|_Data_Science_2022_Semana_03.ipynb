{
  "nbformat": 4,
  "nbformat_minor": 0,
  "metadata": {
    "colab": {
      "name": "Alura Challenges | Data Science 2022 - Semana 03.ipynb",
      "provenance": [],
      "collapsed_sections": [],
      "toc_visible": true,
      "authorship_tag": "ABX9TyNl1bY3eS835Ur+5wS3wW1B",
      "include_colab_link": true
    },
    "kernelspec": {
      "name": "python3",
      "display_name": "Python 3"
    },
    "language_info": {
      "name": "python"
    }
  },
  "cells": [
    {
      "cell_type": "markdown",
      "metadata": {
        "id": "view-in-github",
        "colab_type": "text"
      },
      "source": [
        "<a href=\"https://colab.research.google.com/github/zingarelli/alura-challenges-data-science-2022/blob/main/Semana-3/Alura_Challenges_%7C_Data_Science_2022_Semana_03.ipynb\" target=\"_parent\"><img src=\"https://colab.research.google.com/assets/colab-badge.svg\" alt=\"Open In Colab\"/></a>"
      ]
    },
    {
      "cell_type": "markdown",
      "source": [
        "#Configurações e imports"
      ],
      "metadata": {
        "id": "gqYN-Q8sylo1"
      }
    },
    {
      "cell_type": "code",
      "source": [
        "# biblioteca para balanceio da target Churn\n",
        "!pip install -U imbalanced-learn"
      ],
      "metadata": {
        "colab": {
          "base_uri": "https://localhost:8080/"
        },
        "id": "7jXiE5xh2JQm",
        "outputId": "9b877128-b846-4903-db3e-4d62d656f54f"
      },
      "execution_count": 73,
      "outputs": [
        {
          "output_type": "stream",
          "name": "stdout",
          "text": [
            "Looking in indexes: https://pypi.org/simple, https://us-python.pkg.dev/colab-wheels/public/simple/\n",
            "Requirement already satisfied: imbalanced-learn in /usr/local/lib/python3.7/dist-packages (0.9.0)\n",
            "Collecting imbalanced-learn\n",
            "  Using cached imbalanced_learn-0.9.1-py3-none-any.whl (199 kB)\n",
            "Requirement already satisfied: scipy>=1.1.0 in /usr/local/lib/python3.7/dist-packages (from imbalanced-learn) (1.4.1)\n",
            "Requirement already satisfied: numpy>=1.14.6 in /usr/local/lib/python3.7/dist-packages (from imbalanced-learn) (1.21.6)\n",
            "Requirement already satisfied: scikit-learn>=1.0.1 in /usr/local/lib/python3.7/dist-packages (from imbalanced-learn) (1.0.2)\n",
            "Requirement already satisfied: threadpoolctl>=2.0.0 in /usr/local/lib/python3.7/dist-packages (from imbalanced-learn) (3.1.0)\n",
            "Requirement already satisfied: joblib>=0.11 in /usr/local/lib/python3.7/dist-packages (from imbalanced-learn) (1.1.0)\n"
          ]
        }
      ]
    },
    {
      "cell_type": "code",
      "source": [
        "import pandas as pd\n",
        "import numpy as np\n",
        "import matplotlib.pyplot as plt\n",
        "\n",
        "# para o One-Hot Encoding das variáveis categóricas\n",
        "from sklearn.preprocessing import OneHotEncoder\n",
        "\n",
        "# para balanceamento do target\n",
        "from imblearn.over_sampling import SMOTE\n",
        "\n",
        "# para criação e validação dos modelos de machine learn\n",
        "from sklearn.model_selection import train_test_split\n",
        "from sklearn import metrics \n",
        "from sklearn.ensemble import RandomForestClassifier\n",
        "from sklearn.svm import SVC\n",
        "\n",
        "# semente para garantir a replicabilidade do código\n",
        "SEED = 12\n",
        "\n",
        "pd.set_option('display.max_columns', 22)"
      ],
      "metadata": {
        "id": "2HN8jZKuimyo"
      },
      "execution_count": 74,
      "outputs": []
    },
    {
      "cell_type": "code",
      "source": [
        "# leitura da base tratada na Semana 1\n",
        "df = pd.read_csv('https://raw.githubusercontent.com/zingarelli/alura-challenges-data-science-2022/main/Semana-1/analise_semana_1.csv')\n",
        "df.info()"
      ],
      "metadata": {
        "id": "gfh81cUEjEGA",
        "colab": {
          "base_uri": "https://localhost:8080/"
        },
        "outputId": "349f0e23-3c4d-4c83-e3ac-e92705d86cec"
      },
      "execution_count": 75,
      "outputs": [
        {
          "output_type": "stream",
          "name": "stdout",
          "text": [
            "<class 'pandas.core.frame.DataFrame'>\n",
            "RangeIndex: 7043 entries, 0 to 7042\n",
            "Data columns (total 22 columns):\n",
            " #   Column                          Non-Null Count  Dtype  \n",
            "---  ------                          --------------  -----  \n",
            " 0   cliente_ID                      7043 non-null   object \n",
            " 1   cancelou_plano                  7043 non-null   object \n",
            " 2   genero                          7043 non-null   object \n",
            " 3   maior_65_anos                   7043 non-null   int64  \n",
            " 4   possui_companheiro_companheira  7043 non-null   object \n",
            " 5   possui_dependentes              7043 non-null   object \n",
            " 6   meses_contrato                  7043 non-null   int64  \n",
            " 7   assina_telefone                 7043 non-null   object \n",
            " 8   multiplas_linhas_telefonicas    7043 non-null   object \n",
            " 9   tipo_assinatura_internet        7043 non-null   object \n",
            " 10  adicional_seguranca_online      7043 non-null   object \n",
            " 11  adicional_backup_online         7043 non-null   object \n",
            " 12  adicional_protecao_dispositivo  7043 non-null   object \n",
            " 13  adicional_suporte_VIP           7043 non-null   object \n",
            " 14  assina_TV_cabo                  7043 non-null   object \n",
            " 15  assina_streaming_filmes         7043 non-null   object \n",
            " 16  plano_contratado                7043 non-null   object \n",
            " 17  fatura_online                   7043 non-null   object \n",
            " 18  forma_pagamento                 7043 non-null   object \n",
            " 19  gasto_diario                    7043 non-null   float64\n",
            " 20  gasto_mensal                    7043 non-null   float64\n",
            " 21  gasto_total                     7043 non-null   float64\n",
            "dtypes: float64(3), int64(2), object(17)\n",
            "memory usage: 1.2+ MB\n"
          ]
        }
      ]
    },
    {
      "cell_type": "markdown",
      "source": [
        "# Encoding das variáveis categóricas"
      ],
      "metadata": {
        "id": "_NdDjq-r5mGr"
      }
    },
    {
      "cell_type": "markdown",
      "source": [
        "## Label Encoding\n",
        "\n",
        "Como feito na [Semana 2](https://github.com/zingarelli/alura-challenges-data-science-2022/blob/main/Semana-2/Alura_Challenges_%7C_Data_Science_2022_Semana_02.ipynb). "
      ],
      "metadata": {
        "id": "dsgrHTIqPKPC"
      }
    },
    {
      "cell_type": "code",
      "source": [
        "# função que transforma os valores categóricos de uma coluna em valores numéricos\n",
        "def label_encoding(categorical_col):\n",
        "  # altera o tipo de \"object\" para o tipo \"category\"\n",
        "  encode = categorical_col.astype('category')\n",
        "\n",
        "  # atribui a cada categoria um valor numérico diferente\n",
        "  return encode.cat.codes"
      ],
      "metadata": {
        "id": "QhNk9QWT5qi7"
      },
      "execution_count": 76,
      "outputs": []
    },
    {
      "cell_type": "code",
      "source": [
        "# copiando a base de dados\n",
        "df_encoded = df.copy()\n",
        "\n",
        "# colunas categóricas (sem o \"cliente_ID\", pois não será utilizada)\n",
        "cat_columns = ['cancelou_plano', 'genero', 'possui_companheiro_companheira', \n",
        "               'possui_dependentes', 'assina_telefone', 'multiplas_linhas_telefonicas',\n",
        "               'tipo_assinatura_internet', 'adicional_seguranca_online',\n",
        "               'adicional_backup_online', 'adicional_protecao_dispositivo',\n",
        "               'adicional_suporte_VIP', 'assina_TV_cabo', 'assina_streaming_filmes',\n",
        "               'plano_contratado', 'fatura_online', 'forma_pagamento']\n",
        "\n",
        "# aplicando o label encoding\n",
        "for col in cat_columns:\n",
        "  df_encoded[col] = label_encoding(df_encoded[col])\n",
        "\n",
        "df_encoded.info()"
      ],
      "metadata": {
        "colab": {
          "base_uri": "https://localhost:8080/"
        },
        "id": "qtWHHzil5qV7",
        "outputId": "91a24ac6-2fa3-4e2d-e700-571eeb2268a4"
      },
      "execution_count": 77,
      "outputs": [
        {
          "output_type": "stream",
          "name": "stdout",
          "text": [
            "<class 'pandas.core.frame.DataFrame'>\n",
            "RangeIndex: 7043 entries, 0 to 7042\n",
            "Data columns (total 22 columns):\n",
            " #   Column                          Non-Null Count  Dtype  \n",
            "---  ------                          --------------  -----  \n",
            " 0   cliente_ID                      7043 non-null   object \n",
            " 1   cancelou_plano                  7043 non-null   int8   \n",
            " 2   genero                          7043 non-null   int8   \n",
            " 3   maior_65_anos                   7043 non-null   int64  \n",
            " 4   possui_companheiro_companheira  7043 non-null   int8   \n",
            " 5   possui_dependentes              7043 non-null   int8   \n",
            " 6   meses_contrato                  7043 non-null   int64  \n",
            " 7   assina_telefone                 7043 non-null   int8   \n",
            " 8   multiplas_linhas_telefonicas    7043 non-null   int8   \n",
            " 9   tipo_assinatura_internet        7043 non-null   int8   \n",
            " 10  adicional_seguranca_online      7043 non-null   int8   \n",
            " 11  adicional_backup_online         7043 non-null   int8   \n",
            " 12  adicional_protecao_dispositivo  7043 non-null   int8   \n",
            " 13  adicional_suporte_VIP           7043 non-null   int8   \n",
            " 14  assina_TV_cabo                  7043 non-null   int8   \n",
            " 15  assina_streaming_filmes         7043 non-null   int8   \n",
            " 16  plano_contratado                7043 non-null   int8   \n",
            " 17  fatura_online                   7043 non-null   int8   \n",
            " 18  forma_pagamento                 7043 non-null   int8   \n",
            " 19  gasto_diario                    7043 non-null   float64\n",
            " 20  gasto_mensal                    7043 non-null   float64\n",
            " 21  gasto_total                     7043 non-null   float64\n",
            "dtypes: float64(3), int64(2), int8(16), object(1)\n",
            "memory usage: 440.3+ KB\n"
          ]
        }
      ]
    },
    {
      "cell_type": "markdown",
      "source": [
        "## One-Hot Encoding\n",
        "\n",
        "Rever curso Kaggle: https://www.kaggle.com/code/alexisbcook/categorical-variables\n"
      ],
      "metadata": {
        "id": "cYUZVkoXEZXN"
      }
    },
    {
      "cell_type": "markdown",
      "source": [
        "**Atenção!**\n",
        "\n",
        "Essa parte do código foi feita após a criação dos modelos e métricas, então sua aplicação não está bonita no código. Infelizmente, seria necessário refatorar muita coisa para ela ser aplicada. \n",
        "\n",
        "TO DO: Refatorar o projeto para poder escolher entre os dois encodings (label encoding ou OH encoding)\n",
        "\n",
        "No caso do One-Hot Encoding, eu criei uma função, a ser chamada no momento de utilização dos modelos, quando as features que farão parte do modelo já foram escolhidas. O motivo disso é que o One-Hot Encoding cria colunas a mais e assim se perde o nome de cada coluna (cada coluna ganha um valor numérico sequencial). Não sei se existe algum parâmetro que poderia alterar isso e criar nomes mais representativos para as colunas."
      ],
      "metadata": {
        "id": "dSLeV19BHTFi"
      }
    },
    {
      "cell_type": "code",
      "source": [
        "def OH_encode(data, features):\n",
        "  # criando o encoder\n",
        "  OH_encoder = OneHotEncoder(handle_unknown='ignore', sparse=False)\n",
        "\n",
        "  # colunas categóricas + target\n",
        "  cat_columns = features\n",
        "\n",
        "  # criando um dataframe com o One-Hot Encoding aplicado\n",
        "  OH_columns = pd.DataFrame(OH_encoder.fit_transform(data[cat_columns]))\n",
        "\n",
        "  # copiando o dataframe sem as colunas que foram codificadas\n",
        "  df_copy = data.drop(cat_columns, axis=1)\n",
        "\n",
        "  # concatenando as colunas codificadas\n",
        "  return pd.concat([df_copy, OH_columns], axis=1)"
      ],
      "metadata": {
        "id": "MaDKEyuXFpiq"
      },
      "execution_count": 78,
      "outputs": []
    },
    {
      "cell_type": "code",
      "source": [
        "# teste da função\n",
        "# features = ['genero', 'maior_65_anos', 'plano_contratado', 'fatura_online', 'forma_pagamento']\n",
        "# df_OH_encoded = OH_encode(df, features)\n",
        "# print(df_OH_encoded.shape)\n",
        "# df_OH_encoded.head()"
      ],
      "metadata": {
        "colab": {
          "base_uri": "https://localhost:8080/",
          "height": 386
        },
        "id": "Iy5yZzz0FpXL",
        "outputId": "29048192-ffcc-4776-9238-7c03e0ba1738"
      },
      "execution_count": 79,
      "outputs": [
        {
          "output_type": "stream",
          "name": "stdout",
          "text": [
            "(7043, 30)\n"
          ]
        },
        {
          "output_type": "execute_result",
          "data": {
            "text/plain": [
              "   cliente_ID cancelou_plano possui_companheiro_companheira  \\\n",
              "0  0002-ORFBO            Nao                            Sim   \n",
              "1  0003-MKNFE            Nao                            Nao   \n",
              "2  0004-TLHLJ            Sim                            Nao   \n",
              "3  0011-IGKFF            Sim                            Sim   \n",
              "4  0013-EXCHZ            Sim                            Sim   \n",
              "\n",
              "  possui_dependentes  meses_contrato assina_telefone  \\\n",
              "0                Sim               9             Sim   \n",
              "1                Nao               9             Sim   \n",
              "2                Nao               4             Sim   \n",
              "3                Nao              13             Sim   \n",
              "4                Nao               3             Sim   \n",
              "\n",
              "  multiplas_linhas_telefonicas tipo_assinatura_internet  \\\n",
              "0                          Nao                     Cabo   \n",
              "1                          Sim                     Cabo   \n",
              "2                          Nao                    Fibra   \n",
              "3                          Nao                    Fibra   \n",
              "4                          Nao                    Fibra   \n",
              "\n",
              "  adicional_seguranca_online adicional_backup_online  \\\n",
              "0                        Nao                     Sim   \n",
              "1                        Nao                     Nao   \n",
              "2                        Nao                     Nao   \n",
              "3                        Nao                     Sim   \n",
              "4                        Nao                     Nao   \n",
              "\n",
              "  adicional_protecao_dispositivo  ...    2    3    4    5    6    7    8    9  \\\n",
              "0                            Nao  ...  1.0  0.0  0.0  0.0  1.0  0.0  1.0  0.0   \n",
              "1                            Nao  ...  1.0  0.0  0.0  1.0  0.0  1.0  0.0  0.0   \n",
              "2                            Sim  ...  1.0  0.0  0.0  1.0  0.0  0.0  1.0  0.0   \n",
              "3                            Sim  ...  0.0  1.0  0.0  1.0  0.0  0.0  1.0  0.0   \n",
              "4                            Nao  ...  0.0  1.0  0.0  1.0  0.0  0.0  1.0  0.0   \n",
              "\n",
              "    10   11   12  \n",
              "0  0.0  1.0  0.0  \n",
              "1  0.0  1.0  0.0  \n",
              "2  1.0  0.0  0.0  \n",
              "3  1.0  0.0  0.0  \n",
              "4  0.0  1.0  0.0  \n",
              "\n",
              "[5 rows x 30 columns]"
            ],
            "text/html": [
              "\n",
              "  <div id=\"df-05560334-ac78-4303-a6f4-f5b11d1cfe49\">\n",
              "    <div class=\"colab-df-container\">\n",
              "      <div>\n",
              "<style scoped>\n",
              "    .dataframe tbody tr th:only-of-type {\n",
              "        vertical-align: middle;\n",
              "    }\n",
              "\n",
              "    .dataframe tbody tr th {\n",
              "        vertical-align: top;\n",
              "    }\n",
              "\n",
              "    .dataframe thead th {\n",
              "        text-align: right;\n",
              "    }\n",
              "</style>\n",
              "<table border=\"1\" class=\"dataframe\">\n",
              "  <thead>\n",
              "    <tr style=\"text-align: right;\">\n",
              "      <th></th>\n",
              "      <th>cliente_ID</th>\n",
              "      <th>cancelou_plano</th>\n",
              "      <th>possui_companheiro_companheira</th>\n",
              "      <th>possui_dependentes</th>\n",
              "      <th>meses_contrato</th>\n",
              "      <th>assina_telefone</th>\n",
              "      <th>multiplas_linhas_telefonicas</th>\n",
              "      <th>tipo_assinatura_internet</th>\n",
              "      <th>adicional_seguranca_online</th>\n",
              "      <th>adicional_backup_online</th>\n",
              "      <th>adicional_protecao_dispositivo</th>\n",
              "      <th>...</th>\n",
              "      <th>2</th>\n",
              "      <th>3</th>\n",
              "      <th>4</th>\n",
              "      <th>5</th>\n",
              "      <th>6</th>\n",
              "      <th>7</th>\n",
              "      <th>8</th>\n",
              "      <th>9</th>\n",
              "      <th>10</th>\n",
              "      <th>11</th>\n",
              "      <th>12</th>\n",
              "    </tr>\n",
              "  </thead>\n",
              "  <tbody>\n",
              "    <tr>\n",
              "      <th>0</th>\n",
              "      <td>0002-ORFBO</td>\n",
              "      <td>Nao</td>\n",
              "      <td>Sim</td>\n",
              "      <td>Sim</td>\n",
              "      <td>9</td>\n",
              "      <td>Sim</td>\n",
              "      <td>Nao</td>\n",
              "      <td>Cabo</td>\n",
              "      <td>Nao</td>\n",
              "      <td>Sim</td>\n",
              "      <td>Nao</td>\n",
              "      <td>...</td>\n",
              "      <td>1.0</td>\n",
              "      <td>0.0</td>\n",
              "      <td>0.0</td>\n",
              "      <td>0.0</td>\n",
              "      <td>1.0</td>\n",
              "      <td>0.0</td>\n",
              "      <td>1.0</td>\n",
              "      <td>0.0</td>\n",
              "      <td>0.0</td>\n",
              "      <td>1.0</td>\n",
              "      <td>0.0</td>\n",
              "    </tr>\n",
              "    <tr>\n",
              "      <th>1</th>\n",
              "      <td>0003-MKNFE</td>\n",
              "      <td>Nao</td>\n",
              "      <td>Nao</td>\n",
              "      <td>Nao</td>\n",
              "      <td>9</td>\n",
              "      <td>Sim</td>\n",
              "      <td>Sim</td>\n",
              "      <td>Cabo</td>\n",
              "      <td>Nao</td>\n",
              "      <td>Nao</td>\n",
              "      <td>Nao</td>\n",
              "      <td>...</td>\n",
              "      <td>1.0</td>\n",
              "      <td>0.0</td>\n",
              "      <td>0.0</td>\n",
              "      <td>1.0</td>\n",
              "      <td>0.0</td>\n",
              "      <td>1.0</td>\n",
              "      <td>0.0</td>\n",
              "      <td>0.0</td>\n",
              "      <td>0.0</td>\n",
              "      <td>1.0</td>\n",
              "      <td>0.0</td>\n",
              "    </tr>\n",
              "    <tr>\n",
              "      <th>2</th>\n",
              "      <td>0004-TLHLJ</td>\n",
              "      <td>Sim</td>\n",
              "      <td>Nao</td>\n",
              "      <td>Nao</td>\n",
              "      <td>4</td>\n",
              "      <td>Sim</td>\n",
              "      <td>Nao</td>\n",
              "      <td>Fibra</td>\n",
              "      <td>Nao</td>\n",
              "      <td>Nao</td>\n",
              "      <td>Sim</td>\n",
              "      <td>...</td>\n",
              "      <td>1.0</td>\n",
              "      <td>0.0</td>\n",
              "      <td>0.0</td>\n",
              "      <td>1.0</td>\n",
              "      <td>0.0</td>\n",
              "      <td>0.0</td>\n",
              "      <td>1.0</td>\n",
              "      <td>0.0</td>\n",
              "      <td>1.0</td>\n",
              "      <td>0.0</td>\n",
              "      <td>0.0</td>\n",
              "    </tr>\n",
              "    <tr>\n",
              "      <th>3</th>\n",
              "      <td>0011-IGKFF</td>\n",
              "      <td>Sim</td>\n",
              "      <td>Sim</td>\n",
              "      <td>Nao</td>\n",
              "      <td>13</td>\n",
              "      <td>Sim</td>\n",
              "      <td>Nao</td>\n",
              "      <td>Fibra</td>\n",
              "      <td>Nao</td>\n",
              "      <td>Sim</td>\n",
              "      <td>Sim</td>\n",
              "      <td>...</td>\n",
              "      <td>0.0</td>\n",
              "      <td>1.0</td>\n",
              "      <td>0.0</td>\n",
              "      <td>1.0</td>\n",
              "      <td>0.0</td>\n",
              "      <td>0.0</td>\n",
              "      <td>1.0</td>\n",
              "      <td>0.0</td>\n",
              "      <td>1.0</td>\n",
              "      <td>0.0</td>\n",
              "      <td>0.0</td>\n",
              "    </tr>\n",
              "    <tr>\n",
              "      <th>4</th>\n",
              "      <td>0013-EXCHZ</td>\n",
              "      <td>Sim</td>\n",
              "      <td>Sim</td>\n",
              "      <td>Nao</td>\n",
              "      <td>3</td>\n",
              "      <td>Sim</td>\n",
              "      <td>Nao</td>\n",
              "      <td>Fibra</td>\n",
              "      <td>Nao</td>\n",
              "      <td>Nao</td>\n",
              "      <td>Nao</td>\n",
              "      <td>...</td>\n",
              "      <td>0.0</td>\n",
              "      <td>1.0</td>\n",
              "      <td>0.0</td>\n",
              "      <td>1.0</td>\n",
              "      <td>0.0</td>\n",
              "      <td>0.0</td>\n",
              "      <td>1.0</td>\n",
              "      <td>0.0</td>\n",
              "      <td>0.0</td>\n",
              "      <td>1.0</td>\n",
              "      <td>0.0</td>\n",
              "    </tr>\n",
              "  </tbody>\n",
              "</table>\n",
              "<p>5 rows × 30 columns</p>\n",
              "</div>\n",
              "      <button class=\"colab-df-convert\" onclick=\"convertToInteractive('df-05560334-ac78-4303-a6f4-f5b11d1cfe49')\"\n",
              "              title=\"Convert this dataframe to an interactive table.\"\n",
              "              style=\"display:none;\">\n",
              "        \n",
              "  <svg xmlns=\"http://www.w3.org/2000/svg\" height=\"24px\"viewBox=\"0 0 24 24\"\n",
              "       width=\"24px\">\n",
              "    <path d=\"M0 0h24v24H0V0z\" fill=\"none\"/>\n",
              "    <path d=\"M18.56 5.44l.94 2.06.94-2.06 2.06-.94-2.06-.94-.94-2.06-.94 2.06-2.06.94zm-11 1L8.5 8.5l.94-2.06 2.06-.94-2.06-.94L8.5 2.5l-.94 2.06-2.06.94zm10 10l.94 2.06.94-2.06 2.06-.94-2.06-.94-.94-2.06-.94 2.06-2.06.94z\"/><path d=\"M17.41 7.96l-1.37-1.37c-.4-.4-.92-.59-1.43-.59-.52 0-1.04.2-1.43.59L10.3 9.45l-7.72 7.72c-.78.78-.78 2.05 0 2.83L4 21.41c.39.39.9.59 1.41.59.51 0 1.02-.2 1.41-.59l7.78-7.78 2.81-2.81c.8-.78.8-2.07 0-2.86zM5.41 20L4 18.59l7.72-7.72 1.47 1.35L5.41 20z\"/>\n",
              "  </svg>\n",
              "      </button>\n",
              "      \n",
              "  <style>\n",
              "    .colab-df-container {\n",
              "      display:flex;\n",
              "      flex-wrap:wrap;\n",
              "      gap: 12px;\n",
              "    }\n",
              "\n",
              "    .colab-df-convert {\n",
              "      background-color: #E8F0FE;\n",
              "      border: none;\n",
              "      border-radius: 50%;\n",
              "      cursor: pointer;\n",
              "      display: none;\n",
              "      fill: #1967D2;\n",
              "      height: 32px;\n",
              "      padding: 0 0 0 0;\n",
              "      width: 32px;\n",
              "    }\n",
              "\n",
              "    .colab-df-convert:hover {\n",
              "      background-color: #E2EBFA;\n",
              "      box-shadow: 0px 1px 2px rgba(60, 64, 67, 0.3), 0px 1px 3px 1px rgba(60, 64, 67, 0.15);\n",
              "      fill: #174EA6;\n",
              "    }\n",
              "\n",
              "    [theme=dark] .colab-df-convert {\n",
              "      background-color: #3B4455;\n",
              "      fill: #D2E3FC;\n",
              "    }\n",
              "\n",
              "    [theme=dark] .colab-df-convert:hover {\n",
              "      background-color: #434B5C;\n",
              "      box-shadow: 0px 1px 3px 1px rgba(0, 0, 0, 0.15);\n",
              "      filter: drop-shadow(0px 1px 2px rgba(0, 0, 0, 0.3));\n",
              "      fill: #FFFFFF;\n",
              "    }\n",
              "  </style>\n",
              "\n",
              "      <script>\n",
              "        const buttonEl =\n",
              "          document.querySelector('#df-05560334-ac78-4303-a6f4-f5b11d1cfe49 button.colab-df-convert');\n",
              "        buttonEl.style.display =\n",
              "          google.colab.kernel.accessAllowed ? 'block' : 'none';\n",
              "\n",
              "        async function convertToInteractive(key) {\n",
              "          const element = document.querySelector('#df-05560334-ac78-4303-a6f4-f5b11d1cfe49');\n",
              "          const dataTable =\n",
              "            await google.colab.kernel.invokeFunction('convertToInteractive',\n",
              "                                                     [key], {});\n",
              "          if (!dataTable) return;\n",
              "\n",
              "          const docLinkHtml = 'Like what you see? Visit the ' +\n",
              "            '<a target=\"_blank\" href=https://colab.research.google.com/notebooks/data_table.ipynb>data table notebook</a>'\n",
              "            + ' to learn more about interactive tables.';\n",
              "          element.innerHTML = '';\n",
              "          dataTable['output_type'] = 'display_data';\n",
              "          await google.colab.output.renderOutput(dataTable, element);\n",
              "          const docLink = document.createElement('div');\n",
              "          docLink.innerHTML = docLinkHtml;\n",
              "          element.appendChild(docLink);\n",
              "        }\n",
              "      </script>\n",
              "    </div>\n",
              "  </div>\n",
              "  "
            ]
          },
          "metadata": {},
          "execution_count": 79
        }
      ]
    },
    {
      "cell_type": "markdown",
      "source": [
        "# Verificar se a variável target `Churn` está desbalanceada\n",
        "\n",
        "Ver artigo: https://www.alura.com.br/artigos/lidando-com-desbalanceamento-dados\n",
        "\n",
        "Ver documentação: https://imbalanced-learn.org/stable/introduction.html\n",
        "\n",
        "Ver treinamento da Sthe: https://cursos.alura.com.br/course/modelos-preditivos-dados-deteccao-fraude/task/106523"
      ],
      "metadata": {
        "id": "_LKA1oDY5pml"
      }
    },
    {
      "cell_type": "code",
      "source": [
        "# armazenando os dados de cancelamento do plano em uma variável chamada churn\n",
        "churn = df_encoded['cancelou_plano']\n",
        "\n",
        "# separando entre clientes que estão ativos e aqueles que cancelaram o plano (former_customer)\n",
        "# lembrando que o \"Sim\" significa que o cliente cancelou o plano\n",
        "active_customers = (churn == 0).sum()\n",
        "former_customers = (churn == 1).sum()\n",
        "total_customers = len(churn)\n",
        "\n",
        "print(f'Total de planos: {total_customers}')\n",
        "print(f'Planos ativos: {active_customers}, {round(active_customers/total_customers*100, 2)}% do total')\n",
        "print(f'Planos cancelados: {former_customers}, {round(former_customers/total_customers*100, 2)}% do total')"
      ],
      "metadata": {
        "colab": {
          "base_uri": "https://localhost:8080/"
        },
        "id": "Xut3UH3GyW_T",
        "outputId": "2411b878-4c65-445f-9e04-333960f7de75"
      },
      "execution_count": 80,
      "outputs": [
        {
          "output_type": "stream",
          "name": "stdout",
          "text": [
            "Total de planos: 7043\n",
            "Planos ativos: 5174, 73.46% do total\n",
            "Planos cancelados: 1869, 26.54% do total\n"
          ]
        }
      ]
    },
    {
      "cell_type": "markdown",
      "source": [
        "Cerca de pouco mais de **um quarto da base** é formado por pessoas que **cancelaram** o plano (valor `1` na base), e o restante, de pessoas que mantiveram o plano (valor `0` na base). Isso faz com que a variável **target esteja desbalanceada**, o que pode **prejudicar** na criação dos modelos de Machine Learning. \n",
        "\n",
        "Desse modo, antes de criar os modelos é necessário fazer um balanceamento do target. \n",
        "\n",
        "Isso pode ser feito por meio do **oversampling**, isto é, criação de **novos dados (sintéticos) para aumentar** a quantidade de valores 1 na variável `cancelou_plano`, ou por meio do **undersampling**, isto é, selecionando na base **apenas alguns de registros** que possuam o valor 0 em `cancelou_plano`. Em ambas as estratégias, o objetivo e ter uma quantidade equivalente de registros com os valores 0 e 1."
      ],
      "metadata": {
        "id": "NliC0Y5pzEW9"
      }
    },
    {
      "cell_type": "markdown",
      "source": [
        "## Estratégia de balanceamento 1: Oversampling\n",
        "Utilizando o algoritmo SMOTE (KNN) para cópia de dados"
      ],
      "metadata": {
        "id": "GAFx1aAe1pQ2"
      }
    },
    {
      "cell_type": "code",
      "source": [
        "# aplicando o random_state para garantir a replicabilidade do código\n",
        "smote = SMOTE(random_state = SEED)\n",
        "\n",
        "# separando as variáveis de treino e target\n",
        "# client_ID também foi removida, pois não será utilizada na modelagem (é só um identificador)\n",
        "x = df_encoded.drop(['cancelou_plano', 'cliente_ID'], axis=1)\n",
        "y = df_encoded['cancelou_plano']  \n",
        "\n",
        "# aplicando a SMOTE e salvando os novos dados criados\n",
        "x_oversmp, y_oversmp = smote.fit_resample(x, y)"
      ],
      "metadata": {
        "id": "ZR59b7bn1wH-"
      },
      "execution_count": 81,
      "outputs": []
    },
    {
      "cell_type": "code",
      "source": [
        "# criando a base balanceada com oversampling\n",
        "df_oversmp = pd.concat([y_oversmp, x_oversmp], axis=1)\n",
        "df_oversmp.sample(5)"
      ],
      "metadata": {
        "colab": {
          "base_uri": "https://localhost:8080/",
          "height": 270
        },
        "id": "NWGkU1pC8ap5",
        "outputId": "131bb691-0655-4db3-e2cb-4643162f4e69"
      },
      "execution_count": 82,
      "outputs": [
        {
          "output_type": "execute_result",
          "data": {
            "text/plain": [
              "      cancelou_plano  genero  maior_65_anos  possui_companheiro_companheira  \\\n",
              "2585               0       1              0                               0   \n",
              "6490               0       1              0                               1   \n",
              "5250               0       1              0                               1   \n",
              "1942               1       0              0                               0   \n",
              "1618               1       0              0                               0   \n",
              "\n",
              "      possui_dependentes  meses_contrato  assina_telefone  \\\n",
              "2585                   0              68                1   \n",
              "6490                   0              63                1   \n",
              "5250                   0               3                1   \n",
              "1942                   0              13                0   \n",
              "1618                   0              24                1   \n",
              "\n",
              "      multiplas_linhas_telefonicas  tipo_assinatura_internet  \\\n",
              "2585                             2                         2   \n",
              "6490                             2                         0   \n",
              "5250                             2                         1   \n",
              "1942                             1                         0   \n",
              "1618                             2                         1   \n",
              "\n",
              "      adicional_seguranca_online  adicional_backup_online  \\\n",
              "2585                           1                        1   \n",
              "6490                           2                        2   \n",
              "5250                           0                        0   \n",
              "1942                           2                        0   \n",
              "1618                           0                        2   \n",
              "\n",
              "      adicional_protecao_dispositivo  adicional_suporte_VIP  assina_TV_cabo  \\\n",
              "2585                               1                      1               1   \n",
              "6490                               0                      0               2   \n",
              "5250                               0                      0               2   \n",
              "1942                               0                      2               2   \n",
              "1618                               0                      0               0   \n",
              "\n",
              "      assina_streaming_filmes  plano_contratado  fatura_online  \\\n",
              "2585                        1                 0              0   \n",
              "6490                        2                 2              1   \n",
              "5250                        2                 1              0   \n",
              "1942                        0                 1              1   \n",
              "1618                        0                 1              1   \n",
              "\n",
              "      forma_pagamento  gasto_diario  gasto_mensal  gasto_total  \n",
              "2585                3          0.85         25.50      1821.80  \n",
              "6490                0          2.66         79.70      4786.15  \n",
              "5250                1          3.16         94.90       273.20  \n",
              "1942                0          1.52         45.55       597.00  \n",
              "1618                1          2.68         80.25      1861.50  "
            ],
            "text/html": [
              "\n",
              "  <div id=\"df-99b0f0ed-d79b-4057-9708-b7b95c53729e\">\n",
              "    <div class=\"colab-df-container\">\n",
              "      <div>\n",
              "<style scoped>\n",
              "    .dataframe tbody tr th:only-of-type {\n",
              "        vertical-align: middle;\n",
              "    }\n",
              "\n",
              "    .dataframe tbody tr th {\n",
              "        vertical-align: top;\n",
              "    }\n",
              "\n",
              "    .dataframe thead th {\n",
              "        text-align: right;\n",
              "    }\n",
              "</style>\n",
              "<table border=\"1\" class=\"dataframe\">\n",
              "  <thead>\n",
              "    <tr style=\"text-align: right;\">\n",
              "      <th></th>\n",
              "      <th>cancelou_plano</th>\n",
              "      <th>genero</th>\n",
              "      <th>maior_65_anos</th>\n",
              "      <th>possui_companheiro_companheira</th>\n",
              "      <th>possui_dependentes</th>\n",
              "      <th>meses_contrato</th>\n",
              "      <th>assina_telefone</th>\n",
              "      <th>multiplas_linhas_telefonicas</th>\n",
              "      <th>tipo_assinatura_internet</th>\n",
              "      <th>adicional_seguranca_online</th>\n",
              "      <th>adicional_backup_online</th>\n",
              "      <th>adicional_protecao_dispositivo</th>\n",
              "      <th>adicional_suporte_VIP</th>\n",
              "      <th>assina_TV_cabo</th>\n",
              "      <th>assina_streaming_filmes</th>\n",
              "      <th>plano_contratado</th>\n",
              "      <th>fatura_online</th>\n",
              "      <th>forma_pagamento</th>\n",
              "      <th>gasto_diario</th>\n",
              "      <th>gasto_mensal</th>\n",
              "      <th>gasto_total</th>\n",
              "    </tr>\n",
              "  </thead>\n",
              "  <tbody>\n",
              "    <tr>\n",
              "      <th>2585</th>\n",
              "      <td>0</td>\n",
              "      <td>1</td>\n",
              "      <td>0</td>\n",
              "      <td>0</td>\n",
              "      <td>0</td>\n",
              "      <td>68</td>\n",
              "      <td>1</td>\n",
              "      <td>2</td>\n",
              "      <td>2</td>\n",
              "      <td>1</td>\n",
              "      <td>1</td>\n",
              "      <td>1</td>\n",
              "      <td>1</td>\n",
              "      <td>1</td>\n",
              "      <td>1</td>\n",
              "      <td>0</td>\n",
              "      <td>0</td>\n",
              "      <td>3</td>\n",
              "      <td>0.85</td>\n",
              "      <td>25.50</td>\n",
              "      <td>1821.80</td>\n",
              "    </tr>\n",
              "    <tr>\n",
              "      <th>6490</th>\n",
              "      <td>0</td>\n",
              "      <td>1</td>\n",
              "      <td>0</td>\n",
              "      <td>1</td>\n",
              "      <td>0</td>\n",
              "      <td>63</td>\n",
              "      <td>1</td>\n",
              "      <td>2</td>\n",
              "      <td>0</td>\n",
              "      <td>2</td>\n",
              "      <td>2</td>\n",
              "      <td>0</td>\n",
              "      <td>0</td>\n",
              "      <td>2</td>\n",
              "      <td>2</td>\n",
              "      <td>2</td>\n",
              "      <td>1</td>\n",
              "      <td>0</td>\n",
              "      <td>2.66</td>\n",
              "      <td>79.70</td>\n",
              "      <td>4786.15</td>\n",
              "    </tr>\n",
              "    <tr>\n",
              "      <th>5250</th>\n",
              "      <td>0</td>\n",
              "      <td>1</td>\n",
              "      <td>0</td>\n",
              "      <td>1</td>\n",
              "      <td>0</td>\n",
              "      <td>3</td>\n",
              "      <td>1</td>\n",
              "      <td>2</td>\n",
              "      <td>1</td>\n",
              "      <td>0</td>\n",
              "      <td>0</td>\n",
              "      <td>0</td>\n",
              "      <td>0</td>\n",
              "      <td>2</td>\n",
              "      <td>2</td>\n",
              "      <td>1</td>\n",
              "      <td>0</td>\n",
              "      <td>1</td>\n",
              "      <td>3.16</td>\n",
              "      <td>94.90</td>\n",
              "      <td>273.20</td>\n",
              "    </tr>\n",
              "    <tr>\n",
              "      <th>1942</th>\n",
              "      <td>1</td>\n",
              "      <td>0</td>\n",
              "      <td>0</td>\n",
              "      <td>0</td>\n",
              "      <td>0</td>\n",
              "      <td>13</td>\n",
              "      <td>0</td>\n",
              "      <td>1</td>\n",
              "      <td>0</td>\n",
              "      <td>2</td>\n",
              "      <td>0</td>\n",
              "      <td>0</td>\n",
              "      <td>2</td>\n",
              "      <td>2</td>\n",
              "      <td>0</td>\n",
              "      <td>1</td>\n",
              "      <td>1</td>\n",
              "      <td>0</td>\n",
              "      <td>1.52</td>\n",
              "      <td>45.55</td>\n",
              "      <td>597.00</td>\n",
              "    </tr>\n",
              "    <tr>\n",
              "      <th>1618</th>\n",
              "      <td>1</td>\n",
              "      <td>0</td>\n",
              "      <td>0</td>\n",
              "      <td>0</td>\n",
              "      <td>0</td>\n",
              "      <td>24</td>\n",
              "      <td>1</td>\n",
              "      <td>2</td>\n",
              "      <td>1</td>\n",
              "      <td>0</td>\n",
              "      <td>2</td>\n",
              "      <td>0</td>\n",
              "      <td>0</td>\n",
              "      <td>0</td>\n",
              "      <td>0</td>\n",
              "      <td>1</td>\n",
              "      <td>1</td>\n",
              "      <td>1</td>\n",
              "      <td>2.68</td>\n",
              "      <td>80.25</td>\n",
              "      <td>1861.50</td>\n",
              "    </tr>\n",
              "  </tbody>\n",
              "</table>\n",
              "</div>\n",
              "      <button class=\"colab-df-convert\" onclick=\"convertToInteractive('df-99b0f0ed-d79b-4057-9708-b7b95c53729e')\"\n",
              "              title=\"Convert this dataframe to an interactive table.\"\n",
              "              style=\"display:none;\">\n",
              "        \n",
              "  <svg xmlns=\"http://www.w3.org/2000/svg\" height=\"24px\"viewBox=\"0 0 24 24\"\n",
              "       width=\"24px\">\n",
              "    <path d=\"M0 0h24v24H0V0z\" fill=\"none\"/>\n",
              "    <path d=\"M18.56 5.44l.94 2.06.94-2.06 2.06-.94-2.06-.94-.94-2.06-.94 2.06-2.06.94zm-11 1L8.5 8.5l.94-2.06 2.06-.94-2.06-.94L8.5 2.5l-.94 2.06-2.06.94zm10 10l.94 2.06.94-2.06 2.06-.94-2.06-.94-.94-2.06-.94 2.06-2.06.94z\"/><path d=\"M17.41 7.96l-1.37-1.37c-.4-.4-.92-.59-1.43-.59-.52 0-1.04.2-1.43.59L10.3 9.45l-7.72 7.72c-.78.78-.78 2.05 0 2.83L4 21.41c.39.39.9.59 1.41.59.51 0 1.02-.2 1.41-.59l7.78-7.78 2.81-2.81c.8-.78.8-2.07 0-2.86zM5.41 20L4 18.59l7.72-7.72 1.47 1.35L5.41 20z\"/>\n",
              "  </svg>\n",
              "      </button>\n",
              "      \n",
              "  <style>\n",
              "    .colab-df-container {\n",
              "      display:flex;\n",
              "      flex-wrap:wrap;\n",
              "      gap: 12px;\n",
              "    }\n",
              "\n",
              "    .colab-df-convert {\n",
              "      background-color: #E8F0FE;\n",
              "      border: none;\n",
              "      border-radius: 50%;\n",
              "      cursor: pointer;\n",
              "      display: none;\n",
              "      fill: #1967D2;\n",
              "      height: 32px;\n",
              "      padding: 0 0 0 0;\n",
              "      width: 32px;\n",
              "    }\n",
              "\n",
              "    .colab-df-convert:hover {\n",
              "      background-color: #E2EBFA;\n",
              "      box-shadow: 0px 1px 2px rgba(60, 64, 67, 0.3), 0px 1px 3px 1px rgba(60, 64, 67, 0.15);\n",
              "      fill: #174EA6;\n",
              "    }\n",
              "\n",
              "    [theme=dark] .colab-df-convert {\n",
              "      background-color: #3B4455;\n",
              "      fill: #D2E3FC;\n",
              "    }\n",
              "\n",
              "    [theme=dark] .colab-df-convert:hover {\n",
              "      background-color: #434B5C;\n",
              "      box-shadow: 0px 1px 3px 1px rgba(0, 0, 0, 0.15);\n",
              "      filter: drop-shadow(0px 1px 2px rgba(0, 0, 0, 0.3));\n",
              "      fill: #FFFFFF;\n",
              "    }\n",
              "  </style>\n",
              "\n",
              "      <script>\n",
              "        const buttonEl =\n",
              "          document.querySelector('#df-99b0f0ed-d79b-4057-9708-b7b95c53729e button.colab-df-convert');\n",
              "        buttonEl.style.display =\n",
              "          google.colab.kernel.accessAllowed ? 'block' : 'none';\n",
              "\n",
              "        async function convertToInteractive(key) {\n",
              "          const element = document.querySelector('#df-99b0f0ed-d79b-4057-9708-b7b95c53729e');\n",
              "          const dataTable =\n",
              "            await google.colab.kernel.invokeFunction('convertToInteractive',\n",
              "                                                     [key], {});\n",
              "          if (!dataTable) return;\n",
              "\n",
              "          const docLinkHtml = 'Like what you see? Visit the ' +\n",
              "            '<a target=\"_blank\" href=https://colab.research.google.com/notebooks/data_table.ipynb>data table notebook</a>'\n",
              "            + ' to learn more about interactive tables.';\n",
              "          element.innerHTML = '';\n",
              "          dataTable['output_type'] = 'display_data';\n",
              "          await google.colab.output.renderOutput(dataTable, element);\n",
              "          const docLink = document.createElement('div');\n",
              "          docLink.innerHTML = docLinkHtml;\n",
              "          element.appendChild(docLink);\n",
              "        }\n",
              "      </script>\n",
              "    </div>\n",
              "  </div>\n",
              "  "
            ]
          },
          "metadata": {},
          "execution_count": 82
        }
      ]
    },
    {
      "cell_type": "code",
      "source": [
        "# verificando o balanceamento e comparando com a base original\n",
        "print('Tamanho base original: ', df.shape)\n",
        "print('Tamanho base com oversample: ', df_oversmp.shape)\n",
        "print('Valores de churn:')\n",
        "print(df_oversmp['cancelou_plano'].value_counts())"
      ],
      "metadata": {
        "colab": {
          "base_uri": "https://localhost:8080/"
        },
        "id": "eSZQHYvy886L",
        "outputId": "9e9fa992-5131-4d7f-c39b-cf9d0f3c42f3"
      },
      "execution_count": 83,
      "outputs": [
        {
          "output_type": "stream",
          "name": "stdout",
          "text": [
            "Tamanho base original:  (7043, 22)\n",
            "Tamanho base com oversample:  (10348, 21)\n",
            "Valores de churn:\n",
            "0    5174\n",
            "1    5174\n",
            "Name: cancelou_plano, dtype: int64\n"
          ]
        }
      ]
    },
    {
      "cell_type": "markdown",
      "source": [
        "## TO DO: Estratégia de balanceamento 2: Undersampling"
      ],
      "metadata": {
        "id": "y0Ds-AF21wf2"
      }
    },
    {
      "cell_type": "markdown",
      "source": [
        "# Criação dos modelos de Machine Learning\n",
        "\n",
        "Ver treinamento Sthe: https://cursos.alura.com.br/course/modelos-preditivos-dados-deteccao-fraude/task/106526\n",
        "\n",
        "Rever curso Kaggle: \n",
        "> https://www.kaggle.com/code/dansbecker/your-first-machine-learning-model, \n",
        "\n",
        "> https://www.kaggle.com/code/dansbecker/random-forests\n",
        "\n",
        "Ver código criado na Housing Prices Competition do Kaggle (precisa estar logado), leaderboard #12792: https://www.kaggle.com/code/zingarelli/ml-competitions-first-own-submission\n",
        "\n",
        "Aula de ML da Imersão Dados 4 da Alura (talvez já não esteja disponível): https://www.youtube.com/watch?v=8VsqXXXHp8U"
      ],
      "metadata": {
        "id": "aGGazgR3B6m2"
      }
    },
    {
      "cell_type": "markdown",
      "source": [
        "Criei algumas funções para etapas que serão utilizadas pelos dois modelos, para evitar repetição de código."
      ],
      "metadata": {
        "id": "vOAmAjm9EYTE"
      }
    },
    {
      "cell_type": "code",
      "source": [
        "# função que separa e retorna os dados de treino e teste, baseado nas features escolhidas\n",
        "def get_training_data(data, features):\n",
        "  # separando target e features\n",
        "  y = data['cancelou_plano']\n",
        "  X = data[features]  \n",
        "\n",
        "  # retorna os dados de treino e validação (por padrão 25% dos dados para validação)\n",
        "  return train_test_split(X, y, random_state=SEED)"
      ],
      "metadata": {
        "id": "Bb0qiXLDCk1T"
      },
      "execution_count": 84,
      "outputs": []
    },
    {
      "cell_type": "code",
      "source": [
        "# função que imprime as métricas de acurácia, precisão, recall (sensibilidade), F1\n",
        "# e também faz o plot da matriz de confusão\n",
        "def get_metrics(test, prediction):\n",
        "  # métricas de validação do modelo criado\n",
        "  print('-'*40 + '\\nResultados do Modelo\\n' + '-'*40)\n",
        "  print('Acurácia (acerto geral): ', metrics.accuracy_score(test, prediction))\n",
        "  print('Precisão (acerto de quem cancelou o plano, dentre os positivos reais): ', metrics.precision_score(test, prediction))\n",
        "  print('Recall (acerto de quem cancelou o plano, dentre todos os positivos): ', metrics.recall_score(test, prediction)) \n",
        "  print('F1 (média harmônica precisão e recall): ', metrics.f1_score(test, prediction))\n",
        "\n",
        "  # plot da matriz de confusão\n",
        "  cm = metrics.confusion_matrix(test, prediction)\n",
        "  disp = metrics.ConfusionMatrixDisplay(cm)\n",
        "  disp.plot()"
      ],
      "metadata": {
        "id": "-XTPXef-CkjP"
      },
      "execution_count": 85,
      "outputs": []
    },
    {
      "cell_type": "markdown",
      "source": [
        "## Modelo 1: Random Forest\n",
        "\n",
        "Ver documentação: https://scikit-learn.org/stable/modules/generated/sklearn.ensemble.RandomForestClassifier.html"
      ],
      "metadata": {
        "id": "7vzBk9gUYfPB"
      }
    },
    {
      "cell_type": "code",
      "source": [
        "# função para criar o modelo e aplicar algumas métricas\n",
        "# data: base de dados\n",
        "# features: colunas a serem consideradas para o treino\n",
        "# n_trees: número de árvores da floresta\n",
        "# depth: faz a \"poda\" das árvores após atingir a profundidade (para evitar overfitting)\n",
        "def random_forest_model(data, features, n_trees=100, depth=5):  \n",
        "  # separando os dados de treino e validação (por padrão 25% dos dados para validação)\n",
        "  X_train, X_test, y_train, y_test = get_training_data(data, features)\n",
        "\n",
        "  # criando o modelo e predizendo os resultados de teste\n",
        "  rf = RandomForestClassifier(random_state=SEED, n_estimators=n_trees, max_depth=depth)\n",
        "  rf.fit(X_train, y_train)\n",
        "  y_pred = rf.predict(X_test)\n",
        "\n",
        "  # print das métricas e matriz de confusão\n",
        "  get_metrics(y_test, y_pred)"
      ],
      "metadata": {
        "id": "DmFuDm9YOCoG"
      },
      "execution_count": 86,
      "outputs": []
    },
    {
      "cell_type": "code",
      "source": [
        "# escolhendo algumas colunas para o modelo\n",
        "features = ['genero', 'maior_65_anos', 'gasto_mensal', 'meses_contrato', 'plano_contratado']\n",
        "features_2 = ['genero', 'maior_65_anos', 'gasto_mensal', 'meses_contrato', 'plano_contratado', 'possui_companheiro_companheira', 'possui_dependentes']\n",
        "\n",
        "# testando o modelo com diferentes parâmetros e features\n",
        "# usando a base de dados balanceada com oversampling\n",
        "random_forest_model(df_oversmp, features, 150, 10)\n",
        "random_forest_model(df_oversmp, features_2, 150, 10)\n",
        "\n",
        "# mesmo teste, com a base de dados original\n",
        "random_forest_model(df_encoded, features, 150, 10)\n",
        "random_forest_model(df_encoded, features_2, 150, 10)\n"
      ],
      "metadata": {
        "colab": {
          "base_uri": "https://localhost:8080/",
          "height": 1000
        },
        "id": "18g5v7jky4ah",
        "outputId": "9841faae-b2fc-47bc-83f5-7131bc4a168e"
      },
      "execution_count": 87,
      "outputs": [
        {
          "output_type": "stream",
          "name": "stdout",
          "text": [
            "----------------------------------------\n",
            "Resultados do Modelo\n",
            "----------------------------------------\n",
            "Acurácia (acerto geral):  0.7935833011209895\n",
            "Precisão (acerto de quem cancelou o plano, dentre os positivos reais):  0.7758379888268156\n",
            "Recall (acerto de quem cancelou o plano, dentre todos os positivos):  0.8391238670694864\n",
            "F1 (média harmônica precisão e recall):  0.8062409288824384\n",
            "----------------------------------------\n",
            "Resultados do Modelo\n",
            "----------------------------------------\n",
            "Acurácia (acerto geral):  0.8001546192500967\n",
            "Precisão (acerto de quem cancelou o plano, dentre os positivos reais):  0.7804030576789437\n",
            "Recall (acerto de quem cancelou o plano, dentre todos os positivos):  0.8481873111782477\n",
            "F1 (média harmônica precisão e recall):  0.8128845457835686\n",
            "----------------------------------------\n",
            "Resultados do Modelo\n",
            "----------------------------------------\n",
            "Acurácia (acerto geral):  0.7932992617830777\n",
            "Precisão (acerto de quem cancelou o plano, dentre os positivos reais):  0.6687116564417178\n",
            "Recall (acerto de quem cancelou o plano, dentre todos os positivos):  0.459915611814346\n",
            "F1 (média harmônica precisão e recall):  0.545\n",
            "----------------------------------------\n",
            "Resultados do Modelo\n",
            "----------------------------------------\n",
            "Acurácia (acerto geral):  0.794434980124929\n",
            "Precisão (acerto de quem cancelou o plano, dentre os positivos reais):  0.6676646706586826\n",
            "Recall (acerto de quem cancelou o plano, dentre todos os positivos):  0.4704641350210971\n",
            "F1 (média harmônica precisão e recall):  0.5519801980198019\n"
          ]
        },
        {
          "output_type": "display_data",
          "data": {
            "text/plain": [
              "<Figure size 432x288 with 2 Axes>"
            ],
            "image/png": "[encoded data removed]"
          },
          "metadata": {
            "needs_background": "light"
          }
        },
        {
          "output_type": "display_data",
          "data": {
            "text/plain": [
              "<Figure size 432x288 with 2 Axes>"
            ],
            "image/png": "[encoded data removed]"
          },
          "metadata": {
            "needs_background": "light"
          }
        },
        {
          "output_type": "display_data",
          "data": {
            "text/plain": [
              "<Figure size 432x288 with 2 Axes>"
            ],
            "image/png": "[encoded data removed]"
          },
          "metadata": {
            "needs_background": "light"
          }
        },
        {
          "output_type": "display_data",
          "data": {
            "text/plain": [
              "<Figure size 432x288 with 2 Axes>"
            ],
            "image/png": "[encoded data removed]"
          },
          "metadata": {
            "needs_background": "light"
          }
        }
      ]
    },
    {
      "cell_type": "markdown",
      "source": [
        "## Modelo 2: SVC (Support Vector Classification)\n",
        "\n",
        "Ver documentação: \n",
        "\n",
        "> https://scikit-learn.org/stable/modules/svm.html#\n",
        "\n",
        "> https://scikit-learn.org/stable/modules/generated/sklearn.svm.SVC.html#sklearn.svm.SVC"
      ],
      "metadata": {
        "id": "b3DXHvnOYXND"
      }
    },
    {
      "cell_type": "markdown",
      "source": [
        "TO DO: verificar como alterar os parâmetros para otimizar o modelo"
      ],
      "metadata": {
        "id": "bTGGl383EyiV"
      }
    },
    {
      "cell_type": "code",
      "source": [
        "# função para criar o modelo e aplicar algumas métricas\n",
        "def SVC_model(data, features):\n",
        "  X_train, X_test, y_train, y_test = get_training_data(data, features)\n",
        "\n",
        "  # criando o modelo e predizendo os resultados de teste\n",
        "  clf = SVC(random_state=SEED)\n",
        "  clf.fit(X_train, y_train)\n",
        "  y_pred = clf.predict(X_test)\n",
        "\n",
        "  # print das métricas e matriz de confusão\n",
        "  get_metrics(y_test, y_pred)"
      ],
      "metadata": {
        "id": "oEfrROIHQgWL"
      },
      "execution_count": 88,
      "outputs": []
    },
    {
      "cell_type": "code",
      "source": [
        "# escolhendo algumas colunas para o modelo\n",
        "features = ['genero', 'maior_65_anos', 'gasto_mensal', 'meses_contrato', 'plano_contratado']\n",
        "features_2 = ['genero', 'maior_65_anos', 'gasto_mensal', 'meses_contrato', 'plano_contratado', 'possui_companheiro_companheira', 'possui_dependentes']\n",
        "\n",
        "# testando o modelo com diferentes parâmetros e features\n",
        "# usando a base de dados balanceada com oversampling\n",
        "SVC_model(df_oversmp, features)\n",
        "SVC_model(df_oversmp, features_2)\n",
        "\n",
        "# mesmo teste, com a base de dados original\n",
        "SVC_model(df_encoded, features)\n",
        "SVC_model(df_encoded, features_2)\n"
      ],
      "metadata": {
        "colab": {
          "base_uri": "https://localhost:8080/",
          "height": 1000
        },
        "id": "pAS7e7Om7sBN",
        "outputId": "b74daf28-7680-4c48-e583-ee3c49883d79"
      },
      "execution_count": 89,
      "outputs": [
        {
          "output_type": "stream",
          "name": "stdout",
          "text": [
            "----------------------------------------\n",
            "Resultados do Modelo\n",
            "----------------------------------------\n",
            "Acurácia (acerto geral):  0.7394665635871666\n",
            "Precisão (acerto de quem cancelou o plano, dentre os positivos reais):  0.7275910364145658\n",
            "Recall (acerto de quem cancelou o plano, dentre todos os positivos):  0.7847432024169184\n",
            "F1 (média harmônica precisão e recall):  0.7550872093023256\n",
            "----------------------------------------\n",
            "Resultados do Modelo\n",
            "----------------------------------------\n",
            "Acurácia (acerto geral):  0.7421724004638578\n",
            "Precisão (acerto de quem cancelou o plano, dentre os positivos reais):  0.7292393579902303\n",
            "Recall (acerto de quem cancelou o plano, dentre todos os positivos):  0.7892749244712991\n",
            "F1 (média harmônica precisão e recall):  0.758070366340225\n",
            "----------------------------------------\n",
            "Resultados do Modelo\n",
            "----------------------------------------\n",
            "Acurácia (acerto geral):  0.7910278250993753\n",
            "Precisão (acerto de quem cancelou o plano, dentre os positivos reais):  0.7054263565891473\n",
            "Recall (acerto de quem cancelou o plano, dentre todos os positivos):  0.38396624472573837\n",
            "F1 (média harmônica precisão e recall):  0.4972677595628415\n",
            "----------------------------------------\n",
            "Resultados do Modelo\n",
            "----------------------------------------\n",
            "Acurácia (acerto geral):  0.7915956842703009\n",
            "Precisão (acerto de quem cancelou o plano, dentre os positivos reais):  0.708171206225681\n",
            "Recall (acerto de quem cancelou o plano, dentre todos os positivos):  0.38396624472573837\n",
            "F1 (média harmônica precisão e recall):  0.49794801641586867\n"
          ]
        },
        {
          "output_type": "display_data",
          "data": {
            "text/plain": [
              "<Figure size 432x288 with 2 Axes>"
            ],
            "image/png": "[encoded data removed]"
          },
          "metadata": {
            "needs_background": "light"
          }
        },
        {
          "output_type": "display_data",
          "data": {
            "text/plain": [
              "<Figure size 432x288 with 2 Axes>"
            ],
            "image/png": "[encoded data removed]"
          },
          "metadata": {
            "needs_background": "light"
          }
        },
        {
          "output_type": "display_data",
          "data": {
            "text/plain": [
              "<Figure size 432x288 with 2 Axes>"
            ],
            "image/png": "[encoded data removed]"
          },
          "metadata": {
            "needs_background": "light"
          }
        },
        {
          "output_type": "display_data",
          "data": {
            "text/plain": [
              "<Figure size 432x288 with 2 Axes>"
            ],
            "image/png": "[encoded data removed]"
          },
          "metadata": {
            "needs_background": "light"
          }
        }
      ]
    },
    {
      "cell_type": "markdown",
      "source": [
        "# TO DO: análise de métricas e testar modelos com o outro tipo de encoding\n",
        "\n",
        "Ver aula da Sthe: https://cursos.alura.com.br/course/modelos-preditivos-dados-deteccao-fraude/task/106629"
      ],
      "metadata": {
        "id": "rnDeeqn9Ym0a"
      }
    },
    {
      "cell_type": "markdown",
      "source": [
        "## Teste com o One-Hot Encoding\n",
        "\n",
        "Sim, essa parte está bem hardcoded e muito feia... :(\n",
        "\n",
        "Quis testar o One-Hot Encoding quando grande parte do projeto já havia sido feita. Aplicá-lo de maneira mais padronizada envolveria refatoração de muito código, o que não vou conseguir fazer para entregar o desafio dentro do prazo."
      ],
      "metadata": {
        "id": "sbX-hMxbUhO5"
      }
    },
    {
      "cell_type": "code",
      "source": [
        "# encode das colunas categóricas que irão para o modelo\n",
        "cat_features = ['genero', 'maior_65_anos', 'plano_contratado']\n",
        "df_OH_encoded = OH_encode(df, cat_features)\n",
        "\n",
        "# alterando o target para 0 (não cancelou) ou 1 (cancelou)\n",
        "df_OH_encoded['cancelou_plano'] = df_OH_encoded['cancelou_plano'].apply(lambda x : 1 if x == 'Sim' else 0)\n",
        "\n",
        "# o One-Hot Encoding modificou as colunas, então preciso alterar as features\n",
        "features = [0, 1, 2, 3, 4, 5, 6]\n",
        "\n",
        "# fazendo o oversampling\n",
        "smote = SMOTE(random_state = SEED)\n",
        "x = df_OH_encoded[features]\n",
        "y = df_OH_encoded['cancelou_plano']\n",
        "x_oversmp, y_oversmp = smote.fit_resample(x, y)\n",
        "df_OH_oversmp = pd.concat([y_oversmp, x_oversmp], axis=1)\n",
        "\n",
        "# testando os modelos\n",
        "random_forest_model(df_OH_oversmp, features, 150, 10)\n",
        "SVC_model(df_OH_oversmp, features)\n",
        "\n"
      ],
      "metadata": {
        "colab": {
          "base_uri": "https://localhost:8080/",
          "height": 784
        },
        "id": "QbuGsIGMQaPB",
        "outputId": "8989fd37-ff09-49de-a7eb-76e50aa61f63"
      },
      "execution_count": 90,
      "outputs": [
        {
          "output_type": "stream",
          "name": "stdout",
          "text": [
            "----------------------------------------\n",
            "Resultados do Modelo\n",
            "----------------------------------------\n",
            "Acurácia (acerto geral):  0.7309625048318515\n",
            "Precisão (acerto de quem cancelou o plano, dentre os positivos reais):  0.6817129629629629\n",
            "Recall (acerto de quem cancelou o plano, dentre todos os positivos):  0.8897280966767371\n",
            "F1 (média harmônica precisão e recall):  0.7719528178243774\n",
            "----------------------------------------\n",
            "Resultados do Modelo\n",
            "----------------------------------------\n",
            "Acurácia (acerto geral):  0.7301894085813684\n",
            "Precisão (acerto de quem cancelou o plano, dentre os positivos reais):  0.6813441483198146\n",
            "Recall (acerto de quem cancelou o plano, dentre todos os positivos):  0.8882175226586103\n",
            "F1 (média harmônica precisão e recall):  0.7711475409836065\n"
          ]
        },
        {
          "output_type": "display_data",
          "data": {
            "text/plain": [
              "<Figure size 432x288 with 2 Axes>"
            ],
            "image/png": "[encoded data removed]"
          },
          "metadata": {
            "needs_background": "light"
          }
        },
        {
          "output_type": "display_data",
          "data": {
            "text/plain": [
              "<Figure size 432x288 with 2 Axes>"
            ],
            "image/png": "[encoded data removed]"
          },
          "metadata": {
            "needs_background": "light"
          }
        }
      ]
    },
    {
      "cell_type": "markdown",
      "source": [
        "Os resultados dos dados com One-Hot Encoding não ficaram bons (com exceção do Recall, que ficou mais alto). No entanto, pode ser que eu tenha errado em algum passo, pois copiei e colei muito código. \n",
        "\n",
        "Como essa parte foi feita com pressa, vou optar por manter os dados com o Label Encoding para fazer as análises finais."
      ],
      "metadata": {
        "id": "G7WKA3YEXdIR"
      }
    }
  ]
}