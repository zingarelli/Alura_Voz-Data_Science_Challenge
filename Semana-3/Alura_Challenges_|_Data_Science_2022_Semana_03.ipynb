{
  "nbformat": 4,
  "nbformat_minor": 0,
  "metadata": {
    "colab": {
      "name": "Alura Challenges | Data Science 2022 - Semana 03.ipynb",
      "provenance": [],
      "collapsed_sections": [],
      "toc_visible": true,
      "authorship_tag": "ABX9TyP18JqYvurzPwVYHzXhpENt",
      "include_colab_link": true
    },
    "kernelspec": {
      "name": "python3",
      "display_name": "Python 3"
    },
    "language_info": {
      "name": "python"
    }
  },
  "cells": [
    {
      "cell_type": "markdown",
      "metadata": {
        "id": "view-in-github",
        "colab_type": "text"
      },
      "source": [
        "<a href=\"https://colab.research.google.com/github/zingarelli/alura-challenges-data-science-2022/blob/main/Semana-3/Alura_Challenges_%7C_Data_Science_2022_Semana_03.ipynb\" target=\"_parent\"><img src=\"https://colab.research.google.com/assets/colab-badge.svg\" alt=\"Open In Colab\"/></a>"
      ]
    },
    {
      "cell_type": "markdown",
      "source": [
        "#Configurações e imports"
      ],
      "metadata": {
        "id": "gqYN-Q8sylo1"
      }
    },
    {
      "cell_type": "code",
      "source": [
        "# biblioteca para balanceio da target Churn\n",
        "!pip install -U imbalanced-learn"
      ],
      "metadata": {
        "colab": {
          "base_uri": "https://localhost:8080/"
        },
        "id": "7jXiE5xh2JQm",
        "outputId": "9bb991d3-8417-4a14-9c69-f606e53e0d62"
      },
      "execution_count": 91,
      "outputs": [
        {
          "output_type": "stream",
          "name": "stdout",
          "text": [
            "Looking in indexes: https://pypi.org/simple, https://us-python.pkg.dev/colab-wheels/public/simple/\n",
            "Requirement already satisfied: imbalanced-learn in /usr/local/lib/python3.7/dist-packages (0.9.0)\n",
            "Collecting imbalanced-learn\n",
            "  Using cached imbalanced_learn-0.9.1-py3-none-any.whl (199 kB)\n",
            "Requirement already satisfied: scipy>=1.1.0 in /usr/local/lib/python3.7/dist-packages (from imbalanced-learn) (1.4.1)\n",
            "Requirement already satisfied: scikit-learn>=1.0.1 in /usr/local/lib/python3.7/dist-packages (from imbalanced-learn) (1.0.2)\n",
            "Requirement already satisfied: threadpoolctl>=2.0.0 in /usr/local/lib/python3.7/dist-packages (from imbalanced-learn) (3.1.0)\n",
            "Requirement already satisfied: joblib>=0.11 in /usr/local/lib/python3.7/dist-packages (from imbalanced-learn) (1.1.0)\n",
            "Requirement already satisfied: numpy>=1.14.6 in /usr/local/lib/python3.7/dist-packages (from imbalanced-learn) (1.21.6)\n"
          ]
        }
      ]
    },
    {
      "cell_type": "code",
      "source": [
        "import pandas as pd\n",
        "import numpy as np\n",
        "import matplotlib.pyplot as plt\n",
        "\n",
        "# para o One-Hot Encoding das variáveis categóricas\n",
        "from sklearn.preprocessing import OneHotEncoder\n",
        "\n",
        "# para balanceamento do target\n",
        "from imblearn.over_sampling import SMOTE\n",
        "from imblearn.under_sampling import NearMiss\n",
        "\n",
        "# para criação e validação dos modelos de machine learn\n",
        "from sklearn.model_selection import train_test_split\n",
        "from sklearn import metrics \n",
        "from sklearn.ensemble import RandomForestClassifier\n",
        "from sklearn.svm import SVC\n",
        "\n",
        "# semente para garantir a replicabilidade do código\n",
        "SEED = 12\n",
        "\n",
        "pd.set_option('display.max_columns', 22)"
      ],
      "metadata": {
        "id": "2HN8jZKuimyo"
      },
      "execution_count": 92,
      "outputs": []
    },
    {
      "cell_type": "code",
      "source": [
        "# leitura da base tratada na Semana 1\n",
        "df = pd.read_csv('https://raw.githubusercontent.com/zingarelli/alura-challenges-data-science-2022/main/Semana-1/analise_semana_1.csv')\n",
        "df.info()"
      ],
      "metadata": {
        "id": "gfh81cUEjEGA",
        "colab": {
          "base_uri": "https://localhost:8080/"
        },
        "outputId": "b50789d9-b53c-49c0-d8f5-ca569ad27112"
      },
      "execution_count": 93,
      "outputs": [
        {
          "output_type": "stream",
          "name": "stdout",
          "text": [
            "<class 'pandas.core.frame.DataFrame'>\n",
            "RangeIndex: 7043 entries, 0 to 7042\n",
            "Data columns (total 22 columns):\n",
            " #   Column                          Non-Null Count  Dtype  \n",
            "---  ------                          --------------  -----  \n",
            " 0   cliente_ID                      7043 non-null   object \n",
            " 1   cancelou_plano                  7043 non-null   object \n",
            " 2   genero                          7043 non-null   object \n",
            " 3   maior_65_anos                   7043 non-null   int64  \n",
            " 4   possui_companheiro_companheira  7043 non-null   object \n",
            " 5   possui_dependentes              7043 non-null   object \n",
            " 6   meses_contrato                  7043 non-null   int64  \n",
            " 7   assina_telefone                 7043 non-null   object \n",
            " 8   multiplas_linhas_telefonicas    7043 non-null   object \n",
            " 9   tipo_assinatura_internet        7043 non-null   object \n",
            " 10  adicional_seguranca_online      7043 non-null   object \n",
            " 11  adicional_backup_online         7043 non-null   object \n",
            " 12  adicional_protecao_dispositivo  7043 non-null   object \n",
            " 13  adicional_suporte_VIP           7043 non-null   object \n",
            " 14  assina_TV_cabo                  7043 non-null   object \n",
            " 15  assina_streaming_filmes         7043 non-null   object \n",
            " 16  plano_contratado                7043 non-null   object \n",
            " 17  fatura_online                   7043 non-null   object \n",
            " 18  forma_pagamento                 7043 non-null   object \n",
            " 19  gasto_diario                    7043 non-null   float64\n",
            " 20  gasto_mensal                    7043 non-null   float64\n",
            " 21  gasto_total                     7043 non-null   float64\n",
            "dtypes: float64(3), int64(2), object(17)\n",
            "memory usage: 1.2+ MB\n"
          ]
        }
      ]
    },
    {
      "cell_type": "markdown",
      "source": [
        "# Encoding das variáveis categóricas"
      ],
      "metadata": {
        "id": "_NdDjq-r5mGr"
      }
    },
    {
      "cell_type": "markdown",
      "source": [
        "## Label Encoding\n",
        "\n",
        "Como feito na [Semana 2](https://github.com/zingarelli/alura-challenges-data-science-2022/blob/main/Semana-2/Alura_Challenges_%7C_Data_Science_2022_Semana_02.ipynb). "
      ],
      "metadata": {
        "id": "dsgrHTIqPKPC"
      }
    },
    {
      "cell_type": "code",
      "source": [
        "# função que transforma os valores categóricos de uma coluna em valores numéricos\n",
        "def label_encoding(categorical_col):\n",
        "  # altera o tipo de \"object\" para o tipo \"category\"\n",
        "  encode = categorical_col.astype('category')\n",
        "\n",
        "  # atribui a cada categoria um valor numérico diferente\n",
        "  return encode.cat.codes"
      ],
      "metadata": {
        "id": "QhNk9QWT5qi7"
      },
      "execution_count": 94,
      "outputs": []
    },
    {
      "cell_type": "code",
      "source": [
        "# copiando a base de dados\n",
        "df_encoded = df.copy()\n",
        "\n",
        "# colunas categóricas (sem o \"cliente_ID\", pois não será utilizada)\n",
        "cat_columns = ['cancelou_plano', 'genero', 'possui_companheiro_companheira', \n",
        "               'possui_dependentes', 'assina_telefone', 'multiplas_linhas_telefonicas',\n",
        "               'tipo_assinatura_internet', 'adicional_seguranca_online',\n",
        "               'adicional_backup_online', 'adicional_protecao_dispositivo',\n",
        "               'adicional_suporte_VIP', 'assina_TV_cabo', 'assina_streaming_filmes',\n",
        "               'plano_contratado', 'fatura_online', 'forma_pagamento']\n",
        "\n",
        "# aplicando o label encoding\n",
        "for col in cat_columns:\n",
        "  df_encoded[col] = label_encoding(df_encoded[col])\n",
        "\n",
        "df_encoded.info()"
      ],
      "metadata": {
        "colab": {
          "base_uri": "https://localhost:8080/"
        },
        "id": "qtWHHzil5qV7",
        "outputId": "9995bad0-42b5-4a1f-fb33-71ffdb1fe7e1"
      },
      "execution_count": 95,
      "outputs": [
        {
          "output_type": "stream",
          "name": "stdout",
          "text": [
            "<class 'pandas.core.frame.DataFrame'>\n",
            "RangeIndex: 7043 entries, 0 to 7042\n",
            "Data columns (total 22 columns):\n",
            " #   Column                          Non-Null Count  Dtype  \n",
            "---  ------                          --------------  -----  \n",
            " 0   cliente_ID                      7043 non-null   object \n",
            " 1   cancelou_plano                  7043 non-null   int8   \n",
            " 2   genero                          7043 non-null   int8   \n",
            " 3   maior_65_anos                   7043 non-null   int64  \n",
            " 4   possui_companheiro_companheira  7043 non-null   int8   \n",
            " 5   possui_dependentes              7043 non-null   int8   \n",
            " 6   meses_contrato                  7043 non-null   int64  \n",
            " 7   assina_telefone                 7043 non-null   int8   \n",
            " 8   multiplas_linhas_telefonicas    7043 non-null   int8   \n",
            " 9   tipo_assinatura_internet        7043 non-null   int8   \n",
            " 10  adicional_seguranca_online      7043 non-null   int8   \n",
            " 11  adicional_backup_online         7043 non-null   int8   \n",
            " 12  adicional_protecao_dispositivo  7043 non-null   int8   \n",
            " 13  adicional_suporte_VIP           7043 non-null   int8   \n",
            " 14  assina_TV_cabo                  7043 non-null   int8   \n",
            " 15  assina_streaming_filmes         7043 non-null   int8   \n",
            " 16  plano_contratado                7043 non-null   int8   \n",
            " 17  fatura_online                   7043 non-null   int8   \n",
            " 18  forma_pagamento                 7043 non-null   int8   \n",
            " 19  gasto_diario                    7043 non-null   float64\n",
            " 20  gasto_mensal                    7043 non-null   float64\n",
            " 21  gasto_total                     7043 non-null   float64\n",
            "dtypes: float64(3), int64(2), int8(16), object(1)\n",
            "memory usage: 440.3+ KB\n"
          ]
        }
      ]
    },
    {
      "cell_type": "markdown",
      "source": [
        "## One-Hot Encoding\n",
        "\n",
        "Rever curso Kaggle: https://www.kaggle.com/code/alexisbcook/categorical-variables\n"
      ],
      "metadata": {
        "id": "cYUZVkoXEZXN"
      }
    },
    {
      "cell_type": "markdown",
      "source": [
        "**Atenção!**\n",
        "\n",
        "Essa parte do código foi feita após a criação dos modelos e métricas, então sua aplicação não está bonita no código. Infelizmente, seria necessário refatorar muita coisa para ela ser aplicada. \n",
        "\n",
        "TO DO: Refatorar o projeto para poder escolher entre os dois encodings (label encoding ou OH encoding)\n",
        "\n",
        "No caso do One-Hot Encoding, eu criei uma função, a ser chamada no momento de utilização dos modelos, quando as features que farão parte do modelo já foram escolhidas. O motivo disso é que o One-Hot Encoding cria colunas a mais e assim se perde o nome de cada coluna (cada coluna ganha um valor numérico sequencial). Não sei se existe algum parâmetro que poderia alterar isso e criar nomes mais representativos para as colunas."
      ],
      "metadata": {
        "id": "dSLeV19BHTFi"
      }
    },
    {
      "cell_type": "code",
      "source": [
        "def OH_encode(data, features):\n",
        "  # criando o encoder\n",
        "  OH_encoder = OneHotEncoder(handle_unknown='ignore', sparse=False)\n",
        "\n",
        "  # colunas categóricas + target\n",
        "  cat_columns = features\n",
        "\n",
        "  # criando um dataframe com o One-Hot Encoding aplicado\n",
        "  OH_columns = pd.DataFrame(OH_encoder.fit_transform(data[cat_columns]))\n",
        "\n",
        "  # copiando o dataframe sem as colunas que foram codificadas\n",
        "  df_copy = data.drop(cat_columns, axis=1)\n",
        "\n",
        "  # concatenando as colunas codificadas\n",
        "  return pd.concat([df_copy, OH_columns], axis=1)"
      ],
      "metadata": {
        "id": "MaDKEyuXFpiq"
      },
      "execution_count": 96,
      "outputs": []
    },
    {
      "cell_type": "code",
      "source": [
        "# teste da função\n",
        "# features = ['genero', 'maior_65_anos', 'plano_contratado', 'fatura_online', 'forma_pagamento']\n",
        "# df_OH_encoded = OH_encode(df, features)\n",
        "# print(df_OH_encoded.shape)\n",
        "# df_OH_encoded.head()"
      ],
      "metadata": {
        "id": "Iy5yZzz0FpXL"
      },
      "execution_count": 97,
      "outputs": []
    },
    {
      "cell_type": "markdown",
      "source": [
        "# Verificar se a variável target `Churn` está desbalanceada\n",
        "\n",
        "Ver artigo: https://www.alura.com.br/artigos/lidando-com-desbalanceamento-dados\n",
        "\n",
        "Ver documentação: https://imbalanced-learn.org/stable/introduction.html\n",
        "\n",
        "Ver treinamento da Sthe: https://cursos.alura.com.br/course/modelos-preditivos-dados-deteccao-fraude/task/106523"
      ],
      "metadata": {
        "id": "_LKA1oDY5pml"
      }
    },
    {
      "cell_type": "code",
      "source": [
        "# armazenando os dados de cancelamento do plano em uma variável chamada churn\n",
        "churn = df_encoded['cancelou_plano']\n",
        "\n",
        "# separando entre clientes que estão ativos e aqueles que cancelaram o plano (former_customer)\n",
        "# lembrando que o \"Sim\" significa que o cliente cancelou o plano\n",
        "active_customers = (churn == 0).sum()\n",
        "former_customers = (churn == 1).sum()\n",
        "total_customers = len(churn)\n",
        "\n",
        "print(f'Total de planos: {total_customers}')\n",
        "print(f'Planos ativos: {active_customers}, {round(active_customers/total_customers*100, 2)}% do total')\n",
        "print(f'Planos cancelados: {former_customers}, {round(former_customers/total_customers*100, 2)}% do total')"
      ],
      "metadata": {
        "colab": {
          "base_uri": "https://localhost:8080/"
        },
        "id": "Xut3UH3GyW_T",
        "outputId": "d9e7e779-0472-4947-c281-aa3cef70225f"
      },
      "execution_count": 98,
      "outputs": [
        {
          "output_type": "stream",
          "name": "stdout",
          "text": [
            "Total de planos: 7043\n",
            "Planos ativos: 5174, 73.46% do total\n",
            "Planos cancelados: 1869, 26.54% do total\n"
          ]
        }
      ]
    },
    {
      "cell_type": "markdown",
      "source": [
        "Cerca de pouco mais de **um quarto da base** é formado por pessoas que **cancelaram** o plano (valor `1` na base), e o restante, de pessoas que mantiveram o plano (valor `0` na base). Isso faz com que a variável **target esteja desbalanceada**, o que pode **prejudicar** na criação dos modelos de Machine Learning. \n",
        "\n",
        "Desse modo, antes de criar os modelos é necessário fazer um balanceamento do target. \n",
        "\n",
        "Isso pode ser feito por meio do **oversampling**, isto é, criação de **novos dados (sintéticos) para aumentar** a quantidade de valores 1 na variável `cancelou_plano`, ou por meio do **undersampling**, isto é, selecionando na base **apenas alguns de registros** que possuam o valor 0 em `cancelou_plano`. Em ambas as estratégias, o objetivo e ter uma quantidade equivalente de registros com os valores 0 e 1."
      ],
      "metadata": {
        "id": "NliC0Y5pzEW9"
      }
    },
    {
      "cell_type": "markdown",
      "source": [
        "## Estratégia de balanceamento 1: Oversampling\n",
        "Utilizando o algoritmo SMOTE (KNN) para cópia de dados"
      ],
      "metadata": {
        "id": "GAFx1aAe1pQ2"
      }
    },
    {
      "cell_type": "code",
      "source": [
        "# aplicando o random_state para garantir a replicabilidade do código\n",
        "smote = SMOTE(random_state = SEED)\n",
        "\n",
        "# separando as variáveis de treino e target\n",
        "# client_ID também foi removida, pois foi mantida como tipo object (string)\n",
        "x = df_encoded.drop(['cancelou_plano', 'cliente_ID'], axis=1)\n",
        "y = df_encoded['cancelou_plano']  \n",
        "\n",
        "# aplicando a SMOTE e salvando os novos dados criados\n",
        "x_oversmp, y_oversmp = smote.fit_resample(x, y)"
      ],
      "metadata": {
        "id": "ZR59b7bn1wH-"
      },
      "execution_count": 99,
      "outputs": []
    },
    {
      "cell_type": "code",
      "source": [
        "# criando a base balanceada com oversampling\n",
        "df_oversmp = pd.concat([y_oversmp, x_oversmp], axis=1)\n",
        "df_oversmp.sample(5)"
      ],
      "metadata": {
        "colab": {
          "base_uri": "https://localhost:8080/",
          "height": 270
        },
        "id": "NWGkU1pC8ap5",
        "outputId": "8ee300dd-fb10-4f77-cf40-b4d1cc177a28"
      },
      "execution_count": 100,
      "outputs": [
        {
          "output_type": "execute_result",
          "data": {
            "text/plain": [
              "      cancelou_plano  genero  maior_65_anos  possui_companheiro_companheira  \\\n",
              "5511               0       1              0                               1   \n",
              "6293               0       0              0                               0   \n",
              "5834               0       0              0                               1   \n",
              "1612               0       0              0                               1   \n",
              "7641               1       0              0                               0   \n",
              "\n",
              "      possui_dependentes  meses_contrato  assina_telefone  \\\n",
              "5511                   1               6                1   \n",
              "6293                   1               2                1   \n",
              "5834                   1              72                1   \n",
              "1612                   0              42                1   \n",
              "7641                   0               1                1   \n",
              "\n",
              "      multiplas_linhas_telefonicas  tipo_assinatura_internet  \\\n",
              "5511                             0                         2   \n",
              "6293                             0                         0   \n",
              "5834                             2                         1   \n",
              "1612                             2                         1   \n",
              "7641                             0                         1   \n",
              "\n",
              "      adicional_seguranca_online  adicional_backup_online  \\\n",
              "5511                           1                        1   \n",
              "6293                           0                        0   \n",
              "5834                           2                        2   \n",
              "1612                           2                        0   \n",
              "7641                           0                        0   \n",
              "\n",
              "      adicional_protecao_dispositivo  adicional_suporte_VIP  assina_TV_cabo  \\\n",
              "5511                               1                      1               1   \n",
              "6293                               0                      0               0   \n",
              "5834                               2                      2               2   \n",
              "1612                               2                      0               0   \n",
              "7641                               0                      0               0   \n",
              "\n",
              "      assina_streaming_filmes  plano_contratado  fatura_online  \\\n",
              "5511                        1                 2              0   \n",
              "6293                        2                 1              1   \n",
              "5834                        2                 0              0   \n",
              "1612                        2                 1              1   \n",
              "7641                        2                 1              1   \n",
              "\n",
              "      forma_pagamento  gasto_diario  gasto_mensal  gasto_total  \n",
              "5511                2      0.660000     19.700000    94.450000  \n",
              "6293                1      1.840000     55.300000   108.650000  \n",
              "5834                3      3.820000    114.550000  8306.050000  \n",
              "1612                1      3.150000     94.400000  4014.600000  \n",
              "7641                1      2.723878     81.725544    81.725544  "
            ],
            "text/html": [
              "\n",
              "  <div id=\"df-e4182d89-2232-4fa2-b28a-981008337336\">\n",
              "    <div class=\"colab-df-container\">\n",
              "      <div>\n",
              "<style scoped>\n",
              "    .dataframe tbody tr th:only-of-type {\n",
              "        vertical-align: middle;\n",
              "    }\n",
              "\n",
              "    .dataframe tbody tr th {\n",
              "        vertical-align: top;\n",
              "    }\n",
              "\n",
              "    .dataframe thead th {\n",
              "        text-align: right;\n",
              "    }\n",
              "</style>\n",
              "<table border=\"1\" class=\"dataframe\">\n",
              "  <thead>\n",
              "    <tr style=\"text-align: right;\">\n",
              "      <th></th>\n",
              "      <th>cancelou_plano</th>\n",
              "      <th>genero</th>\n",
              "      <th>maior_65_anos</th>\n",
              "      <th>possui_companheiro_companheira</th>\n",
              "      <th>possui_dependentes</th>\n",
              "      <th>meses_contrato</th>\n",
              "      <th>assina_telefone</th>\n",
              "      <th>multiplas_linhas_telefonicas</th>\n",
              "      <th>tipo_assinatura_internet</th>\n",
              "      <th>adicional_seguranca_online</th>\n",
              "      <th>adicional_backup_online</th>\n",
              "      <th>adicional_protecao_dispositivo</th>\n",
              "      <th>adicional_suporte_VIP</th>\n",
              "      <th>assina_TV_cabo</th>\n",
              "      <th>assina_streaming_filmes</th>\n",
              "      <th>plano_contratado</th>\n",
              "      <th>fatura_online</th>\n",
              "      <th>forma_pagamento</th>\n",
              "      <th>gasto_diario</th>\n",
              "      <th>gasto_mensal</th>\n",
              "      <th>gasto_total</th>\n",
              "    </tr>\n",
              "  </thead>\n",
              "  <tbody>\n",
              "    <tr>\n",
              "      <th>5511</th>\n",
              "      <td>0</td>\n",
              "      <td>1</td>\n",
              "      <td>0</td>\n",
              "      <td>1</td>\n",
              "      <td>1</td>\n",
              "      <td>6</td>\n",
              "      <td>1</td>\n",
              "      <td>0</td>\n",
              "      <td>2</td>\n",
              "      <td>1</td>\n",
              "      <td>1</td>\n",
              "      <td>1</td>\n",
              "      <td>1</td>\n",
              "      <td>1</td>\n",
              "      <td>1</td>\n",
              "      <td>2</td>\n",
              "      <td>0</td>\n",
              "      <td>2</td>\n",
              "      <td>0.660000</td>\n",
              "      <td>19.700000</td>\n",
              "      <td>94.450000</td>\n",
              "    </tr>\n",
              "    <tr>\n",
              "      <th>6293</th>\n",
              "      <td>0</td>\n",
              "      <td>0</td>\n",
              "      <td>0</td>\n",
              "      <td>0</td>\n",
              "      <td>1</td>\n",
              "      <td>2</td>\n",
              "      <td>1</td>\n",
              "      <td>0</td>\n",
              "      <td>0</td>\n",
              "      <td>0</td>\n",
              "      <td>0</td>\n",
              "      <td>0</td>\n",
              "      <td>0</td>\n",
              "      <td>0</td>\n",
              "      <td>2</td>\n",
              "      <td>1</td>\n",
              "      <td>1</td>\n",
              "      <td>1</td>\n",
              "      <td>1.840000</td>\n",
              "      <td>55.300000</td>\n",
              "      <td>108.650000</td>\n",
              "    </tr>\n",
              "    <tr>\n",
              "      <th>5834</th>\n",
              "      <td>0</td>\n",
              "      <td>0</td>\n",
              "      <td>0</td>\n",
              "      <td>1</td>\n",
              "      <td>1</td>\n",
              "      <td>72</td>\n",
              "      <td>1</td>\n",
              "      <td>2</td>\n",
              "      <td>1</td>\n",
              "      <td>2</td>\n",
              "      <td>2</td>\n",
              "      <td>2</td>\n",
              "      <td>2</td>\n",
              "      <td>2</td>\n",
              "      <td>2</td>\n",
              "      <td>0</td>\n",
              "      <td>0</td>\n",
              "      <td>3</td>\n",
              "      <td>3.820000</td>\n",
              "      <td>114.550000</td>\n",
              "      <td>8306.050000</td>\n",
              "    </tr>\n",
              "    <tr>\n",
              "      <th>1612</th>\n",
              "      <td>0</td>\n",
              "      <td>0</td>\n",
              "      <td>0</td>\n",
              "      <td>1</td>\n",
              "      <td>0</td>\n",
              "      <td>42</td>\n",
              "      <td>1</td>\n",
              "      <td>2</td>\n",
              "      <td>1</td>\n",
              "      <td>2</td>\n",
              "      <td>0</td>\n",
              "      <td>2</td>\n",
              "      <td>0</td>\n",
              "      <td>0</td>\n",
              "      <td>2</td>\n",
              "      <td>1</td>\n",
              "      <td>1</td>\n",
              "      <td>1</td>\n",
              "      <td>3.150000</td>\n",
              "      <td>94.400000</td>\n",
              "      <td>4014.600000</td>\n",
              "    </tr>\n",
              "    <tr>\n",
              "      <th>7641</th>\n",
              "      <td>1</td>\n",
              "      <td>0</td>\n",
              "      <td>0</td>\n",
              "      <td>0</td>\n",
              "      <td>0</td>\n",
              "      <td>1</td>\n",
              "      <td>1</td>\n",
              "      <td>0</td>\n",
              "      <td>1</td>\n",
              "      <td>0</td>\n",
              "      <td>0</td>\n",
              "      <td>0</td>\n",
              "      <td>0</td>\n",
              "      <td>0</td>\n",
              "      <td>2</td>\n",
              "      <td>1</td>\n",
              "      <td>1</td>\n",
              "      <td>1</td>\n",
              "      <td>2.723878</td>\n",
              "      <td>81.725544</td>\n",
              "      <td>81.725544</td>\n",
              "    </tr>\n",
              "  </tbody>\n",
              "</table>\n",
              "</div>\n",
              "      <button class=\"colab-df-convert\" onclick=\"convertToInteractive('df-e4182d89-2232-4fa2-b28a-981008337336')\"\n",
              "              title=\"Convert this dataframe to an interactive table.\"\n",
              "              style=\"display:none;\">\n",
              "        \n",
              "  <svg xmlns=\"http://www.w3.org/2000/svg\" height=\"24px\"viewBox=\"0 0 24 24\"\n",
              "       width=\"24px\">\n",
              "    <path d=\"M0 0h24v24H0V0z\" fill=\"none\"/>\n",
              "    <path d=\"M18.56 5.44l.94 2.06.94-2.06 2.06-.94-2.06-.94-.94-2.06-.94 2.06-2.06.94zm-11 1L8.5 8.5l.94-2.06 2.06-.94-2.06-.94L8.5 2.5l-.94 2.06-2.06.94zm10 10l.94 2.06.94-2.06 2.06-.94-2.06-.94-.94-2.06-.94 2.06-2.06.94z\"/><path d=\"M17.41 7.96l-1.37-1.37c-.4-.4-.92-.59-1.43-.59-.52 0-1.04.2-1.43.59L10.3 9.45l-7.72 7.72c-.78.78-.78 2.05 0 2.83L4 21.41c.39.39.9.59 1.41.59.51 0 1.02-.2 1.41-.59l7.78-7.78 2.81-2.81c.8-.78.8-2.07 0-2.86zM5.41 20L4 18.59l7.72-7.72 1.47 1.35L5.41 20z\"/>\n",
              "  </svg>\n",
              "      </button>\n",
              "      \n",
              "  <style>\n",
              "    .colab-df-container {\n",
              "      display:flex;\n",
              "      flex-wrap:wrap;\n",
              "      gap: 12px;\n",
              "    }\n",
              "\n",
              "    .colab-df-convert {\n",
              "      background-color: #E8F0FE;\n",
              "      border: none;\n",
              "      border-radius: 50%;\n",
              "      cursor: pointer;\n",
              "      display: none;\n",
              "      fill: #1967D2;\n",
              "      height: 32px;\n",
              "      padding: 0 0 0 0;\n",
              "      width: 32px;\n",
              "    }\n",
              "\n",
              "    .colab-df-convert:hover {\n",
              "      background-color: #E2EBFA;\n",
              "      box-shadow: 0px 1px 2px rgba(60, 64, 67, 0.3), 0px 1px 3px 1px rgba(60, 64, 67, 0.15);\n",
              "      fill: #174EA6;\n",
              "    }\n",
              "\n",
              "    [theme=dark] .colab-df-convert {\n",
              "      background-color: #3B4455;\n",
              "      fill: #D2E3FC;\n",
              "    }\n",
              "\n",
              "    [theme=dark] .colab-df-convert:hover {\n",
              "      background-color: #434B5C;\n",
              "      box-shadow: 0px 1px 3px 1px rgba(0, 0, 0, 0.15);\n",
              "      filter: drop-shadow(0px 1px 2px rgba(0, 0, 0, 0.3));\n",
              "      fill: #FFFFFF;\n",
              "    }\n",
              "  </style>\n",
              "\n",
              "      <script>\n",
              "        const buttonEl =\n",
              "          document.querySelector('#df-e4182d89-2232-4fa2-b28a-981008337336 button.colab-df-convert');\n",
              "        buttonEl.style.display =\n",
              "          google.colab.kernel.accessAllowed ? 'block' : 'none';\n",
              "\n",
              "        async function convertToInteractive(key) {\n",
              "          const element = document.querySelector('#df-e4182d89-2232-4fa2-b28a-981008337336');\n",
              "          const dataTable =\n",
              "            await google.colab.kernel.invokeFunction('convertToInteractive',\n",
              "                                                     [key], {});\n",
              "          if (!dataTable) return;\n",
              "\n",
              "          const docLinkHtml = 'Like what you see? Visit the ' +\n",
              "            '<a target=\"_blank\" href=https://colab.research.google.com/notebooks/data_table.ipynb>data table notebook</a>'\n",
              "            + ' to learn more about interactive tables.';\n",
              "          element.innerHTML = '';\n",
              "          dataTable['output_type'] = 'display_data';\n",
              "          await google.colab.output.renderOutput(dataTable, element);\n",
              "          const docLink = document.createElement('div');\n",
              "          docLink.innerHTML = docLinkHtml;\n",
              "          element.appendChild(docLink);\n",
              "        }\n",
              "      </script>\n",
              "    </div>\n",
              "  </div>\n",
              "  "
            ]
          },
          "metadata": {},
          "execution_count": 100
        }
      ]
    },
    {
      "cell_type": "code",
      "source": [
        "# verificando o balanceamento e comparando com a base original\n",
        "print('Tamanho base original: ', df.shape)\n",
        "print('Tamanho base com oversample: ', df_oversmp.shape)\n",
        "print(f'Foram criados {df_oversmp.shape[0] - df.shape[0]} registros sintéticos.')\n",
        "print('Valores de churn:')\n",
        "print(df_oversmp['cancelou_plano'].value_counts())"
      ],
      "metadata": {
        "colab": {
          "base_uri": "https://localhost:8080/"
        },
        "id": "eSZQHYvy886L",
        "outputId": "7ec93a7d-e8e1-4ead-d2dc-306dab2d66ae"
      },
      "execution_count": 101,
      "outputs": [
        {
          "output_type": "stream",
          "name": "stdout",
          "text": [
            "Tamanho base original:  (7043, 22)\n",
            "Tamanho base com oversample:  (10348, 21)\n",
            "Foram criados 3305 registros sintéticos.\n",
            "Valores de churn:\n",
            "0    5174\n",
            "1    5174\n",
            "Name: cancelou_plano, dtype: int64\n"
          ]
        }
      ]
    },
    {
      "cell_type": "markdown",
      "source": [
        "Com isso, foram adicionados 3305 registros com dados sintéticos, um **incremento de 47%** de registros na base de dados. Não sei se isso é bom ou ruim (minha intuição me diz que é meio preocupante)."
      ],
      "metadata": {
        "id": "Ij5dobzoJRoc"
      }
    },
    {
      "cell_type": "markdown",
      "source": [
        "##Estratégia de balanceamento 2: Undersampling\n",
        "\n",
        "Utilizando o método NearMiss para seleção dos valores"
      ],
      "metadata": {
        "id": "y0Ds-AF21wf2"
      }
    },
    {
      "cell_type": "code",
      "source": [
        "# utilizando o método com os parâmetros padrões\n",
        "nm = NearMiss()\n",
        "\n",
        "# separando target das outras features\n",
        "# client_ID também foi removida, pois foi mantida como tipo object (string)\n",
        "x = df_encoded.drop(['cancelou_plano', 'cliente_ID'], axis=1)\n",
        "y = df_encoded['cancelou_plano']\n",
        "\n",
        "x_undersmp, y_undersmp = nm.fit_resample(x, y)"
      ],
      "metadata": {
        "id": "u4NYRLQYGiNb"
      },
      "execution_count": 102,
      "outputs": []
    },
    {
      "cell_type": "code",
      "source": [
        "# criando a base balanceada com undersampling\n",
        "df_undersmp = pd.concat([y_undersmp, x_undersmp], axis=1)\n",
        "df_undersmp.sample(5)"
      ],
      "metadata": {
        "colab": {
          "base_uri": "https://localhost:8080/",
          "height": 270
        },
        "id": "X3edwFl7GiKi",
        "outputId": "dd00966c-844a-44cf-c5b8-b1fcc1b41caa"
      },
      "execution_count": 103,
      "outputs": [
        {
          "output_type": "execute_result",
          "data": {
            "text/plain": [
              "      cancelou_plano  genero  maior_65_anos  possui_companheiro_companheira  \\\n",
              "59                 0       0              0                               0   \n",
              "843                0       0              0                               0   \n",
              "2146               1       1              0                               0   \n",
              "741                0       1              0                               0   \n",
              "3671               1       1              0                               0   \n",
              "\n",
              "      possui_dependentes  meses_contrato  assina_telefone  \\\n",
              "59                     1               1                1   \n",
              "843                    0              16                1   \n",
              "2146                   0              12                1   \n",
              "741                    0               2                1   \n",
              "3671                   0              16                1   \n",
              "\n",
              "      multiplas_linhas_telefonicas  tipo_assinatura_internet  \\\n",
              "59                               0                         2   \n",
              "843                              0                         2   \n",
              "2146                             0                         1   \n",
              "741                              0                         0   \n",
              "3671                             2                         0   \n",
              "\n",
              "      adicional_seguranca_online  adicional_backup_online  \\\n",
              "59                             1                        1   \n",
              "843                            1                        1   \n",
              "2146                           0                        0   \n",
              "741                            0                        0   \n",
              "3671                           0                        0   \n",
              "\n",
              "      adicional_protecao_dispositivo  adicional_suporte_VIP  assina_TV_cabo  \\\n",
              "59                                 1                      1               1   \n",
              "843                                1                      1               1   \n",
              "2146                               2                      2               0   \n",
              "741                                2                      0               0   \n",
              "3671                               2                      0               0   \n",
              "\n",
              "      assina_streaming_filmes  plano_contratado  fatura_online  \\\n",
              "59                          1                 1              0   \n",
              "843                         1                 0              0   \n",
              "2146                        2                 1              1   \n",
              "741                         2                 1              0   \n",
              "3671                        2                 1              1   \n",
              "\n",
              "      forma_pagamento  gasto_diario  gasto_mensal  gasto_total  \n",
              "59                  2          0.65         19.55        19.55  \n",
              "843                 2          0.66         19.75       284.35  \n",
              "2146                1          2.98         89.40      1095.65  \n",
              "741                 1          2.03         60.85       111.40  \n",
              "3671                0          2.17         65.20      1043.35  "
            ],
            "text/html": [
              "\n",
              "  <div id=\"df-c71645cd-d963-4639-b958-56c03581fb78\">\n",
              "    <div class=\"colab-df-container\">\n",
              "      <div>\n",
              "<style scoped>\n",
              "    .dataframe tbody tr th:only-of-type {\n",
              "        vertical-align: middle;\n",
              "    }\n",
              "\n",
              "    .dataframe tbody tr th {\n",
              "        vertical-align: top;\n",
              "    }\n",
              "\n",
              "    .dataframe thead th {\n",
              "        text-align: right;\n",
              "    }\n",
              "</style>\n",
              "<table border=\"1\" class=\"dataframe\">\n",
              "  <thead>\n",
              "    <tr style=\"text-align: right;\">\n",
              "      <th></th>\n",
              "      <th>cancelou_plano</th>\n",
              "      <th>genero</th>\n",
              "      <th>maior_65_anos</th>\n",
              "      <th>possui_companheiro_companheira</th>\n",
              "      <th>possui_dependentes</th>\n",
              "      <th>meses_contrato</th>\n",
              "      <th>assina_telefone</th>\n",
              "      <th>multiplas_linhas_telefonicas</th>\n",
              "      <th>tipo_assinatura_internet</th>\n",
              "      <th>adicional_seguranca_online</th>\n",
              "      <th>adicional_backup_online</th>\n",
              "      <th>adicional_protecao_dispositivo</th>\n",
              "      <th>adicional_suporte_VIP</th>\n",
              "      <th>assina_TV_cabo</th>\n",
              "      <th>assina_streaming_filmes</th>\n",
              "      <th>plano_contratado</th>\n",
              "      <th>fatura_online</th>\n",
              "      <th>forma_pagamento</th>\n",
              "      <th>gasto_diario</th>\n",
              "      <th>gasto_mensal</th>\n",
              "      <th>gasto_total</th>\n",
              "    </tr>\n",
              "  </thead>\n",
              "  <tbody>\n",
              "    <tr>\n",
              "      <th>59</th>\n",
              "      <td>0</td>\n",
              "      <td>0</td>\n",
              "      <td>0</td>\n",
              "      <td>0</td>\n",
              "      <td>1</td>\n",
              "      <td>1</td>\n",
              "      <td>1</td>\n",
              "      <td>0</td>\n",
              "      <td>2</td>\n",
              "      <td>1</td>\n",
              "      <td>1</td>\n",
              "      <td>1</td>\n",
              "      <td>1</td>\n",
              "      <td>1</td>\n",
              "      <td>1</td>\n",
              "      <td>1</td>\n",
              "      <td>0</td>\n",
              "      <td>2</td>\n",
              "      <td>0.65</td>\n",
              "      <td>19.55</td>\n",
              "      <td>19.55</td>\n",
              "    </tr>\n",
              "    <tr>\n",
              "      <th>843</th>\n",
              "      <td>0</td>\n",
              "      <td>0</td>\n",
              "      <td>0</td>\n",
              "      <td>0</td>\n",
              "      <td>0</td>\n",
              "      <td>16</td>\n",
              "      <td>1</td>\n",
              "      <td>0</td>\n",
              "      <td>2</td>\n",
              "      <td>1</td>\n",
              "      <td>1</td>\n",
              "      <td>1</td>\n",
              "      <td>1</td>\n",
              "      <td>1</td>\n",
              "      <td>1</td>\n",
              "      <td>0</td>\n",
              "      <td>0</td>\n",
              "      <td>2</td>\n",
              "      <td>0.66</td>\n",
              "      <td>19.75</td>\n",
              "      <td>284.35</td>\n",
              "    </tr>\n",
              "    <tr>\n",
              "      <th>2146</th>\n",
              "      <td>1</td>\n",
              "      <td>1</td>\n",
              "      <td>0</td>\n",
              "      <td>0</td>\n",
              "      <td>0</td>\n",
              "      <td>12</td>\n",
              "      <td>1</td>\n",
              "      <td>0</td>\n",
              "      <td>1</td>\n",
              "      <td>0</td>\n",
              "      <td>0</td>\n",
              "      <td>2</td>\n",
              "      <td>2</td>\n",
              "      <td>0</td>\n",
              "      <td>2</td>\n",
              "      <td>1</td>\n",
              "      <td>1</td>\n",
              "      <td>1</td>\n",
              "      <td>2.98</td>\n",
              "      <td>89.40</td>\n",
              "      <td>1095.65</td>\n",
              "    </tr>\n",
              "    <tr>\n",
              "      <th>741</th>\n",
              "      <td>0</td>\n",
              "      <td>1</td>\n",
              "      <td>0</td>\n",
              "      <td>0</td>\n",
              "      <td>0</td>\n",
              "      <td>2</td>\n",
              "      <td>1</td>\n",
              "      <td>0</td>\n",
              "      <td>0</td>\n",
              "      <td>0</td>\n",
              "      <td>0</td>\n",
              "      <td>2</td>\n",
              "      <td>0</td>\n",
              "      <td>0</td>\n",
              "      <td>2</td>\n",
              "      <td>1</td>\n",
              "      <td>0</td>\n",
              "      <td>1</td>\n",
              "      <td>2.03</td>\n",
              "      <td>60.85</td>\n",
              "      <td>111.40</td>\n",
              "    </tr>\n",
              "    <tr>\n",
              "      <th>3671</th>\n",
              "      <td>1</td>\n",
              "      <td>1</td>\n",
              "      <td>0</td>\n",
              "      <td>0</td>\n",
              "      <td>0</td>\n",
              "      <td>16</td>\n",
              "      <td>1</td>\n",
              "      <td>2</td>\n",
              "      <td>0</td>\n",
              "      <td>0</td>\n",
              "      <td>0</td>\n",
              "      <td>2</td>\n",
              "      <td>0</td>\n",
              "      <td>0</td>\n",
              "      <td>2</td>\n",
              "      <td>1</td>\n",
              "      <td>1</td>\n",
              "      <td>0</td>\n",
              "      <td>2.17</td>\n",
              "      <td>65.20</td>\n",
              "      <td>1043.35</td>\n",
              "    </tr>\n",
              "  </tbody>\n",
              "</table>\n",
              "</div>\n",
              "      <button class=\"colab-df-convert\" onclick=\"convertToInteractive('df-c71645cd-d963-4639-b958-56c03581fb78')\"\n",
              "              title=\"Convert this dataframe to an interactive table.\"\n",
              "              style=\"display:none;\">\n",
              "        \n",
              "  <svg xmlns=\"http://www.w3.org/2000/svg\" height=\"24px\"viewBox=\"0 0 24 24\"\n",
              "       width=\"24px\">\n",
              "    <path d=\"M0 0h24v24H0V0z\" fill=\"none\"/>\n",
              "    <path d=\"M18.56 5.44l.94 2.06.94-2.06 2.06-.94-2.06-.94-.94-2.06-.94 2.06-2.06.94zm-11 1L8.5 8.5l.94-2.06 2.06-.94-2.06-.94L8.5 2.5l-.94 2.06-2.06.94zm10 10l.94 2.06.94-2.06 2.06-.94-2.06-.94-.94-2.06-.94 2.06-2.06.94z\"/><path d=\"M17.41 7.96l-1.37-1.37c-.4-.4-.92-.59-1.43-.59-.52 0-1.04.2-1.43.59L10.3 9.45l-7.72 7.72c-.78.78-.78 2.05 0 2.83L4 21.41c.39.39.9.59 1.41.59.51 0 1.02-.2 1.41-.59l7.78-7.78 2.81-2.81c.8-.78.8-2.07 0-2.86zM5.41 20L4 18.59l7.72-7.72 1.47 1.35L5.41 20z\"/>\n",
              "  </svg>\n",
              "      </button>\n",
              "      \n",
              "  <style>\n",
              "    .colab-df-container {\n",
              "      display:flex;\n",
              "      flex-wrap:wrap;\n",
              "      gap: 12px;\n",
              "    }\n",
              "\n",
              "    .colab-df-convert {\n",
              "      background-color: #E8F0FE;\n",
              "      border: none;\n",
              "      border-radius: 50%;\n",
              "      cursor: pointer;\n",
              "      display: none;\n",
              "      fill: #1967D2;\n",
              "      height: 32px;\n",
              "      padding: 0 0 0 0;\n",
              "      width: 32px;\n",
              "    }\n",
              "\n",
              "    .colab-df-convert:hover {\n",
              "      background-color: #E2EBFA;\n",
              "      box-shadow: 0px 1px 2px rgba(60, 64, 67, 0.3), 0px 1px 3px 1px rgba(60, 64, 67, 0.15);\n",
              "      fill: #174EA6;\n",
              "    }\n",
              "\n",
              "    [theme=dark] .colab-df-convert {\n",
              "      background-color: #3B4455;\n",
              "      fill: #D2E3FC;\n",
              "    }\n",
              "\n",
              "    [theme=dark] .colab-df-convert:hover {\n",
              "      background-color: #434B5C;\n",
              "      box-shadow: 0px 1px 3px 1px rgba(0, 0, 0, 0.15);\n",
              "      filter: drop-shadow(0px 1px 2px rgba(0, 0, 0, 0.3));\n",
              "      fill: #FFFFFF;\n",
              "    }\n",
              "  </style>\n",
              "\n",
              "      <script>\n",
              "        const buttonEl =\n",
              "          document.querySelector('#df-c71645cd-d963-4639-b958-56c03581fb78 button.colab-df-convert');\n",
              "        buttonEl.style.display =\n",
              "          google.colab.kernel.accessAllowed ? 'block' : 'none';\n",
              "\n",
              "        async function convertToInteractive(key) {\n",
              "          const element = document.querySelector('#df-c71645cd-d963-4639-b958-56c03581fb78');\n",
              "          const dataTable =\n",
              "            await google.colab.kernel.invokeFunction('convertToInteractive',\n",
              "                                                     [key], {});\n",
              "          if (!dataTable) return;\n",
              "\n",
              "          const docLinkHtml = 'Like what you see? Visit the ' +\n",
              "            '<a target=\"_blank\" href=https://colab.research.google.com/notebooks/data_table.ipynb>data table notebook</a>'\n",
              "            + ' to learn more about interactive tables.';\n",
              "          element.innerHTML = '';\n",
              "          dataTable['output_type'] = 'display_data';\n",
              "          await google.colab.output.renderOutput(dataTable, element);\n",
              "          const docLink = document.createElement('div');\n",
              "          docLink.innerHTML = docLinkHtml;\n",
              "          element.appendChild(docLink);\n",
              "        }\n",
              "      </script>\n",
              "    </div>\n",
              "  </div>\n",
              "  "
            ]
          },
          "metadata": {},
          "execution_count": 103
        }
      ]
    },
    {
      "cell_type": "code",
      "source": [
        "# verificando o balanceamento e comparando com a base original\n",
        "print('Tamanho base original: ', df.shape)\n",
        "print('Tamanho base com undersample: ', df_undersmp.shape)\n",
        "print(f'Foram removidos {df.shape[0] - df_undersmp.shape[0]} registros.')\n",
        "print('Valores de churn:')\n",
        "print(df_undersmp['cancelou_plano'].value_counts())"
      ],
      "metadata": {
        "colab": {
          "base_uri": "https://localhost:8080/"
        },
        "id": "PHkqrNkLIhsA",
        "outputId": "04165543-bd65-46ba-f14e-00e8c9b8ede7"
      },
      "execution_count": 104,
      "outputs": [
        {
          "output_type": "stream",
          "name": "stdout",
          "text": [
            "Tamanho base original:  (7043, 22)\n",
            "Tamanho base com undersample:  (3738, 21)\n",
            "Foram removidos 3305 registros.\n",
            "Valores de churn:\n",
            "0    1869\n",
            "1    1869\n",
            "Name: cancelou_plano, dtype: int64\n"
          ]
        }
      ]
    },
    {
      "cell_type": "markdown",
      "source": [
        "Com isso, 3305 registros foram removidos para criar a base a ser usada pelo modelo. A base agora tem **53% do tamanho original**. Do mesmo modo como o oversampling, minha intuição também me diz que isso é meio preocupante. \n",
        "\n",
        "Será necessário **testar as duas estratégias**, over e undersampling, nos modelos de Machine Learning para verificar qual delas **produz melhores métricas**."
      ],
      "metadata": {
        "id": "tkvCJZCaKpmO"
      }
    },
    {
      "cell_type": "markdown",
      "source": [
        "# Criação dos modelos de Machine Learning\n",
        "\n",
        "Ver treinamento Sthe: https://cursos.alura.com.br/course/modelos-preditivos-dados-deteccao-fraude/task/106629\n",
        "\n",
        "Rever curso Kaggle: \n",
        "> https://www.kaggle.com/code/dansbecker/your-first-machine-learning-model, \n",
        "\n",
        "> https://www.kaggle.com/code/dansbecker/random-forests\n",
        "\n",
        "Ver código criado na Housing Prices Competition do Kaggle (precisa estar logado), leaderboard #12792: https://www.kaggle.com/code/zingarelli/ml-competitions-first-own-submission\n",
        "\n",
        "Aula de ML da Imersão Dados 4 da Alura (talvez já não esteja disponível): https://www.youtube.com/watch?v=8VsqXXXHp8U"
      ],
      "metadata": {
        "id": "aGGazgR3B6m2"
      }
    },
    {
      "cell_type": "markdown",
      "source": [
        "Criei algumas funções para etapas que serão utilizadas pelos dois modelos, para evitar repetição de código."
      ],
      "metadata": {
        "id": "vOAmAjm9EYTE"
      }
    },
    {
      "cell_type": "code",
      "source": [
        "# função que separa e retorna os dados de treino e teste, baseado nas features escolhidas\n",
        "def get_training_data(data, features):\n",
        "  # separando target e features\n",
        "  y = data['cancelou_plano']\n",
        "  X = data[features]  \n",
        "\n",
        "  # retorna os dados de treino e validação (por padrão 25% dos dados para validação)\n",
        "  return train_test_split(X, y, random_state=SEED)"
      ],
      "metadata": {
        "id": "Bb0qiXLDCk1T"
      },
      "execution_count": 105,
      "outputs": []
    },
    {
      "cell_type": "code",
      "source": [
        "# função que imprime as métricas de acurácia, precisão, recall (sensibilidade), F1\n",
        "# e também faz o plot da matriz de confusão\n",
        "def get_metrics(test, prediction):\n",
        "  # métricas de validação do modelo criado\n",
        "  print('-'*40 + '\\nResultados do Modelo\\n' + '-'*40)\n",
        "  print('Acurácia (acerto geral): ', metrics.accuracy_score(test, prediction))\n",
        "  print('Precisão (acerto de quem cancelou o plano, dentre os positivos reais): ', metrics.precision_score(test, prediction))\n",
        "  print('Recall (acerto de quem cancelou o plano, dentre todos os positivos): ', metrics.recall_score(test, prediction)) \n",
        "  print('F1 (média harmônica precisão e recall): ', metrics.f1_score(test, prediction))\n",
        "\n",
        "  # plot da matriz de confusão\n",
        "  cm = metrics.confusion_matrix(test, prediction)\n",
        "  disp = metrics.ConfusionMatrixDisplay(cm)\n",
        "  disp.plot()"
      ],
      "metadata": {
        "id": "-XTPXef-CkjP"
      },
      "execution_count": 106,
      "outputs": []
    },
    {
      "cell_type": "markdown",
      "source": [
        "## Modelo 1: Random Forest\n",
        "\n",
        "Ver documentação: https://scikit-learn.org/stable/modules/generated/sklearn.ensemble.RandomForestClassifier.html\n",
        "\n",
        "Ver treinamento Sthe: https://cursos.alura.com.br/course/modelos-preditivos-dados-deteccao-fraude/task/106526"
      ],
      "metadata": {
        "id": "7vzBk9gUYfPB"
      }
    },
    {
      "cell_type": "code",
      "source": [
        "# função para criar o modelo e aplicar algumas métricas\n",
        "# data: base de dados\n",
        "# features: colunas a serem consideradas para o treino\n",
        "# n_trees: número de árvores da floresta\n",
        "# depth: faz a \"poda\" das árvores após atingir a profundidade (para evitar overfitting)\n",
        "def random_forest_model(data, features, n_trees=100, depth=5):  \n",
        "  # separando os dados de treino e validação\n",
        "  X_train, X_test, y_train, y_test = get_training_data(data, features)\n",
        "\n",
        "  # criando o modelo e predizendo os resultados de teste\n",
        "  rf = RandomForestClassifier(random_state=SEED, n_estimators=n_trees, max_depth=depth)\n",
        "  rf.fit(X_train, y_train)\n",
        "  y_pred = rf.predict(X_test)\n",
        "\n",
        "  # print das métricas e matriz de confusão\n",
        "  get_metrics(y_test, y_pred)"
      ],
      "metadata": {
        "id": "DmFuDm9YOCoG"
      },
      "execution_count": 107,
      "outputs": []
    },
    {
      "cell_type": "code",
      "source": [
        "# escolhendo algumas colunas para testar o modelo\n",
        "features = ['genero', 'maior_65_anos', 'gasto_mensal', 'meses_contrato']\n",
        "random_forest_model(df_oversmp, features)"
      ],
      "metadata": {
        "colab": {
          "base_uri": "https://localhost:8080/",
          "height": 401
        },
        "id": "18g5v7jky4ah",
        "outputId": "4bb32c37-13b7-4af5-e6ec-328434de4b7b"
      },
      "execution_count": 108,
      "outputs": [
        {
          "output_type": "stream",
          "name": "stdout",
          "text": [
            "----------------------------------------\n",
            "Resultados do Modelo\n",
            "----------------------------------------\n",
            "Acurácia (acerto geral):  0.7572477773482799\n",
            "Precisão (acerto de quem cancelou o plano, dentre os positivos reais):  0.7423398328690808\n",
            "Recall (acerto de quem cancelou o plano, dentre todos os positivos):  0.8051359516616314\n",
            "F1 (média harmônica precisão e recall):  0.772463768115942\n"
          ]
        },
        {
          "output_type": "display_data",
          "data": {
            "text/plain": [
              "<Figure size 432x288 with 2 Axes>"
            ],
            "image/png": "[encoded data removed]"
          },
          "metadata": {
            "needs_background": "light"
          }
        }
      ]
    },
    {
      "cell_type": "markdown",
      "source": [
        "## Modelo 2: SVC (Support Vector Classification)\n",
        "\n",
        "Ver documentação: \n",
        "\n",
        "> https://scikit-learn.org/stable/modules/svm.html#\n",
        "\n",
        "> https://scikit-learn.org/stable/modules/generated/sklearn.svm.SVC.html#sklearn.svm.SVC"
      ],
      "metadata": {
        "id": "b3DXHvnOYXND"
      }
    },
    {
      "cell_type": "markdown",
      "source": [
        "TO DO: verificar como alterar os parâmetros para otimizar o modelo"
      ],
      "metadata": {
        "id": "bTGGl383EyiV"
      }
    },
    {
      "cell_type": "code",
      "source": [
        "# função para criar o modelo e aplicar algumas métricas\n",
        "def SVC_model(data, features):\n",
        "  # separando os dados de treino e validação\n",
        "  X_train, X_test, y_train, y_test = get_training_data(data, features)\n",
        "\n",
        "  # criando o modelo e predizendo os resultados de teste\n",
        "  clf = SVC(random_state=SEED)\n",
        "  clf.fit(X_train, y_train)\n",
        "  y_pred = clf.predict(X_test)\n",
        "\n",
        "  # print das métricas e matriz de confusão\n",
        "  get_metrics(y_test, y_pred)"
      ],
      "metadata": {
        "id": "oEfrROIHQgWL"
      },
      "execution_count": 109,
      "outputs": []
    },
    {
      "cell_type": "code",
      "source": [
        "# escolhendo algumas colunas para testar o modelo\n",
        "features = ['genero', 'maior_65_anos', 'gasto_mensal', 'meses_contrato']\n",
        "SVC_model(df_oversmp, features)"
      ],
      "metadata": {
        "colab": {
          "base_uri": "https://localhost:8080/",
          "height": 401
        },
        "id": "2Unul5LWNtN4",
        "outputId": "fb8268e9-84d6-4f59-82ef-1dcd83b9bcb6"
      },
      "execution_count": 110,
      "outputs": [
        {
          "output_type": "stream",
          "name": "stdout",
          "text": [
            "----------------------------------------\n",
            "Resultados do Modelo\n",
            "----------------------------------------\n",
            "Acurácia (acerto geral):  0.7398531117124082\n",
            "Precisão (acerto de quem cancelou o plano, dentre os positivos reais):  0.7306874557051737\n",
            "Recall (acerto de quem cancelou o plano, dentre todos os positivos):  0.7787009063444109\n",
            "F1 (média harmônica precisão e recall):  0.7539305301645339\n"
          ]
        },
        {
          "output_type": "display_data",
          "data": {
            "text/plain": [
              "<Figure size 432x288 with 2 Axes>"
            ],
            "image/png": "[encoded data removed]"
          },
          "metadata": {
            "needs_background": "light"
          }
        }
      ]
    },
    {
      "cell_type": "markdown",
      "source": [
        "# Análise dos modelos\n",
        "\n",
        "Com os modelos criados, irei verificar como performam para diferentes cenários:\n",
        "\n",
        "1.   Base de dados com Oversampling\n",
        "2.   Base de dados com Undersampling\n",
        "3.   Base de dados original (desbalanceada)\n",
        "\n",
        "Nos três cenários, a base foi codificada utilizando o Label Encoding. \n",
        "\n",
        "Optei por aplicar também o One-Hot Encoding, porém fiz isso somente após grande parte do projeto já estar feita baseada no Label Encoding. Padronizar o projeto para poder escolher entre os dois tipos de codificação envolveria refatoração de muito código, o que não vou conseguir fazer para entregar o desafio dentro do prazo. Apesar disso, também testei os dois modelos aplicando o One-Hot Encoding + Oversampling e os resultados são mostrados em uma seção a parte.\n",
        "\n",
        "\n"
      ],
      "metadata": {
        "id": "rnDeeqn9Ym0a"
      }
    },
    {
      "cell_type": "markdown",
      "source": [
        "## Escolha das features\n",
        "Na Semana 2, foi possível analisar algumas variáveis que de alguma forma mostravam uma influência quando comparadas com a variável Churn (`cancelou_plano`). São elas:\n",
        "\n",
        "*   Gasto mensal;\n",
        "*   Senioridade (idade acima ou abaixo de 65 anos);\n",
        "*   Gênero (especificamente para a faixa de 70 a 110 dólares de gastos mensais);\n",
        "*   Meses de contrato;\n",
        "*   Pessoas com ou sem dependentes;\n",
        "*   Tipo de plano contratado.\n",
        "\n",
        "Irei utilizar essas variáveis como as features para o treinamento dos modelos.\n",
        "\n"
      ],
      "metadata": {
        "id": "Rm_LSvdxQ8Pa"
      }
    },
    {
      "cell_type": "code",
      "source": [
        "features = ['gasto_mensal', 'maior_65_anos', 'genero', 'meses_contrato', 'possui_dependentes', 'plano_contratado']"
      ],
      "metadata": {
        "id": "kn9-nF1FStHG"
      },
      "execution_count": 111,
      "outputs": []
    },
    {
      "cell_type": "markdown",
      "source": [
        "## Avaliação com Oversampling"
      ],
      "metadata": {
        "id": "ynfowePaQnwY"
      }
    },
    {
      "cell_type": "code",
      "source": [
        "# Random Forest\n",
        "random_forest_model(df_oversmp, features)"
      ],
      "metadata": {
        "colab": {
          "base_uri": "https://localhost:8080/",
          "height": 401
        },
        "id": "l-WDQ22gTIuR",
        "outputId": "3a3d66d3-36d6-4acf-f2e4-e4fd3564c4b3"
      },
      "execution_count": 112,
      "outputs": [
        {
          "output_type": "stream",
          "name": "stdout",
          "text": [
            "----------------------------------------\n",
            "Resultados do Modelo\n",
            "----------------------------------------\n",
            "Acurácia (acerto geral):  0.7812137611132586\n",
            "Precisão (acerto de quem cancelou o plano, dentre os positivos reais):  0.7483617300131061\n",
            "Recall (acerto de quem cancelou o plano, dentre todos os positivos):  0.8625377643504532\n",
            "F1 (média harmônica precisão e recall):  0.8014035087719299\n"
          ]
        },
        {
          "output_type": "display_data",
          "data": {
            "text/plain": [
              "<Figure size 432x288 with 2 Axes>"
            ],
            "image/png": "[encoded data removed]"
          },
          "metadata": {
            "needs_background": "light"
          }
        }
      ]
    },
    {
      "cell_type": "code",
      "source": [
        "# SVC\n",
        "SVC_model(df_oversmp, features)"
      ],
      "metadata": {
        "colab": {
          "base_uri": "https://localhost:8080/",
          "height": 401
        },
        "id": "MHHrwzR5TSvX",
        "outputId": "14ab8982-81cc-4a31-f966-e5589921eec5"
      },
      "execution_count": 113,
      "outputs": [
        {
          "output_type": "stream",
          "name": "stdout",
          "text": [
            "----------------------------------------\n",
            "Resultados do Modelo\n",
            "----------------------------------------\n",
            "Acurácia (acerto geral):  0.7413993042133745\n",
            "Precisão (acerto de quem cancelou o plano, dentre os positivos reais):  0.7279053583855254\n",
            "Recall (acerto de quem cancelou o plano, dentre todos os positivos):  0.7900302114803626\n",
            "F1 (média harmônica precisão e recall):  0.7576964867801521\n"
          ]
        },
        {
          "output_type": "display_data",
          "data": {
            "text/plain": [
              "<Figure size 432x288 with 2 Axes>"
            ],
            "image/png": "[encoded data removed]"
          },
          "metadata": {
            "needs_background": "light"
          }
        }
      ]
    },
    {
      "cell_type": "markdown",
      "source": [
        "O modelo de Random Forest apresentou os melhores valores nas quatro métricas utilizadas, apesar de as diferenças na comparação entre as métricas estar na segunda casa, decimal. \n",
        "\n",
        "Na matriz de confusão, o Random Forest também teve mais acertos e errou menos nos Falsos Positivos/Negativos, se destacando mais nos acertos de Verdadeiros Positivos (4º quadrante) e na menor quantidade de Falsos Negativos (3º quadrante). Nos outros dois quadrantes, os resultados foram bem próximos nos dois modelos.\n",
        "\n",
        "Neste caso, o **Random Forest** foi o que teve a **melhor performance**, apesar de não ter sido uma diferença tão significativa."
      ],
      "metadata": {
        "id": "OuL68jISThZz"
      }
    },
    {
      "cell_type": "markdown",
      "source": [
        "## Avaliação com Undersampling"
      ],
      "metadata": {
        "id": "qKcToyRKUlsz"
      }
    },
    {
      "cell_type": "code",
      "source": [
        "# Random Forest\n",
        "random_forest_model(df_undersmp, features)"
      ],
      "metadata": {
        "colab": {
          "base_uri": "https://localhost:8080/",
          "height": 401
        },
        "id": "fjrRJY8qUn4W",
        "outputId": "04d0d833-1c24-4ac2-af55-ca9f6a5a7254"
      },
      "execution_count": 114,
      "outputs": [
        {
          "output_type": "stream",
          "name": "stdout",
          "text": [
            "----------------------------------------\n",
            "Resultados do Modelo\n",
            "----------------------------------------\n",
            "Acurácia (acerto geral):  0.6588235294117647\n",
            "Precisão (acerto de quem cancelou o plano, dentre os positivos reais):  0.6457242582897034\n",
            "Recall (acerto de quem cancelou o plano, dentre todos os positivos):  0.7613168724279835\n",
            "F1 (média harmônica precisão e recall):  0.6987724268177526\n"
          ]
        },
        {
          "output_type": "display_data",
          "data": {
            "text/plain": [
              "<Figure size 432x288 with 2 Axes>"
            ],
            "image/png": "[encoded data removed]"
          },
          "metadata": {
            "needs_background": "light"
          }
        }
      ]
    },
    {
      "cell_type": "code",
      "source": [
        "# SVC\n",
        "SVC_model(df_undersmp, features)"
      ],
      "metadata": {
        "colab": {
          "base_uri": "https://localhost:8080/",
          "height": 401
        },
        "id": "H1R1Je41Un2B",
        "outputId": "0e2a7d99-86b9-4370-b0df-04b5f1bf287e"
      },
      "execution_count": 115,
      "outputs": [
        {
          "output_type": "stream",
          "name": "stdout",
          "text": [
            "----------------------------------------\n",
            "Resultados do Modelo\n",
            "----------------------------------------\n",
            "Acurácia (acerto geral):  0.6598930481283423\n",
            "Precisão (acerto de quem cancelou o plano, dentre os positivos reais):  0.6615384615384615\n",
            "Recall (acerto de quem cancelou o plano, dentre todos os positivos):  0.7078189300411523\n",
            "F1 (média harmônica precisão e recall):  0.68389662027833\n"
          ]
        },
        {
          "output_type": "display_data",
          "data": {
            "text/plain": [
              "<Figure size 432x288 with 2 Axes>"
            ],
            "image/png": "[encoded data removed]"
          },
          "metadata": {
            "needs_background": "light"
          }
        }
      ]
    },
    {
      "cell_type": "markdown",
      "source": [
        "Em ambos os modelos, as **métricas foram piores do que as obtidas com a base com oversampling**. Isso provavelmente aconteceu porque a **quantidade de dados** para o treinamento dos modelos foi **consideravelmente diminuída** (cerca de 53% do tamanho original).\n",
        "\n",
        "A comparação das métricas entre os dois modelos mostraram resultados parecidos, com pouca diferença, sendo que o Recall foi o único que teve alguma diferença maior (0,76 para o Random Forest e 0,71 para o SVC), ainda assim, baixa.\n",
        "\n",
        "A matriz de confusão também trouxe pouca diferença entre os dois modelos, sendo que nos quadrantes 1 e 2 o SVC foi melhor, e nos quadrantes 3 e 4, o Random Forest foi melhor. \n",
        "\n",
        "Neste caso, **não houve diferença significativa** entre os dois modelos. "
      ],
      "metadata": {
        "id": "OMVstcSMWBkD"
      }
    },
    {
      "cell_type": "markdown",
      "source": [
        "## Avaliação com a base desbalanceada"
      ],
      "metadata": {
        "id": "IbJHfxi7YACD"
      }
    },
    {
      "cell_type": "code",
      "source": [
        "# Random Forest\n",
        "random_forest_model(df_encoded, features)"
      ],
      "metadata": {
        "colab": {
          "base_uri": "https://localhost:8080/",
          "height": 404
        },
        "id": "ggqlk0UhYGEa",
        "outputId": "0405be32-7d44-41a8-b820-84c785aaa77d"
      },
      "execution_count": 116,
      "outputs": [
        {
          "output_type": "stream",
          "name": "stdout",
          "text": [
            "----------------------------------------\n",
            "Resultados do Modelo\n",
            "----------------------------------------\n",
            "Acurácia (acerto geral):  0.7967064168086314\n",
            "Precisão (acerto de quem cancelou o plano, dentre os positivos reais):  0.7116788321167883\n",
            "Recall (acerto de quem cancelou o plano, dentre todos os positivos):  0.41139240506329117\n",
            "F1 (média harmônica precisão e recall):  0.5213903743315508\n"
          ]
        },
        {
          "output_type": "display_data",
          "data": {
            "text/plain": [
              "<Figure size 432x288 with 2 Axes>"
            ],
            "image/png": "[encoded data removed]"
          },
          "metadata": {
            "needs_background": "light"
          }
        }
      ]
    },
    {
      "cell_type": "code",
      "source": [
        "# SVC\n",
        "SVC_model(df_encoded, features)"
      ],
      "metadata": {
        "colab": {
          "base_uri": "https://localhost:8080/",
          "height": 403
        },
        "id": "UNSMwzvYYGCK",
        "outputId": "4f70f1b5-6787-4195-8ae0-1f89b117829a"
      },
      "execution_count": 117,
      "outputs": [
        {
          "output_type": "stream",
          "name": "stdout",
          "text": [
            "----------------------------------------\n",
            "Resultados do Modelo\n",
            "----------------------------------------\n",
            "Acurácia (acerto geral):  0.7915956842703009\n",
            "Precisão (acerto de quem cancelou o plano, dentre os positivos reais):  0.708171206225681\n",
            "Recall (acerto de quem cancelou o plano, dentre todos os positivos):  0.38396624472573837\n",
            "F1 (média harmônica precisão e recall):  0.49794801641586867\n"
          ]
        },
        {
          "output_type": "display_data",
          "data": {
            "text/plain": [
              "<Figure size 432x288 with 2 Axes>"
            ],
            "image/png": "[encoded data removed]"
          },
          "metadata": {
            "needs_background": "light"
          }
        }
      ]
    },
    {
      "cell_type": "markdown",
      "source": [
        "Fiz esta análise para verificar o perigo de uma base desbalanceada.\n",
        "\n",
        "Em ambos os modelos, a acurácia foi até um pouco mais alta do que com a base com oversampling, com a precisão também obtendo valores semelhantes. No entanto, o problema aparece nas métricas de **Recall e F1**, que foram **muito mais baixas** na base de dados desbalanceada (0,41 e 0,52 no Random Forest e 0,38 e 0,50 no SVC, respectivamente). Ou seja, os modelos acertam bem quando preveem se uma pessoa não cancela o plano, mas erram muito ao prever se a pessoa irá cancelar o plano. Isso é **reflexo da base desbalanceada**, que possui cerca de 25% de registros de pessoas que cancelaram o plano.\n",
        "\n",
        "A comparação das métricas e da matriz de confusão entre os dois modelos apresentou resultados parecidos, então, para este caso, n**ão houve diferença significativa** entre os dois modelos."
      ],
      "metadata": {
        "id": "mS4bWy7VYRlv"
      }
    },
    {
      "cell_type": "markdown",
      "source": [
        "## Conclusão\n",
        "\n",
        "A **base com oversampling** teve as melhores métricas e a apresentou a melhor matriz de confusão. \n",
        "\n",
        "Levando em conta esta base, bem como as features escolhidas e a aplicação dos modelos com os parâmetros padrões, dentre os dois modelos, o **Random Forest** foi melhor, apesar de a diferença não ter sido tão gritante."
      ],
      "metadata": {
        "id": "yc8wXbWga-4p"
      }
    },
    {
      "cell_type": "markdown",
      "source": [
        "## Teste com o One-Hot Encoding\n",
        "\n",
        "Para finalizar as análises, segue o teste da base feita com One-Hot Encoding, aplicando também a técnica do oversampling.\n",
        "\n",
        "Sim, essa parte está bem hardcoded e muito feia... :("
      ],
      "metadata": {
        "id": "sbX-hMxbUhO5"
      }
    },
    {
      "cell_type": "code",
      "source": [
        "# colunas categóricas que irão para o modelo\n",
        "cat_features = ['genero', 'maior_65_anos', 'possui_dependentes', 'plano_contratado']\n",
        "\n",
        "# aplicando o One-Hot Encoding\n",
        "df_OH_encoded = OH_encode(df, cat_features)\n",
        "\n",
        "# alterando o target para 0 (não cancelou) ou 1 (cancelou)\n",
        "df_OH_encoded['cancelou_plano'] = df_OH_encoded['cancelou_plano'].apply(lambda x : 1 if x == 'Sim' else 0)\n",
        "\n",
        "# verificando a base e as novas colunas\n",
        "df_OH_encoded.head()"
      ],
      "metadata": {
        "colab": {
          "base_uri": "https://localhost:8080/",
          "height": 369
        },
        "id": "QbuGsIGMQaPB",
        "outputId": "f9535c63-c70f-4c71-9fad-5700c2137ba7"
      },
      "execution_count": 118,
      "outputs": [
        {
          "output_type": "execute_result",
          "data": {
            "text/plain": [
              "   cliente_ID  cancelou_plano possui_companheiro_companheira  meses_contrato  \\\n",
              "0  0002-ORFBO               0                            Sim               9   \n",
              "1  0003-MKNFE               0                            Nao               9   \n",
              "2  0004-TLHLJ               1                            Nao               4   \n",
              "3  0011-IGKFF               1                            Sim              13   \n",
              "4  0013-EXCHZ               1                            Sim               3   \n",
              "\n",
              "  assina_telefone multiplas_linhas_telefonicas tipo_assinatura_internet  \\\n",
              "0             Sim                          Nao                     Cabo   \n",
              "1             Sim                          Sim                     Cabo   \n",
              "2             Sim                          Nao                    Fibra   \n",
              "3             Sim                          Nao                    Fibra   \n",
              "4             Sim                          Nao                    Fibra   \n",
              "\n",
              "  adicional_seguranca_online adicional_backup_online  \\\n",
              "0                        Nao                     Sim   \n",
              "1                        Nao                     Nao   \n",
              "2                        Nao                     Nao   \n",
              "3                        Nao                     Sim   \n",
              "4                        Nao                     Nao   \n",
              "\n",
              "  adicional_protecao_dispositivo adicional_suporte_VIP  ... gasto_mensal  \\\n",
              "0                            Nao                   Sim  ...         65.6   \n",
              "1                            Nao                   Nao  ...         59.9   \n",
              "2                            Sim                   Nao  ...         73.9   \n",
              "3                            Sim                   Nao  ...         98.0   \n",
              "4                            Nao                   Sim  ...         83.9   \n",
              "\n",
              "  gasto_total    0    1    2    3    4    5    6    7    8  \n",
              "0      593.30  0.0  1.0  1.0  0.0  0.0  1.0  0.0  0.0  1.0  \n",
              "1      542.40  1.0  0.0  1.0  0.0  1.0  0.0  0.0  1.0  0.0  \n",
              "2      280.85  1.0  0.0  1.0  0.0  1.0  0.0  0.0  1.0  0.0  \n",
              "3     1237.85  1.0  0.0  0.0  1.0  1.0  0.0  0.0  1.0  0.0  \n",
              "4      267.40  0.0  1.0  0.0  1.0  1.0  0.0  0.0  1.0  0.0  \n",
              "\n",
              "[5 rows x 27 columns]"
            ],
            "text/html": [
              "\n",
              "  <div id=\"df-a33bac98-f760-47e2-967d-1e956159a888\">\n",
              "    <div class=\"colab-df-container\">\n",
              "      <div>\n",
              "<style scoped>\n",
              "    .dataframe tbody tr th:only-of-type {\n",
              "        vertical-align: middle;\n",
              "    }\n",
              "\n",
              "    .dataframe tbody tr th {\n",
              "        vertical-align: top;\n",
              "    }\n",
              "\n",
              "    .dataframe thead th {\n",
              "        text-align: right;\n",
              "    }\n",
              "</style>\n",
              "<table border=\"1\" class=\"dataframe\">\n",
              "  <thead>\n",
              "    <tr style=\"text-align: right;\">\n",
              "      <th></th>\n",
              "      <th>cliente_ID</th>\n",
              "      <th>cancelou_plano</th>\n",
              "      <th>possui_companheiro_companheira</th>\n",
              "      <th>meses_contrato</th>\n",
              "      <th>assina_telefone</th>\n",
              "      <th>multiplas_linhas_telefonicas</th>\n",
              "      <th>tipo_assinatura_internet</th>\n",
              "      <th>adicional_seguranca_online</th>\n",
              "      <th>adicional_backup_online</th>\n",
              "      <th>adicional_protecao_dispositivo</th>\n",
              "      <th>adicional_suporte_VIP</th>\n",
              "      <th>...</th>\n",
              "      <th>gasto_mensal</th>\n",
              "      <th>gasto_total</th>\n",
              "      <th>0</th>\n",
              "      <th>1</th>\n",
              "      <th>2</th>\n",
              "      <th>3</th>\n",
              "      <th>4</th>\n",
              "      <th>5</th>\n",
              "      <th>6</th>\n",
              "      <th>7</th>\n",
              "      <th>8</th>\n",
              "    </tr>\n",
              "  </thead>\n",
              "  <tbody>\n",
              "    <tr>\n",
              "      <th>0</th>\n",
              "      <td>0002-ORFBO</td>\n",
              "      <td>0</td>\n",
              "      <td>Sim</td>\n",
              "      <td>9</td>\n",
              "      <td>Sim</td>\n",
              "      <td>Nao</td>\n",
              "      <td>Cabo</td>\n",
              "      <td>Nao</td>\n",
              "      <td>Sim</td>\n",
              "      <td>Nao</td>\n",
              "      <td>Sim</td>\n",
              "      <td>...</td>\n",
              "      <td>65.6</td>\n",
              "      <td>593.30</td>\n",
              "      <td>0.0</td>\n",
              "      <td>1.0</td>\n",
              "      <td>1.0</td>\n",
              "      <td>0.0</td>\n",
              "      <td>0.0</td>\n",
              "      <td>1.0</td>\n",
              "      <td>0.0</td>\n",
              "      <td>0.0</td>\n",
              "      <td>1.0</td>\n",
              "    </tr>\n",
              "    <tr>\n",
              "      <th>1</th>\n",
              "      <td>0003-MKNFE</td>\n",
              "      <td>0</td>\n",
              "      <td>Nao</td>\n",
              "      <td>9</td>\n",
              "      <td>Sim</td>\n",
              "      <td>Sim</td>\n",
              "      <td>Cabo</td>\n",
              "      <td>Nao</td>\n",
              "      <td>Nao</td>\n",
              "      <td>Nao</td>\n",
              "      <td>Nao</td>\n",
              "      <td>...</td>\n",
              "      <td>59.9</td>\n",
              "      <td>542.40</td>\n",
              "      <td>1.0</td>\n",
              "      <td>0.0</td>\n",
              "      <td>1.0</td>\n",
              "      <td>0.0</td>\n",
              "      <td>1.0</td>\n",
              "      <td>0.0</td>\n",
              "      <td>0.0</td>\n",
              "      <td>1.0</td>\n",
              "      <td>0.0</td>\n",
              "    </tr>\n",
              "    <tr>\n",
              "      <th>2</th>\n",
              "      <td>0004-TLHLJ</td>\n",
              "      <td>1</td>\n",
              "      <td>Nao</td>\n",
              "      <td>4</td>\n",
              "      <td>Sim</td>\n",
              "      <td>Nao</td>\n",
              "      <td>Fibra</td>\n",
              "      <td>Nao</td>\n",
              "      <td>Nao</td>\n",
              "      <td>Sim</td>\n",
              "      <td>Nao</td>\n",
              "      <td>...</td>\n",
              "      <td>73.9</td>\n",
              "      <td>280.85</td>\n",
              "      <td>1.0</td>\n",
              "      <td>0.0</td>\n",
              "      <td>1.0</td>\n",
              "      <td>0.0</td>\n",
              "      <td>1.0</td>\n",
              "      <td>0.0</td>\n",
              "      <td>0.0</td>\n",
              "      <td>1.0</td>\n",
              "      <td>0.0</td>\n",
              "    </tr>\n",
              "    <tr>\n",
              "      <th>3</th>\n",
              "      <td>0011-IGKFF</td>\n",
              "      <td>1</td>\n",
              "      <td>Sim</td>\n",
              "      <td>13</td>\n",
              "      <td>Sim</td>\n",
              "      <td>Nao</td>\n",
              "      <td>Fibra</td>\n",
              "      <td>Nao</td>\n",
              "      <td>Sim</td>\n",
              "      <td>Sim</td>\n",
              "      <td>Nao</td>\n",
              "      <td>...</td>\n",
              "      <td>98.0</td>\n",
              "      <td>1237.85</td>\n",
              "      <td>1.0</td>\n",
              "      <td>0.0</td>\n",
              "      <td>0.0</td>\n",
              "      <td>1.0</td>\n",
              "      <td>1.0</td>\n",
              "      <td>0.0</td>\n",
              "      <td>0.0</td>\n",
              "      <td>1.0</td>\n",
              "      <td>0.0</td>\n",
              "    </tr>\n",
              "    <tr>\n",
              "      <th>4</th>\n",
              "      <td>0013-EXCHZ</td>\n",
              "      <td>1</td>\n",
              "      <td>Sim</td>\n",
              "      <td>3</td>\n",
              "      <td>Sim</td>\n",
              "      <td>Nao</td>\n",
              "      <td>Fibra</td>\n",
              "      <td>Nao</td>\n",
              "      <td>Nao</td>\n",
              "      <td>Nao</td>\n",
              "      <td>Sim</td>\n",
              "      <td>...</td>\n",
              "      <td>83.9</td>\n",
              "      <td>267.40</td>\n",
              "      <td>0.0</td>\n",
              "      <td>1.0</td>\n",
              "      <td>0.0</td>\n",
              "      <td>1.0</td>\n",
              "      <td>1.0</td>\n",
              "      <td>0.0</td>\n",
              "      <td>0.0</td>\n",
              "      <td>1.0</td>\n",
              "      <td>0.0</td>\n",
              "    </tr>\n",
              "  </tbody>\n",
              "</table>\n",
              "<p>5 rows × 27 columns</p>\n",
              "</div>\n",
              "      <button class=\"colab-df-convert\" onclick=\"convertToInteractive('df-a33bac98-f760-47e2-967d-1e956159a888')\"\n",
              "              title=\"Convert this dataframe to an interactive table.\"\n",
              "              style=\"display:none;\">\n",
              "        \n",
              "  <svg xmlns=\"http://www.w3.org/2000/svg\" height=\"24px\"viewBox=\"0 0 24 24\"\n",
              "       width=\"24px\">\n",
              "    <path d=\"M0 0h24v24H0V0z\" fill=\"none\"/>\n",
              "    <path d=\"M18.56 5.44l.94 2.06.94-2.06 2.06-.94-2.06-.94-.94-2.06-.94 2.06-2.06.94zm-11 1L8.5 8.5l.94-2.06 2.06-.94-2.06-.94L8.5 2.5l-.94 2.06-2.06.94zm10 10l.94 2.06.94-2.06 2.06-.94-2.06-.94-.94-2.06-.94 2.06-2.06.94z\"/><path d=\"M17.41 7.96l-1.37-1.37c-.4-.4-.92-.59-1.43-.59-.52 0-1.04.2-1.43.59L10.3 9.45l-7.72 7.72c-.78.78-.78 2.05 0 2.83L4 21.41c.39.39.9.59 1.41.59.51 0 1.02-.2 1.41-.59l7.78-7.78 2.81-2.81c.8-.78.8-2.07 0-2.86zM5.41 20L4 18.59l7.72-7.72 1.47 1.35L5.41 20z\"/>\n",
              "  </svg>\n",
              "      </button>\n",
              "      \n",
              "  <style>\n",
              "    .colab-df-container {\n",
              "      display:flex;\n",
              "      flex-wrap:wrap;\n",
              "      gap: 12px;\n",
              "    }\n",
              "\n",
              "    .colab-df-convert {\n",
              "      background-color: #E8F0FE;\n",
              "      border: none;\n",
              "      border-radius: 50%;\n",
              "      cursor: pointer;\n",
              "      display: none;\n",
              "      fill: #1967D2;\n",
              "      height: 32px;\n",
              "      padding: 0 0 0 0;\n",
              "      width: 32px;\n",
              "    }\n",
              "\n",
              "    .colab-df-convert:hover {\n",
              "      background-color: #E2EBFA;\n",
              "      box-shadow: 0px 1px 2px rgba(60, 64, 67, 0.3), 0px 1px 3px 1px rgba(60, 64, 67, 0.15);\n",
              "      fill: #174EA6;\n",
              "    }\n",
              "\n",
              "    [theme=dark] .colab-df-convert {\n",
              "      background-color: #3B4455;\n",
              "      fill: #D2E3FC;\n",
              "    }\n",
              "\n",
              "    [theme=dark] .colab-df-convert:hover {\n",
              "      background-color: #434B5C;\n",
              "      box-shadow: 0px 1px 3px 1px rgba(0, 0, 0, 0.15);\n",
              "      filter: drop-shadow(0px 1px 2px rgba(0, 0, 0, 0.3));\n",
              "      fill: #FFFFFF;\n",
              "    }\n",
              "  </style>\n",
              "\n",
              "      <script>\n",
              "        const buttonEl =\n",
              "          document.querySelector('#df-a33bac98-f760-47e2-967d-1e956159a888 button.colab-df-convert');\n",
              "        buttonEl.style.display =\n",
              "          google.colab.kernel.accessAllowed ? 'block' : 'none';\n",
              "\n",
              "        async function convertToInteractive(key) {\n",
              "          const element = document.querySelector('#df-a33bac98-f760-47e2-967d-1e956159a888');\n",
              "          const dataTable =\n",
              "            await google.colab.kernel.invokeFunction('convertToInteractive',\n",
              "                                                     [key], {});\n",
              "          if (!dataTable) return;\n",
              "\n",
              "          const docLinkHtml = 'Like what you see? Visit the ' +\n",
              "            '<a target=\"_blank\" href=https://colab.research.google.com/notebooks/data_table.ipynb>data table notebook</a>'\n",
              "            + ' to learn more about interactive tables.';\n",
              "          element.innerHTML = '';\n",
              "          dataTable['output_type'] = 'display_data';\n",
              "          await google.colab.output.renderOutput(dataTable, element);\n",
              "          const docLink = document.createElement('div');\n",
              "          docLink.innerHTML = docLinkHtml;\n",
              "          element.appendChild(docLink);\n",
              "        }\n",
              "      </script>\n",
              "    </div>\n",
              "  </div>\n",
              "  "
            ]
          },
          "metadata": {},
          "execution_count": 118
        }
      ]
    },
    {
      "cell_type": "code",
      "source": [
        "# o One-Hot Encoding criou novas colunas, então preciso alterar as features\n",
        "features = ['gasto_mensal', 'meses_contrato', 0, 1, 2, 3, 4, 5, 6, 7, 8]\n",
        "\n",
        "# fazendo o oversampling\n",
        "smote = SMOTE(random_state = SEED)\n",
        "x = df_OH_encoded[features]\n",
        "y = df_OH_encoded['cancelou_plano']\n",
        "x_oversmp, y_oversmp = smote.fit_resample(x, y) # gera um warning que em futuras versões poderá ser um erro\n",
        "df_OH_oversmp = pd.concat([y_oversmp, x_oversmp], axis=1)\n",
        "\n",
        "# testando os modelos\n",
        "# também gera um warning que em futuras versões poderá ser um erro\n",
        "random_forest_model(df_OH_oversmp, features)\n",
        "SVC_model(df_OH_oversmp, features)"
      ],
      "metadata": {
        "colab": {
          "base_uri": "https://localhost:8080/",
          "height": 978
        },
        "id": "WQ4s7adJdTZp",
        "outputId": "56f32eb9-0cba-4346-aca8-8e49b9446753"
      },
      "execution_count": 119,
      "outputs": [
        {
          "output_type": "stream",
          "name": "stderr",
          "text": [
            "/usr/local/lib/python3.7/dist-packages/sklearn/utils/validation.py:1692: FutureWarning: Feature names only support names that are all strings. Got feature names with dtypes: ['int', 'str']. An error will be raised in 1.2.\n",
            "  FutureWarning,\n",
            "/usr/local/lib/python3.7/dist-packages/sklearn/utils/validation.py:1692: FutureWarning: Feature names only support names that are all strings. Got feature names with dtypes: ['int', 'str']. An error will be raised in 1.2.\n",
            "  FutureWarning,\n",
            "/usr/local/lib/python3.7/dist-packages/sklearn/utils/validation.py:1692: FutureWarning: Feature names only support names that are all strings. Got feature names with dtypes: ['int', 'str']. An error will be raised in 1.2.\n",
            "  FutureWarning,\n"
          ]
        },
        {
          "output_type": "stream",
          "name": "stdout",
          "text": [
            "----------------------------------------\n",
            "Resultados do Modelo\n",
            "----------------------------------------\n",
            "Acurácia (acerto geral):  0.7939698492462312\n",
            "Precisão (acerto de quem cancelou o plano, dentre os positivos reais):  0.7476518472135254\n",
            "Recall (acerto de quem cancelou o plano, dentre todos os positivos):  0.9018126888217523\n",
            "F1 (média harmônica precisão e recall):  0.8175282437521398\n"
          ]
        },
        {
          "output_type": "stream",
          "name": "stderr",
          "text": [
            "/usr/local/lib/python3.7/dist-packages/sklearn/utils/validation.py:1692: FutureWarning: Feature names only support names that are all strings. Got feature names with dtypes: ['int', 'str']. An error will be raised in 1.2.\n",
            "  FutureWarning,\n",
            "/usr/local/lib/python3.7/dist-packages/sklearn/utils/validation.py:1692: FutureWarning: Feature names only support names that are all strings. Got feature names with dtypes: ['int', 'str']. An error will be raised in 1.2.\n",
            "  FutureWarning,\n"
          ]
        },
        {
          "output_type": "stream",
          "name": "stdout",
          "text": [
            "----------------------------------------\n",
            "Resultados do Modelo\n",
            "----------------------------------------\n",
            "Acurácia (acerto geral):  0.7406262079628914\n",
            "Precisão (acerto de quem cancelou o plano, dentre os positivos reais):  0.7259515570934256\n",
            "Recall (acerto de quem cancelou o plano, dentre todos os positivos):  0.7922960725075529\n",
            "F1 (média harmônica precisão e recall):  0.7576742506319971\n"
          ]
        },
        {
          "output_type": "display_data",
          "data": {
            "text/plain": [
              "<Figure size 432x288 with 2 Axes>"
            ],
            "image/png": "[encoded data removed]"
          },
          "metadata": {
            "needs_background": "light"
          }
        },
        {
          "output_type": "display_data",
          "data": {
            "text/plain": [
              "<Figure size 432x288 with 2 Axes>"
            ],
            "image/png": "[encoded data removed]"
          },
          "metadata": {
            "needs_background": "light"
          }
        }
      ]
    },
    {
      "cell_type": "markdown",
      "source": [
        "Os resultados dos modelos utilizando a base de dados com One-Hot Encoding + Oversampling se mostraram também muito bons. \n",
        "\n",
        "Em comparação com a base com Label Enconding + Oversampling, as métricas para o **Random Forest** foram até **maiores** para o caso do One-Hot Encoding, com **destaque para o Recall**, que atingiu **0,90** (contra 0,86 na base com Label Encoding), ou seja, ele conseguiu acertar mais e melhor quem irá cancelar o plano. No caso do SVC, os resultados foram semelhantes para ambos os encoding.\n",
        "\n",
        "Como essa parte do One-Hot Encoding foi **feita com pressa**, pode ser que eu tenha errado em algum passo, pois copiei e colei muito código. Por esse motivo, vou optar por **manter os dados com o Label Encoding** para a otimização do modelo do Random Forest."
      ],
      "metadata": {
        "id": "G7WKA3YEXdIR"
      }
    },
    {
      "cell_type": "markdown",
      "source": [
        "# Otimização do Random Forest\n",
        "\n",
        "Escolhido o Random Forest como modelo e a base com label encoding e oversampling, irei fazer alguns testes alterando parâmetros do modelo e também features da base para verificar se as métricas melhoram"
      ],
      "metadata": {
        "id": "Lm1BfjGV0Dzj"
      }
    },
    {
      "cell_type": "markdown",
      "source": [
        "## Teste do modelo com todas as colunas da Base\n",
        "\n",
        "Apenas de curiosidade, vou verificar como o modelo se sai quando utilizo todas as colunas como features."
      ],
      "metadata": {
        "id": "-7i2GJFn0mUx"
      }
    },
    {
      "cell_type": "code",
      "source": [
        "# verificando as colunas (cliente_ID foi removida durante o oversampling)\n",
        "df_oversmp.columns.values"
      ],
      "metadata": {
        "id": "LDxt-1qNmm1s",
        "colab": {
          "base_uri": "https://localhost:8080/"
        },
        "outputId": "0cf55d61-a919-4900-a5fa-bda82680ede9"
      },
      "execution_count": 120,
      "outputs": [
        {
          "output_type": "execute_result",
          "data": {
            "text/plain": [
              "array(['cancelou_plano', 'genero', 'maior_65_anos',\n",
              "       'possui_companheiro_companheira', 'possui_dependentes',\n",
              "       'meses_contrato', 'assina_telefone',\n",
              "       'multiplas_linhas_telefonicas', 'tipo_assinatura_internet',\n",
              "       'adicional_seguranca_online', 'adicional_backup_online',\n",
              "       'adicional_protecao_dispositivo', 'adicional_suporte_VIP',\n",
              "       'assina_TV_cabo', 'assina_streaming_filmes', 'plano_contratado',\n",
              "       'fatura_online', 'forma_pagamento', 'gasto_diario', 'gasto_mensal',\n",
              "       'gasto_total'], dtype=object)"
            ]
          },
          "metadata": {},
          "execution_count": 120
        }
      ]
    },
    {
      "cell_type": "code",
      "source": [
        "# aplicando o modelo com todas as colunas, menos a target, que é 'cancelou_plano'\n",
        "features = df_oversmp.drop('cancelou_plano', axis=1).columns.values\n",
        "random_forest_model(df_oversmp, features)"
      ],
      "metadata": {
        "colab": {
          "base_uri": "https://localhost:8080/",
          "height": 401
        },
        "id": "qeoSf4z86fcF",
        "outputId": "2204cddf-a95d-4bb7-9750-99b1125cf0d4"
      },
      "execution_count": 121,
      "outputs": [
        {
          "output_type": "stream",
          "name": "stdout",
          "text": [
            "----------------------------------------\n",
            "Resultados do Modelo\n",
            "----------------------------------------\n",
            "Acurácia (acerto geral):  0.7947429454967143\n",
            "Precisão (acerto de quem cancelou o plano, dentre os positivos reais):  0.776692254012561\n",
            "Recall (acerto de quem cancelou o plano, dentre todos os positivos):  0.8406344410876133\n",
            "F1 (média harmônica precisão e recall):  0.8073993471164309\n"
          ]
        },
        {
          "output_type": "display_data",
          "data": {
            "text/plain": [
              "<Figure size 432x288 with 2 Axes>"
            ],
            "image/png": "[encoded data removed]"
          },
          "metadata": {
            "needs_background": "light"
          }
        }
      ]
    },
    {
      "cell_type": "markdown",
      "source": [
        "O modelo teve uma leve melhora de performance em todas as métricas, menos no Recall, onde foi levemente pior. Então acredito que as [features selecionadas anteriormente](#scrollTo=Rm_LSvdxQ8Pa) estão adequadas. \n",
        "\n",
        "Listo elas abaixo novamente, que serão utilizadas nos próximos testes."
      ],
      "metadata": {
        "id": "nQbRXMNI7Eme"
      }
    },
    {
      "cell_type": "code",
      "source": [
        "features = ['gasto_mensal', 'maior_65_anos', 'meses_contrato', 'possui_dependentes', 'plano_contratado']"
      ],
      "metadata": {
        "id": "ydNWOMRr-Rf2"
      },
      "execution_count": 122,
      "outputs": []
    },
    {
      "cell_type": "markdown",
      "source": [
        "## Avaliação dos parâmetros do modelo\n",
        "\n",
        "Irei testar o modelo com diferentes valores para os parâmetros `n_trees` e `depth`, que foram criados na função do modelo e são baseados nos parâmetros `n_estimators`, `max_depth`. O objetivo é avaliar qual seria o melhor valor para estes dois parâmetros, tendo em vista melhores resultados nas métricas."
      ],
      "metadata": {
        "id": "9hYgIweN-zk8"
      }
    },
    {
      "cell_type": "code",
      "source": [
        "# testando a quantidade de árvores no modelo\n",
        "n_trees = [50, 100, 150, 200, 250, 500] #500 na última iteração só para teste de estresse\n",
        "for trees in n_trees:\n",
        "  random_forest_model(df_oversmp, features, trees)"
      ],
      "metadata": {
        "colab": {
          "base_uri": "https://localhost:8080/",
          "height": 1000
        },
        "id": "mIhhT_aj_dx0",
        "outputId": "b5ded75c-76ad-47e8-98aa-6acbae14db2e"
      },
      "execution_count": 123,
      "outputs": [
        {
          "output_type": "stream",
          "name": "stdout",
          "text": [
            "----------------------------------------\n",
            "Resultados do Modelo\n",
            "----------------------------------------\n",
            "Acurácia (acerto geral):  0.7804406648627754\n",
            "Precisão (acerto de quem cancelou o plano, dentre os positivos reais):  0.7543741588156124\n",
            "Recall (acerto de quem cancelou o plano, dentre todos os positivos):  0.8466767371601208\n",
            "F1 (média harmônica precisão e recall):  0.7978647686832739\n",
            "----------------------------------------\n",
            "Resultados do Modelo\n",
            "----------------------------------------\n",
            "Acurácia (acerto geral):  0.7816003092385002\n",
            "Precisão (acerto de quem cancelou o plano, dentre os positivos reais):  0.7562457798784605\n",
            "Recall (acerto de quem cancelou o plano, dentre todos os positivos):  0.8459214501510574\n",
            "F1 (média harmônica precisão e recall):  0.7985739750445633\n",
            "----------------------------------------\n",
            "Resultados do Modelo\n",
            "----------------------------------------\n",
            "Acurácia (acerto geral):  0.7796675686122922\n",
            "Precisão (acerto de quem cancelou o plano, dentre os positivos reais):  0.7543859649122807\n",
            "Recall (acerto de quem cancelou o plano, dentre todos os positivos):  0.8444108761329305\n",
            "F1 (média harmônica precisão e recall):  0.7968638631503919\n",
            "----------------------------------------\n",
            "Resultados do Modelo\n",
            "----------------------------------------\n",
            "Acurácia (acerto geral):  0.780827212988017\n",
            "Precisão (acerto de quem cancelou o plano, dentre os positivos reais):  0.7562626946513202\n",
            "Recall (acerto de quem cancelou o plano, dentre todos os positivos):  0.8436555891238671\n",
            "F1 (média harmônica precisão e recall):  0.7975722956087112\n",
            "----------------------------------------\n",
            "Resultados do Modelo\n",
            "----------------------------------------\n",
            "Acurácia (acerto geral):  0.7796675686122922\n",
            "Precisão (acerto de quem cancelou o plano, dentre os positivos reais):  0.7547297297297297\n",
            "Recall (acerto de quem cancelou o plano, dentre todos os positivos):  0.8436555891238671\n",
            "F1 (média harmônica precisão e recall):  0.796718972895863\n",
            "----------------------------------------\n",
            "Resultados do Modelo\n",
            "----------------------------------------\n",
            "Acurácia (acerto geral):  0.7788944723618091\n",
            "Precisão (acerto de quem cancelou o plano, dentre os positivos reais):  0.7547425474254743\n",
            "Recall (acerto de quem cancelou o plano, dentre todos os positivos):  0.8413897280966768\n",
            "F1 (média harmônica precisão e recall):  0.7957142857142857\n"
          ]
        },
        {
          "output_type": "display_data",
          "data": {
            "text/plain": [
              "<Figure size 432x288 with 2 Axes>"
            ],
            "image/png": "[encoded data removed]"
          },
          "metadata": {
            "needs_background": "light"
          }
        },
        {
          "output_type": "display_data",
          "data": {
            "text/plain": [
              "<Figure size 432x288 with 2 Axes>"
            ],
            "image/png": "[encoded data removed]"
          },
          "metadata": {
            "needs_background": "light"
          }
        },
        {
          "output_type": "display_data",
          "data": {
            "text/plain": [
              "<Figure size 432x288 with 2 Axes>"
            ],
            "image/png": "[encoded data removed]"
          },
          "metadata": {
            "needs_background": "light"
          }
        },
        {
          "output_type": "display_data",
          "data": {
            "text/plain": [
              "<Figure size 432x288 with 2 Axes>"
            ],
            "image/png": "[encoded data removed]"
          },
          "metadata": {
            "needs_background": "light"
          }
        },
        {
          "output_type": "display_data",
          "data": {
            "text/plain": [
              "<Figure size 432x288 with 2 Axes>"
            ],
            "image/png": "[encoded data removed]"
          },
          "metadata": {
            "needs_background": "light"
          }
        },
        {
          "output_type": "display_data",
          "data": {
            "text/plain": [
              "<Figure size 432x288 with 2 Axes>"
            ],
            "image/png": "[encoded data removed]"
          },
          "metadata": {
            "needs_background": "light"
          }
        }
      ]
    },
    {
      "cell_type": "markdown",
      "source": [
        "Os resultados das métricas para os diferentes valores de `n_trees` se mostraram **semelhantes**. As diferenças aconteciam na 2ª ou 3ª casa decimal. \n",
        "\n",
        "Os resultados em **precisão e F1 foram melhores para 100 árvores** (que é o padrão do modelo), então **irei manter o valor padrão para `n_trees`**."
      ],
      "metadata": {
        "id": "NRZnZG5VCKde"
      }
    },
    {
      "cell_type": "code",
      "source": [
        "# valor selecionado para a quantidade de árvores (já é o padrão do modelo no sklearn)\n",
        "n_trees = 100"
      ],
      "metadata": {
        "id": "EeZ5yQVCEAsw"
      },
      "execution_count": 124,
      "outputs": []
    },
    {
      "cell_type": "code",
      "source": [
        "# testando a profundidade das árvores no modelo\n",
        "max_depth = [5, 10, 15, 20, 25, 30]\n",
        "for depth in max_depth:\n",
        "  random_forest_model(df_oversmp, features, n_trees, depth)"
      ],
      "metadata": {
        "colab": {
          "base_uri": "https://localhost:8080/",
          "height": 1000
        },
        "id": "3SFBYPdS_du-",
        "outputId": "cb9797a9-0ccf-4b98-8a55-c628b4f3f0e5"
      },
      "execution_count": 125,
      "outputs": [
        {
          "output_type": "stream",
          "name": "stdout",
          "text": [
            "----------------------------------------\n",
            "Resultados do Modelo\n",
            "----------------------------------------\n",
            "Acurácia (acerto geral):  0.7816003092385002\n",
            "Precisão (acerto de quem cancelou o plano, dentre os positivos reais):  0.7562457798784605\n",
            "Recall (acerto de quem cancelou o plano, dentre todos os positivos):  0.8459214501510574\n",
            "F1 (média harmônica precisão e recall):  0.7985739750445633\n",
            "----------------------------------------\n",
            "Resultados do Modelo\n",
            "----------------------------------------\n",
            "Acurácia (acerto geral):  0.7885581754928489\n",
            "Precisão (acerto de quem cancelou o plano, dentre os positivos reais):  0.7651877133105802\n",
            "Recall (acerto de quem cancelou o plano, dentre todos os positivos):  0.8466767371601208\n",
            "F1 (média harmônica precisão e recall):  0.8038723556830405\n",
            "----------------------------------------\n",
            "Resultados do Modelo\n",
            "----------------------------------------\n",
            "Acurácia (acerto geral):  0.7792810204870506\n",
            "Precisão (acerto de quem cancelou o plano, dentre os positivos reais):  0.771841155234657\n",
            "Recall (acerto de quem cancelou o plano, dentre todos os positivos):  0.8074018126888217\n",
            "F1 (média harmônica precisão e recall):  0.7892211148025101\n",
            "----------------------------------------\n",
            "Resultados do Modelo\n",
            "----------------------------------------\n",
            "Acurácia (acerto geral):  0.7688442211055276\n",
            "Precisão (acerto de quem cancelou o plano, dentre os positivos reais):  0.7754172989377845\n",
            "Recall (acerto de quem cancelou o plano, dentre todos os positivos):  0.7719033232628398\n",
            "F1 (média harmônica precisão e recall):  0.7736563209689629\n",
            "----------------------------------------\n",
            "Resultados do Modelo\n",
            "----------------------------------------\n",
            "Acurácia (acerto geral):  0.7676845767298028\n",
            "Precisão (acerto de quem cancelou o plano, dentre os positivos reais):  0.7787201233616037\n",
            "Recall (acerto de quem cancelou o plano, dentre todos os positivos):  0.7628398791540786\n",
            "F1 (média harmônica precisão e recall):  0.770698206791301\n",
            "----------------------------------------\n",
            "Resultados do Modelo\n",
            "----------------------------------------\n",
            "Acurácia (acerto geral):  0.7692307692307693\n",
            "Precisão (acerto de quem cancelou o plano, dentre os positivos reais):  0.7833203429462198\n",
            "Recall (acerto de quem cancelou o plano, dentre todos os positivos):  0.7590634441087614\n",
            "F1 (média harmônica precisão e recall):  0.7710011507479861\n"
          ]
        },
        {
          "output_type": "display_data",
          "data": {
            "text/plain": [
              "<Figure size 432x288 with 2 Axes>"
            ],
            "image/png": "[encoded data removed]"
          },
          "metadata": {
            "needs_background": "light"
          }
        },
        {
          "output_type": "display_data",
          "data": {
            "text/plain": [
              "<Figure size 432x288 with 2 Axes>"
            ],
            "image/png": "[encoded data removed]"
          },
          "metadata": {
            "needs_background": "light"
          }
        },
        {
          "output_type": "display_data",
          "data": {
            "text/plain": [
              "<Figure size 432x288 with 2 Axes>"
            ],
            "image/png": "[encoded data removed]"
          },
          "metadata": {
            "needs_background": "light"
          }
        },
        {
          "output_type": "display_data",
          "data": {
            "text/plain": [
              "<Figure size 432x288 with 2 Axes>"
            ],
            "image/png": "[encoded data removed]"
          },
          "metadata": {
            "needs_background": "light"
          }
        },
        {
          "output_type": "display_data",
          "data": {
            "text/plain": [
              "<Figure size 432x288 with 2 Axes>"
            ],
            "image/png": "[encoded data removed]"
          },
          "metadata": {
            "needs_background": "light"
          }
        },
        {
          "output_type": "display_data",
          "data": {
            "text/plain": [
              "<Figure size 432x288 with 2 Axes>"
            ],
            "image/png": "[encoded data removed]"
          },
          "metadata": {
            "needs_background": "light"
          }
        }
      ]
    },
    {
      "cell_type": "markdown",
      "source": [
        "Após a **profundidade 10**, os valores das métricas foram **caindo**, com exceção da precisão, que foi melhorando. \n",
        "\n",
        "Comparando as matrizes de confusão, é possível notar que essa melhora na precisão refletiu em mais acertos no  quadrante de \"Verdadeiros Negativos\", isto é, nos clientes que não cancelaram o plano, porém, prejudicou o quadrante de \"Verdadeiros Positivos\", isto é, clientes que cancelaram o plano. \n",
        "\n",
        "Ou seja, conforme a profundidade aumentou, o modelo conseguiu **acertar melhor** os clientes que **não cancelaram** o plano, porém também **errou mais** nos clientes que **cancelaram** o plano.\n",
        "\n",
        "Como para a Alura Voz a perda de clientes implica em **perda de receitas**, considero que o melhor é ter um **modelo que acerte mais** em identificar **quem cancela** o plano. Desse modo, a profundidade 10 seria a melhor escolha. \n",
        "\n",
        "Irei fazer mais uma avaliação, testanto a profudidade entre 10 e 15 para verificar se há algum resultado melhor nesse intervalo."
      ],
      "metadata": {
        "id": "ypBHC7acE_F5"
      }
    },
    {
      "cell_type": "code",
      "source": [
        "max_depth = list(range(10, 15))\n",
        "for depth in max_depth:\n",
        "  random_forest_model(df_oversmp, features, n_trees, depth)"
      ],
      "metadata": {
        "colab": {
          "base_uri": "https://localhost:8080/",
          "height": 1000
        },
        "id": "7WaGnGUcIpSG",
        "outputId": "fe68483b-b471-4f9f-aaf7-ab67bc2c597a"
      },
      "execution_count": 126,
      "outputs": [
        {
          "output_type": "stream",
          "name": "stdout",
          "text": [
            "----------------------------------------\n",
            "Resultados do Modelo\n",
            "----------------------------------------\n",
            "Acurácia (acerto geral):  0.7885581754928489\n",
            "Precisão (acerto de quem cancelou o plano, dentre os positivos reais):  0.7651877133105802\n",
            "Recall (acerto de quem cancelou o plano, dentre todos os positivos):  0.8466767371601208\n",
            "F1 (média harmônica precisão e recall):  0.8038723556830405\n",
            "----------------------------------------\n",
            "Resultados do Modelo\n",
            "----------------------------------------\n",
            "Acurácia (acerto geral):  0.7858523386161577\n",
            "Precisão (acerto de quem cancelou o plano, dentre os positivos reais):  0.7604871447902571\n",
            "Recall (acerto de quem cancelou o plano, dentre todos os positivos):  0.8489425981873112\n",
            "F1 (média harmônica precisão e recall):  0.8022840827980015\n",
            "----------------------------------------\n",
            "Resultados do Modelo\n",
            "----------------------------------------\n",
            "Acurácia (acerto geral):  0.7893312717433321\n",
            "Precisão (acerto de quem cancelou o plano, dentre os positivos reais):  0.7647858599592114\n",
            "Recall (acerto de quem cancelou o plano, dentre todos os positivos):  0.8496978851963746\n",
            "F1 (média harmônica precisão e recall):  0.8050089445438283\n",
            "----------------------------------------\n",
            "Resultados do Modelo\n",
            "----------------------------------------\n",
            "Acurácia (acerto geral):  0.782759953614225\n",
            "Precisão (acerto de quem cancelou o plano, dentre os positivos reais):  0.7634854771784232\n",
            "Recall (acerto de quem cancelou o plano, dentre todos os positivos):  0.8338368580060423\n",
            "F1 (média harmônica precisão e recall):  0.7971119133574007\n",
            "----------------------------------------\n",
            "Resultados do Modelo\n",
            "----------------------------------------\n",
            "Acurácia (acerto geral):  0.782759953614225\n",
            "Precisão (acerto de quem cancelou o plano, dentre os positivos reais):  0.7671809256661991\n",
            "Recall (acerto de quem cancelou o plano, dentre todos os positivos):  0.8262839879154078\n",
            "F1 (média harmônica precisão e recall):  0.7956363636363636\n"
          ]
        },
        {
          "output_type": "display_data",
          "data": {
            "text/plain": [
              "<Figure size 432x288 with 2 Axes>"
            ],
            "image/png": "[encoded data removed]"
          },
          "metadata": {
            "needs_background": "light"
          }
        },
        {
          "output_type": "display_data",
          "data": {
            "text/plain": [
              "<Figure size 432x288 with 2 Axes>"
            ],
            "image/png": "[encoded data removed]"
          },
          "metadata": {
            "needs_background": "light"
          }
        },
        {
          "output_type": "display_data",
          "data": {
            "text/plain": [
              "<Figure size 432x288 with 2 Axes>"
            ],
            "image/png": "[encoded data removed]"
          },
          "metadata": {
            "needs_background": "light"
          }
        },
        {
          "output_type": "display_data",
          "data": {
            "text/plain": [
              "<Figure size 432x288 with 2 Axes>"
            ],
            "image/png": "[encoded data removed]"
          },
          "metadata": {
            "needs_background": "light"
          }
        },
        {
          "output_type": "display_data",
          "data": {
            "text/plain": [
              "<Figure size 432x288 with 2 Axes>"
            ],
            "image/png": "[encoded data removed]"
          },
          "metadata": {
            "needs_background": "light"
          }
        }
      ]
    },
    {
      "cell_type": "markdown",
      "source": [
        "Apesar de resultados de métricas próximas, a **profundidade 12 apresentou os melhores resultados** e, por isso, foi a escolhida. "
      ],
      "metadata": {
        "id": "PSs3O-yUKQg7"
      }
    },
    {
      "cell_type": "markdown",
      "source": [
        "## Conclusão\n",
        "As features selecionadas foram:\n",
        "\n",
        "* 'gasto_mensal', \n",
        "* 'maior_65_anos', \n",
        "* 'meses_contrato', \n",
        "* 'possui_dependentes', \n",
        "* 'plano_contratado'.\n",
        "\n",
        "A quantidade de árvores se manteve no padrão da função no sklearn (100).\n",
        "\n",
        "A profundidade escolhida (max_depth) foi 12.\n",
        "\n",
        "Os resultados obtidos com essa seleção foram:\n",
        "* Acurácia:  0.7893\n",
        "* Precisão:  0.7648\n",
        "* Recall:  0.8497\n",
        "* F1:  0.8050"
      ],
      "metadata": {
        "id": "E30_iwyGKksQ"
      }
    },
    {
      "cell_type": "markdown",
      "source": [
        "# Teste: previsão da base\n",
        "\n",
        "Por fim, feitos os ajustes para otimização do modelo, irei aplicá-lo à própria base e ver como ele se sai na previsão da variável target."
      ],
      "metadata": {
        "id": "LVPsQYN20Txi"
      }
    },
    {
      "cell_type": "code",
      "source": [
        "# treinando o modelo com a base, os parâmetros e as features selecionados\n",
        "features = ['gasto_mensal', 'maior_65_anos', 'meses_contrato', 'possui_dependentes', 'plano_contratado'] \n",
        "X_train, X_test, y_train, y_test = get_training_data(df_oversmp, features)\n",
        "rf = RandomForestClassifier(random_state=SEED, n_estimators=100, max_depth=5)\n",
        "rf.fit(X_train, y_train)\n",
        "\n",
        "# predizendo os valores da base original (com label encoding)\n",
        "y = df_encoded['cancelou_plano']\n",
        "X = df_encoded[features] \n",
        "y_pred = rf.predict(X)\n",
        "\n",
        "# print das métricas e matriz de confusão\n",
        "get_metrics(y, y_pred)"
      ],
      "metadata": {
        "colab": {
          "base_uri": "https://localhost:8080/",
          "height": 401
        },
        "id": "tMAVWZE709Q3",
        "outputId": "cfd055ff-e2cb-4248-e1cf-12694f0fc4f1"
      },
      "execution_count": 127,
      "outputs": [
        {
          "output_type": "stream",
          "name": "stdout",
          "text": [
            "----------------------------------------\n",
            "Resultados do Modelo\n",
            "----------------------------------------\n",
            "Acurácia (acerto geral):  0.7403095271901179\n",
            "Precisão (acerto de quem cancelou o plano, dentre os positivos reais):  0.5069060773480663\n",
            "Recall (acerto de quem cancelou o plano, dentre todos os positivos):  0.7854467629748528\n",
            "F1 (média harmônica precisão e recall):  0.6161594963273872\n"
          ]
        },
        {
          "output_type": "display_data",
          "data": {
            "text/plain": [
              "<Figure size 432x288 with 2 Axes>"
            ],
            "image/png": "[encoded data removed]"
          },
          "metadata": {
            "needs_background": "light"
          }
        }
      ]
    },
    {
      "cell_type": "code",
      "source": [
        "# valores originais X valores previstos\n",
        "print(y.value_counts())\n",
        "\n",
        "# como visto em https://stackoverflow.com/questions/10741346/numpy-most-efficient-frequency-counts-for-unique-values-in-an-array\n",
        "unique, counts = np.unique(y_pred, return_counts=True)\n",
        "print(np.asarray((unique, counts)).T)"
      ],
      "metadata": {
        "colab": {
          "base_uri": "https://localhost:8080/"
        },
        "id": "VAXOgyOl0gRj",
        "outputId": "72708f40-3973-4640-9dd9-e2a9ca0244b2"
      },
      "execution_count": 128,
      "outputs": [
        {
          "output_type": "stream",
          "name": "stdout",
          "text": [
            "0    5174\n",
            "1    1869\n",
            "Name: cancelou_plano, dtype: int64\n",
            "[[   0 4147]\n",
            " [   1 2896]]\n"
          ]
        }
      ]
    },
    {
      "cell_type": "markdown",
      "source": [
        "Os resultados não foram muito satisfatórios... A precisão caiu bastante, consequentemente o F1 também caiu. Com isso, o modelo acertou mais os casos de clientes que cancelaram o plano, mas errou bastante nos clientes que não cancelaram o plano, identificando-os erroneamente como planos cancelados (os falsos positivos). \n",
        "\n",
        "Ou seja, **acabei criando um modelo pessimista**...\n",
        "\n",
        "Meus conhecimentos de Machine Learning ainda são muito incipientes para eu fazer uma análise mais profunda do que pode ter acontecido, além de haver sempre a possibilidade de eu ter errado alguma coisa no código. Ficará para o futuro, quando eu tiver mais experiência em Data Science, retornar a este desafio e tentar melhorar este modelo."
      ],
      "metadata": {
        "id": "-GZtxWGcQxAV"
      }
    }
  ]
}