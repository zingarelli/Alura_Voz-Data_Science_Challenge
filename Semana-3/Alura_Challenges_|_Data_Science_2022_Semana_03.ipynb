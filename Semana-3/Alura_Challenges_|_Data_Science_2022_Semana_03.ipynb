{
  "nbformat": 4,
  "nbformat_minor": 0,
  "metadata": {
    "colab": {
      "name": "Alura Challenges | Data Science 2022 - Semana 03.ipynb",
      "provenance": [],
      "collapsed_sections": [],
      "toc_visible": true,
      "authorship_tag": "ABX9TyPgm4V4OGqhPQUnwb3MNnb6",
      "include_colab_link": true
    },
    "kernelspec": {
      "name": "python3",
      "display_name": "Python 3"
    },
    "language_info": {
      "name": "python"
    }
  },
  "cells": [
    {
      "cell_type": "markdown",
      "metadata": {
        "id": "view-in-github",
        "colab_type": "text"
      },
      "source": [
        "<a href=\"https://colab.research.google.com/github/zingarelli/alura-challenges-data-science-2022/blob/main/Semana-3/Alura_Challenges_%7C_Data_Science_2022_Semana_03.ipynb\" target=\"_parent\"><img src=\"https://colab.research.google.com/assets/colab-badge.svg\" alt=\"Open In Colab\"/></a>"
      ]
    },
    {
      "cell_type": "markdown",
      "source": [
        "#Configurações e imports"
      ],
      "metadata": {
        "id": "gqYN-Q8sylo1"
      }
    },
    {
      "cell_type": "code",
      "source": [
        "# biblioteca para balanceio da target Churn\n",
        "!pip install -U imbalanced-learn"
      ],
      "metadata": {
        "colab": {
          "base_uri": "https://localhost:8080/"
        },
        "id": "7jXiE5xh2JQm",
        "outputId": "8199086f-442e-44b7-b5dd-f56e1466d0db"
      },
      "execution_count": 126,
      "outputs": [
        {
          "output_type": "stream",
          "name": "stdout",
          "text": [
            "Looking in indexes: https://pypi.org/simple, https://us-python.pkg.dev/colab-wheels/public/simple/\n",
            "Requirement already satisfied: imbalanced-learn in /usr/local/lib/python3.7/dist-packages (0.9.0)\n",
            "Collecting imbalanced-learn\n",
            "  Using cached imbalanced_learn-0.9.1-py3-none-any.whl (199 kB)\n",
            "Requirement already satisfied: threadpoolctl>=2.0.0 in /usr/local/lib/python3.7/dist-packages (from imbalanced-learn) (3.1.0)\n",
            "Requirement already satisfied: joblib>=1.0.0 in /usr/local/lib/python3.7/dist-packages (from imbalanced-learn) (1.1.0)\n",
            "Requirement already satisfied: scipy>=1.3.2 in /usr/local/lib/python3.7/dist-packages (from imbalanced-learn) (1.4.1)\n",
            "Requirement already satisfied: scikit-learn>=1.0.1 in /usr/local/lib/python3.7/dist-packages (from imbalanced-learn) (1.0.2)\n",
            "Requirement already satisfied: numpy>=1.14.6 in /usr/local/lib/python3.7/dist-packages (from imbalanced-learn) (1.21.6)\n"
          ]
        }
      ]
    },
    {
      "cell_type": "code",
      "source": [
        "import pandas as pd\n",
        "import numpy as np\n",
        "import matplotlib.pyplot as plt\n",
        "\n",
        "# para balanceamento do target\n",
        "from imblearn.over_sampling import SMOTE\n",
        "\n",
        "# para criação e validação dos modelos de machine learn\n",
        "from sklearn.model_selection import train_test_split\n",
        "from sklearn import metrics \n",
        "from sklearn.ensemble import RandomForestRegressor\n",
        "\n",
        "# semente para garantir a replicabilidade do código\n",
        "SEED = 12"
      ],
      "metadata": {
        "id": "2HN8jZKuimyo"
      },
      "execution_count": 127,
      "outputs": []
    },
    {
      "cell_type": "code",
      "source": [
        "# leitura da base tratada na Semana 1\n",
        "df = pd.read_csv('https://raw.githubusercontent.com/zingarelli/alura-challenges-data-science-2022/main/Semana-1/analise_semana_1.csv')\n",
        "df.info()"
      ],
      "metadata": {
        "id": "gfh81cUEjEGA",
        "colab": {
          "base_uri": "https://localhost:8080/"
        },
        "outputId": "9dcbb7df-f783-47b7-eec6-b4d87e995cee"
      },
      "execution_count": 128,
      "outputs": [
        {
          "output_type": "stream",
          "name": "stdout",
          "text": [
            "<class 'pandas.core.frame.DataFrame'>\n",
            "RangeIndex: 7043 entries, 0 to 7042\n",
            "Data columns (total 22 columns):\n",
            " #   Column                          Non-Null Count  Dtype  \n",
            "---  ------                          --------------  -----  \n",
            " 0   cliente_ID                      7043 non-null   object \n",
            " 1   cancelou_plano                  7043 non-null   object \n",
            " 2   genero                          7043 non-null   object \n",
            " 3   maior_65_anos                   7043 non-null   int64  \n",
            " 4   possui_companheiro_companheira  7043 non-null   object \n",
            " 5   possui_dependentes              7043 non-null   object \n",
            " 6   meses_contrato                  7043 non-null   int64  \n",
            " 7   assina_telefone                 7043 non-null   object \n",
            " 8   multiplas_linhas_telefonicas    7043 non-null   object \n",
            " 9   tipo_assinatura_internet        7043 non-null   object \n",
            " 10  adicional_seguranca_online      7043 non-null   object \n",
            " 11  adicional_backup_online         7043 non-null   object \n",
            " 12  adicional_protecao_dispositivo  7043 non-null   object \n",
            " 13  adicional_suporte_VIP           7043 non-null   object \n",
            " 14  assina_TV_cabo                  7043 non-null   object \n",
            " 15  assina_streaming_filmes         7043 non-null   object \n",
            " 16  plano_contratado                7043 non-null   object \n",
            " 17  fatura_online                   7043 non-null   object \n",
            " 18  forma_pagamento                 7043 non-null   object \n",
            " 19  gasto_diario                    7043 non-null   float64\n",
            " 20  gasto_mensal                    7043 non-null   float64\n",
            " 21  gasto_total                     7043 non-null   float64\n",
            "dtypes: float64(3), int64(2), object(17)\n",
            "memory usage: 1.2+ MB\n"
          ]
        }
      ]
    },
    {
      "cell_type": "markdown",
      "source": [
        "# Encoding das variáveis categóricas\n",
        "\n",
        "Irei aplicar o Label Encoding, como feito na [Semana 2](https://github.com/zingarelli/alura-challenges-data-science-2022/blob/main/Semana-2/Alura_Challenges_%7C_Data_Science_2022_Semana_02.ipynb). "
      ],
      "metadata": {
        "id": "_NdDjq-r5mGr"
      }
    },
    {
      "cell_type": "code",
      "source": [
        "# função que transforma os valores categóricos de uma coluna em valores numéricos\n",
        "def label_encoding(categorical_col):\n",
        "  # altera o tipo de \"object\" para o tipo \"category\"\n",
        "  encode = categorical_col.astype('category')\n",
        "\n",
        "  # atribui a cada categoria um valor numérico diferente\n",
        "  return encode.cat.codes"
      ],
      "metadata": {
        "id": "QhNk9QWT5qi7"
      },
      "execution_count": 129,
      "outputs": []
    },
    {
      "cell_type": "code",
      "source": [
        "# copiando a base de dados\n",
        "df_encoded = df.copy()\n",
        "\n",
        "# colunas categóricas (sem o \"cliente_ID\", pois não será utilizada)\n",
        "cat_columns = ['cancelou_plano', 'genero', 'possui_companheiro_companheira', \n",
        "               'possui_dependentes', 'assina_telefone', 'multiplas_linhas_telefonicas',\n",
        "               'tipo_assinatura_internet', 'adicional_seguranca_online',\n",
        "               'adicional_backup_online', 'adicional_protecao_dispositivo',\n",
        "               'adicional_suporte_VIP', 'assina_TV_cabo', 'assina_streaming_filmes',\n",
        "               'plano_contratado', 'fatura_online', 'forma_pagamento']\n",
        "\n",
        "# aplicando o label encoding\n",
        "for col in cat_columns:\n",
        "  df_encoded[col] = label_encoding(df_encoded[col])\n",
        "\n",
        "df_encoded.info()"
      ],
      "metadata": {
        "colab": {
          "base_uri": "https://localhost:8080/"
        },
        "id": "qtWHHzil5qV7",
        "outputId": "97801fd4-297f-409f-b78a-54c750ff491c"
      },
      "execution_count": 130,
      "outputs": [
        {
          "output_type": "stream",
          "name": "stdout",
          "text": [
            "<class 'pandas.core.frame.DataFrame'>\n",
            "RangeIndex: 7043 entries, 0 to 7042\n",
            "Data columns (total 22 columns):\n",
            " #   Column                          Non-Null Count  Dtype  \n",
            "---  ------                          --------------  -----  \n",
            " 0   cliente_ID                      7043 non-null   object \n",
            " 1   cancelou_plano                  7043 non-null   int8   \n",
            " 2   genero                          7043 non-null   int8   \n",
            " 3   maior_65_anos                   7043 non-null   int64  \n",
            " 4   possui_companheiro_companheira  7043 non-null   int8   \n",
            " 5   possui_dependentes              7043 non-null   int8   \n",
            " 6   meses_contrato                  7043 non-null   int64  \n",
            " 7   assina_telefone                 7043 non-null   int8   \n",
            " 8   multiplas_linhas_telefonicas    7043 non-null   int8   \n",
            " 9   tipo_assinatura_internet        7043 non-null   int8   \n",
            " 10  adicional_seguranca_online      7043 non-null   int8   \n",
            " 11  adicional_backup_online         7043 non-null   int8   \n",
            " 12  adicional_protecao_dispositivo  7043 non-null   int8   \n",
            " 13  adicional_suporte_VIP           7043 non-null   int8   \n",
            " 14  assina_TV_cabo                  7043 non-null   int8   \n",
            " 15  assina_streaming_filmes         7043 non-null   int8   \n",
            " 16  plano_contratado                7043 non-null   int8   \n",
            " 17  fatura_online                   7043 non-null   int8   \n",
            " 18  forma_pagamento                 7043 non-null   int8   \n",
            " 19  gasto_diario                    7043 non-null   float64\n",
            " 20  gasto_mensal                    7043 non-null   float64\n",
            " 21  gasto_total                     7043 non-null   float64\n",
            "dtypes: float64(3), int64(2), int8(16), object(1)\n",
            "memory usage: 440.3+ KB\n"
          ]
        }
      ]
    },
    {
      "cell_type": "markdown",
      "source": [
        "##TO DO: fazer One-Hot Encoding e analisar se melhoram os resultados dos modelos.\n",
        "\n",
        "Rever curso Kaggle: https://www.kaggle.com/code/alexisbcook/categorical-variables\n"
      ],
      "metadata": {
        "id": "cYUZVkoXEZXN"
      }
    },
    {
      "cell_type": "markdown",
      "source": [
        "# Verificar se a variável target `Churn` está desbalanceada\n",
        "\n",
        "Ver artigo: https://www.alura.com.br/artigos/lidando-com-desbalanceamento-dados\n",
        "\n",
        "Ver documentação: https://imbalanced-learn.org/stable/introduction.html\n",
        "\n",
        "Ver treinamento da Sthe: https://cursos.alura.com.br/course/modelos-preditivos-dados-deteccao-fraude/task/106523"
      ],
      "metadata": {
        "id": "_LKA1oDY5pml"
      }
    },
    {
      "cell_type": "code",
      "source": [
        "# armazenando os dados de cancelamento do plano em uma variável chamada churn\n",
        "churn = df_encoded['cancelou_plano']\n",
        "\n",
        "# separando entre clientes que estão ativos e aqueles que cancelaram o plano (former_customer)\n",
        "# lembrando que o \"Sim\" significa que o cliente cancelou o plano\n",
        "active_customers = (churn == 0).sum()\n",
        "former_customers = (churn == 1).sum()\n",
        "total_customers = len(churn)\n",
        "\n",
        "print(f'Total de planos: {total_customers}')\n",
        "print(f'Planos ativos: {active_customers}, {round(active_customers/total_customers*100, 2)}% do total')\n",
        "print(f'Planos cancelados: {former_customers}, {round(former_customers/total_customers*100, 2)}% do total')"
      ],
      "metadata": {
        "colab": {
          "base_uri": "https://localhost:8080/"
        },
        "id": "Xut3UH3GyW_T",
        "outputId": "d1f4090f-49cc-44ef-b7dc-c0fa5412e7ab"
      },
      "execution_count": 131,
      "outputs": [
        {
          "output_type": "stream",
          "name": "stdout",
          "text": [
            "Total de planos: 7043\n",
            "Planos ativos: 5174, 73.46% do total\n",
            "Planos cancelados: 1869, 26.54% do total\n"
          ]
        }
      ]
    },
    {
      "cell_type": "markdown",
      "source": [
        "Cerca de pouco mais de **um quarto da base** é formado por pessoas que **cancelaram** o plano (valor `1` na base), e o restante, de pessoas que mantiveram o plano (valor `0` na base). Isso faz com que a variável **target esteja desbalanceada**, o que pode **prejudicar** na criação dos modelos de Machine Learning. \n",
        "\n",
        "Desse modo, antes de criar os modelos é necessário fazer um balanceamento do target. \n",
        "\n",
        "Isso pode ser feito por meio do **oversampling**, isto é, criação de **novos dados (sintéticos) para aumentar** a quantidade de valores 1 na variável `cancelou_plano`, ou por meio do **undersampling**, isto é, selecionando na base **apenas alguns de registros** que possuam o valor 0 em `cancelou_plano`. Em ambas as estratégias, o objetivo e ter uma quantidade equivalente de registros com os valores 0 e 1."
      ],
      "metadata": {
        "id": "NliC0Y5pzEW9"
      }
    },
    {
      "cell_type": "markdown",
      "source": [
        "## Estratégia de balanceamento 1: Oversampling\n",
        "Utilizando o algoritmo SMOTE (KNN) para cópia de dados"
      ],
      "metadata": {
        "id": "GAFx1aAe1pQ2"
      }
    },
    {
      "cell_type": "code",
      "source": [
        "# aplicando o random_state para garantir a replicabilidade do código\n",
        "smote = SMOTE(random_state = SEED)\n",
        "\n",
        "# separando as variáveis de treino e target\n",
        "# client_ID também foi removida, pois não será utilizada na modelagem (é só um identificador)\n",
        "x = df_encoded.drop(['cancelou_plano', 'cliente_ID'], axis=1)\n",
        "y = df_encoded['cancelou_plano']  \n",
        "\n",
        "# aplicando a SMOTE e salvando os novos dados criados\n",
        "x_oversmp, y_oversmp = smote.fit_resample(x, y)"
      ],
      "metadata": {
        "id": "ZR59b7bn1wH-"
      },
      "execution_count": 132,
      "outputs": []
    },
    {
      "cell_type": "code",
      "source": [
        "# criando a base balanceada com oversampling\n",
        "df_oversmp = pd.concat([y_oversmp, x_oversmp], axis=1)\n",
        "df_oversmp.sample(5)"
      ],
      "metadata": {
        "colab": {
          "base_uri": "https://localhost:8080/",
          "height": 300
        },
        "id": "NWGkU1pC8ap5",
        "outputId": "51b02afa-2476-463d-cddc-d0c0a20a5f33"
      },
      "execution_count": 133,
      "outputs": [
        {
          "output_type": "execute_result",
          "data": {
            "text/plain": [
              "      cancelou_plano  genero  maior_65_anos  possui_companheiro_companheira  \\\n",
              "3707               0       1              0                               1   \n",
              "2869               1       1              1                               1   \n",
              "2290               0       1              0                               0   \n",
              "8150               1       0              0                               0   \n",
              "418                0       0              0                               1   \n",
              "\n",
              "      possui_dependentes  meses_contrato  assina_telefone  \\\n",
              "3707                   1               7                0   \n",
              "2869                   0               3                1   \n",
              "2290                   0              68                1   \n",
              "8150                   0               4                1   \n",
              "418                    0              72                1   \n",
              "\n",
              "      multiplas_linhas_telefonicas  tipo_assinatura_internet  \\\n",
              "3707                             1                         0   \n",
              "2869                             0                         1   \n",
              "2290                             0                         2   \n",
              "8150                             2                         1   \n",
              "418                              2                         1   \n",
              "\n",
              "      adicional_seguranca_online  ...  adicional_protecao_dispositivo  \\\n",
              "3707                           0  ...                               0   \n",
              "2869                           0  ...                               0   \n",
              "2290                           1  ...                               1   \n",
              "8150                           0  ...                               0   \n",
              "418                            2  ...                               2   \n",
              "\n",
              "      adicional_suporte_VIP  assina_TV_cabo  assina_streaming_filmes  \\\n",
              "3707                      0               0                        0   \n",
              "2869                      0               2                        0   \n",
              "2290                      1               1                        1   \n",
              "8150                      0               0                        0   \n",
              "418                       2               2                        2   \n",
              "\n",
              "      plano_contratado  fatura_online  forma_pagamento  gasto_diario  \\\n",
              "3707                 1              1                1      0.820000   \n",
              "2869                 1              1                1      2.680000   \n",
              "2290                 0              0                0      0.650000   \n",
              "8150                 1              1                1      2.504732   \n",
              "418                  0              1                0      3.730000   \n",
              "\n",
              "      gasto_mensal  gasto_total  \n",
              "3707     24.700000   149.050000  \n",
              "2869     80.400000   224.050000  \n",
              "2290     19.600000  1441.650000  \n",
              "8150     75.081411   321.300417  \n",
              "418     111.900000  8071.050000  \n",
              "\n",
              "[5 rows x 21 columns]"
            ],
            "text/html": [
              "\n",
              "  <div id=\"df-e94f0b9c-166e-4fbc-b5e9-0ddd8662d414\">\n",
              "    <div class=\"colab-df-container\">\n",
              "      <div>\n",
              "<style scoped>\n",
              "    .dataframe tbody tr th:only-of-type {\n",
              "        vertical-align: middle;\n",
              "    }\n",
              "\n",
              "    .dataframe tbody tr th {\n",
              "        vertical-align: top;\n",
              "    }\n",
              "\n",
              "    .dataframe thead th {\n",
              "        text-align: right;\n",
              "    }\n",
              "</style>\n",
              "<table border=\"1\" class=\"dataframe\">\n",
              "  <thead>\n",
              "    <tr style=\"text-align: right;\">\n",
              "      <th></th>\n",
              "      <th>cancelou_plano</th>\n",
              "      <th>genero</th>\n",
              "      <th>maior_65_anos</th>\n",
              "      <th>possui_companheiro_companheira</th>\n",
              "      <th>possui_dependentes</th>\n",
              "      <th>meses_contrato</th>\n",
              "      <th>assina_telefone</th>\n",
              "      <th>multiplas_linhas_telefonicas</th>\n",
              "      <th>tipo_assinatura_internet</th>\n",
              "      <th>adicional_seguranca_online</th>\n",
              "      <th>...</th>\n",
              "      <th>adicional_protecao_dispositivo</th>\n",
              "      <th>adicional_suporte_VIP</th>\n",
              "      <th>assina_TV_cabo</th>\n",
              "      <th>assina_streaming_filmes</th>\n",
              "      <th>plano_contratado</th>\n",
              "      <th>fatura_online</th>\n",
              "      <th>forma_pagamento</th>\n",
              "      <th>gasto_diario</th>\n",
              "      <th>gasto_mensal</th>\n",
              "      <th>gasto_total</th>\n",
              "    </tr>\n",
              "  </thead>\n",
              "  <tbody>\n",
              "    <tr>\n",
              "      <th>3707</th>\n",
              "      <td>0</td>\n",
              "      <td>1</td>\n",
              "      <td>0</td>\n",
              "      <td>1</td>\n",
              "      <td>1</td>\n",
              "      <td>7</td>\n",
              "      <td>0</td>\n",
              "      <td>1</td>\n",
              "      <td>0</td>\n",
              "      <td>0</td>\n",
              "      <td>...</td>\n",
              "      <td>0</td>\n",
              "      <td>0</td>\n",
              "      <td>0</td>\n",
              "      <td>0</td>\n",
              "      <td>1</td>\n",
              "      <td>1</td>\n",
              "      <td>1</td>\n",
              "      <td>0.820000</td>\n",
              "      <td>24.700000</td>\n",
              "      <td>149.050000</td>\n",
              "    </tr>\n",
              "    <tr>\n",
              "      <th>2869</th>\n",
              "      <td>1</td>\n",
              "      <td>1</td>\n",
              "      <td>1</td>\n",
              "      <td>1</td>\n",
              "      <td>0</td>\n",
              "      <td>3</td>\n",
              "      <td>1</td>\n",
              "      <td>0</td>\n",
              "      <td>1</td>\n",
              "      <td>0</td>\n",
              "      <td>...</td>\n",
              "      <td>0</td>\n",
              "      <td>0</td>\n",
              "      <td>2</td>\n",
              "      <td>0</td>\n",
              "      <td>1</td>\n",
              "      <td>1</td>\n",
              "      <td>1</td>\n",
              "      <td>2.680000</td>\n",
              "      <td>80.400000</td>\n",
              "      <td>224.050000</td>\n",
              "    </tr>\n",
              "    <tr>\n",
              "      <th>2290</th>\n",
              "      <td>0</td>\n",
              "      <td>1</td>\n",
              "      <td>0</td>\n",
              "      <td>0</td>\n",
              "      <td>0</td>\n",
              "      <td>68</td>\n",
              "      <td>1</td>\n",
              "      <td>0</td>\n",
              "      <td>2</td>\n",
              "      <td>1</td>\n",
              "      <td>...</td>\n",
              "      <td>1</td>\n",
              "      <td>1</td>\n",
              "      <td>1</td>\n",
              "      <td>1</td>\n",
              "      <td>0</td>\n",
              "      <td>0</td>\n",
              "      <td>0</td>\n",
              "      <td>0.650000</td>\n",
              "      <td>19.600000</td>\n",
              "      <td>1441.650000</td>\n",
              "    </tr>\n",
              "    <tr>\n",
              "      <th>8150</th>\n",
              "      <td>1</td>\n",
              "      <td>0</td>\n",
              "      <td>0</td>\n",
              "      <td>0</td>\n",
              "      <td>0</td>\n",
              "      <td>4</td>\n",
              "      <td>1</td>\n",
              "      <td>2</td>\n",
              "      <td>1</td>\n",
              "      <td>0</td>\n",
              "      <td>...</td>\n",
              "      <td>0</td>\n",
              "      <td>0</td>\n",
              "      <td>0</td>\n",
              "      <td>0</td>\n",
              "      <td>1</td>\n",
              "      <td>1</td>\n",
              "      <td>1</td>\n",
              "      <td>2.504732</td>\n",
              "      <td>75.081411</td>\n",
              "      <td>321.300417</td>\n",
              "    </tr>\n",
              "    <tr>\n",
              "      <th>418</th>\n",
              "      <td>0</td>\n",
              "      <td>0</td>\n",
              "      <td>0</td>\n",
              "      <td>1</td>\n",
              "      <td>0</td>\n",
              "      <td>72</td>\n",
              "      <td>1</td>\n",
              "      <td>2</td>\n",
              "      <td>1</td>\n",
              "      <td>2</td>\n",
              "      <td>...</td>\n",
              "      <td>2</td>\n",
              "      <td>2</td>\n",
              "      <td>2</td>\n",
              "      <td>2</td>\n",
              "      <td>0</td>\n",
              "      <td>1</td>\n",
              "      <td>0</td>\n",
              "      <td>3.730000</td>\n",
              "      <td>111.900000</td>\n",
              "      <td>8071.050000</td>\n",
              "    </tr>\n",
              "  </tbody>\n",
              "</table>\n",
              "<p>5 rows × 21 columns</p>\n",
              "</div>\n",
              "      <button class=\"colab-df-convert\" onclick=\"convertToInteractive('df-e94f0b9c-166e-4fbc-b5e9-0ddd8662d414')\"\n",
              "              title=\"Convert this dataframe to an interactive table.\"\n",
              "              style=\"display:none;\">\n",
              "        \n",
              "  <svg xmlns=\"http://www.w3.org/2000/svg\" height=\"24px\"viewBox=\"0 0 24 24\"\n",
              "       width=\"24px\">\n",
              "    <path d=\"M0 0h24v24H0V0z\" fill=\"none\"/>\n",
              "    <path d=\"M18.56 5.44l.94 2.06.94-2.06 2.06-.94-2.06-.94-.94-2.06-.94 2.06-2.06.94zm-11 1L8.5 8.5l.94-2.06 2.06-.94-2.06-.94L8.5 2.5l-.94 2.06-2.06.94zm10 10l.94 2.06.94-2.06 2.06-.94-2.06-.94-.94-2.06-.94 2.06-2.06.94z\"/><path d=\"M17.41 7.96l-1.37-1.37c-.4-.4-.92-.59-1.43-.59-.52 0-1.04.2-1.43.59L10.3 9.45l-7.72 7.72c-.78.78-.78 2.05 0 2.83L4 21.41c.39.39.9.59 1.41.59.51 0 1.02-.2 1.41-.59l7.78-7.78 2.81-2.81c.8-.78.8-2.07 0-2.86zM5.41 20L4 18.59l7.72-7.72 1.47 1.35L5.41 20z\"/>\n",
              "  </svg>\n",
              "      </button>\n",
              "      \n",
              "  <style>\n",
              "    .colab-df-container {\n",
              "      display:flex;\n",
              "      flex-wrap:wrap;\n",
              "      gap: 12px;\n",
              "    }\n",
              "\n",
              "    .colab-df-convert {\n",
              "      background-color: #E8F0FE;\n",
              "      border: none;\n",
              "      border-radius: 50%;\n",
              "      cursor: pointer;\n",
              "      display: none;\n",
              "      fill: #1967D2;\n",
              "      height: 32px;\n",
              "      padding: 0 0 0 0;\n",
              "      width: 32px;\n",
              "    }\n",
              "\n",
              "    .colab-df-convert:hover {\n",
              "      background-color: #E2EBFA;\n",
              "      box-shadow: 0px 1px 2px rgba(60, 64, 67, 0.3), 0px 1px 3px 1px rgba(60, 64, 67, 0.15);\n",
              "      fill: #174EA6;\n",
              "    }\n",
              "\n",
              "    [theme=dark] .colab-df-convert {\n",
              "      background-color: #3B4455;\n",
              "      fill: #D2E3FC;\n",
              "    }\n",
              "\n",
              "    [theme=dark] .colab-df-convert:hover {\n",
              "      background-color: #434B5C;\n",
              "      box-shadow: 0px 1px 3px 1px rgba(0, 0, 0, 0.15);\n",
              "      filter: drop-shadow(0px 1px 2px rgba(0, 0, 0, 0.3));\n",
              "      fill: #FFFFFF;\n",
              "    }\n",
              "  </style>\n",
              "\n",
              "      <script>\n",
              "        const buttonEl =\n",
              "          document.querySelector('#df-e94f0b9c-166e-4fbc-b5e9-0ddd8662d414 button.colab-df-convert');\n",
              "        buttonEl.style.display =\n",
              "          google.colab.kernel.accessAllowed ? 'block' : 'none';\n",
              "\n",
              "        async function convertToInteractive(key) {\n",
              "          const element = document.querySelector('#df-e94f0b9c-166e-4fbc-b5e9-0ddd8662d414');\n",
              "          const dataTable =\n",
              "            await google.colab.kernel.invokeFunction('convertToInteractive',\n",
              "                                                     [key], {});\n",
              "          if (!dataTable) return;\n",
              "\n",
              "          const docLinkHtml = 'Like what you see? Visit the ' +\n",
              "            '<a target=\"_blank\" href=https://colab.research.google.com/notebooks/data_table.ipynb>data table notebook</a>'\n",
              "            + ' to learn more about interactive tables.';\n",
              "          element.innerHTML = '';\n",
              "          dataTable['output_type'] = 'display_data';\n",
              "          await google.colab.output.renderOutput(dataTable, element);\n",
              "          const docLink = document.createElement('div');\n",
              "          docLink.innerHTML = docLinkHtml;\n",
              "          element.appendChild(docLink);\n",
              "        }\n",
              "      </script>\n",
              "    </div>\n",
              "  </div>\n",
              "  "
            ]
          },
          "metadata": {},
          "execution_count": 133
        }
      ]
    },
    {
      "cell_type": "code",
      "source": [
        "# verificando o balanceamento e comparando com a base original\n",
        "print('Tamanho base original: ', df.shape)\n",
        "print('Tamanho base com oversample: ', df_oversmp.shape)\n",
        "print('Valores de churn:')\n",
        "print(df_oversmp['cancelou_plano'].value_counts())"
      ],
      "metadata": {
        "colab": {
          "base_uri": "https://localhost:8080/"
        },
        "id": "eSZQHYvy886L",
        "outputId": "4c1859b0-b607-41da-aefa-9d4278d3fcea"
      },
      "execution_count": 134,
      "outputs": [
        {
          "output_type": "stream",
          "name": "stdout",
          "text": [
            "Tamanho base original:  (7043, 22)\n",
            "Tamanho base com oversample:  (10348, 21)\n",
            "Valores de churn:\n",
            "0    5174\n",
            "1    5174\n",
            "Name: cancelou_plano, dtype: int64\n"
          ]
        }
      ]
    },
    {
      "cell_type": "markdown",
      "source": [
        "## TO DO: Estratégia de balanceamento 2: Undersampling"
      ],
      "metadata": {
        "id": "y0Ds-AF21wf2"
      }
    },
    {
      "cell_type": "markdown",
      "source": [
        "# Criação dos modelos de Machine Learning\n",
        "\n",
        "Ver treinamento Sthe: https://cursos.alura.com.br/course/modelos-preditivos-dados-deteccao-fraude/task/106526\n",
        "\n",
        "Rever curso Kaggle: \n",
        "> https://www.kaggle.com/code/dansbecker/your-first-machine-learning-model, \n",
        "> https://www.kaggle.com/code/dansbecker/random-forests\n",
        "\n",
        "Ver código criado na Housing Prices Competition do Kaggle (precisa estar logado), leaderboard #12792: https://www.kaggle.com/code/zingarelli/ml-competitions-first-own-submission\n",
        "\n",
        "Aula de ML da Imersão Dados 4 da Alura (talvez já não esteja disponível): https://www.youtube.com/watch?v=8VsqXXXHp8U"
      ],
      "metadata": {
        "id": "aGGazgR3B6m2"
      }
    },
    {
      "cell_type": "markdown",
      "source": [
        "## Modelo 1: Random Forest"
      ],
      "metadata": {
        "id": "7vzBk9gUYfPB"
      }
    },
    {
      "cell_type": "code",
      "source": [
        "# função para criar o modelo e aplicar algumas métricas\n",
        "# data: base de dados\n",
        "# features: colunas a serem consideradas para o treino\n",
        "# n_trees: número de árvores da floresta\n",
        "# depth: faz a \"poda\" das árvores após atingir a profundidade (para evitar overfitting)\n",
        "def random_forest_model(data, features, n_trees=100, depth=5):\n",
        "  # separando target e features\n",
        "  y = data['cancelou_plano']\n",
        "  X = data[features]  \n",
        "\n",
        "  # separando os dados de treino e validação (por padrão 25% dos dados para validação)\n",
        "  X_train, X_test, y_train, y_test = train_test_split(X, y, random_state=SEED)\n",
        "\n",
        "  # criando o modelo \n",
        "  rf = RandomForestRegressor(random_state=SEED, n_estimators=n_trees, max_depth=depth)\n",
        "  rf.fit(X_train, y_train)\n",
        "\n",
        "  # predizendo os resultados e classificando entre 0 e 1\n",
        "  y_pred = rf.predict(X_test)\n",
        "  y_class = np.where(y_pred > 0.5, 1,0)\n",
        "\n",
        "  # métricas de validação do modelo criado\n",
        "  print('-'*40 + '\\nResultados do Modelo\\n' + '-'*40)\n",
        "  print('Acurácia (acerto geral): ', metrics.accuracy_score(y_test, y_class))\n",
        "  print('Precisão (acerto de quem cancelou o plano, dentre os positivos reais): ', metrics.precision_score(y_test, y_class))\n",
        "  print('Recall (acerto de quem cancelou o plano, dentre todos os positivos): ', metrics.recall_score(y_test, y_class)) \n",
        "  print('F1 (média harmônica precisão e recall): ', metrics.f1_score(y_test, y_class))\n",
        "\n",
        "  # plot da matriz de confusão\n",
        "  cm = metrics.confusion_matrix(y_test, y_class)\n",
        "  disp = metrics.ConfusionMatrixDisplay(cm)\n",
        "  disp.plot()"
      ],
      "metadata": {
        "id": "DmFuDm9YOCoG"
      },
      "execution_count": 135,
      "outputs": []
    },
    {
      "cell_type": "code",
      "source": [
        "# escolhendo algumas colunas para o modelo\n",
        "features = ['genero', 'maior_65_anos', 'gasto_mensal', 'meses_contrato', 'plano_contratado']\n",
        "features_2 = ['genero', 'maior_65_anos', 'gasto_mensal', 'meses_contrato', 'plano_contratado', 'possui_companheiro_companheira', 'possui_dependentes']\n",
        "\n",
        "# testando o modelo com diferentes parâmetros e features\n",
        "# usando a base de dados balanceada com oversampling\n",
        "random_forest_model(df_oversmp, features, 150, 10)\n",
        "random_forest_model(df_oversmp, features_2, 150, 10)\n",
        "\n",
        "# mesmo teste, com a base de dados original\n",
        "random_forest_model(df_encoded, features, 150, 10)\n",
        "random_forest_model(df_encoded, features_2, 150, 10)"
      ],
      "metadata": {
        "colab": {
          "base_uri": "https://localhost:8080/",
          "height": 1000
        },
        "id": "18g5v7jky4ah",
        "outputId": "6dbae8b8-611e-4452-b217-50f86a66ae00"
      },
      "execution_count": 136,
      "outputs": [
        {
          "output_type": "stream",
          "name": "stdout",
          "text": [
            "----------------------------------------\n",
            "Resultados do Modelo\n",
            "----------------------------------------\n",
            "Acurácia (acerto geral):  0.7901043679938152\n",
            "Precisão (acerto de quem cancelou o plano, dentre os positivos reais):  0.7691247415575465\n",
            "Recall (acerto de quem cancelou o plano, dentre todos os positivos):  0.8429003021148036\n",
            "F1 (média harmônica precisão e recall):  0.8043243243243242\n",
            "----------------------------------------\n",
            "Resultados do Modelo\n",
            "----------------------------------------\n",
            "Acurácia (acerto geral):  0.7947429454967143\n",
            "Precisão (acerto de quem cancelou o plano, dentre os positivos reais):  0.77439446366782\n",
            "Recall (acerto de quem cancelou o plano, dentre todos os positivos):  0.845166163141994\n",
            "F1 (média harmônica precisão e recall):  0.8082340195016251\n",
            "----------------------------------------\n",
            "Resultados do Modelo\n",
            "----------------------------------------\n",
            "Acurácia (acerto geral):  0.7967064168086314\n",
            "Precisão (acerto de quem cancelou o plano, dentre os positivos reais):  0.6686046511627907\n",
            "Recall (acerto de quem cancelou o plano, dentre todos os positivos):  0.48523206751054854\n",
            "F1 (média harmônica precisão e recall):  0.5623471882640587\n",
            "----------------------------------------\n",
            "Resultados do Modelo\n",
            "----------------------------------------\n",
            "Acurácia (acerto geral):  0.794434980124929\n",
            "Precisão (acerto de quem cancelou o plano, dentre os positivos reais):  0.6637426900584795\n",
            "Recall (acerto de quem cancelou o plano, dentre todos os positivos):  0.47890295358649787\n",
            "F1 (média harmônica precisão e recall):  0.5563725490196079\n"
          ]
        },
        {
          "output_type": "display_data",
          "data": {
            "text/plain": [
              "<Figure size 432x288 with 2 Axes>"
            ],
            "image/png": "[encoded data removed]"
          },
          "metadata": {
            "needs_background": "light"
          }
        },
        {
          "output_type": "display_data",
          "data": {
            "text/plain": [
              "<Figure size 432x288 with 2 Axes>"
            ],
            "image/png": "[encoded data removed]"
          },
          "metadata": {
            "needs_background": "light"
          }
        },
        {
          "output_type": "display_data",
          "data": {
            "text/plain": [
              "<Figure size 432x288 with 2 Axes>"
            ],
            "image/png": "[encoded data removed]"
          },
          "metadata": {
            "needs_background": "light"
          }
        },
        {
          "output_type": "display_data",
          "data": {
            "text/plain": [
              "<Figure size 432x288 with 2 Axes>"
            ],
            "image/png": "[encoded data removed]"
          },
          "metadata": {
            "needs_background": "light"
          }
        }
      ]
    },
    {
      "cell_type": "markdown",
      "source": [
        "## TO DO: escolher o Modelo 2"
      ],
      "metadata": {
        "id": "b3DXHvnOYXND"
      }
    },
    {
      "cell_type": "code",
      "source": [
        ""
      ],
      "metadata": {
        "id": "oEfrROIHQgWL"
      },
      "execution_count": 136,
      "outputs": []
    },
    {
      "cell_type": "markdown",
      "source": [
        "# TO DO: análise de métricas e testar modelos com o outro tipo de encoding\n",
        "\n",
        "Ver aula da Sthe: https://cursos.alura.com.br/course/modelos-preditivos-dados-deteccao-fraude/task/106629"
      ],
      "metadata": {
        "id": "rnDeeqn9Ym0a"
      }
    },
    {
      "cell_type": "code",
      "source": [
        ""
      ],
      "metadata": {
        "id": "Fr85CVJbnGSI"
      },
      "execution_count": 136,
      "outputs": []
    }
  ]
}